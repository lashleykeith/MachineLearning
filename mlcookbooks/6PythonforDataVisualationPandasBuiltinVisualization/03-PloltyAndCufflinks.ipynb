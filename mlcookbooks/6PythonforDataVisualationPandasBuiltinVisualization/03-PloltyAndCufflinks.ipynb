{
 "cells": [
  {
   "cell_type": "markdown",
   "metadata": {},
   "source": [
    "___\n",
    "\n",
    "<a href='http://www.pieriandata.com'> <img src='../Pierian_Data_Logo.png' /></a>\n",
    "___\n",
    "# Plotly and Cufflinks"
   ]
  },
  {
   "cell_type": "markdown",
   "metadata": {},
   "source": [
    "Plotly is a library that allows you to create interactive plots that you can use in dashboards or websites (you can save them as html files or static images).\n",
    "\n",
    "## Installation\n",
    "\n",
    "In order for this all to work, you'll need to install plotly and cufflinks to call plots directly off of a pandas dataframe. These libraries are not currently available through **conda** but are available through **pip**. Install the libraries at your command line/terminal using:\n",
    "\n",
    "    pip install plotly\n",
    "    pip install cufflinks\n",
    "    pip install chart-studio\n",
    "\n",
    "\n",
    "\n",
    "** NOTE: Make sure you only have one installation of Python on your computer when you do this, otherwise the installation may not work. **\n",
    "\n",
    "## Imports and Set-up"
   ]
  },
  {
   "cell_type": "code",
   "execution_count": 2,
   "metadata": {},
   "outputs": [],
   "source": [
    "import pandas as pd\n",
    "import numpy as np\n",
    "%matplotlib inline"
   ]
  },
  {
   "cell_type": "code",
   "execution_count": 3,
   "metadata": {},
   "outputs": [
    {
     "name": "stdout",
     "output_type": "stream",
     "text": [
      "5.6.0\n"
     ]
    }
   ],
   "source": [
    "from plotly import __version__\n",
    "from plotly.offline import download_plotlyjs, init_notebook_mode, plot, iplot\n",
    "\n",
    "print(__version__) # requires version >= 1.9.0"
   ]
  },
  {
   "cell_type": "code",
   "execution_count": 4,
   "metadata": {},
   "outputs": [],
   "source": [
    "import cufflinks as cf"
   ]
  },
  {
   "cell_type": "code",
   "execution_count": 5,
   "metadata": {},
   "outputs": [
    {
     "data": {
      "text/html": [
       "        <script type=\"text/javascript\">\n",
       "        window.PlotlyConfig = {MathJaxConfig: 'local'};\n",
       "        if (window.MathJax) {MathJax.Hub.Config({SVG: {font: \"STIX-Web\"}});}\n",
       "        if (typeof require !== 'undefined') {\n",
       "        require.undef(\"plotly\");\n",
       "        requirejs.config({\n",
       "            paths: {\n",
       "                'plotly': ['https://cdn.plot.ly/plotly-2.9.0.min']\n",
       "            }\n",
       "        });\n",
       "        require(['plotly'], function(Plotly) {\n",
       "            window._Plotly = Plotly;\n",
       "        });\n",
       "        }\n",
       "        </script>\n",
       "        "
      ]
     },
     "metadata": {},
     "output_type": "display_data"
    }
   ],
   "source": [
    "#For Notebooks\n",
    "init_notebook_mode(connected=True)"
   ]
  },
  {
   "cell_type": "code",
   "execution_count": 6,
   "metadata": {},
   "outputs": [
    {
     "data": {
      "text/html": [
       "        <script type=\"text/javascript\">\n",
       "        window.PlotlyConfig = {MathJaxConfig: 'local'};\n",
       "        if (window.MathJax) {MathJax.Hub.Config({SVG: {font: \"STIX-Web\"}});}\n",
       "        if (typeof require !== 'undefined') {\n",
       "        require.undef(\"plotly\");\n",
       "        requirejs.config({\n",
       "            paths: {\n",
       "                'plotly': ['https://cdn.plot.ly/plotly-2.9.0.min']\n",
       "            }\n",
       "        });\n",
       "        require(['plotly'], function(Plotly) {\n",
       "            window._Plotly = Plotly;\n",
       "        });\n",
       "        }\n",
       "        </script>\n",
       "        "
      ]
     },
     "metadata": {},
     "output_type": "display_data"
    }
   ],
   "source": [
    "# For offline use\n",
    "cf.go_offline()"
   ]
  },
  {
   "cell_type": "markdown",
   "metadata": {},
   "source": [
    "### Fake Data"
   ]
  },
  {
   "cell_type": "code",
   "execution_count": 8,
   "metadata": {},
   "outputs": [],
   "source": [
    "df = pd.DataFrame(np.random.randn(100,4),columns='A B C D'.split())"
   ]
  },
  {
   "cell_type": "code",
   "execution_count": 9,
   "metadata": {},
   "outputs": [
    {
     "data": {
      "text/html": [
       "<div>\n",
       "<style scoped>\n",
       "    .dataframe tbody tr th:only-of-type {\n",
       "        vertical-align: middle;\n",
       "    }\n",
       "\n",
       "    .dataframe tbody tr th {\n",
       "        vertical-align: top;\n",
       "    }\n",
       "\n",
       "    .dataframe thead th {\n",
       "        text-align: right;\n",
       "    }\n",
       "</style>\n",
       "<table border=\"1\" class=\"dataframe\">\n",
       "  <thead>\n",
       "    <tr style=\"text-align: right;\">\n",
       "      <th></th>\n",
       "      <th>A</th>\n",
       "      <th>B</th>\n",
       "      <th>C</th>\n",
       "      <th>D</th>\n",
       "    </tr>\n",
       "  </thead>\n",
       "  <tbody>\n",
       "    <tr>\n",
       "      <th>0</th>\n",
       "      <td>0.435762</td>\n",
       "      <td>0.747097</td>\n",
       "      <td>0.368238</td>\n",
       "      <td>-0.946195</td>\n",
       "    </tr>\n",
       "    <tr>\n",
       "      <th>1</th>\n",
       "      <td>0.039200</td>\n",
       "      <td>-1.521904</td>\n",
       "      <td>0.346689</td>\n",
       "      <td>0.649051</td>\n",
       "    </tr>\n",
       "    <tr>\n",
       "      <th>2</th>\n",
       "      <td>-0.082810</td>\n",
       "      <td>-0.098099</td>\n",
       "      <td>-0.369138</td>\n",
       "      <td>-2.885678</td>\n",
       "    </tr>\n",
       "    <tr>\n",
       "      <th>3</th>\n",
       "      <td>-0.069000</td>\n",
       "      <td>-1.250223</td>\n",
       "      <td>0.185145</td>\n",
       "      <td>0.754318</td>\n",
       "    </tr>\n",
       "    <tr>\n",
       "      <th>4</th>\n",
       "      <td>-0.744519</td>\n",
       "      <td>-0.698474</td>\n",
       "      <td>-1.088719</td>\n",
       "      <td>-1.262047</td>\n",
       "    </tr>\n",
       "  </tbody>\n",
       "</table>\n",
       "</div>"
      ],
      "text/plain": [
       "          A         B         C         D\n",
       "0  0.435762  0.747097  0.368238 -0.946195\n",
       "1  0.039200 -1.521904  0.346689  0.649051\n",
       "2 -0.082810 -0.098099 -0.369138 -2.885678\n",
       "3 -0.069000 -1.250223  0.185145  0.754318\n",
       "4 -0.744519 -0.698474 -1.088719 -1.262047"
      ]
     },
     "execution_count": 9,
     "metadata": {},
     "output_type": "execute_result"
    }
   ],
   "source": [
    "df.head()"
   ]
  },
  {
   "cell_type": "code",
   "execution_count": 10,
   "metadata": {},
   "outputs": [],
   "source": [
    "df2 = pd.DataFrame({'Category':['A','B','C'],'Values':[32,43,50]})"
   ]
  },
  {
   "cell_type": "code",
   "execution_count": 12,
   "metadata": {},
   "outputs": [
    {
     "data": {
      "text/html": [
       "<div>\n",
       "<style scoped>\n",
       "    .dataframe tbody tr th:only-of-type {\n",
       "        vertical-align: middle;\n",
       "    }\n",
       "\n",
       "    .dataframe tbody tr th {\n",
       "        vertical-align: top;\n",
       "    }\n",
       "\n",
       "    .dataframe thead th {\n",
       "        text-align: right;\n",
       "    }\n",
       "</style>\n",
       "<table border=\"1\" class=\"dataframe\">\n",
       "  <thead>\n",
       "    <tr style=\"text-align: right;\">\n",
       "      <th></th>\n",
       "      <th>Category</th>\n",
       "      <th>Values</th>\n",
       "    </tr>\n",
       "  </thead>\n",
       "  <tbody>\n",
       "    <tr>\n",
       "      <th>0</th>\n",
       "      <td>A</td>\n",
       "      <td>32</td>\n",
       "    </tr>\n",
       "    <tr>\n",
       "      <th>1</th>\n",
       "      <td>B</td>\n",
       "      <td>43</td>\n",
       "    </tr>\n",
       "    <tr>\n",
       "      <th>2</th>\n",
       "      <td>C</td>\n",
       "      <td>50</td>\n",
       "    </tr>\n",
       "  </tbody>\n",
       "</table>\n",
       "</div>"
      ],
      "text/plain": [
       "  Category  Values\n",
       "0        A      32\n",
       "1        B      43\n",
       "2        C      50"
      ]
     },
     "execution_count": 12,
     "metadata": {},
     "output_type": "execute_result"
    }
   ],
   "source": [
    "df2"
   ]
  },
  {
   "cell_type": "code",
   "execution_count": 14,
   "metadata": {},
   "outputs": [
    {
     "data": {
      "text/plain": [
       "<AxesSubplot:>"
      ]
     },
     "execution_count": 14,
     "metadata": {},
     "output_type": "execute_result"
    },
    {
     "data": {
      "image/png": "[encoded data removed]",
      "text/plain": [
       "<Figure size 432x288 with 1 Axes>"
      ]
     },
     "metadata": {
      "needs_background": "light"
     },
     "output_type": "display_data"
    }
   ],
   "source": [
    "df.plot()"
   ]
  },
  {
   "cell_type": "code",
   "execution_count": 15,
   "metadata": {},
   "outputs": [
    {
     "data": {
      "application/vnd.plotly.v1+json": {
       "config": {
        "linkText": "Export to plot.ly",
        "plotlyServerURL": "https://plot.ly",
        "showLink": true
       },
       "data": [
        {
         "line": {
          "color": "rgba(255, 153, 51, 1.0)",
          "dash": "solid",
          "shape": "linear",
          "width": 1.3
         },
         "mode": "lines",
         "name": "A",
         "text": "",
         "type": "scatter",
         "x": [
          0,
          1,
          2,
          3,
          4,
          5,
          6,
          7,
          8,
          9,
          10,
          11,
          12,
          13,
          14,
          15,
          16,
          17,
          18,
          19,
          20,
          21,
          22,
          23,
          24,
          25,
          26,
          27,
          28,
          29,
          30,
          31,
          32,
          33,
          34,
          35,
          36,
          37,
          38,
          39,
          40,
          41,
          42,
          43,
          44,
          45,
          46,
          47,
          48,
          49,
          50,
          51,
          52,
          53,
          54,
          55,
          56,
          57,
          58,
          59,
          60,
          61,
          62,
          63,
          64,
          65,
          66,
          67,
          68,
          69,
          70,
          71,
          72,
          73,
          74,
          75,
          76,
          77,
          78,
          79,
          80,
          81,
          82,
          83,
          84,
          85,
          86,
          87,
          88,
          89,
          90,
          91,
          92,
          93,
          94,
          95,
          96,
          97,
          98,
          99
         ],
         "y": [
          0.43576161330137125,
          0.0392002026600367,
          -0.0828096051226737,
          -0.06899993842236976,
          -0.7445185078343501,
          -0.5818104718774442,
          0.20812256881462257,
          1.5771047203879411,
          -0.6229410571707626,
          -0.2542553127090784,
          -0.8616883603461633,
          -0.6882323696812119,
          1.6091381292540365,
          -0.08960730935903875,
          1.477667203229447,
          -1.1289770047232348,
          -0.37757591613281366,
          -0.9555659233157126,
          -0.8716190463369677,
          2.3343739223771967,
          -0.5804185512560397,
          -0.34512219064872196,
          1.0009426139151563,
          -0.03638635948039409,
          -0.4795511213004423,
          -0.38710379078114443,
          -0.5982291373045885,
          0.8057103455189922,
          0.07653649862068276,
          1.8789206942278476,
          -1.9870408379249231,
          -1.2534934267964573,
          1.1424388929052163,
          -0.19667780218489977,
          0.6672725785699418,
          0.22197020125418726,
          0.40375610544655427,
          0.790455120710436,
          0.47759724675807447,
          1.188441738310553,
          2.5966130677908876,
          -0.6307284045262942,
          0.07962977335776215,
          0.3075091604528683,
          -1.4964756673073725,
          -0.12521366306897264,
          -1.2358732389987421,
          -0.2360811692397413,
          -2.282498392530906,
          0.7428373771981449,
          -0.6288414109073985,
          0.6230290519320041,
          0.716991257672416,
          0.2741062424132256,
          0.9315691700047641,
          2.246444132120593,
          -0.09798021170589394,
          -1.4133581682943,
          0.27061743914078784,
          0.5896664688392396,
          0.049326040185358244,
          -1.6878301432568965,
          -2.048608617619134,
          0.44524418456960363,
          -0.9380811961782093,
          -1.88596316407578,
          0.6201094070399932,
          -1.5569988864741955,
          -0.5969142673083347,
          1.7125329163547705,
          2.0185871649641642,
          -1.2330424798204571,
          1.2660998430994834,
          0.4475507802687231,
          -0.808620887480285,
          -0.17552478952105183,
          -1.0126133692310482,
          -3.675695561961809,
          0.028560931347580483,
          1.92983422047473,
          0.35556609859758814,
          -0.06511288145789168,
          -0.25838345482305736,
          -1.2400752553123529,
          -0.34078316151973576,
          0.5430289046145775,
          -0.8056959136889844,
          1.6300090038319708,
          0.1558133548094795,
          0.09620023351258908,
          -0.7846317882449255,
          -2.5182101025471333,
          0.5562799597495309,
          0.16046651940046647,
          -0.21954404954103748,
          -0.32808367130031724,
          0.7209387084058826,
          -0.0345397981985188,
          -0.09495490706369364,
          -0.8910145283144787
         ]
        },
        {
         "line": {
          "color": "rgba(55, 128, 191, 1.0)",
          "dash": "solid",
          "shape": "linear",
          "width": 1.3
         },
         "mode": "lines",
         "name": "B",
         "text": "",
         "type": "scatter",
         "x": [
          0,
          1,
          2,
          3,
          4,
          5,
          6,
          7,
          8,
          9,
          10,
          11,
          12,
          13,
          14,
          15,
          16,
          17,
          18,
          19,
          20,
          21,
          22,
          23,
          24,
          25,
          26,
          27,
          28,
          29,
          30,
          31,
          32,
          33,
          34,
          35,
          36,
          37,
          38,
          39,
          40,
          41,
          42,
          43,
          44,
          45,
          46,
          47,
          48,
          49,
          50,
          51,
          52,
          53,
          54,
          55,
          56,
          57,
          58,
          59,
          60,
          61,
          62,
          63,
          64,
          65,
          66,
          67,
          68,
          69,
          70,
          71,
          72,
          73,
          74,
          75,
          76,
          77,
          78,
          79,
          80,
          81,
          82,
          83,
          84,
          85,
          86,
          87,
          88,
          89,
          90,
          91,
          92,
          93,
          94,
          95,
          96,
          97,
          98,
          99
         ],
         "y": [
          0.7470965589601339,
          -1.5219044668573725,
          -0.09809943298661565,
          -1.250222948666942,
          -0.698474158306239,
          0.9150731563300875,
          -1.7165979226019592,
          -1.2451154557852744,
          -0.4204666686443543,
          -0.0012794767147798895,
          -0.261186490901393,
          -0.3538924472485142,
          1.9908666564163198,
          0.851133799942738,
          1.5852483356617322,
          0.9124402543743519,
          0.5349719533559576,
          -0.7486594206111689,
          0.4215163263542885,
          -0.477420154232497,
          0.7682913569156996,
          1.1072895097909077,
          2.054407350902693,
          1.6175776756957496,
          0.5611477786926051,
          1.4031946166589802,
          -1.0167138268528113,
          0.19646954503078082,
          0.945974554393974,
          0.9408949156430599,
          1.1413517627554308,
          -0.1357448260510389,
          -0.04351760173125842,
          -0.8512903450571877,
          0.91744346009552,
          -0.1542511662085185,
          0.7063318506651899,
          -0.3031156931539478,
          -1.6443563957714007,
          1.2650837687557859,
          -0.8311250713611842,
          0.13834368861202084,
          0.31895857306174547,
          -0.5449946250740695,
          -3.262605243961339,
          -1.418654021604739,
          1.7861024688943528,
          0.6224571859649373,
          0.09101051584656397,
          0.6521919226727627,
          1.3058238267837332,
          -1.0018932539119865,
          0.36743339504271666,
          0.7195461980329014,
          -0.7852233456105248,
          -0.5934846408673413,
          -1.8222702027000843,
          -0.6168587967023298,
          -0.5414383002922646,
          -0.5421020917700555,
          0.12406293568327871,
          2.325695325282169,
          -0.3056098266005972,
          -1.2400002200650149,
          -0.7547227374480309,
          0.053572223237500154,
          1.209431097011376,
          2.2161223547948716,
          -0.42419252357043197,
          0.47008337374490233,
          -1.2385983525496629,
          0.4083282423594256,
          1.1018396289990668,
          -1.3439267263174357,
          -1.2148010375833018,
          1.378503549128289,
          -0.865442571080681,
          1.4981255490911167,
          0.5268652709491807,
          -0.5864705000603173,
          -0.03251046298779092,
          -1.657971247262324,
          0.5387740305912381,
          0.33891930104974144,
          -0.017631905464170265,
          0.235035832459136,
          -0.22302903550297953,
          -0.42911270255814304,
          0.45012009799066305,
          -0.9780296593173486,
          -0.11851579616469118,
          1.047681204062073,
          0.9889001376060471,
          1.3966008775466294,
          0.09077097106105908,
          1.3376388975447437,
          -0.2036133802195914,
          -0.11638871633048702,
          -0.054452121594433106,
          0.382117572004654
         ]
        },
        {
         "line": {
          "color": "rgba(50, 171, 96, 1.0)",
          "dash": "solid",
          "shape": "linear",
          "width": 1.3
         },
         "mode": "lines",
         "name": "C",
         "text": "",
         "type": "scatter",
         "x": [
          0,
          1,
          2,
          3,
          4,
          5,
          6,
          7,
          8,
          9,
          10,
          11,
          12,
          13,
          14,
          15,
          16,
          17,
          18,
          19,
          20,
          21,
          22,
          23,
          24,
          25,
          26,
          27,
          28,
          29,
          30,
          31,
          32,
          33,
          34,
          35,
          36,
          37,
          38,
          39,
          40,
          41,
          42,
          43,
          44,
          45,
          46,
          47,
          48,
          49,
          50,
          51,
          52,
          53,
          54,
          55,
          56,
          57,
          58,
          59,
          60,
          61,
          62,
          63,
          64,
          65,
          66,
          67,
          68,
          69,
          70,
          71,
          72,
          73,
          74,
          75,
          76,
          77,
          78,
          79,
          80,
          81,
          82,
          83,
          84,
          85,
          86,
          87,
          88,
          89,
          90,
          91,
          92,
          93,
          94,
          95,
          96,
          97,
          98,
          99
         ],
         "y": [
          0.3682377144132527,
          0.3466890761278271,
          -0.36913753005199823,
          0.18514537841315948,
          -1.0887193428018571,
          0.8197485014104589,
          -1.2480792457914922,
          0.8032857896965091,
          -0.7372634145936622,
          1.8916263785651137,
          -1.0091640111893094,
          0.6669618923940757,
          -1.2347372819390838,
          0.3586286742808286,
          -0.17797767358538108,
          0.14261496579823077,
          -1.6054052554704594,
          1.1746627862690353,
          0.22194911958937508,
          -0.3491598059032676,
          -0.9997487538488474,
          0.9665740152979908,
          -0.5974613801113016,
          1.2027824998329095,
          0.8055499031272653,
          -1.1705064006479604,
          0.805894459386693,
          0.08228254999688683,
          1.0887366927019209,
          1.4106915911500681,
          -0.867900972018244,
          -0.6339851583086878,
          -1.3890048876027952,
          -0.7127045563198836,
          0.4898398447200245,
          0.14869214579216922,
          0.9874702488096306,
          -0.5974306475460034,
          -0.059375257352179585,
          1.2348799507675814,
          0.45432412727610216,
          -0.39615476589886783,
          -0.6116096177234337,
          0.12343362764980646,
          -1.2793811350833177,
          1.7621541021838003,
          -1.6575406700058628,
          -0.9102543410907438,
          -1.8037290171758542,
          -0.562133591486102,
          -1.542449489376436,
          1.5622069830921548,
          -0.015535066606124135,
          0.19179000418996284,
          -0.3865933407686439,
          0.3767014127544314,
          -0.39035565729367816,
          -0.17593237649210466,
          0.5010787800055183,
          1.5068826796973953,
          0.7548535916650044,
          -0.09345064568866177,
          -0.6748023482836941,
          -0.007867500606330622,
          1.2452765230361882,
          -1.9797610765138551,
          2.288109166982434,
          0.3158001520261646,
          -1.0022812872462648,
          0.14323345564166073,
          0.9297586307776996,
          1.1613537249460568,
          -0.535713295674978,
          -0.04247466282924876,
          -1.0864391841694818,
          -0.17535156734247248,
          -1.0435435528269077,
          1.4972108118555416,
          0.5443510427237117,
          0.4522251302277498,
          -1.3806338969360445,
          1.5394722937803447,
          -0.5669625412314382,
          -0.09449124702752644,
          0.7425778961101418,
          0.4196628907191677,
          -0.2982502752981818,
          1.1018302596780367,
          1.041507789996542,
          0.1229506045307668,
          -0.3239100280384493,
          1.7517960645639947,
          -1.593660968080219,
          -0.29520459008899336,
          -1.1079059337127208,
          -0.8443831132442462,
          -1.105499520464632,
          0.31414854886524113,
          -0.19347118107445258,
          0.1949481448016391
         ]
        },
        {
         "line": {
          "color": "rgba(128, 0, 128, 1.0)",
          "dash": "solid",
          "shape": "linear",
          "width": 1.3
         },
         "mode": "lines",
         "name": "D",
         "text": "",
         "type": "scatter",
         "x": [
          0,
          1,
          2,
          3,
          4,
          5,
          6,
          7,
          8,
          9,
          10,
          11,
          12,
          13,
          14,
          15,
          16,
          17,
          18,
          19,
          20,
          21,
          22,
          23,
          24,
          25,
          26,
          27,
          28,
          29,
          30,
          31,
          32,
          33,
          34,
          35,
          36,
          37,
          38,
          39,
          40,
          41,
          42,
          43,
          44,
          45,
          46,
          47,
          48,
          49,
          50,
          51,
          52,
          53,
          54,
          55,
          56,
          57,
          58,
          59,
          60,
          61,
          62,
          63,
          64,
          65,
          66,
          67,
          68,
          69,
          70,
          71,
          72,
          73,
          74,
          75,
          76,
          77,
          78,
          79,
          80,
          81,
          82,
          83,
          84,
          85,
          86,
          87,
          88,
          89,
          90,
          91,
          92,
          93,
          94,
          95,
          96,
          97,
          98,
          99
         ],
         "y": [
          -0.9461952856679982,
          0.6490505117458512,
          -2.8856777417148423,
          0.7543179079921039,
          -1.2620466925622829,
          -0.29671662214552724,
          -0.12432979792114747,
          0.4055078787706235,
          -1.6849278164940076,
          0.7592765208403887,
          0.7295973675512063,
          -1.2289778806316503,
          0.4746662390192041,
          -1.9467463645444505,
          1.279041672422795,
          0.28596923632067106,
          -1.1047989995477818,
          -0.2750916111734189,
          -0.004445869216080266,
          -0.8447524529656686,
          -1.0847559402515845,
          -0.36831017623822854,
          1.7849046353242075,
          0.09457412928279552,
          -1.5220100918781827,
          -0.7204173596427004,
          -0.8406541388820522,
          1.7828216483160868,
          0.5723990541038184,
          0.04134495585573406,
          -0.043738453631860075,
          -0.062351447856486206,
          -1.029165749659944,
          -0.6464275203370826,
          -2.4790377438704385,
          0.8924262480171544,
          -0.09287039344225873,
          -0.5987040240203508,
          -0.3852951367141403,
          -0.5946067828347857,
          -1.338306940118594,
          -1.143664724386562,
          0.23717244680581728,
          -1.0553239866701294,
          -1.768056578374799,
          -0.43961323355406806,
          -1.8203198565273977,
          0.2950382232612245,
          0.241784236809698,
          -0.609871180395315,
          1.1389627799474984,
          0.09800288010116572,
          -0.31334022306554643,
          -0.11281582001464618,
          -0.8450599277568367,
          1.0914831382708754,
          -0.06812203830684074,
          -0.06485931824662995,
          0.06345771885869014,
          0.780898024037899,
          0.38519174605760986,
          1.5596975457436253,
          -1.1573456724277826,
          1.4445043903679835,
          0.10738099318593422,
          -0.6889425940821164,
          -0.10029195797902998,
          0.17541820166233416,
          0.4910207830569502,
          0.5130207172331803,
          -2.1113232049226838,
          0.7494933159230787,
          0.2930842867454575,
          -0.9881669095762277,
          -2.252876926788418,
          -0.613739798262879,
          0.11338688536083144,
          0.1529186605142726,
          0.5601423111987032,
          0.27164095954332557,
          -0.590306556357339,
          -0.19359801024144416,
          -0.5727331843839251,
          1.8325506531733573,
          1.149233790873831,
          -2.393557334344154,
          -1.2250112430753446,
          -0.9124986713695532,
          -0.03101020857729068,
          0.90728421512498,
          -0.3583318565094099,
          2.519005246911356,
          -0.4151337693932833,
          0.03665958749737384,
          -0.4331483093163314,
          1.9034225405674647,
          0.6279386320745678,
          -0.8565835172293262,
          0.6026905340869714,
          -0.08280840058685728
         ]
        }
       ],
       "layout": {
        "legend": {
         "bgcolor": "#F5F6F9",
         "font": {
          "color": "#4D5663"
         }
        },
        "paper_bgcolor": "#F5F6F9",
        "plot_bgcolor": "#F5F6F9",
        "template": {
         "data": {
          "bar": [
           {
            "error_x": {
             "color": "#2a3f5f"
            },
            "error_y": {
             "color": "#2a3f5f"
            },
            "marker": {
             "line": {
              "color": "#E5ECF6",
              "width": 0.5
             },
             "pattern": {
              "fillmode": "overlay",
              "size": 10,
              "solidity": 0.2
             }
            },
            "type": "bar"
           }
          ],
          "barpolar": [
           {
            "marker": {
             "line": {
              "color": "#E5ECF6",
              "width": 0.5
             },
             "pattern": {
              "fillmode": "overlay",
              "size": 10,
              "solidity": 0.2
             }
            },
            "type": "barpolar"
           }
          ],
          "carpet": [
           {
            "aaxis": {
             "endlinecolor": "#2a3f5f",
             "gridcolor": "white",
             "linecolor": "white",
             "minorgridcolor": "white",
             "startlinecolor": "#2a3f5f"
            },
            "baxis": {
             "endlinecolor": "#2a3f5f",
             "gridcolor": "white",
             "linecolor": "white",
             "minorgridcolor": "white",
             "startlinecolor": "#2a3f5f"
            },
            "type": "carpet"
           }
          ],
          "choropleth": [
           {
            "colorbar": {
             "outlinewidth": 0,
             "ticks": ""
            },
            "type": "choropleth"
           }
          ],
          "contour": [
           {
            "colorbar": {
             "outlinewidth": 0,
             "ticks": ""
            },
            "colorscale": [
             [
              0,
              "#0d0887"
             ],
             [
              0.1111111111111111,
              "#46039f"
             ],
             [
              0.2222222222222222,
              "#7201a8"
             ],
             [
              0.3333333333333333,
              "#9c179e"
             ],
             [
              0.4444444444444444,
              "#bd3786"
             ],
             [
              0.5555555555555556,
              "#d8576b"
             ],
             [
              0.6666666666666666,
              "#ed7953"
             ],
             [
              0.7777777777777778,
              "#fb9f3a"
             ],
             [
              0.8888888888888888,
              "#fdca26"
             ],
             [
              1,
              "#f0f921"
             ]
            ],
            "type": "contour"
           }
          ],
          "contourcarpet": [
           {
            "colorbar": {
             "outlinewidth": 0,
             "ticks": ""
            },
            "type": "contourcarpet"
           }
          ],
          "heatmap": [
           {
            "colorbar": {
             "outlinewidth": 0,
             "ticks": ""
            },
            "colorscale": [
             [
              0,
              "#0d0887"
             ],
             [
              0.1111111111111111,
              "#46039f"
             ],
             [
              0.2222222222222222,
              "#7201a8"
             ],
             [
              0.3333333333333333,
              "#9c179e"
             ],
             [
              0.4444444444444444,
              "#bd3786"
             ],
             [
              0.5555555555555556,
              "#d8576b"
             ],
             [
              0.6666666666666666,
              "#ed7953"
             ],
             [
              0.7777777777777778,
              "#fb9f3a"
             ],
             [
              0.8888888888888888,
              "#fdca26"
             ],
             [
              1,
              "#f0f921"
             ]
            ],
            "type": "heatmap"
           }
          ],
          "heatmapgl": [
           {
            "colorbar": {
             "outlinewidth": 0,
             "ticks": ""
            },
            "colorscale": [
             [
              0,
              "#0d0887"
             ],
             [
              0.1111111111111111,
              "#46039f"
             ],
             [
              0.2222222222222222,
              "#7201a8"
             ],
             [
              0.3333333333333333,
              "#9c179e"
             ],
             [
              0.4444444444444444,
              "#bd3786"
             ],
             [
              0.5555555555555556,
              "#d8576b"
             ],
             [
              0.6666666666666666,
              "#ed7953"
             ],
             [
              0.7777777777777778,
              "#fb9f3a"
             ],
             [
              0.8888888888888888,
              "#fdca26"
             ],
             [
              1,
              "#f0f921"
             ]
            ],
            "type": "heatmapgl"
           }
          ],
          "histogram": [
           {
            "marker": {
             "pattern": {
              "fillmode": "overlay",
              "size": 10,
              "solidity": 0.2
             }
            },
            "type": "histogram"
           }
          ],
          "histogram2d": [
           {
            "colorbar": {
             "outlinewidth": 0,
             "ticks": ""
            },
            "colorscale": [
             [
              0,
              "#0d0887"
             ],
             [
              0.1111111111111111,
              "#46039f"
             ],
             [
              0.2222222222222222,
              "#7201a8"
             ],
             [
              0.3333333333333333,
              "#9c179e"
             ],
             [
              0.4444444444444444,
              "#bd3786"
             ],
             [
              0.5555555555555556,
              "#d8576b"
             ],
             [
              0.6666666666666666,
              "#ed7953"
             ],
             [
              0.7777777777777778,
              "#fb9f3a"
             ],
             [
              0.8888888888888888,
              "#fdca26"
             ],
             [
              1,
              "#f0f921"
             ]
            ],
            "type": "histogram2d"
           }
          ],
          "histogram2dcontour": [
           {
            "colorbar": {
             "outlinewidth": 0,
             "ticks": ""
            },
            "colorscale": [
             [
              0,
              "#0d0887"
             ],
             [
              0.1111111111111111,
              "#46039f"
             ],
             [
              0.2222222222222222,
              "#7201a8"
             ],
             [
              0.3333333333333333,
              "#9c179e"
             ],
             [
              0.4444444444444444,
              "#bd3786"
             ],
             [
              0.5555555555555556,
              "#d8576b"
             ],
             [
              0.6666666666666666,
              "#ed7953"
             ],
             [
              0.7777777777777778,
              "#fb9f3a"
             ],
             [
              0.8888888888888888,
              "#fdca26"
             ],
             [
              1,
              "#f0f921"
             ]
            ],
            "type": "histogram2dcontour"
           }
          ],
          "mesh3d": [
           {
            "colorbar": {
             "outlinewidth": 0,
             "ticks": ""
            },
            "type": "mesh3d"
           }
          ],
          "parcoords": [
           {
            "line": {
             "colorbar": {
              "outlinewidth": 0,
              "ticks": ""
             }
            },
            "type": "parcoords"
           }
          ],
          "pie": [
           {
            "automargin": true,
            "type": "pie"
           }
          ],
          "scatter": [
           {
            "marker": {
             "colorbar": {
              "outlinewidth": 0,
              "ticks": ""
             }
            },
            "type": "scatter"
           }
          ],
          "scatter3d": [
           {
            "line": {
             "colorbar": {
              "outlinewidth": 0,
              "ticks": ""
             }
            },
            "marker": {
             "colorbar": {
              "outlinewidth": 0,
              "ticks": ""
             }
            },
            "type": "scatter3d"
           }
          ],
          "scattercarpet": [
           {
            "marker": {
             "colorbar": {
              "outlinewidth": 0,
              "ticks": ""
             }
            },
            "type": "scattercarpet"
           }
          ],
          "scattergeo": [
           {
            "marker": {
             "colorbar": {
              "outlinewidth": 0,
              "ticks": ""
             }
            },
            "type": "scattergeo"
           }
          ],
          "scattergl": [
           {
            "marker": {
             "colorbar": {
              "outlinewidth": 0,
              "ticks": ""
             }
            },
            "type": "scattergl"
           }
          ],
          "scattermapbox": [
           {
            "marker": {
             "colorbar": {
              "outlinewidth": 0,
              "ticks": ""
             }
            },
            "type": "scattermapbox"
           }
          ],
          "scatterpolar": [
           {
            "marker": {
             "colorbar": {
              "outlinewidth": 0,
              "ticks": ""
             }
            },
            "type": "scatterpolar"
           }
          ],
          "scatterpolargl": [
           {
            "marker": {
             "colorbar": {
              "outlinewidth": 0,
              "ticks": ""
             }
            },
            "type": "scatterpolargl"
           }
          ],
          "scatterternary": [
           {
            "marker": {
             "colorbar": {
              "outlinewidth": 0,
              "ticks": ""
             }
            },
            "type": "scatterternary"
           }
          ],
          "surface": [
           {
            "colorbar": {
             "outlinewidth": 0,
             "ticks": ""
            },
            "colorscale": [
             [
              0,
              "#0d0887"
             ],
             [
              0.1111111111111111,
              "#46039f"
             ],
             [
              0.2222222222222222,
              "#7201a8"
             ],
             [
              0.3333333333333333,
              "#9c179e"
             ],
             [
              0.4444444444444444,
              "#bd3786"
             ],
             [
              0.5555555555555556,
              "#d8576b"
             ],
             [
              0.6666666666666666,
              "#ed7953"
             ],
             [
              0.7777777777777778,
              "#fb9f3a"
             ],
             [
              0.8888888888888888,
              "#fdca26"
             ],
             [
              1,
              "#f0f921"
             ]
            ],
            "type": "surface"
           }
          ],
          "table": [
           {
            "cells": {
             "fill": {
              "color": "#EBF0F8"
             },
             "line": {
              "color": "white"
             }
            },
            "header": {
             "fill": {
              "color": "#C8D4E3"
             },
             "line": {
              "color": "white"
             }
            },
            "type": "table"
           }
          ]
         },
         "layout": {
          "annotationdefaults": {
           "arrowcolor": "#2a3f5f",
           "arrowhead": 0,
           "arrowwidth": 1
          },
          "autotypenumbers": "strict",
          "coloraxis": {
           "colorbar": {
            "outlinewidth": 0,
            "ticks": ""
           }
          },
          "colorscale": {
           "diverging": [
            [
             0,
             "#8e0152"
            ],
            [
             0.1,
             "#c51b7d"
            ],
            [
             0.2,
             "#de77ae"
            ],
            [
             0.3,
             "#f1b6da"
            ],
            [
             0.4,
             "#fde0ef"
            ],
            [
             0.5,
             "#f7f7f7"
            ],
            [
             0.6,
             "#e6f5d0"
            ],
            [
             0.7,
             "#b8e186"
            ],
            [
             0.8,
             "#7fbc41"
            ],
            [
             0.9,
             "#4d9221"
            ],
            [
             1,
             "#276419"
            ]
           ],
           "sequential": [
            [
             0,
             "#0d0887"
            ],
            [
             0.1111111111111111,
             "#46039f"
            ],
            [
             0.2222222222222222,
             "#7201a8"
            ],
            [
             0.3333333333333333,
             "#9c179e"
            ],
            [
             0.4444444444444444,
             "#bd3786"
            ],
            [
             0.5555555555555556,
             "#d8576b"
            ],
            [
             0.6666666666666666,
             "#ed7953"
            ],
            [
             0.7777777777777778,
             "#fb9f3a"
            ],
            [
             0.8888888888888888,
             "#fdca26"
            ],
            [
             1,
             "#f0f921"
            ]
           ],
           "sequentialminus": [
            [
             0,
             "#0d0887"
            ],
            [
             0.1111111111111111,
             "#46039f"
            ],
            [
             0.2222222222222222,
             "#7201a8"
            ],
            [
             0.3333333333333333,
             "#9c179e"
            ],
            [
             0.4444444444444444,
             "#bd3786"
            ],
            [
             0.5555555555555556,
             "#d8576b"
            ],
            [
             0.6666666666666666,
             "#ed7953"
            ],
            [
             0.7777777777777778,
             "#fb9f3a"
            ],
            [
             0.8888888888888888,
             "#fdca26"
            ],
            [
             1,
             "#f0f921"
            ]
           ]
          },
          "colorway": [
           "#636efa",
           "#EF553B",
           "#00cc96",
           "#ab63fa",
           "#FFA15A",
           "#19d3f3",
           "#FF6692",
           "#B6E880",
           "#FF97FF",
           "#FECB52"
          ],
          "font": {
           "color": "#2a3f5f"
          },
          "geo": {
           "bgcolor": "white",
           "lakecolor": "white",
           "landcolor": "#E5ECF6",
           "showlakes": true,
           "showland": true,
           "subunitcolor": "white"
          },
          "hoverlabel": {
           "align": "left"
          },
          "hovermode": "closest",
          "mapbox": {
           "style": "light"
          },
          "paper_bgcolor": "white",
          "plot_bgcolor": "#E5ECF6",
          "polar": {
           "angularaxis": {
            "gridcolor": "white",
            "linecolor": "white",
            "ticks": ""
           },
           "bgcolor": "#E5ECF6",
           "radialaxis": {
            "gridcolor": "white",
            "linecolor": "white",
            "ticks": ""
           }
          },
          "scene": {
           "xaxis": {
            "backgroundcolor": "#E5ECF6",
            "gridcolor": "white",
            "gridwidth": 2,
            "linecolor": "white",
            "showbackground": true,
            "ticks": "",
            "zerolinecolor": "white"
           },
           "yaxis": {
            "backgroundcolor": "#E5ECF6",
            "gridcolor": "white",
            "gridwidth": 2,
            "linecolor": "white",
            "showbackground": true,
            "ticks": "",
            "zerolinecolor": "white"
           },
           "zaxis": {
            "backgroundcolor": "#E5ECF6",
            "gridcolor": "white",
            "gridwidth": 2,
            "linecolor": "white",
            "showbackground": true,
            "ticks": "",
            "zerolinecolor": "white"
           }
          },
          "shapedefaults": {
           "line": {
            "color": "#2a3f5f"
           }
          },
          "ternary": {
           "aaxis": {
            "gridcolor": "white",
            "linecolor": "white",
            "ticks": ""
           },
           "baxis": {
            "gridcolor": "white",
            "linecolor": "white",
            "ticks": ""
           },
           "bgcolor": "#E5ECF6",
           "caxis": {
            "gridcolor": "white",
            "linecolor": "white",
            "ticks": ""
           }
          },
          "title": {
           "x": 0.05
          },
          "xaxis": {
           "automargin": true,
           "gridcolor": "white",
           "linecolor": "white",
           "ticks": "",
           "title": {
            "standoff": 15
           },
           "zerolinecolor": "white",
           "zerolinewidth": 2
          },
          "yaxis": {
           "automargin": true,
           "gridcolor": "white",
           "linecolor": "white",
           "ticks": "",
           "title": {
            "standoff": 15
           },
           "zerolinecolor": "white",
           "zerolinewidth": 2
          }
         }
        },
        "title": {
         "font": {
          "color": "#4D5663"
         }
        },
        "xaxis": {
         "gridcolor": "#E1E5ED",
         "showgrid": true,
         "tickfont": {
          "color": "#4D5663"
         },
         "title": {
          "font": {
           "color": "#4D5663"
          },
          "text": ""
         },
         "zerolinecolor": "#E1E5ED"
        },
        "yaxis": {
         "gridcolor": "#E1E5ED",
         "showgrid": true,
         "tickfont": {
          "color": "#4D5663"
         },
         "title": {
          "font": {
           "color": "#4D5663"
          },
          "text": ""
         },
         "zerolinecolor": "#E1E5ED"
        }
       }
      },
      "text/html": [
       "<div>                            <div id=\"61759645-3cec-4dbc-aa8e-e8e0ed7d616a\" class=\"plotly-graph-div\" style=\"height:525px; width:100%;\"></div>            <script type=\"text/javascript\">                require([\"plotly\"], function(Plotly) {                    window.PLOTLYENV=window.PLOTLYENV || {};\n",
       "                    window.PLOTLYENV.BASE_URL='https://plot.ly';                                    if (document.getElementById(\"61759645-3cec-4dbc-aa8e-e8e0ed7d616a\")) {                    Plotly.newPlot(                        \"61759645-3cec-4dbc-aa8e-e8e0ed7d616a\",                        [{\"line\":{\"color\":\"rgba(255, 153, 51, 1.0)\",\"dash\":\"solid\",\"shape\":\"linear\",\"width\":1.3},\"mode\":\"lines\",\"name\":\"A\",\"text\":\"\",\"x\":[0,1,2,3,4,5,6,7,8,9,10,11,12,13,14,15,16,17,18,19,20,21,22,23,24,25,26,27,28,29,30,31,32,33,34,35,36,37,38,39,40,41,42,43,44,45,46,47,48,49,50,51,52,53,54,55,56,57,58,59,60,61,62,63,64,65,66,67,68,69,70,71,72,73,74,75,76,77,78,79,80,81,82,83,84,85,86,87,88,89,90,91,92,93,94,95,96,97,98,99],\"y\":[0.43576161330137125,0.0392002026600367,-0.0828096051226737,-0.06899993842236976,-0.7445185078343501,-0.5818104718774442,0.20812256881462257,1.5771047203879411,-0.6229410571707626,-0.2542553127090784,-0.8616883603461633,-0.6882323696812119,1.6091381292540365,-0.08960730935903875,1.477667203229447,-1.1289770047232348,-0.37757591613281366,-0.9555659233157126,-0.8716190463369677,2.3343739223771967,-0.5804185512560397,-0.34512219064872196,1.0009426139151563,-0.03638635948039409,-0.4795511213004423,-0.38710379078114443,-0.5982291373045885,0.8057103455189922,0.07653649862068276,1.8789206942278476,-1.9870408379249231,-1.2534934267964573,1.1424388929052163,-0.19667780218489977,0.6672725785699418,0.22197020125418726,0.40375610544655427,0.790455120710436,0.47759724675807447,1.188441738310553,2.5966130677908876,-0.6307284045262942,0.07962977335776215,0.3075091604528683,-1.4964756673073725,-0.12521366306897264,-1.2358732389987421,-0.2360811692397413,-2.282498392530906,0.7428373771981449,-0.6288414109073985,0.6230290519320041,0.716991257672416,0.2741062424132256,0.9315691700047641,2.246444132120593,-0.09798021170589394,-1.4133581682943,0.27061743914078784,0.5896664688392396,0.049326040185358244,-1.6878301432568965,-2.048608617619134,0.44524418456960363,-0.9380811961782093,-1.88596316407578,0.6201094070399932,-1.5569988864741955,-0.5969142673083347,1.7125329163547705,2.0185871649641642,-1.2330424798204571,1.2660998430994834,0.4475507802687231,-0.808620887480285,-0.17552478952105183,-1.0126133692310482,-3.675695561961809,0.028560931347580483,1.92983422047473,0.35556609859758814,-0.06511288145789168,-0.25838345482305736,-1.2400752553123529,-0.34078316151973576,0.5430289046145775,-0.8056959136889844,1.6300090038319708,0.1558133548094795,0.09620023351258908,-0.7846317882449255,-2.5182101025471333,0.5562799597495309,0.16046651940046647,-0.21954404954103748,-0.32808367130031724,0.7209387084058826,-0.0345397981985188,-0.09495490706369364,-0.8910145283144787],\"type\":\"scatter\"},{\"line\":{\"color\":\"rgba(55, 128, 191, 1.0)\",\"dash\":\"solid\",\"shape\":\"linear\",\"width\":1.3},\"mode\":\"lines\",\"name\":\"B\",\"text\":\"\",\"x\":[0,1,2,3,4,5,6,7,8,9,10,11,12,13,14,15,16,17,18,19,20,21,22,23,24,25,26,27,28,29,30,31,32,33,34,35,36,37,38,39,40,41,42,43,44,45,46,47,48,49,50,51,52,53,54,55,56,57,58,59,60,61,62,63,64,65,66,67,68,69,70,71,72,73,74,75,76,77,78,79,80,81,82,83,84,85,86,87,88,89,90,91,92,93,94,95,96,97,98,99],\"y\":[0.7470965589601339,-1.5219044668573725,-0.09809943298661565,-1.250222948666942,-0.698474158306239,0.9150731563300875,-1.7165979226019592,-1.2451154557852744,-0.4204666686443543,-0.0012794767147798895,-0.261186490901393,-0.3538924472485142,1.9908666564163198,0.851133799942738,1.5852483356617322,0.9124402543743519,0.5349719533559576,-0.7486594206111689,0.4215163263542885,-0.477420154232497,0.7682913569156996,1.1072895097909077,2.054407350902693,1.6175776756957496,0.5611477786926051,1.4031946166589802,-1.0167138268528113,0.19646954503078082,0.945974554393974,0.9408949156430599,1.1413517627554308,-0.1357448260510389,-0.04351760173125842,-0.8512903450571877,0.91744346009552,-0.1542511662085185,0.7063318506651899,-0.3031156931539478,-1.6443563957714007,1.2650837687557859,-0.8311250713611842,0.13834368861202084,0.31895857306174547,-0.5449946250740695,-3.262605243961339,-1.418654021604739,1.7861024688943528,0.6224571859649373,0.09101051584656397,0.6521919226727627,1.3058238267837332,-1.0018932539119865,0.36743339504271666,0.7195461980329014,-0.7852233456105248,-0.5934846408673413,-1.8222702027000843,-0.6168587967023298,-0.5414383002922646,-0.5421020917700555,0.12406293568327871,2.325695325282169,-0.3056098266005972,-1.2400002200650149,-0.7547227374480309,0.053572223237500154,1.209431097011376,2.2161223547948716,-0.42419252357043197,0.47008337374490233,-1.2385983525496629,0.4083282423594256,1.1018396289990668,-1.3439267263174357,-1.2148010375833018,1.378503549128289,-0.865442571080681,1.4981255490911167,0.5268652709491807,-0.5864705000603173,-0.03251046298779092,-1.657971247262324,0.5387740305912381,0.33891930104974144,-0.017631905464170265,0.235035832459136,-0.22302903550297953,-0.42911270255814304,0.45012009799066305,-0.9780296593173486,-0.11851579616469118,1.047681204062073,0.9889001376060471,1.3966008775466294,0.09077097106105908,1.3376388975447437,-0.2036133802195914,-0.11638871633048702,-0.054452121594433106,0.382117572004654],\"type\":\"scatter\"},{\"line\":{\"color\":\"rgba(50, 171, 96, 1.0)\",\"dash\":\"solid\",\"shape\":\"linear\",\"width\":1.3},\"mode\":\"lines\",\"name\":\"C\",\"text\":\"\",\"x\":[0,1,2,3,4,5,6,7,8,9,10,11,12,13,14,15,16,17,18,19,20,21,22,23,24,25,26,27,28,29,30,31,32,33,34,35,36,37,38,39,40,41,42,43,44,45,46,47,48,49,50,51,52,53,54,55,56,57,58,59,60,61,62,63,64,65,66,67,68,69,70,71,72,73,74,75,76,77,78,79,80,81,82,83,84,85,86,87,88,89,90,91,92,93,94,95,96,97,98,99],\"y\":[0.3682377144132527,0.3466890761278271,-0.36913753005199823,0.18514537841315948,-1.0887193428018571,0.8197485014104589,-1.2480792457914922,0.8032857896965091,-0.7372634145936622,1.8916263785651137,-1.0091640111893094,0.6669618923940757,-1.2347372819390838,0.3586286742808286,-0.17797767358538108,0.14261496579823077,-1.6054052554704594,1.1746627862690353,0.22194911958937508,-0.3491598059032676,-0.9997487538488474,0.9665740152979908,-0.5974613801113016,1.2027824998329095,0.8055499031272653,-1.1705064006479604,0.805894459386693,0.08228254999688683,1.0887366927019209,1.4106915911500681,-0.867900972018244,-0.6339851583086878,-1.3890048876027952,-0.7127045563198836,0.4898398447200245,0.14869214579216922,0.9874702488096306,-0.5974306475460034,-0.059375257352179585,1.2348799507675814,0.45432412727610216,-0.39615476589886783,-0.6116096177234337,0.12343362764980646,-1.2793811350833177,1.7621541021838003,-1.6575406700058628,-0.9102543410907438,-1.8037290171758542,-0.562133591486102,-1.542449489376436,1.5622069830921548,-0.015535066606124135,0.19179000418996284,-0.3865933407686439,0.3767014127544314,-0.39035565729367816,-0.17593237649210466,0.5010787800055183,1.5068826796973953,0.7548535916650044,-0.09345064568866177,-0.6748023482836941,-0.007867500606330622,1.2452765230361882,-1.9797610765138551,2.288109166982434,0.3158001520261646,-1.0022812872462648,0.14323345564166073,0.9297586307776996,1.1613537249460568,-0.535713295674978,-0.04247466282924876,-1.0864391841694818,-0.17535156734247248,-1.0435435528269077,1.4972108118555416,0.5443510427237117,0.4522251302277498,-1.3806338969360445,1.5394722937803447,-0.5669625412314382,-0.09449124702752644,0.7425778961101418,0.4196628907191677,-0.2982502752981818,1.1018302596780367,1.041507789996542,0.1229506045307668,-0.3239100280384493,1.7517960645639947,-1.593660968080219,-0.29520459008899336,-1.1079059337127208,-0.8443831132442462,-1.105499520464632,0.31414854886524113,-0.19347118107445258,0.1949481448016391],\"type\":\"scatter\"},{\"line\":{\"color\":\"rgba(128, 0, 128, 1.0)\",\"dash\":\"solid\",\"shape\":\"linear\",\"width\":1.3},\"mode\":\"lines\",\"name\":\"D\",\"text\":\"\",\"x\":[0,1,2,3,4,5,6,7,8,9,10,11,12,13,14,15,16,17,18,19,20,21,22,23,24,25,26,27,28,29,30,31,32,33,34,35,36,37,38,39,40,41,42,43,44,45,46,47,48,49,50,51,52,53,54,55,56,57,58,59,60,61,62,63,64,65,66,67,68,69,70,71,72,73,74,75,76,77,78,79,80,81,82,83,84,85,86,87,88,89,90,91,92,93,94,95,96,97,98,99],\"y\":[-0.9461952856679982,0.6490505117458512,-2.8856777417148423,0.7543179079921039,-1.2620466925622829,-0.29671662214552724,-0.12432979792114747,0.4055078787706235,-1.6849278164940076,0.7592765208403887,0.7295973675512063,-1.2289778806316503,0.4746662390192041,-1.9467463645444505,1.279041672422795,0.28596923632067106,-1.1047989995477818,-0.2750916111734189,-0.004445869216080266,-0.8447524529656686,-1.0847559402515845,-0.36831017623822854,1.7849046353242075,0.09457412928279552,-1.5220100918781827,-0.7204173596427004,-0.8406541388820522,1.7828216483160868,0.5723990541038184,0.04134495585573406,-0.043738453631860075,-0.062351447856486206,-1.029165749659944,-0.6464275203370826,-2.4790377438704385,0.8924262480171544,-0.09287039344225873,-0.5987040240203508,-0.3852951367141403,-0.5946067828347857,-1.338306940118594,-1.143664724386562,0.23717244680581728,-1.0553239866701294,-1.768056578374799,-0.43961323355406806,-1.8203198565273977,0.2950382232612245,0.241784236809698,-0.609871180395315,1.1389627799474984,0.09800288010116572,-0.31334022306554643,-0.11281582001464618,-0.8450599277568367,1.0914831382708754,-0.06812203830684074,-0.06485931824662995,0.06345771885869014,0.780898024037899,0.38519174605760986,1.5596975457436253,-1.1573456724277826,1.4445043903679835,0.10738099318593422,-0.6889425940821164,-0.10029195797902998,0.17541820166233416,0.4910207830569502,0.5130207172331803,-2.1113232049226838,0.7494933159230787,0.2930842867454575,-0.9881669095762277,-2.252876926788418,-0.613739798262879,0.11338688536083144,0.1529186605142726,0.5601423111987032,0.27164095954332557,-0.590306556357339,-0.19359801024144416,-0.5727331843839251,1.8325506531733573,1.149233790873831,-2.393557334344154,-1.2250112430753446,-0.9124986713695532,-0.03101020857729068,0.90728421512498,-0.3583318565094099,2.519005246911356,-0.4151337693932833,0.03665958749737384,-0.4331483093163314,1.9034225405674647,0.6279386320745678,-0.8565835172293262,0.6026905340869714,-0.08280840058685728],\"type\":\"scatter\"}],                        {\"legend\":{\"bgcolor\":\"#F5F6F9\",\"font\":{\"color\":\"#4D5663\"}},\"paper_bgcolor\":\"#F5F6F9\",\"plot_bgcolor\":\"#F5F6F9\",\"template\":{\"data\":{\"barpolar\":[{\"marker\":{\"line\":{\"color\":\"#E5ECF6\",\"width\":0.5},\"pattern\":{\"fillmode\":\"overlay\",\"size\":10,\"solidity\":0.2}},\"type\":\"barpolar\"}],\"bar\":[{\"error_x\":{\"color\":\"#2a3f5f\"},\"error_y\":{\"color\":\"#2a3f5f\"},\"marker\":{\"line\":{\"color\":\"#E5ECF6\",\"width\":0.5},\"pattern\":{\"fillmode\":\"overlay\",\"size\":10,\"solidity\":0.2}},\"type\":\"bar\"}],\"carpet\":[{\"aaxis\":{\"endlinecolor\":\"#2a3f5f\",\"gridcolor\":\"white\",\"linecolor\":\"white\",\"minorgridcolor\":\"white\",\"startlinecolor\":\"#2a3f5f\"},\"baxis\":{\"endlinecolor\":\"#2a3f5f\",\"gridcolor\":\"white\",\"linecolor\":\"white\",\"minorgridcolor\":\"white\",\"startlinecolor\":\"#2a3f5f\"},\"type\":\"carpet\"}],\"choropleth\":[{\"colorbar\":{\"outlinewidth\":0,\"ticks\":\"\"},\"type\":\"choropleth\"}],\"contourcarpet\":[{\"colorbar\":{\"outlinewidth\":0,\"ticks\":\"\"},\"type\":\"contourcarpet\"}],\"contour\":[{\"colorbar\":{\"outlinewidth\":0,\"ticks\":\"\"},\"colorscale\":[[0.0,\"#0d0887\"],[0.1111111111111111,\"#46039f\"],[0.2222222222222222,\"#7201a8\"],[0.3333333333333333,\"#9c179e\"],[0.4444444444444444,\"#bd3786\"],[0.5555555555555556,\"#d8576b\"],[0.6666666666666666,\"#ed7953\"],[0.7777777777777778,\"#fb9f3a\"],[0.8888888888888888,\"#fdca26\"],[1.0,\"#f0f921\"]],\"type\":\"contour\"}],\"heatmapgl\":[{\"colorbar\":{\"outlinewidth\":0,\"ticks\":\"\"},\"colorscale\":[[0.0,\"#0d0887\"],[0.1111111111111111,\"#46039f\"],[0.2222222222222222,\"#7201a8\"],[0.3333333333333333,\"#9c179e\"],[0.4444444444444444,\"#bd3786\"],[0.5555555555555556,\"#d8576b\"],[0.6666666666666666,\"#ed7953\"],[0.7777777777777778,\"#fb9f3a\"],[0.8888888888888888,\"#fdca26\"],[1.0,\"#f0f921\"]],\"type\":\"heatmapgl\"}],\"heatmap\":[{\"colorbar\":{\"outlinewidth\":0,\"ticks\":\"\"},\"colorscale\":[[0.0,\"#0d0887\"],[0.1111111111111111,\"#46039f\"],[0.2222222222222222,\"#7201a8\"],[0.3333333333333333,\"#9c179e\"],[0.4444444444444444,\"#bd3786\"],[0.5555555555555556,\"#d8576b\"],[0.6666666666666666,\"#ed7953\"],[0.7777777777777778,\"#fb9f3a\"],[0.8888888888888888,\"#fdca26\"],[1.0,\"#f0f921\"]],\"type\":\"heatmap\"}],\"histogram2dcontour\":[{\"colorbar\":{\"outlinewidth\":0,\"ticks\":\"\"},\"colorscale\":[[0.0,\"#0d0887\"],[0.1111111111111111,\"#46039f\"],[0.2222222222222222,\"#7201a8\"],[0.3333333333333333,\"#9c179e\"],[0.4444444444444444,\"#bd3786\"],[0.5555555555555556,\"#d8576b\"],[0.6666666666666666,\"#ed7953\"],[0.7777777777777778,\"#fb9f3a\"],[0.8888888888888888,\"#fdca26\"],[1.0,\"#f0f921\"]],\"type\":\"histogram2dcontour\"}],\"histogram2d\":[{\"colorbar\":{\"outlinewidth\":0,\"ticks\":\"\"},\"colorscale\":[[0.0,\"#0d0887\"],[0.1111111111111111,\"#46039f\"],[0.2222222222222222,\"#7201a8\"],[0.3333333333333333,\"#9c179e\"],[0.4444444444444444,\"#bd3786\"],[0.5555555555555556,\"#d8576b\"],[0.6666666666666666,\"#ed7953\"],[0.7777777777777778,\"#fb9f3a\"],[0.8888888888888888,\"#fdca26\"],[1.0,\"#f0f921\"]],\"type\":\"histogram2d\"}],\"histogram\":[{\"marker\":{\"pattern\":{\"fillmode\":\"overlay\",\"size\":10,\"solidity\":0.2}},\"type\":\"histogram\"}],\"mesh3d\":[{\"colorbar\":{\"outlinewidth\":0,\"ticks\":\"\"},\"type\":\"mesh3d\"}],\"parcoords\":[{\"line\":{\"colorbar\":{\"outlinewidth\":0,\"ticks\":\"\"}},\"type\":\"parcoords\"}],\"pie\":[{\"automargin\":true,\"type\":\"pie\"}],\"scatter3d\":[{\"line\":{\"colorbar\":{\"outlinewidth\":0,\"ticks\":\"\"}},\"marker\":{\"colorbar\":{\"outlinewidth\":0,\"ticks\":\"\"}},\"type\":\"scatter3d\"}],\"scattercarpet\":[{\"marker\":{\"colorbar\":{\"outlinewidth\":0,\"ticks\":\"\"}},\"type\":\"scattercarpet\"}],\"scattergeo\":[{\"marker\":{\"colorbar\":{\"outlinewidth\":0,\"ticks\":\"\"}},\"type\":\"scattergeo\"}],\"scattergl\":[{\"marker\":{\"colorbar\":{\"outlinewidth\":0,\"ticks\":\"\"}},\"type\":\"scattergl\"}],\"scattermapbox\":[{\"marker\":{\"colorbar\":{\"outlinewidth\":0,\"ticks\":\"\"}},\"type\":\"scattermapbox\"}],\"scatterpolargl\":[{\"marker\":{\"colorbar\":{\"outlinewidth\":0,\"ticks\":\"\"}},\"type\":\"scatterpolargl\"}],\"scatterpolar\":[{\"marker\":{\"colorbar\":{\"outlinewidth\":0,\"ticks\":\"\"}},\"type\":\"scatterpolar\"}],\"scatter\":[{\"marker\":{\"colorbar\":{\"outlinewidth\":0,\"ticks\":\"\"}},\"type\":\"scatter\"}],\"scatterternary\":[{\"marker\":{\"colorbar\":{\"outlinewidth\":0,\"ticks\":\"\"}},\"type\":\"scatterternary\"}],\"surface\":[{\"colorbar\":{\"outlinewidth\":0,\"ticks\":\"\"},\"colorscale\":[[0.0,\"#0d0887\"],[0.1111111111111111,\"#46039f\"],[0.2222222222222222,\"#7201a8\"],[0.3333333333333333,\"#9c179e\"],[0.4444444444444444,\"#bd3786\"],[0.5555555555555556,\"#d8576b\"],[0.6666666666666666,\"#ed7953\"],[0.7777777777777778,\"#fb9f3a\"],[0.8888888888888888,\"#fdca26\"],[1.0,\"#f0f921\"]],\"type\":\"surface\"}],\"table\":[{\"cells\":{\"fill\":{\"color\":\"#EBF0F8\"},\"line\":{\"color\":\"white\"}},\"header\":{\"fill\":{\"color\":\"#C8D4E3\"},\"line\":{\"color\":\"white\"}},\"type\":\"table\"}]},\"layout\":{\"annotationdefaults\":{\"arrowcolor\":\"#2a3f5f\",\"arrowhead\":0,\"arrowwidth\":1},\"autotypenumbers\":\"strict\",\"coloraxis\":{\"colorbar\":{\"outlinewidth\":0,\"ticks\":\"\"}},\"colorscale\":{\"diverging\":[[0,\"#8e0152\"],[0.1,\"#c51b7d\"],[0.2,\"#de77ae\"],[0.3,\"#f1b6da\"],[0.4,\"#fde0ef\"],[0.5,\"#f7f7f7\"],[0.6,\"#e6f5d0\"],[0.7,\"#b8e186\"],[0.8,\"#7fbc41\"],[0.9,\"#4d9221\"],[1,\"#276419\"]],\"sequential\":[[0.0,\"#0d0887\"],[0.1111111111111111,\"#46039f\"],[0.2222222222222222,\"#7201a8\"],[0.3333333333333333,\"#9c179e\"],[0.4444444444444444,\"#bd3786\"],[0.5555555555555556,\"#d8576b\"],[0.6666666666666666,\"#ed7953\"],[0.7777777777777778,\"#fb9f3a\"],[0.8888888888888888,\"#fdca26\"],[1.0,\"#f0f921\"]],\"sequentialminus\":[[0.0,\"#0d0887\"],[0.1111111111111111,\"#46039f\"],[0.2222222222222222,\"#7201a8\"],[0.3333333333333333,\"#9c179e\"],[0.4444444444444444,\"#bd3786\"],[0.5555555555555556,\"#d8576b\"],[0.6666666666666666,\"#ed7953\"],[0.7777777777777778,\"#fb9f3a\"],[0.8888888888888888,\"#fdca26\"],[1.0,\"#f0f921\"]]},\"colorway\":[\"#636efa\",\"#EF553B\",\"#00cc96\",\"#ab63fa\",\"#FFA15A\",\"#19d3f3\",\"#FF6692\",\"#B6E880\",\"#FF97FF\",\"#FECB52\"],\"font\":{\"color\":\"#2a3f5f\"},\"geo\":{\"bgcolor\":\"white\",\"lakecolor\":\"white\",\"landcolor\":\"#E5ECF6\",\"showlakes\":true,\"showland\":true,\"subunitcolor\":\"white\"},\"hoverlabel\":{\"align\":\"left\"},\"hovermode\":\"closest\",\"mapbox\":{\"style\":\"light\"},\"paper_bgcolor\":\"white\",\"plot_bgcolor\":\"#E5ECF6\",\"polar\":{\"angularaxis\":{\"gridcolor\":\"white\",\"linecolor\":\"white\",\"ticks\":\"\"},\"bgcolor\":\"#E5ECF6\",\"radialaxis\":{\"gridcolor\":\"white\",\"linecolor\":\"white\",\"ticks\":\"\"}},\"scene\":{\"xaxis\":{\"backgroundcolor\":\"#E5ECF6\",\"gridcolor\":\"white\",\"gridwidth\":2,\"linecolor\":\"white\",\"showbackground\":true,\"ticks\":\"\",\"zerolinecolor\":\"white\"},\"yaxis\":{\"backgroundcolor\":\"#E5ECF6\",\"gridcolor\":\"white\",\"gridwidth\":2,\"linecolor\":\"white\",\"showbackground\":true,\"ticks\":\"\",\"zerolinecolor\":\"white\"},\"zaxis\":{\"backgroundcolor\":\"#E5ECF6\",\"gridcolor\":\"white\",\"gridwidth\":2,\"linecolor\":\"white\",\"showbackground\":true,\"ticks\":\"\",\"zerolinecolor\":\"white\"}},\"shapedefaults\":{\"line\":{\"color\":\"#2a3f5f\"}},\"ternary\":{\"aaxis\":{\"gridcolor\":\"white\",\"linecolor\":\"white\",\"ticks\":\"\"},\"baxis\":{\"gridcolor\":\"white\",\"linecolor\":\"white\",\"ticks\":\"\"},\"bgcolor\":\"#E5ECF6\",\"caxis\":{\"gridcolor\":\"white\",\"linecolor\":\"white\",\"ticks\":\"\"}},\"title\":{\"x\":0.05},\"xaxis\":{\"automargin\":true,\"gridcolor\":\"white\",\"linecolor\":\"white\",\"ticks\":\"\",\"title\":{\"standoff\":15},\"zerolinecolor\":\"white\",\"zerolinewidth\":2},\"yaxis\":{\"automargin\":true,\"gridcolor\":\"white\",\"linecolor\":\"white\",\"ticks\":\"\",\"title\":{\"standoff\":15},\"zerolinecolor\":\"white\",\"zerolinewidth\":2}}},\"title\":{\"font\":{\"color\":\"#4D5663\"}},\"xaxis\":{\"gridcolor\":\"#E1E5ED\",\"showgrid\":true,\"tickfont\":{\"color\":\"#4D5663\"},\"title\":{\"font\":{\"color\":\"#4D5663\"},\"text\":\"\"},\"zerolinecolor\":\"#E1E5ED\"},\"yaxis\":{\"gridcolor\":\"#E1E5ED\",\"showgrid\":true,\"tickfont\":{\"color\":\"#4D5663\"},\"title\":{\"font\":{\"color\":\"#4D5663\"},\"text\":\"\"},\"zerolinecolor\":\"#E1E5ED\"}},                        {\"showLink\": true, \"linkText\": \"Export to plot.ly\", \"plotlyServerURL\": \"https://plot.ly\", \"responsive\": true}                    ).then(function(){\n",
       "                            \n",
       "var gd = document.getElementById('61759645-3cec-4dbc-aa8e-e8e0ed7d616a');\n",
       "var x = new MutationObserver(function (mutations, observer) {{\n",
       "        var display = window.getComputedStyle(gd).display;\n",
       "        if (!display || display === 'none') {{\n",
       "            console.log([gd, 'removed!']);\n",
       "            Plotly.purge(gd);\n",
       "            observer.disconnect();\n",
       "        }}\n",
       "}});\n",
       "\n",
       "// Listen for the removal of the full notebook cells\n",
       "var notebookContainer = gd.closest('#notebook-container');\n",
       "if (notebookContainer) {{\n",
       "    x.observe(notebookContainer, {childList: true});\n",
       "}}\n",
       "\n",
       "// Listen for the clearing of the current output cell\n",
       "var outputEl = gd.closest('.output');\n",
       "if (outputEl) {{\n",
       "    x.observe(outputEl, {childList: true});\n",
       "}}\n",
       "\n",
       "                        })                };                });            </script>        </div>"
      ]
     },
     "metadata": {},
     "output_type": "display_data"
    }
   ],
   "source": [
    "df.iplot()"
   ]
  },
  {
   "cell_type": "code",
   "execution_count": 16,
   "metadata": {},
   "outputs": [
    {
     "data": {
      "application/vnd.plotly.v1+json": {
       "config": {
        "linkText": "Export to plot.ly",
        "plotlyServerURL": "https://plot.ly",
        "showLink": true
       },
       "data": [
        {
         "line": {
          "color": "rgba(255, 153, 51, 1.0)",
          "dash": "solid",
          "shape": "linear",
          "width": 1.3
         },
         "mode": "lines",
         "name": "B",
         "text": "",
         "type": "scatter",
         "x": [
          0.43576161330137125,
          0.0392002026600367,
          -0.0828096051226737,
          -0.06899993842236976,
          -0.7445185078343501,
          -0.5818104718774442,
          0.20812256881462257,
          1.5771047203879411,
          -0.6229410571707626,
          -0.2542553127090784,
          -0.8616883603461633,
          -0.6882323696812119,
          1.6091381292540365,
          -0.08960730935903875,
          1.477667203229447,
          -1.1289770047232348,
          -0.37757591613281366,
          -0.9555659233157126,
          -0.8716190463369677,
          2.3343739223771967,
          -0.5804185512560397,
          -0.34512219064872196,
          1.0009426139151563,
          -0.03638635948039409,
          -0.4795511213004423,
          -0.38710379078114443,
          -0.5982291373045885,
          0.8057103455189922,
          0.07653649862068276,
          1.8789206942278476,
          -1.9870408379249231,
          -1.2534934267964573,
          1.1424388929052163,
          -0.19667780218489977,
          0.6672725785699418,
          0.22197020125418726,
          0.40375610544655427,
          0.790455120710436,
          0.47759724675807447,
          1.188441738310553,
          2.5966130677908876,
          -0.6307284045262942,
          0.07962977335776215,
          0.3075091604528683,
          -1.4964756673073725,
          -0.12521366306897264,
          -1.2358732389987421,
          -0.2360811692397413,
          -2.282498392530906,
          0.7428373771981449,
          -0.6288414109073985,
          0.6230290519320041,
          0.716991257672416,
          0.2741062424132256,
          0.9315691700047641,
          2.246444132120593,
          -0.09798021170589394,
          -1.4133581682943,
          0.27061743914078784,
          0.5896664688392396,
          0.049326040185358244,
          -1.6878301432568965,
          -2.048608617619134,
          0.44524418456960363,
          -0.9380811961782093,
          -1.88596316407578,
          0.6201094070399932,
          -1.5569988864741955,
          -0.5969142673083347,
          1.7125329163547705,
          2.0185871649641642,
          -1.2330424798204571,
          1.2660998430994834,
          0.4475507802687231,
          -0.808620887480285,
          -0.17552478952105183,
          -1.0126133692310482,
          -3.675695561961809,
          0.028560931347580483,
          1.92983422047473,
          0.35556609859758814,
          -0.06511288145789168,
          -0.25838345482305736,
          -1.2400752553123529,
          -0.34078316151973576,
          0.5430289046145775,
          -0.8056959136889844,
          1.6300090038319708,
          0.1558133548094795,
          0.09620023351258908,
          -0.7846317882449255,
          -2.5182101025471333,
          0.5562799597495309,
          0.16046651940046647,
          -0.21954404954103748,
          -0.32808367130031724,
          0.7209387084058826,
          -0.0345397981985188,
          -0.09495490706369364,
          -0.8910145283144787
         ],
         "y": [
          0.7470965589601339,
          -1.5219044668573725,
          -0.09809943298661565,
          -1.250222948666942,
          -0.698474158306239,
          0.9150731563300875,
          -1.7165979226019592,
          -1.2451154557852744,
          -0.4204666686443543,
          -0.0012794767147798895,
          -0.261186490901393,
          -0.3538924472485142,
          1.9908666564163198,
          0.851133799942738,
          1.5852483356617322,
          0.9124402543743519,
          0.5349719533559576,
          -0.7486594206111689,
          0.4215163263542885,
          -0.477420154232497,
          0.7682913569156996,
          1.1072895097909077,
          2.054407350902693,
          1.6175776756957496,
          0.5611477786926051,
          1.4031946166589802,
          -1.0167138268528113,
          0.19646954503078082,
          0.945974554393974,
          0.9408949156430599,
          1.1413517627554308,
          -0.1357448260510389,
          -0.04351760173125842,
          -0.8512903450571877,
          0.91744346009552,
          -0.1542511662085185,
          0.7063318506651899,
          -0.3031156931539478,
          -1.6443563957714007,
          1.2650837687557859,
          -0.8311250713611842,
          0.13834368861202084,
          0.31895857306174547,
          -0.5449946250740695,
          -3.262605243961339,
          -1.418654021604739,
          1.7861024688943528,
          0.6224571859649373,
          0.09101051584656397,
          0.6521919226727627,
          1.3058238267837332,
          -1.0018932539119865,
          0.36743339504271666,
          0.7195461980329014,
          -0.7852233456105248,
          -0.5934846408673413,
          -1.8222702027000843,
          -0.6168587967023298,
          -0.5414383002922646,
          -0.5421020917700555,
          0.12406293568327871,
          2.325695325282169,
          -0.3056098266005972,
          -1.2400002200650149,
          -0.7547227374480309,
          0.053572223237500154,
          1.209431097011376,
          2.2161223547948716,
          -0.42419252357043197,
          0.47008337374490233,
          -1.2385983525496629,
          0.4083282423594256,
          1.1018396289990668,
          -1.3439267263174357,
          -1.2148010375833018,
          1.378503549128289,
          -0.865442571080681,
          1.4981255490911167,
          0.5268652709491807,
          -0.5864705000603173,
          -0.03251046298779092,
          -1.657971247262324,
          0.5387740305912381,
          0.33891930104974144,
          -0.017631905464170265,
          0.235035832459136,
          -0.22302903550297953,
          -0.42911270255814304,
          0.45012009799066305,
          -0.9780296593173486,
          -0.11851579616469118,
          1.047681204062073,
          0.9889001376060471,
          1.3966008775466294,
          0.09077097106105908,
          1.3376388975447437,
          -0.2036133802195914,
          -0.11638871633048702,
          -0.054452121594433106,
          0.382117572004654
         ]
        }
       ],
       "layout": {
        "legend": {
         "bgcolor": "#F5F6F9",
         "font": {
          "color": "#4D5663"
         }
        },
        "paper_bgcolor": "#F5F6F9",
        "plot_bgcolor": "#F5F6F9",
        "template": {
         "data": {
          "bar": [
           {
            "error_x": {
             "color": "#2a3f5f"
            },
            "error_y": {
             "color": "#2a3f5f"
            },
            "marker": {
             "line": {
              "color": "#E5ECF6",
              "width": 0.5
             },
             "pattern": {
              "fillmode": "overlay",
              "size": 10,
              "solidity": 0.2
             }
            },
            "type": "bar"
           }
          ],
          "barpolar": [
           {
            "marker": {
             "line": {
              "color": "#E5ECF6",
              "width": 0.5
             },
             "pattern": {
              "fillmode": "overlay",
              "size": 10,
              "solidity": 0.2
             }
            },
            "type": "barpolar"
           }
          ],
          "carpet": [
           {
            "aaxis": {
             "endlinecolor": "#2a3f5f",
             "gridcolor": "white",
             "linecolor": "white",
             "minorgridcolor": "white",
             "startlinecolor": "#2a3f5f"
            },
            "baxis": {
             "endlinecolor": "#2a3f5f",
             "gridcolor": "white",
             "linecolor": "white",
             "minorgridcolor": "white",
             "startlinecolor": "#2a3f5f"
            },
            "type": "carpet"
           }
          ],
          "choropleth": [
           {
            "colorbar": {
             "outlinewidth": 0,
             "ticks": ""
            },
            "type": "choropleth"
           }
          ],
          "contour": [
           {
            "colorbar": {
             "outlinewidth": 0,
             "ticks": ""
            },
            "colorscale": [
             [
              0,
              "#0d0887"
             ],
             [
              0.1111111111111111,
              "#46039f"
             ],
             [
              0.2222222222222222,
              "#7201a8"
             ],
             [
              0.3333333333333333,
              "#9c179e"
             ],
             [
              0.4444444444444444,
              "#bd3786"
             ],
             [
              0.5555555555555556,
              "#d8576b"
             ],
             [
              0.6666666666666666,
              "#ed7953"
             ],
             [
              0.7777777777777778,
              "#fb9f3a"
             ],
             [
              0.8888888888888888,
              "#fdca26"
             ],
             [
              1,
              "#f0f921"
             ]
            ],
            "type": "contour"
           }
          ],
          "contourcarpet": [
           {
            "colorbar": {
             "outlinewidth": 0,
             "ticks": ""
            },
            "type": "contourcarpet"
           }
          ],
          "heatmap": [
           {
            "colorbar": {
             "outlinewidth": 0,
             "ticks": ""
            },
            "colorscale": [
             [
              0,
              "#0d0887"
             ],
             [
              0.1111111111111111,
              "#46039f"
             ],
             [
              0.2222222222222222,
              "#7201a8"
             ],
             [
              0.3333333333333333,
              "#9c179e"
             ],
             [
              0.4444444444444444,
              "#bd3786"
             ],
             [
              0.5555555555555556,
              "#d8576b"
             ],
             [
              0.6666666666666666,
              "#ed7953"
             ],
             [
              0.7777777777777778,
              "#fb9f3a"
             ],
             [
              0.8888888888888888,
              "#fdca26"
             ],
             [
              1,
              "#f0f921"
             ]
            ],
            "type": "heatmap"
           }
          ],
          "heatmapgl": [
           {
            "colorbar": {
             "outlinewidth": 0,
             "ticks": ""
            },
            "colorscale": [
             [
              0,
              "#0d0887"
             ],
             [
              0.1111111111111111,
              "#46039f"
             ],
             [
              0.2222222222222222,
              "#7201a8"
             ],
             [
              0.3333333333333333,
              "#9c179e"
             ],
             [
              0.4444444444444444,
              "#bd3786"
             ],
             [
              0.5555555555555556,
              "#d8576b"
             ],
             [
              0.6666666666666666,
              "#ed7953"
             ],
             [
              0.7777777777777778,
              "#fb9f3a"
             ],
             [
              0.8888888888888888,
              "#fdca26"
             ],
             [
              1,
              "#f0f921"
             ]
            ],
            "type": "heatmapgl"
           }
          ],
          "histogram": [
           {
            "marker": {
             "pattern": {
              "fillmode": "overlay",
              "size": 10,
              "solidity": 0.2
             }
            },
            "type": "histogram"
           }
          ],
          "histogram2d": [
           {
            "colorbar": {
             "outlinewidth": 0,
             "ticks": ""
            },
            "colorscale": [
             [
              0,
              "#0d0887"
             ],
             [
              0.1111111111111111,
              "#46039f"
             ],
             [
              0.2222222222222222,
              "#7201a8"
             ],
             [
              0.3333333333333333,
              "#9c179e"
             ],
             [
              0.4444444444444444,
              "#bd3786"
             ],
             [
              0.5555555555555556,
              "#d8576b"
             ],
             [
              0.6666666666666666,
              "#ed7953"
             ],
             [
              0.7777777777777778,
              "#fb9f3a"
             ],
             [
              0.8888888888888888,
              "#fdca26"
             ],
             [
              1,
              "#f0f921"
             ]
            ],
            "type": "histogram2d"
           }
          ],
          "histogram2dcontour": [
           {
            "colorbar": {
             "outlinewidth": 0,
             "ticks": ""
            },
            "colorscale": [
             [
              0,
              "#0d0887"
             ],
             [
              0.1111111111111111,
              "#46039f"
             ],
             [
              0.2222222222222222,
              "#7201a8"
             ],
             [
              0.3333333333333333,
              "#9c179e"
             ],
             [
              0.4444444444444444,
              "#bd3786"
             ],
             [
              0.5555555555555556,
              "#d8576b"
             ],
             [
              0.6666666666666666,
              "#ed7953"
             ],
             [
              0.7777777777777778,
              "#fb9f3a"
             ],
             [
              0.8888888888888888,
              "#fdca26"
             ],
             [
              1,
              "#f0f921"
             ]
            ],
            "type": "histogram2dcontour"
           }
          ],
          "mesh3d": [
           {
            "colorbar": {
             "outlinewidth": 0,
             "ticks": ""
            },
            "type": "mesh3d"
           }
          ],
          "parcoords": [
           {
            "line": {
             "colorbar": {
              "outlinewidth": 0,
              "ticks": ""
             }
            },
            "type": "parcoords"
           }
          ],
          "pie": [
           {
            "automargin": true,
            "type": "pie"
           }
          ],
          "scatter": [
           {
            "marker": {
             "colorbar": {
              "outlinewidth": 0,
              "ticks": ""
             }
            },
            "type": "scatter"
           }
          ],
          "scatter3d": [
           {
            "line": {
             "colorbar": {
              "outlinewidth": 0,
              "ticks": ""
             }
            },
            "marker": {
             "colorbar": {
              "outlinewidth": 0,
              "ticks": ""
             }
            },
            "type": "scatter3d"
           }
          ],
          "scattercarpet": [
           {
            "marker": {
             "colorbar": {
              "outlinewidth": 0,
              "ticks": ""
             }
            },
            "type": "scattercarpet"
           }
          ],
          "scattergeo": [
           {
            "marker": {
             "colorbar": {
              "outlinewidth": 0,
              "ticks": ""
             }
            },
            "type": "scattergeo"
           }
          ],
          "scattergl": [
           {
            "marker": {
             "colorbar": {
              "outlinewidth": 0,
              "ticks": ""
             }
            },
            "type": "scattergl"
           }
          ],
          "scattermapbox": [
           {
            "marker": {
             "colorbar": {
              "outlinewidth": 0,
              "ticks": ""
             }
            },
            "type": "scattermapbox"
           }
          ],
          "scatterpolar": [
           {
            "marker": {
             "colorbar": {
              "outlinewidth": 0,
              "ticks": ""
             }
            },
            "type": "scatterpolar"
           }
          ],
          "scatterpolargl": [
           {
            "marker": {
             "colorbar": {
              "outlinewidth": 0,
              "ticks": ""
             }
            },
            "type": "scatterpolargl"
           }
          ],
          "scatterternary": [
           {
            "marker": {
             "colorbar": {
              "outlinewidth": 0,
              "ticks": ""
             }
            },
            "type": "scatterternary"
           }
          ],
          "surface": [
           {
            "colorbar": {
             "outlinewidth": 0,
             "ticks": ""
            },
            "colorscale": [
             [
              0,
              "#0d0887"
             ],
             [
              0.1111111111111111,
              "#46039f"
             ],
             [
              0.2222222222222222,
              "#7201a8"
             ],
             [
              0.3333333333333333,
              "#9c179e"
             ],
             [
              0.4444444444444444,
              "#bd3786"
             ],
             [
              0.5555555555555556,
              "#d8576b"
             ],
             [
              0.6666666666666666,
              "#ed7953"
             ],
             [
              0.7777777777777778,
              "#fb9f3a"
             ],
             [
              0.8888888888888888,
              "#fdca26"
             ],
             [
              1,
              "#f0f921"
             ]
            ],
            "type": "surface"
           }
          ],
          "table": [
           {
            "cells": {
             "fill": {
              "color": "#EBF0F8"
             },
             "line": {
              "color": "white"
             }
            },
            "header": {
             "fill": {
              "color": "#C8D4E3"
             },
             "line": {
              "color": "white"
             }
            },
            "type": "table"
           }
          ]
         },
         "layout": {
          "annotationdefaults": {
           "arrowcolor": "#2a3f5f",
           "arrowhead": 0,
           "arrowwidth": 1
          },
          "autotypenumbers": "strict",
          "coloraxis": {
           "colorbar": {
            "outlinewidth": 0,
            "ticks": ""
           }
          },
          "colorscale": {
           "diverging": [
            [
             0,
             "#8e0152"
            ],
            [
             0.1,
             "#c51b7d"
            ],
            [
             0.2,
             "#de77ae"
            ],
            [
             0.3,
             "#f1b6da"
            ],
            [
             0.4,
             "#fde0ef"
            ],
            [
             0.5,
             "#f7f7f7"
            ],
            [
             0.6,
             "#e6f5d0"
            ],
            [
             0.7,
             "#b8e186"
            ],
            [
             0.8,
             "#7fbc41"
            ],
            [
             0.9,
             "#4d9221"
            ],
            [
             1,
             "#276419"
            ]
           ],
           "sequential": [
            [
             0,
             "#0d0887"
            ],
            [
             0.1111111111111111,
             "#46039f"
            ],
            [
             0.2222222222222222,
             "#7201a8"
            ],
            [
             0.3333333333333333,
             "#9c179e"
            ],
            [
             0.4444444444444444,
             "#bd3786"
            ],
            [
             0.5555555555555556,
             "#d8576b"
            ],
            [
             0.6666666666666666,
             "#ed7953"
            ],
            [
             0.7777777777777778,
             "#fb9f3a"
            ],
            [
             0.8888888888888888,
             "#fdca26"
            ],
            [
             1,
             "#f0f921"
            ]
           ],
           "sequentialminus": [
            [
             0,
             "#0d0887"
            ],
            [
             0.1111111111111111,
             "#46039f"
            ],
            [
             0.2222222222222222,
             "#7201a8"
            ],
            [
             0.3333333333333333,
             "#9c179e"
            ],
            [
             0.4444444444444444,
             "#bd3786"
            ],
            [
             0.5555555555555556,
             "#d8576b"
            ],
            [
             0.6666666666666666,
             "#ed7953"
            ],
            [
             0.7777777777777778,
             "#fb9f3a"
            ],
            [
             0.8888888888888888,
             "#fdca26"
            ],
            [
             1,
             "#f0f921"
            ]
           ]
          },
          "colorway": [
           "#636efa",
           "#EF553B",
           "#00cc96",
           "#ab63fa",
           "#FFA15A",
           "#19d3f3",
           "#FF6692",
           "#B6E880",
           "#FF97FF",
           "#FECB52"
          ],
          "font": {
           "color": "#2a3f5f"
          },
          "geo": {
           "bgcolor": "white",
           "lakecolor": "white",
           "landcolor": "#E5ECF6",
           "showlakes": true,
           "showland": true,
           "subunitcolor": "white"
          },
          "hoverlabel": {
           "align": "left"
          },
          "hovermode": "closest",
          "mapbox": {
           "style": "light"
          },
          "paper_bgcolor": "white",
          "plot_bgcolor": "#E5ECF6",
          "polar": {
           "angularaxis": {
            "gridcolor": "white",
            "linecolor": "white",
            "ticks": ""
           },
           "bgcolor": "#E5ECF6",
           "radialaxis": {
            "gridcolor": "white",
            "linecolor": "white",
            "ticks": ""
           }
          },
          "scene": {
           "xaxis": {
            "backgroundcolor": "#E5ECF6",
            "gridcolor": "white",
            "gridwidth": 2,
            "linecolor": "white",
            "showbackground": true,
            "ticks": "",
            "zerolinecolor": "white"
           },
           "yaxis": {
            "backgroundcolor": "#E5ECF6",
            "gridcolor": "white",
            "gridwidth": 2,
            "linecolor": "white",
            "showbackground": true,
            "ticks": "",
            "zerolinecolor": "white"
           },
           "zaxis": {
            "backgroundcolor": "#E5ECF6",
            "gridcolor": "white",
            "gridwidth": 2,
            "linecolor": "white",
            "showbackground": true,
            "ticks": "",
            "zerolinecolor": "white"
           }
          },
          "shapedefaults": {
           "line": {
            "color": "#2a3f5f"
           }
          },
          "ternary": {
           "aaxis": {
            "gridcolor": "white",
            "linecolor": "white",
            "ticks": ""
           },
           "baxis": {
            "gridcolor": "white",
            "linecolor": "white",
            "ticks": ""
           },
           "bgcolor": "#E5ECF6",
           "caxis": {
            "gridcolor": "white",
            "linecolor": "white",
            "ticks": ""
           }
          },
          "title": {
           "x": 0.05
          },
          "xaxis": {
           "automargin": true,
           "gridcolor": "white",
           "linecolor": "white",
           "ticks": "",
           "title": {
            "standoff": 15
           },
           "zerolinecolor": "white",
           "zerolinewidth": 2
          },
          "yaxis": {
           "automargin": true,
           "gridcolor": "white",
           "linecolor": "white",
           "ticks": "",
           "title": {
            "standoff": 15
           },
           "zerolinecolor": "white",
           "zerolinewidth": 2
          }
         }
        },
        "title": {
         "font": {
          "color": "#4D5663"
         }
        },
        "xaxis": {
         "gridcolor": "#E1E5ED",
         "showgrid": true,
         "tickfont": {
          "color": "#4D5663"
         },
         "title": {
          "font": {
           "color": "#4D5663"
          },
          "text": ""
         },
         "zerolinecolor": "#E1E5ED"
        },
        "yaxis": {
         "gridcolor": "#E1E5ED",
         "showgrid": true,
         "tickfont": {
          "color": "#4D5663"
         },
         "title": {
          "font": {
           "color": "#4D5663"
          },
          "text": ""
         },
         "zerolinecolor": "#E1E5ED"
        }
       }
      },
      "text/html": [
       "<div>                            <div id=\"26bf725d-0e17-40c3-8286-667518765a4c\" class=\"plotly-graph-div\" style=\"height:525px; width:100%;\"></div>            <script type=\"text/javascript\">                require([\"plotly\"], function(Plotly) {                    window.PLOTLYENV=window.PLOTLYENV || {};\n",
       "                    window.PLOTLYENV.BASE_URL='https://plot.ly';                                    if (document.getElementById(\"26bf725d-0e17-40c3-8286-667518765a4c\")) {                    Plotly.newPlot(                        \"26bf725d-0e17-40c3-8286-667518765a4c\",                        [{\"line\":{\"color\":\"rgba(255, 153, 51, 1.0)\",\"dash\":\"solid\",\"shape\":\"linear\",\"width\":1.3},\"mode\":\"lines\",\"name\":\"B\",\"text\":\"\",\"x\":[0.43576161330137125,0.0392002026600367,-0.0828096051226737,-0.06899993842236976,-0.7445185078343501,-0.5818104718774442,0.20812256881462257,1.5771047203879411,-0.6229410571707626,-0.2542553127090784,-0.8616883603461633,-0.6882323696812119,1.6091381292540365,-0.08960730935903875,1.477667203229447,-1.1289770047232348,-0.37757591613281366,-0.9555659233157126,-0.8716190463369677,2.3343739223771967,-0.5804185512560397,-0.34512219064872196,1.0009426139151563,-0.03638635948039409,-0.4795511213004423,-0.38710379078114443,-0.5982291373045885,0.8057103455189922,0.07653649862068276,1.8789206942278476,-1.9870408379249231,-1.2534934267964573,1.1424388929052163,-0.19667780218489977,0.6672725785699418,0.22197020125418726,0.40375610544655427,0.790455120710436,0.47759724675807447,1.188441738310553,2.5966130677908876,-0.6307284045262942,0.07962977335776215,0.3075091604528683,-1.4964756673073725,-0.12521366306897264,-1.2358732389987421,-0.2360811692397413,-2.282498392530906,0.7428373771981449,-0.6288414109073985,0.6230290519320041,0.716991257672416,0.2741062424132256,0.9315691700047641,2.246444132120593,-0.09798021170589394,-1.4133581682943,0.27061743914078784,0.5896664688392396,0.049326040185358244,-1.6878301432568965,-2.048608617619134,0.44524418456960363,-0.9380811961782093,-1.88596316407578,0.6201094070399932,-1.5569988864741955,-0.5969142673083347,1.7125329163547705,2.0185871649641642,-1.2330424798204571,1.2660998430994834,0.4475507802687231,-0.808620887480285,-0.17552478952105183,-1.0126133692310482,-3.675695561961809,0.028560931347580483,1.92983422047473,0.35556609859758814,-0.06511288145789168,-0.25838345482305736,-1.2400752553123529,-0.34078316151973576,0.5430289046145775,-0.8056959136889844,1.6300090038319708,0.1558133548094795,0.09620023351258908,-0.7846317882449255,-2.5182101025471333,0.5562799597495309,0.16046651940046647,-0.21954404954103748,-0.32808367130031724,0.7209387084058826,-0.0345397981985188,-0.09495490706369364,-0.8910145283144787],\"y\":[0.7470965589601339,-1.5219044668573725,-0.09809943298661565,-1.250222948666942,-0.698474158306239,0.9150731563300875,-1.7165979226019592,-1.2451154557852744,-0.4204666686443543,-0.0012794767147798895,-0.261186490901393,-0.3538924472485142,1.9908666564163198,0.851133799942738,1.5852483356617322,0.9124402543743519,0.5349719533559576,-0.7486594206111689,0.4215163263542885,-0.477420154232497,0.7682913569156996,1.1072895097909077,2.054407350902693,1.6175776756957496,0.5611477786926051,1.4031946166589802,-1.0167138268528113,0.19646954503078082,0.945974554393974,0.9408949156430599,1.1413517627554308,-0.1357448260510389,-0.04351760173125842,-0.8512903450571877,0.91744346009552,-0.1542511662085185,0.7063318506651899,-0.3031156931539478,-1.6443563957714007,1.2650837687557859,-0.8311250713611842,0.13834368861202084,0.31895857306174547,-0.5449946250740695,-3.262605243961339,-1.418654021604739,1.7861024688943528,0.6224571859649373,0.09101051584656397,0.6521919226727627,1.3058238267837332,-1.0018932539119865,0.36743339504271666,0.7195461980329014,-0.7852233456105248,-0.5934846408673413,-1.8222702027000843,-0.6168587967023298,-0.5414383002922646,-0.5421020917700555,0.12406293568327871,2.325695325282169,-0.3056098266005972,-1.2400002200650149,-0.7547227374480309,0.053572223237500154,1.209431097011376,2.2161223547948716,-0.42419252357043197,0.47008337374490233,-1.2385983525496629,0.4083282423594256,1.1018396289990668,-1.3439267263174357,-1.2148010375833018,1.378503549128289,-0.865442571080681,1.4981255490911167,0.5268652709491807,-0.5864705000603173,-0.03251046298779092,-1.657971247262324,0.5387740305912381,0.33891930104974144,-0.017631905464170265,0.235035832459136,-0.22302903550297953,-0.42911270255814304,0.45012009799066305,-0.9780296593173486,-0.11851579616469118,1.047681204062073,0.9889001376060471,1.3966008775466294,0.09077097106105908,1.3376388975447437,-0.2036133802195914,-0.11638871633048702,-0.054452121594433106,0.382117572004654],\"type\":\"scatter\"}],                        {\"legend\":{\"bgcolor\":\"#F5F6F9\",\"font\":{\"color\":\"#4D5663\"}},\"paper_bgcolor\":\"#F5F6F9\",\"plot_bgcolor\":\"#F5F6F9\",\"template\":{\"data\":{\"barpolar\":[{\"marker\":{\"line\":{\"color\":\"#E5ECF6\",\"width\":0.5},\"pattern\":{\"fillmode\":\"overlay\",\"size\":10,\"solidity\":0.2}},\"type\":\"barpolar\"}],\"bar\":[{\"error_x\":{\"color\":\"#2a3f5f\"},\"error_y\":{\"color\":\"#2a3f5f\"},\"marker\":{\"line\":{\"color\":\"#E5ECF6\",\"width\":0.5},\"pattern\":{\"fillmode\":\"overlay\",\"size\":10,\"solidity\":0.2}},\"type\":\"bar\"}],\"carpet\":[{\"aaxis\":{\"endlinecolor\":\"#2a3f5f\",\"gridcolor\":\"white\",\"linecolor\":\"white\",\"minorgridcolor\":\"white\",\"startlinecolor\":\"#2a3f5f\"},\"baxis\":{\"endlinecolor\":\"#2a3f5f\",\"gridcolor\":\"white\",\"linecolor\":\"white\",\"minorgridcolor\":\"white\",\"startlinecolor\":\"#2a3f5f\"},\"type\":\"carpet\"}],\"choropleth\":[{\"colorbar\":{\"outlinewidth\":0,\"ticks\":\"\"},\"type\":\"choropleth\"}],\"contourcarpet\":[{\"colorbar\":{\"outlinewidth\":0,\"ticks\":\"\"},\"type\":\"contourcarpet\"}],\"contour\":[{\"colorbar\":{\"outlinewidth\":0,\"ticks\":\"\"},\"colorscale\":[[0.0,\"#0d0887\"],[0.1111111111111111,\"#46039f\"],[0.2222222222222222,\"#7201a8\"],[0.3333333333333333,\"#9c179e\"],[0.4444444444444444,\"#bd3786\"],[0.5555555555555556,\"#d8576b\"],[0.6666666666666666,\"#ed7953\"],[0.7777777777777778,\"#fb9f3a\"],[0.8888888888888888,\"#fdca26\"],[1.0,\"#f0f921\"]],\"type\":\"contour\"}],\"heatmapgl\":[{\"colorbar\":{\"outlinewidth\":0,\"ticks\":\"\"},\"colorscale\":[[0.0,\"#0d0887\"],[0.1111111111111111,\"#46039f\"],[0.2222222222222222,\"#7201a8\"],[0.3333333333333333,\"#9c179e\"],[0.4444444444444444,\"#bd3786\"],[0.5555555555555556,\"#d8576b\"],[0.6666666666666666,\"#ed7953\"],[0.7777777777777778,\"#fb9f3a\"],[0.8888888888888888,\"#fdca26\"],[1.0,\"#f0f921\"]],\"type\":\"heatmapgl\"}],\"heatmap\":[{\"colorbar\":{\"outlinewidth\":0,\"ticks\":\"\"},\"colorscale\":[[0.0,\"#0d0887\"],[0.1111111111111111,\"#46039f\"],[0.2222222222222222,\"#7201a8\"],[0.3333333333333333,\"#9c179e\"],[0.4444444444444444,\"#bd3786\"],[0.5555555555555556,\"#d8576b\"],[0.6666666666666666,\"#ed7953\"],[0.7777777777777778,\"#fb9f3a\"],[0.8888888888888888,\"#fdca26\"],[1.0,\"#f0f921\"]],\"type\":\"heatmap\"}],\"histogram2dcontour\":[{\"colorbar\":{\"outlinewidth\":0,\"ticks\":\"\"},\"colorscale\":[[0.0,\"#0d0887\"],[0.1111111111111111,\"#46039f\"],[0.2222222222222222,\"#7201a8\"],[0.3333333333333333,\"#9c179e\"],[0.4444444444444444,\"#bd3786\"],[0.5555555555555556,\"#d8576b\"],[0.6666666666666666,\"#ed7953\"],[0.7777777777777778,\"#fb9f3a\"],[0.8888888888888888,\"#fdca26\"],[1.0,\"#f0f921\"]],\"type\":\"histogram2dcontour\"}],\"histogram2d\":[{\"colorbar\":{\"outlinewidth\":0,\"ticks\":\"\"},\"colorscale\":[[0.0,\"#0d0887\"],[0.1111111111111111,\"#46039f\"],[0.2222222222222222,\"#7201a8\"],[0.3333333333333333,\"#9c179e\"],[0.4444444444444444,\"#bd3786\"],[0.5555555555555556,\"#d8576b\"],[0.6666666666666666,\"#ed7953\"],[0.7777777777777778,\"#fb9f3a\"],[0.8888888888888888,\"#fdca26\"],[1.0,\"#f0f921\"]],\"type\":\"histogram2d\"}],\"histogram\":[{\"marker\":{\"pattern\":{\"fillmode\":\"overlay\",\"size\":10,\"solidity\":0.2}},\"type\":\"histogram\"}],\"mesh3d\":[{\"colorbar\":{\"outlinewidth\":0,\"ticks\":\"\"},\"type\":\"mesh3d\"}],\"parcoords\":[{\"line\":{\"colorbar\":{\"outlinewidth\":0,\"ticks\":\"\"}},\"type\":\"parcoords\"}],\"pie\":[{\"automargin\":true,\"type\":\"pie\"}],\"scatter3d\":[{\"line\":{\"colorbar\":{\"outlinewidth\":0,\"ticks\":\"\"}},\"marker\":{\"colorbar\":{\"outlinewidth\":0,\"ticks\":\"\"}},\"type\":\"scatter3d\"}],\"scattercarpet\":[{\"marker\":{\"colorbar\":{\"outlinewidth\":0,\"ticks\":\"\"}},\"type\":\"scattercarpet\"}],\"scattergeo\":[{\"marker\":{\"colorbar\":{\"outlinewidth\":0,\"ticks\":\"\"}},\"type\":\"scattergeo\"}],\"scattergl\":[{\"marker\":{\"colorbar\":{\"outlinewidth\":0,\"ticks\":\"\"}},\"type\":\"scattergl\"}],\"scattermapbox\":[{\"marker\":{\"colorbar\":{\"outlinewidth\":0,\"ticks\":\"\"}},\"type\":\"scattermapbox\"}],\"scatterpolargl\":[{\"marker\":{\"colorbar\":{\"outlinewidth\":0,\"ticks\":\"\"}},\"type\":\"scatterpolargl\"}],\"scatterpolar\":[{\"marker\":{\"colorbar\":{\"outlinewidth\":0,\"ticks\":\"\"}},\"type\":\"scatterpolar\"}],\"scatter\":[{\"marker\":{\"colorbar\":{\"outlinewidth\":0,\"ticks\":\"\"}},\"type\":\"scatter\"}],\"scatterternary\":[{\"marker\":{\"colorbar\":{\"outlinewidth\":0,\"ticks\":\"\"}},\"type\":\"scatterternary\"}],\"surface\":[{\"colorbar\":{\"outlinewidth\":0,\"ticks\":\"\"},\"colorscale\":[[0.0,\"#0d0887\"],[0.1111111111111111,\"#46039f\"],[0.2222222222222222,\"#7201a8\"],[0.3333333333333333,\"#9c179e\"],[0.4444444444444444,\"#bd3786\"],[0.5555555555555556,\"#d8576b\"],[0.6666666666666666,\"#ed7953\"],[0.7777777777777778,\"#fb9f3a\"],[0.8888888888888888,\"#fdca26\"],[1.0,\"#f0f921\"]],\"type\":\"surface\"}],\"table\":[{\"cells\":{\"fill\":{\"color\":\"#EBF0F8\"},\"line\":{\"color\":\"white\"}},\"header\":{\"fill\":{\"color\":\"#C8D4E3\"},\"line\":{\"color\":\"white\"}},\"type\":\"table\"}]},\"layout\":{\"annotationdefaults\":{\"arrowcolor\":\"#2a3f5f\",\"arrowhead\":0,\"arrowwidth\":1},\"autotypenumbers\":\"strict\",\"coloraxis\":{\"colorbar\":{\"outlinewidth\":0,\"ticks\":\"\"}},\"colorscale\":{\"diverging\":[[0,\"#8e0152\"],[0.1,\"#c51b7d\"],[0.2,\"#de77ae\"],[0.3,\"#f1b6da\"],[0.4,\"#fde0ef\"],[0.5,\"#f7f7f7\"],[0.6,\"#e6f5d0\"],[0.7,\"#b8e186\"],[0.8,\"#7fbc41\"],[0.9,\"#4d9221\"],[1,\"#276419\"]],\"sequential\":[[0.0,\"#0d0887\"],[0.1111111111111111,\"#46039f\"],[0.2222222222222222,\"#7201a8\"],[0.3333333333333333,\"#9c179e\"],[0.4444444444444444,\"#bd3786\"],[0.5555555555555556,\"#d8576b\"],[0.6666666666666666,\"#ed7953\"],[0.7777777777777778,\"#fb9f3a\"],[0.8888888888888888,\"#fdca26\"],[1.0,\"#f0f921\"]],\"sequentialminus\":[[0.0,\"#0d0887\"],[0.1111111111111111,\"#46039f\"],[0.2222222222222222,\"#7201a8\"],[0.3333333333333333,\"#9c179e\"],[0.4444444444444444,\"#bd3786\"],[0.5555555555555556,\"#d8576b\"],[0.6666666666666666,\"#ed7953\"],[0.7777777777777778,\"#fb9f3a\"],[0.8888888888888888,\"#fdca26\"],[1.0,\"#f0f921\"]]},\"colorway\":[\"#636efa\",\"#EF553B\",\"#00cc96\",\"#ab63fa\",\"#FFA15A\",\"#19d3f3\",\"#FF6692\",\"#B6E880\",\"#FF97FF\",\"#FECB52\"],\"font\":{\"color\":\"#2a3f5f\"},\"geo\":{\"bgcolor\":\"white\",\"lakecolor\":\"white\",\"landcolor\":\"#E5ECF6\",\"showlakes\":true,\"showland\":true,\"subunitcolor\":\"white\"},\"hoverlabel\":{\"align\":\"left\"},\"hovermode\":\"closest\",\"mapbox\":{\"style\":\"light\"},\"paper_bgcolor\":\"white\",\"plot_bgcolor\":\"#E5ECF6\",\"polar\":{\"angularaxis\":{\"gridcolor\":\"white\",\"linecolor\":\"white\",\"ticks\":\"\"},\"bgcolor\":\"#E5ECF6\",\"radialaxis\":{\"gridcolor\":\"white\",\"linecolor\":\"white\",\"ticks\":\"\"}},\"scene\":{\"xaxis\":{\"backgroundcolor\":\"#E5ECF6\",\"gridcolor\":\"white\",\"gridwidth\":2,\"linecolor\":\"white\",\"showbackground\":true,\"ticks\":\"\",\"zerolinecolor\":\"white\"},\"yaxis\":{\"backgroundcolor\":\"#E5ECF6\",\"gridcolor\":\"white\",\"gridwidth\":2,\"linecolor\":\"white\",\"showbackground\":true,\"ticks\":\"\",\"zerolinecolor\":\"white\"},\"zaxis\":{\"backgroundcolor\":\"#E5ECF6\",\"gridcolor\":\"white\",\"gridwidth\":2,\"linecolor\":\"white\",\"showbackground\":true,\"ticks\":\"\",\"zerolinecolor\":\"white\"}},\"shapedefaults\":{\"line\":{\"color\":\"#2a3f5f\"}},\"ternary\":{\"aaxis\":{\"gridcolor\":\"white\",\"linecolor\":\"white\",\"ticks\":\"\"},\"baxis\":{\"gridcolor\":\"white\",\"linecolor\":\"white\",\"ticks\":\"\"},\"bgcolor\":\"#E5ECF6\",\"caxis\":{\"gridcolor\":\"white\",\"linecolor\":\"white\",\"ticks\":\"\"}},\"title\":{\"x\":0.05},\"xaxis\":{\"automargin\":true,\"gridcolor\":\"white\",\"linecolor\":\"white\",\"ticks\":\"\",\"title\":{\"standoff\":15},\"zerolinecolor\":\"white\",\"zerolinewidth\":2},\"yaxis\":{\"automargin\":true,\"gridcolor\":\"white\",\"linecolor\":\"white\",\"ticks\":\"\",\"title\":{\"standoff\":15},\"zerolinecolor\":\"white\",\"zerolinewidth\":2}}},\"title\":{\"font\":{\"color\":\"#4D5663\"}},\"xaxis\":{\"gridcolor\":\"#E1E5ED\",\"showgrid\":true,\"tickfont\":{\"color\":\"#4D5663\"},\"title\":{\"font\":{\"color\":\"#4D5663\"},\"text\":\"\"},\"zerolinecolor\":\"#E1E5ED\"},\"yaxis\":{\"gridcolor\":\"#E1E5ED\",\"showgrid\":true,\"tickfont\":{\"color\":\"#4D5663\"},\"title\":{\"font\":{\"color\":\"#4D5663\"},\"text\":\"\"},\"zerolinecolor\":\"#E1E5ED\"}},                        {\"showLink\": true, \"linkText\": \"Export to plot.ly\", \"plotlyServerURL\": \"https://plot.ly\", \"responsive\": true}                    ).then(function(){\n",
       "                            \n",
       "var gd = document.getElementById('26bf725d-0e17-40c3-8286-667518765a4c');\n",
       "var x = new MutationObserver(function (mutations, observer) {{\n",
       "        var display = window.getComputedStyle(gd).display;\n",
       "        if (!display || display === 'none') {{\n",
       "            console.log([gd, 'removed!']);\n",
       "            Plotly.purge(gd);\n",
       "            observer.disconnect();\n",
       "        }}\n",
       "}});\n",
       "\n",
       "// Listen for the removal of the full notebook cells\n",
       "var notebookContainer = gd.closest('#notebook-container');\n",
       "if (notebookContainer) {{\n",
       "    x.observe(notebookContainer, {childList: true});\n",
       "}}\n",
       "\n",
       "// Listen for the clearing of the current output cell\n",
       "var outputEl = gd.closest('.output');\n",
       "if (outputEl) {{\n",
       "    x.observe(outputEl, {childList: true});\n",
       "}}\n",
       "\n",
       "                        })                };                });            </script>        </div>"
      ]
     },
     "metadata": {},
     "output_type": "display_data"
    }
   ],
   "source": [
    "df.iplot(kind='scatter',x='A',y='B')"
   ]
  },
  {
   "cell_type": "code",
   "execution_count": 18,
   "metadata": {},
   "outputs": [
    {
     "data": {
      "application/vnd.plotly.v1+json": {
       "config": {
        "linkText": "Export to plot.ly",
        "plotlyServerURL": "https://plot.ly",
        "showLink": true
       },
       "data": [
        {
         "line": {
          "color": "rgba(255, 153, 51, 1.0)",
          "dash": "solid",
          "shape": "linear",
          "width": 1.3
         },
         "marker": {
          "size": 28,
          "symbol": "circle"
         },
         "mode": "markers",
         "name": "B",
         "text": "",
         "type": "scatter",
         "x": [
          0.43576161330137125,
          0.0392002026600367,
          -0.0828096051226737,
          -0.06899993842236976,
          -0.7445185078343501,
          -0.5818104718774442,
          0.20812256881462257,
          1.5771047203879411,
          -0.6229410571707626,
          -0.2542553127090784,
          -0.8616883603461633,
          -0.6882323696812119,
          1.6091381292540365,
          -0.08960730935903875,
          1.477667203229447,
          -1.1289770047232348,
          -0.37757591613281366,
          -0.9555659233157126,
          -0.8716190463369677,
          2.3343739223771967,
          -0.5804185512560397,
          -0.34512219064872196,
          1.0009426139151563,
          -0.03638635948039409,
          -0.4795511213004423,
          -0.38710379078114443,
          -0.5982291373045885,
          0.8057103455189922,
          0.07653649862068276,
          1.8789206942278476,
          -1.9870408379249231,
          -1.2534934267964573,
          1.1424388929052163,
          -0.19667780218489977,
          0.6672725785699418,
          0.22197020125418726,
          0.40375610544655427,
          0.790455120710436,
          0.47759724675807447,
          1.188441738310553,
          2.5966130677908876,
          -0.6307284045262942,
          0.07962977335776215,
          0.3075091604528683,
          -1.4964756673073725,
          -0.12521366306897264,
          -1.2358732389987421,
          -0.2360811692397413,
          -2.282498392530906,
          0.7428373771981449,
          -0.6288414109073985,
          0.6230290519320041,
          0.716991257672416,
          0.2741062424132256,
          0.9315691700047641,
          2.246444132120593,
          -0.09798021170589394,
          -1.4133581682943,
          0.27061743914078784,
          0.5896664688392396,
          0.049326040185358244,
          -1.6878301432568965,
          -2.048608617619134,
          0.44524418456960363,
          -0.9380811961782093,
          -1.88596316407578,
          0.6201094070399932,
          -1.5569988864741955,
          -0.5969142673083347,
          1.7125329163547705,
          2.0185871649641642,
          -1.2330424798204571,
          1.2660998430994834,
          0.4475507802687231,
          -0.808620887480285,
          -0.17552478952105183,
          -1.0126133692310482,
          -3.675695561961809,
          0.028560931347580483,
          1.92983422047473,
          0.35556609859758814,
          -0.06511288145789168,
          -0.25838345482305736,
          -1.2400752553123529,
          -0.34078316151973576,
          0.5430289046145775,
          -0.8056959136889844,
          1.6300090038319708,
          0.1558133548094795,
          0.09620023351258908,
          -0.7846317882449255,
          -2.5182101025471333,
          0.5562799597495309,
          0.16046651940046647,
          -0.21954404954103748,
          -0.32808367130031724,
          0.7209387084058826,
          -0.0345397981985188,
          -0.09495490706369364,
          -0.8910145283144787
         ],
         "y": [
          0.7470965589601339,
          -1.5219044668573725,
          -0.09809943298661565,
          -1.250222948666942,
          -0.698474158306239,
          0.9150731563300875,
          -1.7165979226019592,
          -1.2451154557852744,
          -0.4204666686443543,
          -0.0012794767147798895,
          -0.261186490901393,
          -0.3538924472485142,
          1.9908666564163198,
          0.851133799942738,
          1.5852483356617322,
          0.9124402543743519,
          0.5349719533559576,
          -0.7486594206111689,
          0.4215163263542885,
          -0.477420154232497,
          0.7682913569156996,
          1.1072895097909077,
          2.054407350902693,
          1.6175776756957496,
          0.5611477786926051,
          1.4031946166589802,
          -1.0167138268528113,
          0.19646954503078082,
          0.945974554393974,
          0.9408949156430599,
          1.1413517627554308,
          -0.1357448260510389,
          -0.04351760173125842,
          -0.8512903450571877,
          0.91744346009552,
          -0.1542511662085185,
          0.7063318506651899,
          -0.3031156931539478,
          -1.6443563957714007,
          1.2650837687557859,
          -0.8311250713611842,
          0.13834368861202084,
          0.31895857306174547,
          -0.5449946250740695,
          -3.262605243961339,
          -1.418654021604739,
          1.7861024688943528,
          0.6224571859649373,
          0.09101051584656397,
          0.6521919226727627,
          1.3058238267837332,
          -1.0018932539119865,
          0.36743339504271666,
          0.7195461980329014,
          -0.7852233456105248,
          -0.5934846408673413,
          -1.8222702027000843,
          -0.6168587967023298,
          -0.5414383002922646,
          -0.5421020917700555,
          0.12406293568327871,
          2.325695325282169,
          -0.3056098266005972,
          -1.2400002200650149,
          -0.7547227374480309,
          0.053572223237500154,
          1.209431097011376,
          2.2161223547948716,
          -0.42419252357043197,
          0.47008337374490233,
          -1.2385983525496629,
          0.4083282423594256,
          1.1018396289990668,
          -1.3439267263174357,
          -1.2148010375833018,
          1.378503549128289,
          -0.865442571080681,
          1.4981255490911167,
          0.5268652709491807,
          -0.5864705000603173,
          -0.03251046298779092,
          -1.657971247262324,
          0.5387740305912381,
          0.33891930104974144,
          -0.017631905464170265,
          0.235035832459136,
          -0.22302903550297953,
          -0.42911270255814304,
          0.45012009799066305,
          -0.9780296593173486,
          -0.11851579616469118,
          1.047681204062073,
          0.9889001376060471,
          1.3966008775466294,
          0.09077097106105908,
          1.3376388975447437,
          -0.2036133802195914,
          -0.11638871633048702,
          -0.054452121594433106,
          0.382117572004654
         ]
        }
       ],
       "layout": {
        "legend": {
         "bgcolor": "#F5F6F9",
         "font": {
          "color": "#4D5663"
         }
        },
        "paper_bgcolor": "#F5F6F9",
        "plot_bgcolor": "#F5F6F9",
        "template": {
         "data": {
          "bar": [
           {
            "error_x": {
             "color": "#2a3f5f"
            },
            "error_y": {
             "color": "#2a3f5f"
            },
            "marker": {
             "line": {
              "color": "#E5ECF6",
              "width": 0.5
             },
             "pattern": {
              "fillmode": "overlay",
              "size": 10,
              "solidity": 0.2
             }
            },
            "type": "bar"
           }
          ],
          "barpolar": [
           {
            "marker": {
             "line": {
              "color": "#E5ECF6",
              "width": 0.5
             },
             "pattern": {
              "fillmode": "overlay",
              "size": 10,
              "solidity": 0.2
             }
            },
            "type": "barpolar"
           }
          ],
          "carpet": [
           {
            "aaxis": {
             "endlinecolor": "#2a3f5f",
             "gridcolor": "white",
             "linecolor": "white",
             "minorgridcolor": "white",
             "startlinecolor": "#2a3f5f"
            },
            "baxis": {
             "endlinecolor": "#2a3f5f",
             "gridcolor": "white",
             "linecolor": "white",
             "minorgridcolor": "white",
             "startlinecolor": "#2a3f5f"
            },
            "type": "carpet"
           }
          ],
          "choropleth": [
           {
            "colorbar": {
             "outlinewidth": 0,
             "ticks": ""
            },
            "type": "choropleth"
           }
          ],
          "contour": [
           {
            "colorbar": {
             "outlinewidth": 0,
             "ticks": ""
            },
            "colorscale": [
             [
              0,
              "#0d0887"
             ],
             [
              0.1111111111111111,
              "#46039f"
             ],
             [
              0.2222222222222222,
              "#7201a8"
             ],
             [
              0.3333333333333333,
              "#9c179e"
             ],
             [
              0.4444444444444444,
              "#bd3786"
             ],
             [
              0.5555555555555556,
              "#d8576b"
             ],
             [
              0.6666666666666666,
              "#ed7953"
             ],
             [
              0.7777777777777778,
              "#fb9f3a"
             ],
             [
              0.8888888888888888,
              "#fdca26"
             ],
             [
              1,
              "#f0f921"
             ]
            ],
            "type": "contour"
           }
          ],
          "contourcarpet": [
           {
            "colorbar": {
             "outlinewidth": 0,
             "ticks": ""
            },
            "type": "contourcarpet"
           }
          ],
          "heatmap": [
           {
            "colorbar": {
             "outlinewidth": 0,
             "ticks": ""
            },
            "colorscale": [
             [
              0,
              "#0d0887"
             ],
             [
              0.1111111111111111,
              "#46039f"
             ],
             [
              0.2222222222222222,
              "#7201a8"
             ],
             [
              0.3333333333333333,
              "#9c179e"
             ],
             [
              0.4444444444444444,
              "#bd3786"
             ],
             [
              0.5555555555555556,
              "#d8576b"
             ],
             [
              0.6666666666666666,
              "#ed7953"
             ],
             [
              0.7777777777777778,
              "#fb9f3a"
             ],
             [
              0.8888888888888888,
              "#fdca26"
             ],
             [
              1,
              "#f0f921"
             ]
            ],
            "type": "heatmap"
           }
          ],
          "heatmapgl": [
           {
            "colorbar": {
             "outlinewidth": 0,
             "ticks": ""
            },
            "colorscale": [
             [
              0,
              "#0d0887"
             ],
             [
              0.1111111111111111,
              "#46039f"
             ],
             [
              0.2222222222222222,
              "#7201a8"
             ],
             [
              0.3333333333333333,
              "#9c179e"
             ],
             [
              0.4444444444444444,
              "#bd3786"
             ],
             [
              0.5555555555555556,
              "#d8576b"
             ],
             [
              0.6666666666666666,
              "#ed7953"
             ],
             [
              0.7777777777777778,
              "#fb9f3a"
             ],
             [
              0.8888888888888888,
              "#fdca26"
             ],
             [
              1,
              "#f0f921"
             ]
            ],
            "type": "heatmapgl"
           }
          ],
          "histogram": [
           {
            "marker": {
             "pattern": {
              "fillmode": "overlay",
              "size": 10,
              "solidity": 0.2
             }
            },
            "type": "histogram"
           }
          ],
          "histogram2d": [
           {
            "colorbar": {
             "outlinewidth": 0,
             "ticks": ""
            },
            "colorscale": [
             [
              0,
              "#0d0887"
             ],
             [
              0.1111111111111111,
              "#46039f"
             ],
             [
              0.2222222222222222,
              "#7201a8"
             ],
             [
              0.3333333333333333,
              "#9c179e"
             ],
             [
              0.4444444444444444,
              "#bd3786"
             ],
             [
              0.5555555555555556,
              "#d8576b"
             ],
             [
              0.6666666666666666,
              "#ed7953"
             ],
             [
              0.7777777777777778,
              "#fb9f3a"
             ],
             [
              0.8888888888888888,
              "#fdca26"
             ],
             [
              1,
              "#f0f921"
             ]
            ],
            "type": "histogram2d"
           }
          ],
          "histogram2dcontour": [
           {
            "colorbar": {
             "outlinewidth": 0,
             "ticks": ""
            },
            "colorscale": [
             [
              0,
              "#0d0887"
             ],
             [
              0.1111111111111111,
              "#46039f"
             ],
             [
              0.2222222222222222,
              "#7201a8"
             ],
             [
              0.3333333333333333,
              "#9c179e"
             ],
             [
              0.4444444444444444,
              "#bd3786"
             ],
             [
              0.5555555555555556,
              "#d8576b"
             ],
             [
              0.6666666666666666,
              "#ed7953"
             ],
             [
              0.7777777777777778,
              "#fb9f3a"
             ],
             [
              0.8888888888888888,
              "#fdca26"
             ],
             [
              1,
              "#f0f921"
             ]
            ],
            "type": "histogram2dcontour"
           }
          ],
          "mesh3d": [
           {
            "colorbar": {
             "outlinewidth": 0,
             "ticks": ""
            },
            "type": "mesh3d"
           }
          ],
          "parcoords": [
           {
            "line": {
             "colorbar": {
              "outlinewidth": 0,
              "ticks": ""
             }
            },
            "type": "parcoords"
           }
          ],
          "pie": [
           {
            "automargin": true,
            "type": "pie"
           }
          ],
          "scatter": [
           {
            "marker": {
             "colorbar": {
              "outlinewidth": 0,
              "ticks": ""
             }
            },
            "type": "scatter"
           }
          ],
          "scatter3d": [
           {
            "line": {
             "colorbar": {
              "outlinewidth": 0,
              "ticks": ""
             }
            },
            "marker": {
             "colorbar": {
              "outlinewidth": 0,
              "ticks": ""
             }
            },
            "type": "scatter3d"
           }
          ],
          "scattercarpet": [
           {
            "marker": {
             "colorbar": {
              "outlinewidth": 0,
              "ticks": ""
             }
            },
            "type": "scattercarpet"
           }
          ],
          "scattergeo": [
           {
            "marker": {
             "colorbar": {
              "outlinewidth": 0,
              "ticks": ""
             }
            },
            "type": "scattergeo"
           }
          ],
          "scattergl": [
           {
            "marker": {
             "colorbar": {
              "outlinewidth": 0,
              "ticks": ""
             }
            },
            "type": "scattergl"
           }
          ],
          "scattermapbox": [
           {
            "marker": {
             "colorbar": {
              "outlinewidth": 0,
              "ticks": ""
             }
            },
            "type": "scattermapbox"
           }
          ],
          "scatterpolar": [
           {
            "marker": {
             "colorbar": {
              "outlinewidth": 0,
              "ticks": ""
             }
            },
            "type": "scatterpolar"
           }
          ],
          "scatterpolargl": [
           {
            "marker": {
             "colorbar": {
              "outlinewidth": 0,
              "ticks": ""
             }
            },
            "type": "scatterpolargl"
           }
          ],
          "scatterternary": [
           {
            "marker": {
             "colorbar": {
              "outlinewidth": 0,
              "ticks": ""
             }
            },
            "type": "scatterternary"
           }
          ],
          "surface": [
           {
            "colorbar": {
             "outlinewidth": 0,
             "ticks": ""
            },
            "colorscale": [
             [
              0,
              "#0d0887"
             ],
             [
              0.1111111111111111,
              "#46039f"
             ],
             [
              0.2222222222222222,
              "#7201a8"
             ],
             [
              0.3333333333333333,
              "#9c179e"
             ],
             [
              0.4444444444444444,
              "#bd3786"
             ],
             [
              0.5555555555555556,
              "#d8576b"
             ],
             [
              0.6666666666666666,
              "#ed7953"
             ],
             [
              0.7777777777777778,
              "#fb9f3a"
             ],
             [
              0.8888888888888888,
              "#fdca26"
             ],
             [
              1,
              "#f0f921"
             ]
            ],
            "type": "surface"
           }
          ],
          "table": [
           {
            "cells": {
             "fill": {
              "color": "#EBF0F8"
             },
             "line": {
              "color": "white"
             }
            },
            "header": {
             "fill": {
              "color": "#C8D4E3"
             },
             "line": {
              "color": "white"
             }
            },
            "type": "table"
           }
          ]
         },
         "layout": {
          "annotationdefaults": {
           "arrowcolor": "#2a3f5f",
           "arrowhead": 0,
           "arrowwidth": 1
          },
          "autotypenumbers": "strict",
          "coloraxis": {
           "colorbar": {
            "outlinewidth": 0,
            "ticks": ""
           }
          },
          "colorscale": {
           "diverging": [
            [
             0,
             "#8e0152"
            ],
            [
             0.1,
             "#c51b7d"
            ],
            [
             0.2,
             "#de77ae"
            ],
            [
             0.3,
             "#f1b6da"
            ],
            [
             0.4,
             "#fde0ef"
            ],
            [
             0.5,
             "#f7f7f7"
            ],
            [
             0.6,
             "#e6f5d0"
            ],
            [
             0.7,
             "#b8e186"
            ],
            [
             0.8,
             "#7fbc41"
            ],
            [
             0.9,
             "#4d9221"
            ],
            [
             1,
             "#276419"
            ]
           ],
           "sequential": [
            [
             0,
             "#0d0887"
            ],
            [
             0.1111111111111111,
             "#46039f"
            ],
            [
             0.2222222222222222,
             "#7201a8"
            ],
            [
             0.3333333333333333,
             "#9c179e"
            ],
            [
             0.4444444444444444,
             "#bd3786"
            ],
            [
             0.5555555555555556,
             "#d8576b"
            ],
            [
             0.6666666666666666,
             "#ed7953"
            ],
            [
             0.7777777777777778,
             "#fb9f3a"
            ],
            [
             0.8888888888888888,
             "#fdca26"
            ],
            [
             1,
             "#f0f921"
            ]
           ],
           "sequentialminus": [
            [
             0,
             "#0d0887"
            ],
            [
             0.1111111111111111,
             "#46039f"
            ],
            [
             0.2222222222222222,
             "#7201a8"
            ],
            [
             0.3333333333333333,
             "#9c179e"
            ],
            [
             0.4444444444444444,
             "#bd3786"
            ],
            [
             0.5555555555555556,
             "#d8576b"
            ],
            [
             0.6666666666666666,
             "#ed7953"
            ],
            [
             0.7777777777777778,
             "#fb9f3a"
            ],
            [
             0.8888888888888888,
             "#fdca26"
            ],
            [
             1,
             "#f0f921"
            ]
           ]
          },
          "colorway": [
           "#636efa",
           "#EF553B",
           "#00cc96",
           "#ab63fa",
           "#FFA15A",
           "#19d3f3",
           "#FF6692",
           "#B6E880",
           "#FF97FF",
           "#FECB52"
          ],
          "font": {
           "color": "#2a3f5f"
          },
          "geo": {
           "bgcolor": "white",
           "lakecolor": "white",
           "landcolor": "#E5ECF6",
           "showlakes": true,
           "showland": true,
           "subunitcolor": "white"
          },
          "hoverlabel": {
           "align": "left"
          },
          "hovermode": "closest",
          "mapbox": {
           "style": "light"
          },
          "paper_bgcolor": "white",
          "plot_bgcolor": "#E5ECF6",
          "polar": {
           "angularaxis": {
            "gridcolor": "white",
            "linecolor": "white",
            "ticks": ""
           },
           "bgcolor": "#E5ECF6",
           "radialaxis": {
            "gridcolor": "white",
            "linecolor": "white",
            "ticks": ""
           }
          },
          "scene": {
           "xaxis": {
            "backgroundcolor": "#E5ECF6",
            "gridcolor": "white",
            "gridwidth": 2,
            "linecolor": "white",
            "showbackground": true,
            "ticks": "",
            "zerolinecolor": "white"
           },
           "yaxis": {
            "backgroundcolor": "#E5ECF6",
            "gridcolor": "white",
            "gridwidth": 2,
            "linecolor": "white",
            "showbackground": true,
            "ticks": "",
            "zerolinecolor": "white"
           },
           "zaxis": {
            "backgroundcolor": "#E5ECF6",
            "gridcolor": "white",
            "gridwidth": 2,
            "linecolor": "white",
            "showbackground": true,
            "ticks": "",
            "zerolinecolor": "white"
           }
          },
          "shapedefaults": {
           "line": {
            "color": "#2a3f5f"
           }
          },
          "ternary": {
           "aaxis": {
            "gridcolor": "white",
            "linecolor": "white",
            "ticks": ""
           },
           "baxis": {
            "gridcolor": "white",
            "linecolor": "white",
            "ticks": ""
           },
           "bgcolor": "#E5ECF6",
           "caxis": {
            "gridcolor": "white",
            "linecolor": "white",
            "ticks": ""
           }
          },
          "title": {
           "x": 0.05
          },
          "xaxis": {
           "automargin": true,
           "gridcolor": "white",
           "linecolor": "white",
           "ticks": "",
           "title": {
            "standoff": 15
           },
           "zerolinecolor": "white",
           "zerolinewidth": 2
          },
          "yaxis": {
           "automargin": true,
           "gridcolor": "white",
           "linecolor": "white",
           "ticks": "",
           "title": {
            "standoff": 15
           },
           "zerolinecolor": "white",
           "zerolinewidth": 2
          }
         }
        },
        "title": {
         "font": {
          "color": "#4D5663"
         }
        },
        "xaxis": {
         "gridcolor": "#E1E5ED",
         "showgrid": true,
         "tickfont": {
          "color": "#4D5663"
         },
         "title": {
          "font": {
           "color": "#4D5663"
          },
          "text": ""
         },
         "zerolinecolor": "#E1E5ED"
        },
        "yaxis": {
         "gridcolor": "#E1E5ED",
         "showgrid": true,
         "tickfont": {
          "color": "#4D5663"
         },
         "title": {
          "font": {
           "color": "#4D5663"
          },
          "text": ""
         },
         "zerolinecolor": "#E1E5ED"
        }
       }
      },
      "text/html": [
       "<div>                            <div id=\"65f0f4ff-9667-4ecf-9950-d077d2d1acee\" class=\"plotly-graph-div\" style=\"height:525px; width:100%;\"></div>            <script type=\"text/javascript\">                require([\"plotly\"], function(Plotly) {                    window.PLOTLYENV=window.PLOTLYENV || {};\n",
       "                    window.PLOTLYENV.BASE_URL='https://plot.ly';                                    if (document.getElementById(\"65f0f4ff-9667-4ecf-9950-d077d2d1acee\")) {                    Plotly.newPlot(                        \"65f0f4ff-9667-4ecf-9950-d077d2d1acee\",                        [{\"line\":{\"color\":\"rgba(255, 153, 51, 1.0)\",\"dash\":\"solid\",\"shape\":\"linear\",\"width\":1.3},\"marker\":{\"size\":28,\"symbol\":\"circle\"},\"mode\":\"markers\",\"name\":\"B\",\"text\":\"\",\"x\":[0.43576161330137125,0.0392002026600367,-0.0828096051226737,-0.06899993842236976,-0.7445185078343501,-0.5818104718774442,0.20812256881462257,1.5771047203879411,-0.6229410571707626,-0.2542553127090784,-0.8616883603461633,-0.6882323696812119,1.6091381292540365,-0.08960730935903875,1.477667203229447,-1.1289770047232348,-0.37757591613281366,-0.9555659233157126,-0.8716190463369677,2.3343739223771967,-0.5804185512560397,-0.34512219064872196,1.0009426139151563,-0.03638635948039409,-0.4795511213004423,-0.38710379078114443,-0.5982291373045885,0.8057103455189922,0.07653649862068276,1.8789206942278476,-1.9870408379249231,-1.2534934267964573,1.1424388929052163,-0.19667780218489977,0.6672725785699418,0.22197020125418726,0.40375610544655427,0.790455120710436,0.47759724675807447,1.188441738310553,2.5966130677908876,-0.6307284045262942,0.07962977335776215,0.3075091604528683,-1.4964756673073725,-0.12521366306897264,-1.2358732389987421,-0.2360811692397413,-2.282498392530906,0.7428373771981449,-0.6288414109073985,0.6230290519320041,0.716991257672416,0.2741062424132256,0.9315691700047641,2.246444132120593,-0.09798021170589394,-1.4133581682943,0.27061743914078784,0.5896664688392396,0.049326040185358244,-1.6878301432568965,-2.048608617619134,0.44524418456960363,-0.9380811961782093,-1.88596316407578,0.6201094070399932,-1.5569988864741955,-0.5969142673083347,1.7125329163547705,2.0185871649641642,-1.2330424798204571,1.2660998430994834,0.4475507802687231,-0.808620887480285,-0.17552478952105183,-1.0126133692310482,-3.675695561961809,0.028560931347580483,1.92983422047473,0.35556609859758814,-0.06511288145789168,-0.25838345482305736,-1.2400752553123529,-0.34078316151973576,0.5430289046145775,-0.8056959136889844,1.6300090038319708,0.1558133548094795,0.09620023351258908,-0.7846317882449255,-2.5182101025471333,0.5562799597495309,0.16046651940046647,-0.21954404954103748,-0.32808367130031724,0.7209387084058826,-0.0345397981985188,-0.09495490706369364,-0.8910145283144787],\"y\":[0.7470965589601339,-1.5219044668573725,-0.09809943298661565,-1.250222948666942,-0.698474158306239,0.9150731563300875,-1.7165979226019592,-1.2451154557852744,-0.4204666686443543,-0.0012794767147798895,-0.261186490901393,-0.3538924472485142,1.9908666564163198,0.851133799942738,1.5852483356617322,0.9124402543743519,0.5349719533559576,-0.7486594206111689,0.4215163263542885,-0.477420154232497,0.7682913569156996,1.1072895097909077,2.054407350902693,1.6175776756957496,0.5611477786926051,1.4031946166589802,-1.0167138268528113,0.19646954503078082,0.945974554393974,0.9408949156430599,1.1413517627554308,-0.1357448260510389,-0.04351760173125842,-0.8512903450571877,0.91744346009552,-0.1542511662085185,0.7063318506651899,-0.3031156931539478,-1.6443563957714007,1.2650837687557859,-0.8311250713611842,0.13834368861202084,0.31895857306174547,-0.5449946250740695,-3.262605243961339,-1.418654021604739,1.7861024688943528,0.6224571859649373,0.09101051584656397,0.6521919226727627,1.3058238267837332,-1.0018932539119865,0.36743339504271666,0.7195461980329014,-0.7852233456105248,-0.5934846408673413,-1.8222702027000843,-0.6168587967023298,-0.5414383002922646,-0.5421020917700555,0.12406293568327871,2.325695325282169,-0.3056098266005972,-1.2400002200650149,-0.7547227374480309,0.053572223237500154,1.209431097011376,2.2161223547948716,-0.42419252357043197,0.47008337374490233,-1.2385983525496629,0.4083282423594256,1.1018396289990668,-1.3439267263174357,-1.2148010375833018,1.378503549128289,-0.865442571080681,1.4981255490911167,0.5268652709491807,-0.5864705000603173,-0.03251046298779092,-1.657971247262324,0.5387740305912381,0.33891930104974144,-0.017631905464170265,0.235035832459136,-0.22302903550297953,-0.42911270255814304,0.45012009799066305,-0.9780296593173486,-0.11851579616469118,1.047681204062073,0.9889001376060471,1.3966008775466294,0.09077097106105908,1.3376388975447437,-0.2036133802195914,-0.11638871633048702,-0.054452121594433106,0.382117572004654],\"type\":\"scatter\"}],                        {\"legend\":{\"bgcolor\":\"#F5F6F9\",\"font\":{\"color\":\"#4D5663\"}},\"paper_bgcolor\":\"#F5F6F9\",\"plot_bgcolor\":\"#F5F6F9\",\"template\":{\"data\":{\"barpolar\":[{\"marker\":{\"line\":{\"color\":\"#E5ECF6\",\"width\":0.5},\"pattern\":{\"fillmode\":\"overlay\",\"size\":10,\"solidity\":0.2}},\"type\":\"barpolar\"}],\"bar\":[{\"error_x\":{\"color\":\"#2a3f5f\"},\"error_y\":{\"color\":\"#2a3f5f\"},\"marker\":{\"line\":{\"color\":\"#E5ECF6\",\"width\":0.5},\"pattern\":{\"fillmode\":\"overlay\",\"size\":10,\"solidity\":0.2}},\"type\":\"bar\"}],\"carpet\":[{\"aaxis\":{\"endlinecolor\":\"#2a3f5f\",\"gridcolor\":\"white\",\"linecolor\":\"white\",\"minorgridcolor\":\"white\",\"startlinecolor\":\"#2a3f5f\"},\"baxis\":{\"endlinecolor\":\"#2a3f5f\",\"gridcolor\":\"white\",\"linecolor\":\"white\",\"minorgridcolor\":\"white\",\"startlinecolor\":\"#2a3f5f\"},\"type\":\"carpet\"}],\"choropleth\":[{\"colorbar\":{\"outlinewidth\":0,\"ticks\":\"\"},\"type\":\"choropleth\"}],\"contourcarpet\":[{\"colorbar\":{\"outlinewidth\":0,\"ticks\":\"\"},\"type\":\"contourcarpet\"}],\"contour\":[{\"colorbar\":{\"outlinewidth\":0,\"ticks\":\"\"},\"colorscale\":[[0.0,\"#0d0887\"],[0.1111111111111111,\"#46039f\"],[0.2222222222222222,\"#7201a8\"],[0.3333333333333333,\"#9c179e\"],[0.4444444444444444,\"#bd3786\"],[0.5555555555555556,\"#d8576b\"],[0.6666666666666666,\"#ed7953\"],[0.7777777777777778,\"#fb9f3a\"],[0.8888888888888888,\"#fdca26\"],[1.0,\"#f0f921\"]],\"type\":\"contour\"}],\"heatmapgl\":[{\"colorbar\":{\"outlinewidth\":0,\"ticks\":\"\"},\"colorscale\":[[0.0,\"#0d0887\"],[0.1111111111111111,\"#46039f\"],[0.2222222222222222,\"#7201a8\"],[0.3333333333333333,\"#9c179e\"],[0.4444444444444444,\"#bd3786\"],[0.5555555555555556,\"#d8576b\"],[0.6666666666666666,\"#ed7953\"],[0.7777777777777778,\"#fb9f3a\"],[0.8888888888888888,\"#fdca26\"],[1.0,\"#f0f921\"]],\"type\":\"heatmapgl\"}],\"heatmap\":[{\"colorbar\":{\"outlinewidth\":0,\"ticks\":\"\"},\"colorscale\":[[0.0,\"#0d0887\"],[0.1111111111111111,\"#46039f\"],[0.2222222222222222,\"#7201a8\"],[0.3333333333333333,\"#9c179e\"],[0.4444444444444444,\"#bd3786\"],[0.5555555555555556,\"#d8576b\"],[0.6666666666666666,\"#ed7953\"],[0.7777777777777778,\"#fb9f3a\"],[0.8888888888888888,\"#fdca26\"],[1.0,\"#f0f921\"]],\"type\":\"heatmap\"}],\"histogram2dcontour\":[{\"colorbar\":{\"outlinewidth\":0,\"ticks\":\"\"},\"colorscale\":[[0.0,\"#0d0887\"],[0.1111111111111111,\"#46039f\"],[0.2222222222222222,\"#7201a8\"],[0.3333333333333333,\"#9c179e\"],[0.4444444444444444,\"#bd3786\"],[0.5555555555555556,\"#d8576b\"],[0.6666666666666666,\"#ed7953\"],[0.7777777777777778,\"#fb9f3a\"],[0.8888888888888888,\"#fdca26\"],[1.0,\"#f0f921\"]],\"type\":\"histogram2dcontour\"}],\"histogram2d\":[{\"colorbar\":{\"outlinewidth\":0,\"ticks\":\"\"},\"colorscale\":[[0.0,\"#0d0887\"],[0.1111111111111111,\"#46039f\"],[0.2222222222222222,\"#7201a8\"],[0.3333333333333333,\"#9c179e\"],[0.4444444444444444,\"#bd3786\"],[0.5555555555555556,\"#d8576b\"],[0.6666666666666666,\"#ed7953\"],[0.7777777777777778,\"#fb9f3a\"],[0.8888888888888888,\"#fdca26\"],[1.0,\"#f0f921\"]],\"type\":\"histogram2d\"}],\"histogram\":[{\"marker\":{\"pattern\":{\"fillmode\":\"overlay\",\"size\":10,\"solidity\":0.2}},\"type\":\"histogram\"}],\"mesh3d\":[{\"colorbar\":{\"outlinewidth\":0,\"ticks\":\"\"},\"type\":\"mesh3d\"}],\"parcoords\":[{\"line\":{\"colorbar\":{\"outlinewidth\":0,\"ticks\":\"\"}},\"type\":\"parcoords\"}],\"pie\":[{\"automargin\":true,\"type\":\"pie\"}],\"scatter3d\":[{\"line\":{\"colorbar\":{\"outlinewidth\":0,\"ticks\":\"\"}},\"marker\":{\"colorbar\":{\"outlinewidth\":0,\"ticks\":\"\"}},\"type\":\"scatter3d\"}],\"scattercarpet\":[{\"marker\":{\"colorbar\":{\"outlinewidth\":0,\"ticks\":\"\"}},\"type\":\"scattercarpet\"}],\"scattergeo\":[{\"marker\":{\"colorbar\":{\"outlinewidth\":0,\"ticks\":\"\"}},\"type\":\"scattergeo\"}],\"scattergl\":[{\"marker\":{\"colorbar\":{\"outlinewidth\":0,\"ticks\":\"\"}},\"type\":\"scattergl\"}],\"scattermapbox\":[{\"marker\":{\"colorbar\":{\"outlinewidth\":0,\"ticks\":\"\"}},\"type\":\"scattermapbox\"}],\"scatterpolargl\":[{\"marker\":{\"colorbar\":{\"outlinewidth\":0,\"ticks\":\"\"}},\"type\":\"scatterpolargl\"}],\"scatterpolar\":[{\"marker\":{\"colorbar\":{\"outlinewidth\":0,\"ticks\":\"\"}},\"type\":\"scatterpolar\"}],\"scatter\":[{\"marker\":{\"colorbar\":{\"outlinewidth\":0,\"ticks\":\"\"}},\"type\":\"scatter\"}],\"scatterternary\":[{\"marker\":{\"colorbar\":{\"outlinewidth\":0,\"ticks\":\"\"}},\"type\":\"scatterternary\"}],\"surface\":[{\"colorbar\":{\"outlinewidth\":0,\"ticks\":\"\"},\"colorscale\":[[0.0,\"#0d0887\"],[0.1111111111111111,\"#46039f\"],[0.2222222222222222,\"#7201a8\"],[0.3333333333333333,\"#9c179e\"],[0.4444444444444444,\"#bd3786\"],[0.5555555555555556,\"#d8576b\"],[0.6666666666666666,\"#ed7953\"],[0.7777777777777778,\"#fb9f3a\"],[0.8888888888888888,\"#fdca26\"],[1.0,\"#f0f921\"]],\"type\":\"surface\"}],\"table\":[{\"cells\":{\"fill\":{\"color\":\"#EBF0F8\"},\"line\":{\"color\":\"white\"}},\"header\":{\"fill\":{\"color\":\"#C8D4E3\"},\"line\":{\"color\":\"white\"}},\"type\":\"table\"}]},\"layout\":{\"annotationdefaults\":{\"arrowcolor\":\"#2a3f5f\",\"arrowhead\":0,\"arrowwidth\":1},\"autotypenumbers\":\"strict\",\"coloraxis\":{\"colorbar\":{\"outlinewidth\":0,\"ticks\":\"\"}},\"colorscale\":{\"diverging\":[[0,\"#8e0152\"],[0.1,\"#c51b7d\"],[0.2,\"#de77ae\"],[0.3,\"#f1b6da\"],[0.4,\"#fde0ef\"],[0.5,\"#f7f7f7\"],[0.6,\"#e6f5d0\"],[0.7,\"#b8e186\"],[0.8,\"#7fbc41\"],[0.9,\"#4d9221\"],[1,\"#276419\"]],\"sequential\":[[0.0,\"#0d0887\"],[0.1111111111111111,\"#46039f\"],[0.2222222222222222,\"#7201a8\"],[0.3333333333333333,\"#9c179e\"],[0.4444444444444444,\"#bd3786\"],[0.5555555555555556,\"#d8576b\"],[0.6666666666666666,\"#ed7953\"],[0.7777777777777778,\"#fb9f3a\"],[0.8888888888888888,\"#fdca26\"],[1.0,\"#f0f921\"]],\"sequentialminus\":[[0.0,\"#0d0887\"],[0.1111111111111111,\"#46039f\"],[0.2222222222222222,\"#7201a8\"],[0.3333333333333333,\"#9c179e\"],[0.4444444444444444,\"#bd3786\"],[0.5555555555555556,\"#d8576b\"],[0.6666666666666666,\"#ed7953\"],[0.7777777777777778,\"#fb9f3a\"],[0.8888888888888888,\"#fdca26\"],[1.0,\"#f0f921\"]]},\"colorway\":[\"#636efa\",\"#EF553B\",\"#00cc96\",\"#ab63fa\",\"#FFA15A\",\"#19d3f3\",\"#FF6692\",\"#B6E880\",\"#FF97FF\",\"#FECB52\"],\"font\":{\"color\":\"#2a3f5f\"},\"geo\":{\"bgcolor\":\"white\",\"lakecolor\":\"white\",\"landcolor\":\"#E5ECF6\",\"showlakes\":true,\"showland\":true,\"subunitcolor\":\"white\"},\"hoverlabel\":{\"align\":\"left\"},\"hovermode\":\"closest\",\"mapbox\":{\"style\":\"light\"},\"paper_bgcolor\":\"white\",\"plot_bgcolor\":\"#E5ECF6\",\"polar\":{\"angularaxis\":{\"gridcolor\":\"white\",\"linecolor\":\"white\",\"ticks\":\"\"},\"bgcolor\":\"#E5ECF6\",\"radialaxis\":{\"gridcolor\":\"white\",\"linecolor\":\"white\",\"ticks\":\"\"}},\"scene\":{\"xaxis\":{\"backgroundcolor\":\"#E5ECF6\",\"gridcolor\":\"white\",\"gridwidth\":2,\"linecolor\":\"white\",\"showbackground\":true,\"ticks\":\"\",\"zerolinecolor\":\"white\"},\"yaxis\":{\"backgroundcolor\":\"#E5ECF6\",\"gridcolor\":\"white\",\"gridwidth\":2,\"linecolor\":\"white\",\"showbackground\":true,\"ticks\":\"\",\"zerolinecolor\":\"white\"},\"zaxis\":{\"backgroundcolor\":\"#E5ECF6\",\"gridcolor\":\"white\",\"gridwidth\":2,\"linecolor\":\"white\",\"showbackground\":true,\"ticks\":\"\",\"zerolinecolor\":\"white\"}},\"shapedefaults\":{\"line\":{\"color\":\"#2a3f5f\"}},\"ternary\":{\"aaxis\":{\"gridcolor\":\"white\",\"linecolor\":\"white\",\"ticks\":\"\"},\"baxis\":{\"gridcolor\":\"white\",\"linecolor\":\"white\",\"ticks\":\"\"},\"bgcolor\":\"#E5ECF6\",\"caxis\":{\"gridcolor\":\"white\",\"linecolor\":\"white\",\"ticks\":\"\"}},\"title\":{\"x\":0.05},\"xaxis\":{\"automargin\":true,\"gridcolor\":\"white\",\"linecolor\":\"white\",\"ticks\":\"\",\"title\":{\"standoff\":15},\"zerolinecolor\":\"white\",\"zerolinewidth\":2},\"yaxis\":{\"automargin\":true,\"gridcolor\":\"white\",\"linecolor\":\"white\",\"ticks\":\"\",\"title\":{\"standoff\":15},\"zerolinecolor\":\"white\",\"zerolinewidth\":2}}},\"title\":{\"font\":{\"color\":\"#4D5663\"}},\"xaxis\":{\"gridcolor\":\"#E1E5ED\",\"showgrid\":true,\"tickfont\":{\"color\":\"#4D5663\"},\"title\":{\"font\":{\"color\":\"#4D5663\"},\"text\":\"\"},\"zerolinecolor\":\"#E1E5ED\"},\"yaxis\":{\"gridcolor\":\"#E1E5ED\",\"showgrid\":true,\"tickfont\":{\"color\":\"#4D5663\"},\"title\":{\"font\":{\"color\":\"#4D5663\"},\"text\":\"\"},\"zerolinecolor\":\"#E1E5ED\"}},                        {\"showLink\": true, \"linkText\": \"Export to plot.ly\", \"plotlyServerURL\": \"https://plot.ly\", \"responsive\": true}                    ).then(function(){\n",
       "                            \n",
       "var gd = document.getElementById('65f0f4ff-9667-4ecf-9950-d077d2d1acee');\n",
       "var x = new MutationObserver(function (mutations, observer) {{\n",
       "        var display = window.getComputedStyle(gd).display;\n",
       "        if (!display || display === 'none') {{\n",
       "            console.log([gd, 'removed!']);\n",
       "            Plotly.purge(gd);\n",
       "            observer.disconnect();\n",
       "        }}\n",
       "}});\n",
       "\n",
       "// Listen for the removal of the full notebook cells\n",
       "var notebookContainer = gd.closest('#notebook-container');\n",
       "if (notebookContainer) {{\n",
       "    x.observe(notebookContainer, {childList: true});\n",
       "}}\n",
       "\n",
       "// Listen for the clearing of the current output cell\n",
       "var outputEl = gd.closest('.output');\n",
       "if (outputEl) {{\n",
       "    x.observe(outputEl, {childList: true});\n",
       "}}\n",
       "\n",
       "                        })                };                });            </script>        </div>"
      ]
     },
     "metadata": {},
     "output_type": "display_data"
    }
   ],
   "source": [
    "df.iplot(kind='scatter',x='A',y='B',mode='markers', size=28)"
   ]
  },
  {
   "cell_type": "code",
   "execution_count": 19,
   "metadata": {},
   "outputs": [
    {
     "data": {
      "text/html": [
       "<div>\n",
       "<style scoped>\n",
       "    .dataframe tbody tr th:only-of-type {\n",
       "        vertical-align: middle;\n",
       "    }\n",
       "\n",
       "    .dataframe tbody tr th {\n",
       "        vertical-align: top;\n",
       "    }\n",
       "\n",
       "    .dataframe thead th {\n",
       "        text-align: right;\n",
       "    }\n",
       "</style>\n",
       "<table border=\"1\" class=\"dataframe\">\n",
       "  <thead>\n",
       "    <tr style=\"text-align: right;\">\n",
       "      <th></th>\n",
       "      <th>Category</th>\n",
       "      <th>Values</th>\n",
       "    </tr>\n",
       "  </thead>\n",
       "  <tbody>\n",
       "    <tr>\n",
       "      <th>0</th>\n",
       "      <td>A</td>\n",
       "      <td>32</td>\n",
       "    </tr>\n",
       "    <tr>\n",
       "      <th>1</th>\n",
       "      <td>B</td>\n",
       "      <td>43</td>\n",
       "    </tr>\n",
       "    <tr>\n",
       "      <th>2</th>\n",
       "      <td>C</td>\n",
       "      <td>50</td>\n",
       "    </tr>\n",
       "  </tbody>\n",
       "</table>\n",
       "</div>"
      ],
      "text/plain": [
       "  Category  Values\n",
       "0        A      32\n",
       "1        B      43\n",
       "2        C      50"
      ]
     },
     "execution_count": 19,
     "metadata": {},
     "output_type": "execute_result"
    }
   ],
   "source": [
    "df2"
   ]
  },
  {
   "cell_type": "code",
   "execution_count": 20,
   "metadata": {},
   "outputs": [
    {
     "data": {
      "text/plain": [
       "<AxesSubplot:xlabel='Category'>"
      ]
     },
     "execution_count": 20,
     "metadata": {},
     "output_type": "execute_result"
    },
    {
     "data": {
      "image/png": "[encoded data removed]",
      "text/plain": [
       "<Figure size 432x288 with 1 Axes>"
      ]
     },
     "metadata": {
      "needs_background": "light"
     },
     "output_type": "display_data"
    }
   ],
   "source": [
    "df2.plot(kind='bar', x='Category',y='Values')"
   ]
  },
  {
   "cell_type": "code",
   "execution_count": 21,
   "metadata": {},
   "outputs": [
    {
     "data": {
      "text/html": [
       "<div>\n",
       "<style scoped>\n",
       "    .dataframe tbody tr th:only-of-type {\n",
       "        vertical-align: middle;\n",
       "    }\n",
       "\n",
       "    .dataframe tbody tr th {\n",
       "        vertical-align: top;\n",
       "    }\n",
       "\n",
       "    .dataframe thead th {\n",
       "        text-align: right;\n",
       "    }\n",
       "</style>\n",
       "<table border=\"1\" class=\"dataframe\">\n",
       "  <thead>\n",
       "    <tr style=\"text-align: right;\">\n",
       "      <th></th>\n",
       "      <th>A</th>\n",
       "      <th>B</th>\n",
       "      <th>C</th>\n",
       "      <th>D</th>\n",
       "    </tr>\n",
       "  </thead>\n",
       "  <tbody>\n",
       "    <tr>\n",
       "      <th>0</th>\n",
       "      <td>0.435762</td>\n",
       "      <td>0.747097</td>\n",
       "      <td>0.368238</td>\n",
       "      <td>-0.946195</td>\n",
       "    </tr>\n",
       "    <tr>\n",
       "      <th>1</th>\n",
       "      <td>0.039200</td>\n",
       "      <td>-1.521904</td>\n",
       "      <td>0.346689</td>\n",
       "      <td>0.649051</td>\n",
       "    </tr>\n",
       "    <tr>\n",
       "      <th>2</th>\n",
       "      <td>-0.082810</td>\n",
       "      <td>-0.098099</td>\n",
       "      <td>-0.369138</td>\n",
       "      <td>-2.885678</td>\n",
       "    </tr>\n",
       "    <tr>\n",
       "      <th>3</th>\n",
       "      <td>-0.069000</td>\n",
       "      <td>-1.250223</td>\n",
       "      <td>0.185145</td>\n",
       "      <td>0.754318</td>\n",
       "    </tr>\n",
       "    <tr>\n",
       "      <th>4</th>\n",
       "      <td>-0.744519</td>\n",
       "      <td>-0.698474</td>\n",
       "      <td>-1.088719</td>\n",
       "      <td>-1.262047</td>\n",
       "    </tr>\n",
       "    <tr>\n",
       "      <th>...</th>\n",
       "      <td>...</td>\n",
       "      <td>...</td>\n",
       "      <td>...</td>\n",
       "      <td>...</td>\n",
       "    </tr>\n",
       "    <tr>\n",
       "      <th>95</th>\n",
       "      <td>-0.328084</td>\n",
       "      <td>1.337639</td>\n",
       "      <td>-0.844383</td>\n",
       "      <td>1.903423</td>\n",
       "    </tr>\n",
       "    <tr>\n",
       "      <th>96</th>\n",
       "      <td>0.720939</td>\n",
       "      <td>-0.203613</td>\n",
       "      <td>-1.105500</td>\n",
       "      <td>0.627939</td>\n",
       "    </tr>\n",
       "    <tr>\n",
       "      <th>97</th>\n",
       "      <td>-0.034540</td>\n",
       "      <td>-0.116389</td>\n",
       "      <td>0.314149</td>\n",
       "      <td>-0.856584</td>\n",
       "    </tr>\n",
       "    <tr>\n",
       "      <th>98</th>\n",
       "      <td>-0.094955</td>\n",
       "      <td>-0.054452</td>\n",
       "      <td>-0.193471</td>\n",
       "      <td>0.602691</td>\n",
       "    </tr>\n",
       "    <tr>\n",
       "      <th>99</th>\n",
       "      <td>-0.891015</td>\n",
       "      <td>0.382118</td>\n",
       "      <td>0.194948</td>\n",
       "      <td>-0.082808</td>\n",
       "    </tr>\n",
       "  </tbody>\n",
       "</table>\n",
       "<p>100 rows × 4 columns</p>\n",
       "</div>"
      ],
      "text/plain": [
       "           A         B         C         D\n",
       "0   0.435762  0.747097  0.368238 -0.946195\n",
       "1   0.039200 -1.521904  0.346689  0.649051\n",
       "2  -0.082810 -0.098099 -0.369138 -2.885678\n",
       "3  -0.069000 -1.250223  0.185145  0.754318\n",
       "4  -0.744519 -0.698474 -1.088719 -1.262047\n",
       "..       ...       ...       ...       ...\n",
       "95 -0.328084  1.337639 -0.844383  1.903423\n",
       "96  0.720939 -0.203613 -1.105500  0.627939\n",
       "97 -0.034540 -0.116389  0.314149 -0.856584\n",
       "98 -0.094955 -0.054452 -0.193471  0.602691\n",
       "99 -0.891015  0.382118  0.194948 -0.082808\n",
       "\n",
       "[100 rows x 4 columns]"
      ]
     },
     "execution_count": 21,
     "metadata": {},
     "output_type": "execute_result"
    }
   ],
   "source": [
    "df"
   ]
  },
  {
   "cell_type": "code",
   "execution_count": 22,
   "metadata": {},
   "outputs": [
    {
     "data": {
      "text/plain": [
       "<AxesSubplot:>"
      ]
     },
     "execution_count": 22,
     "metadata": {},
     "output_type": "execute_result"
    },
    {
     "data": {
      "image/png": "[encoded data removed]",
      "text/plain": [
       "<Figure size 432x288 with 1 Axes>"
      ]
     },
     "metadata": {
      "needs_background": "light"
     },
     "output_type": "display_data"
    }
   ],
   "source": [
    "df.count().plot(kind='bar')"
   ]
  },
  {
   "cell_type": "code",
   "execution_count": 23,
   "metadata": {},
   "outputs": [
    {
     "data": {
      "text/plain": [
       "<AxesSubplot:>"
      ]
     },
     "execution_count": 23,
     "metadata": {},
     "output_type": "execute_result"
    },
    {
     "data": {
      "image/png": "[encoded data removed]",
      "text/plain": [
       "<Figure size 432x288 with 1 Axes>"
      ]
     },
     "metadata": {
      "needs_background": "light"
     },
     "output_type": "display_data"
    }
   ],
   "source": [
    "df.sum().plot(kind='bar')"
   ]
  },
  {
   "cell_type": "code",
   "execution_count": 24,
   "metadata": {},
   "outputs": [
    {
     "data": {
      "application/vnd.plotly.v1+json": {
       "config": {
        "linkText": "Export to plot.ly",
        "plotlyServerURL": "https://plot.ly",
        "showLink": true
       },
       "data": [
        {
         "boxpoints": false,
         "line": {
          "width": 1.3
         },
         "marker": {
          "color": "rgba(255, 153, 51, 1.0)"
         },
         "name": "A",
         "orientation": "v",
         "type": "box",
         "y": [
          0.43576161330137125,
          0.0392002026600367,
          -0.0828096051226737,
          -0.06899993842236976,
          -0.7445185078343501,
          -0.5818104718774442,
          0.20812256881462257,
          1.5771047203879411,
          -0.6229410571707626,
          -0.2542553127090784,
          -0.8616883603461633,
          -0.6882323696812119,
          1.6091381292540365,
          -0.08960730935903875,
          1.477667203229447,
          -1.1289770047232348,
          -0.37757591613281366,
          -0.9555659233157126,
          -0.8716190463369677,
          2.3343739223771967,
          -0.5804185512560397,
          -0.34512219064872196,
          1.0009426139151563,
          -0.03638635948039409,
          -0.4795511213004423,
          -0.38710379078114443,
          -0.5982291373045885,
          0.8057103455189922,
          0.07653649862068276,
          1.8789206942278476,
          -1.9870408379249231,
          -1.2534934267964573,
          1.1424388929052163,
          -0.19667780218489977,
          0.6672725785699418,
          0.22197020125418726,
          0.40375610544655427,
          0.790455120710436,
          0.47759724675807447,
          1.188441738310553,
          2.5966130677908876,
          -0.6307284045262942,
          0.07962977335776215,
          0.3075091604528683,
          -1.4964756673073725,
          -0.12521366306897264,
          -1.2358732389987421,
          -0.2360811692397413,
          -2.282498392530906,
          0.7428373771981449,
          -0.6288414109073985,
          0.6230290519320041,
          0.716991257672416,
          0.2741062424132256,
          0.9315691700047641,
          2.246444132120593,
          -0.09798021170589394,
          -1.4133581682943,
          0.27061743914078784,
          0.5896664688392396,
          0.049326040185358244,
          -1.6878301432568965,
          -2.048608617619134,
          0.44524418456960363,
          -0.9380811961782093,
          -1.88596316407578,
          0.6201094070399932,
          -1.5569988864741955,
          -0.5969142673083347,
          1.7125329163547705,
          2.0185871649641642,
          -1.2330424798204571,
          1.2660998430994834,
          0.4475507802687231,
          -0.808620887480285,
          -0.17552478952105183,
          -1.0126133692310482,
          -3.675695561961809,
          0.028560931347580483,
          1.92983422047473,
          0.35556609859758814,
          -0.06511288145789168,
          -0.25838345482305736,
          -1.2400752553123529,
          -0.34078316151973576,
          0.5430289046145775,
          -0.8056959136889844,
          1.6300090038319708,
          0.1558133548094795,
          0.09620023351258908,
          -0.7846317882449255,
          -2.5182101025471333,
          0.5562799597495309,
          0.16046651940046647,
          -0.21954404954103748,
          -0.32808367130031724,
          0.7209387084058826,
          -0.0345397981985188,
          -0.09495490706369364,
          -0.8910145283144787
         ]
        },
        {
         "boxpoints": false,
         "line": {
          "width": 1.3
         },
         "marker": {
          "color": "rgba(55, 128, 191, 1.0)"
         },
         "name": "B",
         "orientation": "v",
         "type": "box",
         "y": [
          0.7470965589601339,
          -1.5219044668573725,
          -0.09809943298661565,
          -1.250222948666942,
          -0.698474158306239,
          0.9150731563300875,
          -1.7165979226019592,
          -1.2451154557852744,
          -0.4204666686443543,
          -0.0012794767147798895,
          -0.261186490901393,
          -0.3538924472485142,
          1.9908666564163198,
          0.851133799942738,
          1.5852483356617322,
          0.9124402543743519,
          0.5349719533559576,
          -0.7486594206111689,
          0.4215163263542885,
          -0.477420154232497,
          0.7682913569156996,
          1.1072895097909077,
          2.054407350902693,
          1.6175776756957496,
          0.5611477786926051,
          1.4031946166589802,
          -1.0167138268528113,
          0.19646954503078082,
          0.945974554393974,
          0.9408949156430599,
          1.1413517627554308,
          -0.1357448260510389,
          -0.04351760173125842,
          -0.8512903450571877,
          0.91744346009552,
          -0.1542511662085185,
          0.7063318506651899,
          -0.3031156931539478,
          -1.6443563957714007,
          1.2650837687557859,
          -0.8311250713611842,
          0.13834368861202084,
          0.31895857306174547,
          -0.5449946250740695,
          -3.262605243961339,
          -1.418654021604739,
          1.7861024688943528,
          0.6224571859649373,
          0.09101051584656397,
          0.6521919226727627,
          1.3058238267837332,
          -1.0018932539119865,
          0.36743339504271666,
          0.7195461980329014,
          -0.7852233456105248,
          -0.5934846408673413,
          -1.8222702027000843,
          -0.6168587967023298,
          -0.5414383002922646,
          -0.5421020917700555,
          0.12406293568327871,
          2.325695325282169,
          -0.3056098266005972,
          -1.2400002200650149,
          -0.7547227374480309,
          0.053572223237500154,
          1.209431097011376,
          2.2161223547948716,
          -0.42419252357043197,
          0.47008337374490233,
          -1.2385983525496629,
          0.4083282423594256,
          1.1018396289990668,
          -1.3439267263174357,
          -1.2148010375833018,
          1.378503549128289,
          -0.865442571080681,
          1.4981255490911167,
          0.5268652709491807,
          -0.5864705000603173,
          -0.03251046298779092,
          -1.657971247262324,
          0.5387740305912381,
          0.33891930104974144,
          -0.017631905464170265,
          0.235035832459136,
          -0.22302903550297953,
          -0.42911270255814304,
          0.45012009799066305,
          -0.9780296593173486,
          -0.11851579616469118,
          1.047681204062073,
          0.9889001376060471,
          1.3966008775466294,
          0.09077097106105908,
          1.3376388975447437,
          -0.2036133802195914,
          -0.11638871633048702,
          -0.054452121594433106,
          0.382117572004654
         ]
        },
        {
         "boxpoints": false,
         "line": {
          "width": 1.3
         },
         "marker": {
          "color": "rgba(50, 171, 96, 1.0)"
         },
         "name": "C",
         "orientation": "v",
         "type": "box",
         "y": [
          0.3682377144132527,
          0.3466890761278271,
          -0.36913753005199823,
          0.18514537841315948,
          -1.0887193428018571,
          0.8197485014104589,
          -1.2480792457914922,
          0.8032857896965091,
          -0.7372634145936622,
          1.8916263785651137,
          -1.0091640111893094,
          0.6669618923940757,
          -1.2347372819390838,
          0.3586286742808286,
          -0.17797767358538108,
          0.14261496579823077,
          -1.6054052554704594,
          1.1746627862690353,
          0.22194911958937508,
          -0.3491598059032676,
          -0.9997487538488474,
          0.9665740152979908,
          -0.5974613801113016,
          1.2027824998329095,
          0.8055499031272653,
          -1.1705064006479604,
          0.805894459386693,
          0.08228254999688683,
          1.0887366927019209,
          1.4106915911500681,
          -0.867900972018244,
          -0.6339851583086878,
          -1.3890048876027952,
          -0.7127045563198836,
          0.4898398447200245,
          0.14869214579216922,
          0.9874702488096306,
          -0.5974306475460034,
          -0.059375257352179585,
          1.2348799507675814,
          0.45432412727610216,
          -0.39615476589886783,
          -0.6116096177234337,
          0.12343362764980646,
          -1.2793811350833177,
          1.7621541021838003,
          -1.6575406700058628,
          -0.9102543410907438,
          -1.8037290171758542,
          -0.562133591486102,
          -1.542449489376436,
          1.5622069830921548,
          -0.015535066606124135,
          0.19179000418996284,
          -0.3865933407686439,
          0.3767014127544314,
          -0.39035565729367816,
          -0.17593237649210466,
          0.5010787800055183,
          1.5068826796973953,
          0.7548535916650044,
          -0.09345064568866177,
          -0.6748023482836941,
          -0.007867500606330622,
          1.2452765230361882,
          -1.9797610765138551,
          2.288109166982434,
          0.3158001520261646,
          -1.0022812872462648,
          0.14323345564166073,
          0.9297586307776996,
          1.1613537249460568,
          -0.535713295674978,
          -0.04247466282924876,
          -1.0864391841694818,
          -0.17535156734247248,
          -1.0435435528269077,
          1.4972108118555416,
          0.5443510427237117,
          0.4522251302277498,
          -1.3806338969360445,
          1.5394722937803447,
          -0.5669625412314382,
          -0.09449124702752644,
          0.7425778961101418,
          0.4196628907191677,
          -0.2982502752981818,
          1.1018302596780367,
          1.041507789996542,
          0.1229506045307668,
          -0.3239100280384493,
          1.7517960645639947,
          -1.593660968080219,
          -0.29520459008899336,
          -1.1079059337127208,
          -0.8443831132442462,
          -1.105499520464632,
          0.31414854886524113,
          -0.19347118107445258,
          0.1949481448016391
         ]
        },
        {
         "boxpoints": false,
         "line": {
          "width": 1.3
         },
         "marker": {
          "color": "rgba(128, 0, 128, 1.0)"
         },
         "name": "D",
         "orientation": "v",
         "type": "box",
         "y": [
          -0.9461952856679982,
          0.6490505117458512,
          -2.8856777417148423,
          0.7543179079921039,
          -1.2620466925622829,
          -0.29671662214552724,
          -0.12432979792114747,
          0.4055078787706235,
          -1.6849278164940076,
          0.7592765208403887,
          0.7295973675512063,
          -1.2289778806316503,
          0.4746662390192041,
          -1.9467463645444505,
          1.279041672422795,
          0.28596923632067106,
          -1.1047989995477818,
          -0.2750916111734189,
          -0.004445869216080266,
          -0.8447524529656686,
          -1.0847559402515845,
          -0.36831017623822854,
          1.7849046353242075,
          0.09457412928279552,
          -1.5220100918781827,
          -0.7204173596427004,
          -0.8406541388820522,
          1.7828216483160868,
          0.5723990541038184,
          0.04134495585573406,
          -0.043738453631860075,
          -0.062351447856486206,
          -1.029165749659944,
          -0.6464275203370826,
          -2.4790377438704385,
          0.8924262480171544,
          -0.09287039344225873,
          -0.5987040240203508,
          -0.3852951367141403,
          -0.5946067828347857,
          -1.338306940118594,
          -1.143664724386562,
          0.23717244680581728,
          -1.0553239866701294,
          -1.768056578374799,
          -0.43961323355406806,
          -1.8203198565273977,
          0.2950382232612245,
          0.241784236809698,
          -0.609871180395315,
          1.1389627799474984,
          0.09800288010116572,
          -0.31334022306554643,
          -0.11281582001464618,
          -0.8450599277568367,
          1.0914831382708754,
          -0.06812203830684074,
          -0.06485931824662995,
          0.06345771885869014,
          0.780898024037899,
          0.38519174605760986,
          1.5596975457436253,
          -1.1573456724277826,
          1.4445043903679835,
          0.10738099318593422,
          -0.6889425940821164,
          -0.10029195797902998,
          0.17541820166233416,
          0.4910207830569502,
          0.5130207172331803,
          -2.1113232049226838,
          0.7494933159230787,
          0.2930842867454575,
          -0.9881669095762277,
          -2.252876926788418,
          -0.613739798262879,
          0.11338688536083144,
          0.1529186605142726,
          0.5601423111987032,
          0.27164095954332557,
          -0.590306556357339,
          -0.19359801024144416,
          -0.5727331843839251,
          1.8325506531733573,
          1.149233790873831,
          -2.393557334344154,
          -1.2250112430753446,
          -0.9124986713695532,
          -0.03101020857729068,
          0.90728421512498,
          -0.3583318565094099,
          2.519005246911356,
          -0.4151337693932833,
          0.03665958749737384,
          -0.4331483093163314,
          1.9034225405674647,
          0.6279386320745678,
          -0.8565835172293262,
          0.6026905340869714,
          -0.08280840058685728
         ]
        }
       ],
       "layout": {
        "legend": {
         "bgcolor": "#F5F6F9",
         "font": {
          "color": "#4D5663"
         }
        },
        "paper_bgcolor": "#F5F6F9",
        "plot_bgcolor": "#F5F6F9",
        "template": {
         "data": {
          "bar": [
           {
            "error_x": {
             "color": "#2a3f5f"
            },
            "error_y": {
             "color": "#2a3f5f"
            },
            "marker": {
             "line": {
              "color": "#E5ECF6",
              "width": 0.5
             },
             "pattern": {
              "fillmode": "overlay",
              "size": 10,
              "solidity": 0.2
             }
            },
            "type": "bar"
           }
          ],
          "barpolar": [
           {
            "marker": {
             "line": {
              "color": "#E5ECF6",
              "width": 0.5
             },
             "pattern": {
              "fillmode": "overlay",
              "size": 10,
              "solidity": 0.2
             }
            },
            "type": "barpolar"
           }
          ],
          "carpet": [
           {
            "aaxis": {
             "endlinecolor": "#2a3f5f",
             "gridcolor": "white",
             "linecolor": "white",
             "minorgridcolor": "white",
             "startlinecolor": "#2a3f5f"
            },
            "baxis": {
             "endlinecolor": "#2a3f5f",
             "gridcolor": "white",
             "linecolor": "white",
             "minorgridcolor": "white",
             "startlinecolor": "#2a3f5f"
            },
            "type": "carpet"
           }
          ],
          "choropleth": [
           {
            "colorbar": {
             "outlinewidth": 0,
             "ticks": ""
            },
            "type": "choropleth"
           }
          ],
          "contour": [
           {
            "colorbar": {
             "outlinewidth": 0,
             "ticks": ""
            },
            "colorscale": [
             [
              0,
              "#0d0887"
             ],
             [
              0.1111111111111111,
              "#46039f"
             ],
             [
              0.2222222222222222,
              "#7201a8"
             ],
             [
              0.3333333333333333,
              "#9c179e"
             ],
             [
              0.4444444444444444,
              "#bd3786"
             ],
             [
              0.5555555555555556,
              "#d8576b"
             ],
             [
              0.6666666666666666,
              "#ed7953"
             ],
             [
              0.7777777777777778,
              "#fb9f3a"
             ],
             [
              0.8888888888888888,
              "#fdca26"
             ],
             [
              1,
              "#f0f921"
             ]
            ],
            "type": "contour"
           }
          ],
          "contourcarpet": [
           {
            "colorbar": {
             "outlinewidth": 0,
             "ticks": ""
            },
            "type": "contourcarpet"
           }
          ],
          "heatmap": [
           {
            "colorbar": {
             "outlinewidth": 0,
             "ticks": ""
            },
            "colorscale": [
             [
              0,
              "#0d0887"
             ],
             [
              0.1111111111111111,
              "#46039f"
             ],
             [
              0.2222222222222222,
              "#7201a8"
             ],
             [
              0.3333333333333333,
              "#9c179e"
             ],
             [
              0.4444444444444444,
              "#bd3786"
             ],
             [
              0.5555555555555556,
              "#d8576b"
             ],
             [
              0.6666666666666666,
              "#ed7953"
             ],
             [
              0.7777777777777778,
              "#fb9f3a"
             ],
             [
              0.8888888888888888,
              "#fdca26"
             ],
             [
              1,
              "#f0f921"
             ]
            ],
            "type": "heatmap"
           }
          ],
          "heatmapgl": [
           {
            "colorbar": {
             "outlinewidth": 0,
             "ticks": ""
            },
            "colorscale": [
             [
              0,
              "#0d0887"
             ],
             [
              0.1111111111111111,
              "#46039f"
             ],
             [
              0.2222222222222222,
              "#7201a8"
             ],
             [
              0.3333333333333333,
              "#9c179e"
             ],
             [
              0.4444444444444444,
              "#bd3786"
             ],
             [
              0.5555555555555556,
              "#d8576b"
             ],
             [
              0.6666666666666666,
              "#ed7953"
             ],
             [
              0.7777777777777778,
              "#fb9f3a"
             ],
             [
              0.8888888888888888,
              "#fdca26"
             ],
             [
              1,
              "#f0f921"
             ]
            ],
            "type": "heatmapgl"
           }
          ],
          "histogram": [
           {
            "marker": {
             "pattern": {
              "fillmode": "overlay",
              "size": 10,
              "solidity": 0.2
             }
            },
            "type": "histogram"
           }
          ],
          "histogram2d": [
           {
            "colorbar": {
             "outlinewidth": 0,
             "ticks": ""
            },
            "colorscale": [
             [
              0,
              "#0d0887"
             ],
             [
              0.1111111111111111,
              "#46039f"
             ],
             [
              0.2222222222222222,
              "#7201a8"
             ],
             [
              0.3333333333333333,
              "#9c179e"
             ],
             [
              0.4444444444444444,
              "#bd3786"
             ],
             [
              0.5555555555555556,
              "#d8576b"
             ],
             [
              0.6666666666666666,
              "#ed7953"
             ],
             [
              0.7777777777777778,
              "#fb9f3a"
             ],
             [
              0.8888888888888888,
              "#fdca26"
             ],
             [
              1,
              "#f0f921"
             ]
            ],
            "type": "histogram2d"
           }
          ],
          "histogram2dcontour": [
           {
            "colorbar": {
             "outlinewidth": 0,
             "ticks": ""
            },
            "colorscale": [
             [
              0,
              "#0d0887"
             ],
             [
              0.1111111111111111,
              "#46039f"
             ],
             [
              0.2222222222222222,
              "#7201a8"
             ],
             [
              0.3333333333333333,
              "#9c179e"
             ],
             [
              0.4444444444444444,
              "#bd3786"
             ],
             [
              0.5555555555555556,
              "#d8576b"
             ],
             [
              0.6666666666666666,
              "#ed7953"
             ],
             [
              0.7777777777777778,
              "#fb9f3a"
             ],
             [
              0.8888888888888888,
              "#fdca26"
             ],
             [
              1,
              "#f0f921"
             ]
            ],
            "type": "histogram2dcontour"
           }
          ],
          "mesh3d": [
           {
            "colorbar": {
             "outlinewidth": 0,
             "ticks": ""
            },
            "type": "mesh3d"
           }
          ],
          "parcoords": [
           {
            "line": {
             "colorbar": {
              "outlinewidth": 0,
              "ticks": ""
             }
            },
            "type": "parcoords"
           }
          ],
          "pie": [
           {
            "automargin": true,
            "type": "pie"
           }
          ],
          "scatter": [
           {
            "marker": {
             "colorbar": {
              "outlinewidth": 0,
              "ticks": ""
             }
            },
            "type": "scatter"
           }
          ],
          "scatter3d": [
           {
            "line": {
             "colorbar": {
              "outlinewidth": 0,
              "ticks": ""
             }
            },
            "marker": {
             "colorbar": {
              "outlinewidth": 0,
              "ticks": ""
             }
            },
            "type": "scatter3d"
           }
          ],
          "scattercarpet": [
           {
            "marker": {
             "colorbar": {
              "outlinewidth": 0,
              "ticks": ""
             }
            },
            "type": "scattercarpet"
           }
          ],
          "scattergeo": [
           {
            "marker": {
             "colorbar": {
              "outlinewidth": 0,
              "ticks": ""
             }
            },
            "type": "scattergeo"
           }
          ],
          "scattergl": [
           {
            "marker": {
             "colorbar": {
              "outlinewidth": 0,
              "ticks": ""
             }
            },
            "type": "scattergl"
           }
          ],
          "scattermapbox": [
           {
            "marker": {
             "colorbar": {
              "outlinewidth": 0,
              "ticks": ""
             }
            },
            "type": "scattermapbox"
           }
          ],
          "scatterpolar": [
           {
            "marker": {
             "colorbar": {
              "outlinewidth": 0,
              "ticks": ""
             }
            },
            "type": "scatterpolar"
           }
          ],
          "scatterpolargl": [
           {
            "marker": {
             "colorbar": {
              "outlinewidth": 0,
              "ticks": ""
             }
            },
            "type": "scatterpolargl"
           }
          ],
          "scatterternary": [
           {
            "marker": {
             "colorbar": {
              "outlinewidth": 0,
              "ticks": ""
             }
            },
            "type": "scatterternary"
           }
          ],
          "surface": [
           {
            "colorbar": {
             "outlinewidth": 0,
             "ticks": ""
            },
            "colorscale": [
             [
              0,
              "#0d0887"
             ],
             [
              0.1111111111111111,
              "#46039f"
             ],
             [
              0.2222222222222222,
              "#7201a8"
             ],
             [
              0.3333333333333333,
              "#9c179e"
             ],
             [
              0.4444444444444444,
              "#bd3786"
             ],
             [
              0.5555555555555556,
              "#d8576b"
             ],
             [
              0.6666666666666666,
              "#ed7953"
             ],
             [
              0.7777777777777778,
              "#fb9f3a"
             ],
             [
              0.8888888888888888,
              "#fdca26"
             ],
             [
              1,
              "#f0f921"
             ]
            ],
            "type": "surface"
           }
          ],
          "table": [
           {
            "cells": {
             "fill": {
              "color": "#EBF0F8"
             },
             "line": {
              "color": "white"
             }
            },
            "header": {
             "fill": {
              "color": "#C8D4E3"
             },
             "line": {
              "color": "white"
             }
            },
            "type": "table"
           }
          ]
         },
         "layout": {
          "annotationdefaults": {
           "arrowcolor": "#2a3f5f",
           "arrowhead": 0,
           "arrowwidth": 1
          },
          "autotypenumbers": "strict",
          "coloraxis": {
           "colorbar": {
            "outlinewidth": 0,
            "ticks": ""
           }
          },
          "colorscale": {
           "diverging": [
            [
             0,
             "#8e0152"
            ],
            [
             0.1,
             "#c51b7d"
            ],
            [
             0.2,
             "#de77ae"
            ],
            [
             0.3,
             "#f1b6da"
            ],
            [
             0.4,
             "#fde0ef"
            ],
            [
             0.5,
             "#f7f7f7"
            ],
            [
             0.6,
             "#e6f5d0"
            ],
            [
             0.7,
             "#b8e186"
            ],
            [
             0.8,
             "#7fbc41"
            ],
            [
             0.9,
             "#4d9221"
            ],
            [
             1,
             "#276419"
            ]
           ],
           "sequential": [
            [
             0,
             "#0d0887"
            ],
            [
             0.1111111111111111,
             "#46039f"
            ],
            [
             0.2222222222222222,
             "#7201a8"
            ],
            [
             0.3333333333333333,
             "#9c179e"
            ],
            [
             0.4444444444444444,
             "#bd3786"
            ],
            [
             0.5555555555555556,
             "#d8576b"
            ],
            [
             0.6666666666666666,
             "#ed7953"
            ],
            [
             0.7777777777777778,
             "#fb9f3a"
            ],
            [
             0.8888888888888888,
             "#fdca26"
            ],
            [
             1,
             "#f0f921"
            ]
           ],
           "sequentialminus": [
            [
             0,
             "#0d0887"
            ],
            [
             0.1111111111111111,
             "#46039f"
            ],
            [
             0.2222222222222222,
             "#7201a8"
            ],
            [
             0.3333333333333333,
             "#9c179e"
            ],
            [
             0.4444444444444444,
             "#bd3786"
            ],
            [
             0.5555555555555556,
             "#d8576b"
            ],
            [
             0.6666666666666666,
             "#ed7953"
            ],
            [
             0.7777777777777778,
             "#fb9f3a"
            ],
            [
             0.8888888888888888,
             "#fdca26"
            ],
            [
             1,
             "#f0f921"
            ]
           ]
          },
          "colorway": [
           "#636efa",
           "#EF553B",
           "#00cc96",
           "#ab63fa",
           "#FFA15A",
           "#19d3f3",
           "#FF6692",
           "#B6E880",
           "#FF97FF",
           "#FECB52"
          ],
          "font": {
           "color": "#2a3f5f"
          },
          "geo": {
           "bgcolor": "white",
           "lakecolor": "white",
           "landcolor": "#E5ECF6",
           "showlakes": true,
           "showland": true,
           "subunitcolor": "white"
          },
          "hoverlabel": {
           "align": "left"
          },
          "hovermode": "closest",
          "mapbox": {
           "style": "light"
          },
          "paper_bgcolor": "white",
          "plot_bgcolor": "#E5ECF6",
          "polar": {
           "angularaxis": {
            "gridcolor": "white",
            "linecolor": "white",
            "ticks": ""
           },
           "bgcolor": "#E5ECF6",
           "radialaxis": {
            "gridcolor": "white",
            "linecolor": "white",
            "ticks": ""
           }
          },
          "scene": {
           "xaxis": {
            "backgroundcolor": "#E5ECF6",
            "gridcolor": "white",
            "gridwidth": 2,
            "linecolor": "white",
            "showbackground": true,
            "ticks": "",
            "zerolinecolor": "white"
           },
           "yaxis": {
            "backgroundcolor": "#E5ECF6",
            "gridcolor": "white",
            "gridwidth": 2,
            "linecolor": "white",
            "showbackground": true,
            "ticks": "",
            "zerolinecolor": "white"
           },
           "zaxis": {
            "backgroundcolor": "#E5ECF6",
            "gridcolor": "white",
            "gridwidth": 2,
            "linecolor": "white",
            "showbackground": true,
            "ticks": "",
            "zerolinecolor": "white"
           }
          },
          "shapedefaults": {
           "line": {
            "color": "#2a3f5f"
           }
          },
          "ternary": {
           "aaxis": {
            "gridcolor": "white",
            "linecolor": "white",
            "ticks": ""
           },
           "baxis": {
            "gridcolor": "white",
            "linecolor": "white",
            "ticks": ""
           },
           "bgcolor": "#E5ECF6",
           "caxis": {
            "gridcolor": "white",
            "linecolor": "white",
            "ticks": ""
           }
          },
          "title": {
           "x": 0.05
          },
          "xaxis": {
           "automargin": true,
           "gridcolor": "white",
           "linecolor": "white",
           "ticks": "",
           "title": {
            "standoff": 15
           },
           "zerolinecolor": "white",
           "zerolinewidth": 2
          },
          "yaxis": {
           "automargin": true,
           "gridcolor": "white",
           "linecolor": "white",
           "ticks": "",
           "title": {
            "standoff": 15
           },
           "zerolinecolor": "white",
           "zerolinewidth": 2
          }
         }
        },
        "title": {
         "font": {
          "color": "#4D5663"
         }
        },
        "xaxis": {
         "gridcolor": "#E1E5ED",
         "showgrid": true,
         "tickfont": {
          "color": "#4D5663"
         },
         "title": {
          "font": {
           "color": "#4D5663"
          },
          "text": ""
         },
         "zerolinecolor": "#E1E5ED"
        },
        "yaxis": {
         "gridcolor": "#E1E5ED",
         "showgrid": true,
         "tickfont": {
          "color": "#4D5663"
         },
         "title": {
          "font": {
           "color": "#4D5663"
          },
          "text": ""
         },
         "zerolinecolor": "#E1E5ED"
        }
       }
      },
      "text/html": [
       "<div>                            <div id=\"d7e452c4-1dff-4319-a859-503990d1d4eb\" class=\"plotly-graph-div\" style=\"height:525px; width:100%;\"></div>            <script type=\"text/javascript\">                require([\"plotly\"], function(Plotly) {                    window.PLOTLYENV=window.PLOTLYENV || {};\n",
       "                    window.PLOTLYENV.BASE_URL='https://plot.ly';                                    if (document.getElementById(\"d7e452c4-1dff-4319-a859-503990d1d4eb\")) {                    Plotly.newPlot(                        \"d7e452c4-1dff-4319-a859-503990d1d4eb\",                        [{\"boxpoints\":false,\"line\":{\"width\":1.3},\"marker\":{\"color\":\"rgba(255, 153, 51, 1.0)\"},\"name\":\"A\",\"orientation\":\"v\",\"y\":[0.43576161330137125,0.0392002026600367,-0.0828096051226737,-0.06899993842236976,-0.7445185078343501,-0.5818104718774442,0.20812256881462257,1.5771047203879411,-0.6229410571707626,-0.2542553127090784,-0.8616883603461633,-0.6882323696812119,1.6091381292540365,-0.08960730935903875,1.477667203229447,-1.1289770047232348,-0.37757591613281366,-0.9555659233157126,-0.8716190463369677,2.3343739223771967,-0.5804185512560397,-0.34512219064872196,1.0009426139151563,-0.03638635948039409,-0.4795511213004423,-0.38710379078114443,-0.5982291373045885,0.8057103455189922,0.07653649862068276,1.8789206942278476,-1.9870408379249231,-1.2534934267964573,1.1424388929052163,-0.19667780218489977,0.6672725785699418,0.22197020125418726,0.40375610544655427,0.790455120710436,0.47759724675807447,1.188441738310553,2.5966130677908876,-0.6307284045262942,0.07962977335776215,0.3075091604528683,-1.4964756673073725,-0.12521366306897264,-1.2358732389987421,-0.2360811692397413,-2.282498392530906,0.7428373771981449,-0.6288414109073985,0.6230290519320041,0.716991257672416,0.2741062424132256,0.9315691700047641,2.246444132120593,-0.09798021170589394,-1.4133581682943,0.27061743914078784,0.5896664688392396,0.049326040185358244,-1.6878301432568965,-2.048608617619134,0.44524418456960363,-0.9380811961782093,-1.88596316407578,0.6201094070399932,-1.5569988864741955,-0.5969142673083347,1.7125329163547705,2.0185871649641642,-1.2330424798204571,1.2660998430994834,0.4475507802687231,-0.808620887480285,-0.17552478952105183,-1.0126133692310482,-3.675695561961809,0.028560931347580483,1.92983422047473,0.35556609859758814,-0.06511288145789168,-0.25838345482305736,-1.2400752553123529,-0.34078316151973576,0.5430289046145775,-0.8056959136889844,1.6300090038319708,0.1558133548094795,0.09620023351258908,-0.7846317882449255,-2.5182101025471333,0.5562799597495309,0.16046651940046647,-0.21954404954103748,-0.32808367130031724,0.7209387084058826,-0.0345397981985188,-0.09495490706369364,-0.8910145283144787],\"type\":\"box\"},{\"boxpoints\":false,\"line\":{\"width\":1.3},\"marker\":{\"color\":\"rgba(55, 128, 191, 1.0)\"},\"name\":\"B\",\"orientation\":\"v\",\"y\":[0.7470965589601339,-1.5219044668573725,-0.09809943298661565,-1.250222948666942,-0.698474158306239,0.9150731563300875,-1.7165979226019592,-1.2451154557852744,-0.4204666686443543,-0.0012794767147798895,-0.261186490901393,-0.3538924472485142,1.9908666564163198,0.851133799942738,1.5852483356617322,0.9124402543743519,0.5349719533559576,-0.7486594206111689,0.4215163263542885,-0.477420154232497,0.7682913569156996,1.1072895097909077,2.054407350902693,1.6175776756957496,0.5611477786926051,1.4031946166589802,-1.0167138268528113,0.19646954503078082,0.945974554393974,0.9408949156430599,1.1413517627554308,-0.1357448260510389,-0.04351760173125842,-0.8512903450571877,0.91744346009552,-0.1542511662085185,0.7063318506651899,-0.3031156931539478,-1.6443563957714007,1.2650837687557859,-0.8311250713611842,0.13834368861202084,0.31895857306174547,-0.5449946250740695,-3.262605243961339,-1.418654021604739,1.7861024688943528,0.6224571859649373,0.09101051584656397,0.6521919226727627,1.3058238267837332,-1.0018932539119865,0.36743339504271666,0.7195461980329014,-0.7852233456105248,-0.5934846408673413,-1.8222702027000843,-0.6168587967023298,-0.5414383002922646,-0.5421020917700555,0.12406293568327871,2.325695325282169,-0.3056098266005972,-1.2400002200650149,-0.7547227374480309,0.053572223237500154,1.209431097011376,2.2161223547948716,-0.42419252357043197,0.47008337374490233,-1.2385983525496629,0.4083282423594256,1.1018396289990668,-1.3439267263174357,-1.2148010375833018,1.378503549128289,-0.865442571080681,1.4981255490911167,0.5268652709491807,-0.5864705000603173,-0.03251046298779092,-1.657971247262324,0.5387740305912381,0.33891930104974144,-0.017631905464170265,0.235035832459136,-0.22302903550297953,-0.42911270255814304,0.45012009799066305,-0.9780296593173486,-0.11851579616469118,1.047681204062073,0.9889001376060471,1.3966008775466294,0.09077097106105908,1.3376388975447437,-0.2036133802195914,-0.11638871633048702,-0.054452121594433106,0.382117572004654],\"type\":\"box\"},{\"boxpoints\":false,\"line\":{\"width\":1.3},\"marker\":{\"color\":\"rgba(50, 171, 96, 1.0)\"},\"name\":\"C\",\"orientation\":\"v\",\"y\":[0.3682377144132527,0.3466890761278271,-0.36913753005199823,0.18514537841315948,-1.0887193428018571,0.8197485014104589,-1.2480792457914922,0.8032857896965091,-0.7372634145936622,1.8916263785651137,-1.0091640111893094,0.6669618923940757,-1.2347372819390838,0.3586286742808286,-0.17797767358538108,0.14261496579823077,-1.6054052554704594,1.1746627862690353,0.22194911958937508,-0.3491598059032676,-0.9997487538488474,0.9665740152979908,-0.5974613801113016,1.2027824998329095,0.8055499031272653,-1.1705064006479604,0.805894459386693,0.08228254999688683,1.0887366927019209,1.4106915911500681,-0.867900972018244,-0.6339851583086878,-1.3890048876027952,-0.7127045563198836,0.4898398447200245,0.14869214579216922,0.9874702488096306,-0.5974306475460034,-0.059375257352179585,1.2348799507675814,0.45432412727610216,-0.39615476589886783,-0.6116096177234337,0.12343362764980646,-1.2793811350833177,1.7621541021838003,-1.6575406700058628,-0.9102543410907438,-1.8037290171758542,-0.562133591486102,-1.542449489376436,1.5622069830921548,-0.015535066606124135,0.19179000418996284,-0.3865933407686439,0.3767014127544314,-0.39035565729367816,-0.17593237649210466,0.5010787800055183,1.5068826796973953,0.7548535916650044,-0.09345064568866177,-0.6748023482836941,-0.007867500606330622,1.2452765230361882,-1.9797610765138551,2.288109166982434,0.3158001520261646,-1.0022812872462648,0.14323345564166073,0.9297586307776996,1.1613537249460568,-0.535713295674978,-0.04247466282924876,-1.0864391841694818,-0.17535156734247248,-1.0435435528269077,1.4972108118555416,0.5443510427237117,0.4522251302277498,-1.3806338969360445,1.5394722937803447,-0.5669625412314382,-0.09449124702752644,0.7425778961101418,0.4196628907191677,-0.2982502752981818,1.1018302596780367,1.041507789996542,0.1229506045307668,-0.3239100280384493,1.7517960645639947,-1.593660968080219,-0.29520459008899336,-1.1079059337127208,-0.8443831132442462,-1.105499520464632,0.31414854886524113,-0.19347118107445258,0.1949481448016391],\"type\":\"box\"},{\"boxpoints\":false,\"line\":{\"width\":1.3},\"marker\":{\"color\":\"rgba(128, 0, 128, 1.0)\"},\"name\":\"D\",\"orientation\":\"v\",\"y\":[-0.9461952856679982,0.6490505117458512,-2.8856777417148423,0.7543179079921039,-1.2620466925622829,-0.29671662214552724,-0.12432979792114747,0.4055078787706235,-1.6849278164940076,0.7592765208403887,0.7295973675512063,-1.2289778806316503,0.4746662390192041,-1.9467463645444505,1.279041672422795,0.28596923632067106,-1.1047989995477818,-0.2750916111734189,-0.004445869216080266,-0.8447524529656686,-1.0847559402515845,-0.36831017623822854,1.7849046353242075,0.09457412928279552,-1.5220100918781827,-0.7204173596427004,-0.8406541388820522,1.7828216483160868,0.5723990541038184,0.04134495585573406,-0.043738453631860075,-0.062351447856486206,-1.029165749659944,-0.6464275203370826,-2.4790377438704385,0.8924262480171544,-0.09287039344225873,-0.5987040240203508,-0.3852951367141403,-0.5946067828347857,-1.338306940118594,-1.143664724386562,0.23717244680581728,-1.0553239866701294,-1.768056578374799,-0.43961323355406806,-1.8203198565273977,0.2950382232612245,0.241784236809698,-0.609871180395315,1.1389627799474984,0.09800288010116572,-0.31334022306554643,-0.11281582001464618,-0.8450599277568367,1.0914831382708754,-0.06812203830684074,-0.06485931824662995,0.06345771885869014,0.780898024037899,0.38519174605760986,1.5596975457436253,-1.1573456724277826,1.4445043903679835,0.10738099318593422,-0.6889425940821164,-0.10029195797902998,0.17541820166233416,0.4910207830569502,0.5130207172331803,-2.1113232049226838,0.7494933159230787,0.2930842867454575,-0.9881669095762277,-2.252876926788418,-0.613739798262879,0.11338688536083144,0.1529186605142726,0.5601423111987032,0.27164095954332557,-0.590306556357339,-0.19359801024144416,-0.5727331843839251,1.8325506531733573,1.149233790873831,-2.393557334344154,-1.2250112430753446,-0.9124986713695532,-0.03101020857729068,0.90728421512498,-0.3583318565094099,2.519005246911356,-0.4151337693932833,0.03665958749737384,-0.4331483093163314,1.9034225405674647,0.6279386320745678,-0.8565835172293262,0.6026905340869714,-0.08280840058685728],\"type\":\"box\"}],                        {\"legend\":{\"bgcolor\":\"#F5F6F9\",\"font\":{\"color\":\"#4D5663\"}},\"paper_bgcolor\":\"#F5F6F9\",\"plot_bgcolor\":\"#F5F6F9\",\"template\":{\"data\":{\"barpolar\":[{\"marker\":{\"line\":{\"color\":\"#E5ECF6\",\"width\":0.5},\"pattern\":{\"fillmode\":\"overlay\",\"size\":10,\"solidity\":0.2}},\"type\":\"barpolar\"}],\"bar\":[{\"error_x\":{\"color\":\"#2a3f5f\"},\"error_y\":{\"color\":\"#2a3f5f\"},\"marker\":{\"line\":{\"color\":\"#E5ECF6\",\"width\":0.5},\"pattern\":{\"fillmode\":\"overlay\",\"size\":10,\"solidity\":0.2}},\"type\":\"bar\"}],\"carpet\":[{\"aaxis\":{\"endlinecolor\":\"#2a3f5f\",\"gridcolor\":\"white\",\"linecolor\":\"white\",\"minorgridcolor\":\"white\",\"startlinecolor\":\"#2a3f5f\"},\"baxis\":{\"endlinecolor\":\"#2a3f5f\",\"gridcolor\":\"white\",\"linecolor\":\"white\",\"minorgridcolor\":\"white\",\"startlinecolor\":\"#2a3f5f\"},\"type\":\"carpet\"}],\"choropleth\":[{\"colorbar\":{\"outlinewidth\":0,\"ticks\":\"\"},\"type\":\"choropleth\"}],\"contourcarpet\":[{\"colorbar\":{\"outlinewidth\":0,\"ticks\":\"\"},\"type\":\"contourcarpet\"}],\"contour\":[{\"colorbar\":{\"outlinewidth\":0,\"ticks\":\"\"},\"colorscale\":[[0.0,\"#0d0887\"],[0.1111111111111111,\"#46039f\"],[0.2222222222222222,\"#7201a8\"],[0.3333333333333333,\"#9c179e\"],[0.4444444444444444,\"#bd3786\"],[0.5555555555555556,\"#d8576b\"],[0.6666666666666666,\"#ed7953\"],[0.7777777777777778,\"#fb9f3a\"],[0.8888888888888888,\"#fdca26\"],[1.0,\"#f0f921\"]],\"type\":\"contour\"}],\"heatmapgl\":[{\"colorbar\":{\"outlinewidth\":0,\"ticks\":\"\"},\"colorscale\":[[0.0,\"#0d0887\"],[0.1111111111111111,\"#46039f\"],[0.2222222222222222,\"#7201a8\"],[0.3333333333333333,\"#9c179e\"],[0.4444444444444444,\"#bd3786\"],[0.5555555555555556,\"#d8576b\"],[0.6666666666666666,\"#ed7953\"],[0.7777777777777778,\"#fb9f3a\"],[0.8888888888888888,\"#fdca26\"],[1.0,\"#f0f921\"]],\"type\":\"heatmapgl\"}],\"heatmap\":[{\"colorbar\":{\"outlinewidth\":0,\"ticks\":\"\"},\"colorscale\":[[0.0,\"#0d0887\"],[0.1111111111111111,\"#46039f\"],[0.2222222222222222,\"#7201a8\"],[0.3333333333333333,\"#9c179e\"],[0.4444444444444444,\"#bd3786\"],[0.5555555555555556,\"#d8576b\"],[0.6666666666666666,\"#ed7953\"],[0.7777777777777778,\"#fb9f3a\"],[0.8888888888888888,\"#fdca26\"],[1.0,\"#f0f921\"]],\"type\":\"heatmap\"}],\"histogram2dcontour\":[{\"colorbar\":{\"outlinewidth\":0,\"ticks\":\"\"},\"colorscale\":[[0.0,\"#0d0887\"],[0.1111111111111111,\"#46039f\"],[0.2222222222222222,\"#7201a8\"],[0.3333333333333333,\"#9c179e\"],[0.4444444444444444,\"#bd3786\"],[0.5555555555555556,\"#d8576b\"],[0.6666666666666666,\"#ed7953\"],[0.7777777777777778,\"#fb9f3a\"],[0.8888888888888888,\"#fdca26\"],[1.0,\"#f0f921\"]],\"type\":\"histogram2dcontour\"}],\"histogram2d\":[{\"colorbar\":{\"outlinewidth\":0,\"ticks\":\"\"},\"colorscale\":[[0.0,\"#0d0887\"],[0.1111111111111111,\"#46039f\"],[0.2222222222222222,\"#7201a8\"],[0.3333333333333333,\"#9c179e\"],[0.4444444444444444,\"#bd3786\"],[0.5555555555555556,\"#d8576b\"],[0.6666666666666666,\"#ed7953\"],[0.7777777777777778,\"#fb9f3a\"],[0.8888888888888888,\"#fdca26\"],[1.0,\"#f0f921\"]],\"type\":\"histogram2d\"}],\"histogram\":[{\"marker\":{\"pattern\":{\"fillmode\":\"overlay\",\"size\":10,\"solidity\":0.2}},\"type\":\"histogram\"}],\"mesh3d\":[{\"colorbar\":{\"outlinewidth\":0,\"ticks\":\"\"},\"type\":\"mesh3d\"}],\"parcoords\":[{\"line\":{\"colorbar\":{\"outlinewidth\":0,\"ticks\":\"\"}},\"type\":\"parcoords\"}],\"pie\":[{\"automargin\":true,\"type\":\"pie\"}],\"scatter3d\":[{\"line\":{\"colorbar\":{\"outlinewidth\":0,\"ticks\":\"\"}},\"marker\":{\"colorbar\":{\"outlinewidth\":0,\"ticks\":\"\"}},\"type\":\"scatter3d\"}],\"scattercarpet\":[{\"marker\":{\"colorbar\":{\"outlinewidth\":0,\"ticks\":\"\"}},\"type\":\"scattercarpet\"}],\"scattergeo\":[{\"marker\":{\"colorbar\":{\"outlinewidth\":0,\"ticks\":\"\"}},\"type\":\"scattergeo\"}],\"scattergl\":[{\"marker\":{\"colorbar\":{\"outlinewidth\":0,\"ticks\":\"\"}},\"type\":\"scattergl\"}],\"scattermapbox\":[{\"marker\":{\"colorbar\":{\"outlinewidth\":0,\"ticks\":\"\"}},\"type\":\"scattermapbox\"}],\"scatterpolargl\":[{\"marker\":{\"colorbar\":{\"outlinewidth\":0,\"ticks\":\"\"}},\"type\":\"scatterpolargl\"}],\"scatterpolar\":[{\"marker\":{\"colorbar\":{\"outlinewidth\":0,\"ticks\":\"\"}},\"type\":\"scatterpolar\"}],\"scatter\":[{\"marker\":{\"colorbar\":{\"outlinewidth\":0,\"ticks\":\"\"}},\"type\":\"scatter\"}],\"scatterternary\":[{\"marker\":{\"colorbar\":{\"outlinewidth\":0,\"ticks\":\"\"}},\"type\":\"scatterternary\"}],\"surface\":[{\"colorbar\":{\"outlinewidth\":0,\"ticks\":\"\"},\"colorscale\":[[0.0,\"#0d0887\"],[0.1111111111111111,\"#46039f\"],[0.2222222222222222,\"#7201a8\"],[0.3333333333333333,\"#9c179e\"],[0.4444444444444444,\"#bd3786\"],[0.5555555555555556,\"#d8576b\"],[0.6666666666666666,\"#ed7953\"],[0.7777777777777778,\"#fb9f3a\"],[0.8888888888888888,\"#fdca26\"],[1.0,\"#f0f921\"]],\"type\":\"surface\"}],\"table\":[{\"cells\":{\"fill\":{\"color\":\"#EBF0F8\"},\"line\":{\"color\":\"white\"}},\"header\":{\"fill\":{\"color\":\"#C8D4E3\"},\"line\":{\"color\":\"white\"}},\"type\":\"table\"}]},\"layout\":{\"annotationdefaults\":{\"arrowcolor\":\"#2a3f5f\",\"arrowhead\":0,\"arrowwidth\":1},\"autotypenumbers\":\"strict\",\"coloraxis\":{\"colorbar\":{\"outlinewidth\":0,\"ticks\":\"\"}},\"colorscale\":{\"diverging\":[[0,\"#8e0152\"],[0.1,\"#c51b7d\"],[0.2,\"#de77ae\"],[0.3,\"#f1b6da\"],[0.4,\"#fde0ef\"],[0.5,\"#f7f7f7\"],[0.6,\"#e6f5d0\"],[0.7,\"#b8e186\"],[0.8,\"#7fbc41\"],[0.9,\"#4d9221\"],[1,\"#276419\"]],\"sequential\":[[0.0,\"#0d0887\"],[0.1111111111111111,\"#46039f\"],[0.2222222222222222,\"#7201a8\"],[0.3333333333333333,\"#9c179e\"],[0.4444444444444444,\"#bd3786\"],[0.5555555555555556,\"#d8576b\"],[0.6666666666666666,\"#ed7953\"],[0.7777777777777778,\"#fb9f3a\"],[0.8888888888888888,\"#fdca26\"],[1.0,\"#f0f921\"]],\"sequentialminus\":[[0.0,\"#0d0887\"],[0.1111111111111111,\"#46039f\"],[0.2222222222222222,\"#7201a8\"],[0.3333333333333333,\"#9c179e\"],[0.4444444444444444,\"#bd3786\"],[0.5555555555555556,\"#d8576b\"],[0.6666666666666666,\"#ed7953\"],[0.7777777777777778,\"#fb9f3a\"],[0.8888888888888888,\"#fdca26\"],[1.0,\"#f0f921\"]]},\"colorway\":[\"#636efa\",\"#EF553B\",\"#00cc96\",\"#ab63fa\",\"#FFA15A\",\"#19d3f3\",\"#FF6692\",\"#B6E880\",\"#FF97FF\",\"#FECB52\"],\"font\":{\"color\":\"#2a3f5f\"},\"geo\":{\"bgcolor\":\"white\",\"lakecolor\":\"white\",\"landcolor\":\"#E5ECF6\",\"showlakes\":true,\"showland\":true,\"subunitcolor\":\"white\"},\"hoverlabel\":{\"align\":\"left\"},\"hovermode\":\"closest\",\"mapbox\":{\"style\":\"light\"},\"paper_bgcolor\":\"white\",\"plot_bgcolor\":\"#E5ECF6\",\"polar\":{\"angularaxis\":{\"gridcolor\":\"white\",\"linecolor\":\"white\",\"ticks\":\"\"},\"bgcolor\":\"#E5ECF6\",\"radialaxis\":{\"gridcolor\":\"white\",\"linecolor\":\"white\",\"ticks\":\"\"}},\"scene\":{\"xaxis\":{\"backgroundcolor\":\"#E5ECF6\",\"gridcolor\":\"white\",\"gridwidth\":2,\"linecolor\":\"white\",\"showbackground\":true,\"ticks\":\"\",\"zerolinecolor\":\"white\"},\"yaxis\":{\"backgroundcolor\":\"#E5ECF6\",\"gridcolor\":\"white\",\"gridwidth\":2,\"linecolor\":\"white\",\"showbackground\":true,\"ticks\":\"\",\"zerolinecolor\":\"white\"},\"zaxis\":{\"backgroundcolor\":\"#E5ECF6\",\"gridcolor\":\"white\",\"gridwidth\":2,\"linecolor\":\"white\",\"showbackground\":true,\"ticks\":\"\",\"zerolinecolor\":\"white\"}},\"shapedefaults\":{\"line\":{\"color\":\"#2a3f5f\"}},\"ternary\":{\"aaxis\":{\"gridcolor\":\"white\",\"linecolor\":\"white\",\"ticks\":\"\"},\"baxis\":{\"gridcolor\":\"white\",\"linecolor\":\"white\",\"ticks\":\"\"},\"bgcolor\":\"#E5ECF6\",\"caxis\":{\"gridcolor\":\"white\",\"linecolor\":\"white\",\"ticks\":\"\"}},\"title\":{\"x\":0.05},\"xaxis\":{\"automargin\":true,\"gridcolor\":\"white\",\"linecolor\":\"white\",\"ticks\":\"\",\"title\":{\"standoff\":15},\"zerolinecolor\":\"white\",\"zerolinewidth\":2},\"yaxis\":{\"automargin\":true,\"gridcolor\":\"white\",\"linecolor\":\"white\",\"ticks\":\"\",\"title\":{\"standoff\":15},\"zerolinecolor\":\"white\",\"zerolinewidth\":2}}},\"title\":{\"font\":{\"color\":\"#4D5663\"}},\"xaxis\":{\"gridcolor\":\"#E1E5ED\",\"showgrid\":true,\"tickfont\":{\"color\":\"#4D5663\"},\"title\":{\"font\":{\"color\":\"#4D5663\"},\"text\":\"\"},\"zerolinecolor\":\"#E1E5ED\"},\"yaxis\":{\"gridcolor\":\"#E1E5ED\",\"showgrid\":true,\"tickfont\":{\"color\":\"#4D5663\"},\"title\":{\"font\":{\"color\":\"#4D5663\"},\"text\":\"\"},\"zerolinecolor\":\"#E1E5ED\"}},                        {\"showLink\": true, \"linkText\": \"Export to plot.ly\", \"plotlyServerURL\": \"https://plot.ly\", \"responsive\": true}                    ).then(function(){\n",
       "                            \n",
       "var gd = document.getElementById('d7e452c4-1dff-4319-a859-503990d1d4eb');\n",
       "var x = new MutationObserver(function (mutations, observer) {{\n",
       "        var display = window.getComputedStyle(gd).display;\n",
       "        if (!display || display === 'none') {{\n",
       "            console.log([gd, 'removed!']);\n",
       "            Plotly.purge(gd);\n",
       "            observer.disconnect();\n",
       "        }}\n",
       "}});\n",
       "\n",
       "// Listen for the removal of the full notebook cells\n",
       "var notebookContainer = gd.closest('#notebook-container');\n",
       "if (notebookContainer) {{\n",
       "    x.observe(notebookContainer, {childList: true});\n",
       "}}\n",
       "\n",
       "// Listen for the clearing of the current output cell\n",
       "var outputEl = gd.closest('.output');\n",
       "if (outputEl) {{\n",
       "    x.observe(outputEl, {childList: true});\n",
       "}}\n",
       "\n",
       "                        })                };                });            </script>        </div>"
      ]
     },
     "metadata": {},
     "output_type": "display_data"
    }
   ],
   "source": [
    "df.iplot(kind='box')"
   ]
  },
  {
   "cell_type": "code",
   "execution_count": 28,
   "metadata": {},
   "outputs": [],
   "source": [
    "df3 = pd.DataFrame({'x':[1,2,3,4,5], 'y':[10,20,30,20,10], 'z':[500,400,300,200,100]})"
   ]
  },
  {
   "cell_type": "code",
   "execution_count": 29,
   "metadata": {},
   "outputs": [
    {
     "data": {
      "text/html": [
       "<div>\n",
       "<style scoped>\n",
       "    .dataframe tbody tr th:only-of-type {\n",
       "        vertical-align: middle;\n",
       "    }\n",
       "\n",
       "    .dataframe tbody tr th {\n",
       "        vertical-align: top;\n",
       "    }\n",
       "\n",
       "    .dataframe thead th {\n",
       "        text-align: right;\n",
       "    }\n",
       "</style>\n",
       "<table border=\"1\" class=\"dataframe\">\n",
       "  <thead>\n",
       "    <tr style=\"text-align: right;\">\n",
       "      <th></th>\n",
       "      <th>x</th>\n",
       "      <th>y</th>\n",
       "      <th>z</th>\n",
       "    </tr>\n",
       "  </thead>\n",
       "  <tbody>\n",
       "    <tr>\n",
       "      <th>0</th>\n",
       "      <td>1</td>\n",
       "      <td>10</td>\n",
       "      <td>500</td>\n",
       "    </tr>\n",
       "    <tr>\n",
       "      <th>1</th>\n",
       "      <td>2</td>\n",
       "      <td>20</td>\n",
       "      <td>400</td>\n",
       "    </tr>\n",
       "    <tr>\n",
       "      <th>2</th>\n",
       "      <td>3</td>\n",
       "      <td>30</td>\n",
       "      <td>300</td>\n",
       "    </tr>\n",
       "    <tr>\n",
       "      <th>3</th>\n",
       "      <td>4</td>\n",
       "      <td>20</td>\n",
       "      <td>200</td>\n",
       "    </tr>\n",
       "    <tr>\n",
       "      <th>4</th>\n",
       "      <td>5</td>\n",
       "      <td>10</td>\n",
       "      <td>100</td>\n",
       "    </tr>\n",
       "  </tbody>\n",
       "</table>\n",
       "</div>"
      ],
      "text/plain": [
       "   x   y    z\n",
       "0  1  10  500\n",
       "1  2  20  400\n",
       "2  3  30  300\n",
       "3  4  20  200\n",
       "4  5  10  100"
      ]
     },
     "execution_count": 29,
     "metadata": {},
     "output_type": "execute_result"
    }
   ],
   "source": [
    "df3"
   ]
  },
  {
   "cell_type": "code",
   "execution_count": 30,
   "metadata": {},
   "outputs": [
    {
     "data": {
      "application/vnd.plotly.v1+json": {
       "config": {
        "linkText": "Export to plot.ly",
        "plotlyServerURL": "https://plot.ly",
        "showLink": true
       },
       "data": [
        {
         "colorscale": [
          [
           0,
           "rgb(255, 153, 51)"
          ],
          [
           0.1111111111111111,
           "rgb(55, 128, 191)"
          ],
          [
           0.2222222222222222,
           "rgb(50, 171, 96)"
          ],
          [
           0.3333333333333333,
           "rgb(128, 0, 128)"
          ],
          [
           0.4444444444444444,
           "rgb(219, 64, 82)"
          ],
          [
           0.5555555555555556,
           "rgb(0, 128, 128)"
          ],
          [
           0.6666666666666666,
           "rgb(255, 255, 51)"
          ],
          [
           0.7777777777777778,
           "rgb(128, 128, 0)"
          ],
          [
           0.8888888888888888,
           "rgb(251, 128, 114)"
          ],
          [
           1,
           "rgb(128, 177, 211)"
          ]
         ],
         "type": "surface",
         "x": [
          0,
          1,
          2,
          3,
          4
         ],
         "y": [
          "x",
          "y",
          "z"
         ],
         "z": [
          [
           1,
           2,
           3,
           4,
           5
          ],
          [
           10,
           20,
           30,
           20,
           10
          ],
          [
           500,
           400,
           300,
           200,
           100
          ]
         ]
        }
       ],
       "layout": {
        "legend": {
         "bgcolor": "#F5F6F9",
         "font": {
          "color": "#4D5663"
         }
        },
        "paper_bgcolor": "#F5F6F9",
        "plot_bgcolor": "#F5F6F9",
        "template": {
         "data": {
          "bar": [
           {
            "error_x": {
             "color": "#2a3f5f"
            },
            "error_y": {
             "color": "#2a3f5f"
            },
            "marker": {
             "line": {
              "color": "#E5ECF6",
              "width": 0.5
             },
             "pattern": {
              "fillmode": "overlay",
              "size": 10,
              "solidity": 0.2
             }
            },
            "type": "bar"
           }
          ],
          "barpolar": [
           {
            "marker": {
             "line": {
              "color": "#E5ECF6",
              "width": 0.5
             },
             "pattern": {
              "fillmode": "overlay",
              "size": 10,
              "solidity": 0.2
             }
            },
            "type": "barpolar"
           }
          ],
          "carpet": [
           {
            "aaxis": {
             "endlinecolor": "#2a3f5f",
             "gridcolor": "white",
             "linecolor": "white",
             "minorgridcolor": "white",
             "startlinecolor": "#2a3f5f"
            },
            "baxis": {
             "endlinecolor": "#2a3f5f",
             "gridcolor": "white",
             "linecolor": "white",
             "minorgridcolor": "white",
             "startlinecolor": "#2a3f5f"
            },
            "type": "carpet"
           }
          ],
          "choropleth": [
           {
            "colorbar": {
             "outlinewidth": 0,
             "ticks": ""
            },
            "type": "choropleth"
           }
          ],
          "contour": [
           {
            "colorbar": {
             "outlinewidth": 0,
             "ticks": ""
            },
            "colorscale": [
             [
              0,
              "#0d0887"
             ],
             [
              0.1111111111111111,
              "#46039f"
             ],
             [
              0.2222222222222222,
              "#7201a8"
             ],
             [
              0.3333333333333333,
              "#9c179e"
             ],
             [
              0.4444444444444444,
              "#bd3786"
             ],
             [
              0.5555555555555556,
              "#d8576b"
             ],
             [
              0.6666666666666666,
              "#ed7953"
             ],
             [
              0.7777777777777778,
              "#fb9f3a"
             ],
             [
              0.8888888888888888,
              "#fdca26"
             ],
             [
              1,
              "#f0f921"
             ]
            ],
            "type": "contour"
           }
          ],
          "contourcarpet": [
           {
            "colorbar": {
             "outlinewidth": 0,
             "ticks": ""
            },
            "type": "contourcarpet"
           }
          ],
          "heatmap": [
           {
            "colorbar": {
             "outlinewidth": 0,
             "ticks": ""
            },
            "colorscale": [
             [
              0,
              "#0d0887"
             ],
             [
              0.1111111111111111,
              "#46039f"
             ],
             [
              0.2222222222222222,
              "#7201a8"
             ],
             [
              0.3333333333333333,
              "#9c179e"
             ],
             [
              0.4444444444444444,
              "#bd3786"
             ],
             [
              0.5555555555555556,
              "#d8576b"
             ],
             [
              0.6666666666666666,
              "#ed7953"
             ],
             [
              0.7777777777777778,
              "#fb9f3a"
             ],
             [
              0.8888888888888888,
              "#fdca26"
             ],
             [
              1,
              "#f0f921"
             ]
            ],
            "type": "heatmap"
           }
          ],
          "heatmapgl": [
           {
            "colorbar": {
             "outlinewidth": 0,
             "ticks": ""
            },
            "colorscale": [
             [
              0,
              "#0d0887"
             ],
             [
              0.1111111111111111,
              "#46039f"
             ],
             [
              0.2222222222222222,
              "#7201a8"
             ],
             [
              0.3333333333333333,
              "#9c179e"
             ],
             [
              0.4444444444444444,
              "#bd3786"
             ],
             [
              0.5555555555555556,
              "#d8576b"
             ],
             [
              0.6666666666666666,
              "#ed7953"
             ],
             [
              0.7777777777777778,
              "#fb9f3a"
             ],
             [
              0.8888888888888888,
              "#fdca26"
             ],
             [
              1,
              "#f0f921"
             ]
            ],
            "type": "heatmapgl"
           }
          ],
          "histogram": [
           {
            "marker": {
             "pattern": {
              "fillmode": "overlay",
              "size": 10,
              "solidity": 0.2
             }
            },
            "type": "histogram"
           }
          ],
          "histogram2d": [
           {
            "colorbar": {
             "outlinewidth": 0,
             "ticks": ""
            },
            "colorscale": [
             [
              0,
              "#0d0887"
             ],
             [
              0.1111111111111111,
              "#46039f"
             ],
             [
              0.2222222222222222,
              "#7201a8"
             ],
             [
              0.3333333333333333,
              "#9c179e"
             ],
             [
              0.4444444444444444,
              "#bd3786"
             ],
             [
              0.5555555555555556,
              "#d8576b"
             ],
             [
              0.6666666666666666,
              "#ed7953"
             ],
             [
              0.7777777777777778,
              "#fb9f3a"
             ],
             [
              0.8888888888888888,
              "#fdca26"
             ],
             [
              1,
              "#f0f921"
             ]
            ],
            "type": "histogram2d"
           }
          ],
          "histogram2dcontour": [
           {
            "colorbar": {
             "outlinewidth": 0,
             "ticks": ""
            },
            "colorscale": [
             [
              0,
              "#0d0887"
             ],
             [
              0.1111111111111111,
              "#46039f"
             ],
             [
              0.2222222222222222,
              "#7201a8"
             ],
             [
              0.3333333333333333,
              "#9c179e"
             ],
             [
              0.4444444444444444,
              "#bd3786"
             ],
             [
              0.5555555555555556,
              "#d8576b"
             ],
             [
              0.6666666666666666,
              "#ed7953"
             ],
             [
              0.7777777777777778,
              "#fb9f3a"
             ],
             [
              0.8888888888888888,
              "#fdca26"
             ],
             [
              1,
              "#f0f921"
             ]
            ],
            "type": "histogram2dcontour"
           }
          ],
          "mesh3d": [
           {
            "colorbar": {
             "outlinewidth": 0,
             "ticks": ""
            },
            "type": "mesh3d"
           }
          ],
          "parcoords": [
           {
            "line": {
             "colorbar": {
              "outlinewidth": 0,
              "ticks": ""
             }
            },
            "type": "parcoords"
           }
          ],
          "pie": [
           {
            "automargin": true,
            "type": "pie"
           }
          ],
          "scatter": [
           {
            "marker": {
             "colorbar": {
              "outlinewidth": 0,
              "ticks": ""
             }
            },
            "type": "scatter"
           }
          ],
          "scatter3d": [
           {
            "line": {
             "colorbar": {
              "outlinewidth": 0,
              "ticks": ""
             }
            },
            "marker": {
             "colorbar": {
              "outlinewidth": 0,
              "ticks": ""
             }
            },
            "type": "scatter3d"
           }
          ],
          "scattercarpet": [
           {
            "marker": {
             "colorbar": {
              "outlinewidth": 0,
              "ticks": ""
             }
            },
            "type": "scattercarpet"
           }
          ],
          "scattergeo": [
           {
            "marker": {
             "colorbar": {
              "outlinewidth": 0,
              "ticks": ""
             }
            },
            "type": "scattergeo"
           }
          ],
          "scattergl": [
           {
            "marker": {
             "colorbar": {
              "outlinewidth": 0,
              "ticks": ""
             }
            },
            "type": "scattergl"
           }
          ],
          "scattermapbox": [
           {
            "marker": {
             "colorbar": {
              "outlinewidth": 0,
              "ticks": ""
             }
            },
            "type": "scattermapbox"
           }
          ],
          "scatterpolar": [
           {
            "marker": {
             "colorbar": {
              "outlinewidth": 0,
              "ticks": ""
             }
            },
            "type": "scatterpolar"
           }
          ],
          "scatterpolargl": [
           {
            "marker": {
             "colorbar": {
              "outlinewidth": 0,
              "ticks": ""
             }
            },
            "type": "scatterpolargl"
           }
          ],
          "scatterternary": [
           {
            "marker": {
             "colorbar": {
              "outlinewidth": 0,
              "ticks": ""
             }
            },
            "type": "scatterternary"
           }
          ],
          "surface": [
           {
            "colorbar": {
             "outlinewidth": 0,
             "ticks": ""
            },
            "colorscale": [
             [
              0,
              "#0d0887"
             ],
             [
              0.1111111111111111,
              "#46039f"
             ],
             [
              0.2222222222222222,
              "#7201a8"
             ],
             [
              0.3333333333333333,
              "#9c179e"
             ],
             [
              0.4444444444444444,
              "#bd3786"
             ],
             [
              0.5555555555555556,
              "#d8576b"
             ],
             [
              0.6666666666666666,
              "#ed7953"
             ],
             [
              0.7777777777777778,
              "#fb9f3a"
             ],
             [
              0.8888888888888888,
              "#fdca26"
             ],
             [
              1,
              "#f0f921"
             ]
            ],
            "type": "surface"
           }
          ],
          "table": [
           {
            "cells": {
             "fill": {
              "color": "#EBF0F8"
             },
             "line": {
              "color": "white"
             }
            },
            "header": {
             "fill": {
              "color": "#C8D4E3"
             },
             "line": {
              "color": "white"
             }
            },
            "type": "table"
           }
          ]
         },
         "layout": {
          "annotationdefaults": {
           "arrowcolor": "#2a3f5f",
           "arrowhead": 0,
           "arrowwidth": 1
          },
          "autotypenumbers": "strict",
          "coloraxis": {
           "colorbar": {
            "outlinewidth": 0,
            "ticks": ""
           }
          },
          "colorscale": {
           "diverging": [
            [
             0,
             "#8e0152"
            ],
            [
             0.1,
             "#c51b7d"
            ],
            [
             0.2,
             "#de77ae"
            ],
            [
             0.3,
             "#f1b6da"
            ],
            [
             0.4,
             "#fde0ef"
            ],
            [
             0.5,
             "#f7f7f7"
            ],
            [
             0.6,
             "#e6f5d0"
            ],
            [
             0.7,
             "#b8e186"
            ],
            [
             0.8,
             "#7fbc41"
            ],
            [
             0.9,
             "#4d9221"
            ],
            [
             1,
             "#276419"
            ]
           ],
           "sequential": [
            [
             0,
             "#0d0887"
            ],
            [
             0.1111111111111111,
             "#46039f"
            ],
            [
             0.2222222222222222,
             "#7201a8"
            ],
            [
             0.3333333333333333,
             "#9c179e"
            ],
            [
             0.4444444444444444,
             "#bd3786"
            ],
            [
             0.5555555555555556,
             "#d8576b"
            ],
            [
             0.6666666666666666,
             "#ed7953"
            ],
            [
             0.7777777777777778,
             "#fb9f3a"
            ],
            [
             0.8888888888888888,
             "#fdca26"
            ],
            [
             1,
             "#f0f921"
            ]
           ],
           "sequentialminus": [
            [
             0,
             "#0d0887"
            ],
            [
             0.1111111111111111,
             "#46039f"
            ],
            [
             0.2222222222222222,
             "#7201a8"
            ],
            [
             0.3333333333333333,
             "#9c179e"
            ],
            [
             0.4444444444444444,
             "#bd3786"
            ],
            [
             0.5555555555555556,
             "#d8576b"
            ],
            [
             0.6666666666666666,
             "#ed7953"
            ],
            [
             0.7777777777777778,
             "#fb9f3a"
            ],
            [
             0.8888888888888888,
             "#fdca26"
            ],
            [
             1,
             "#f0f921"
            ]
           ]
          },
          "colorway": [
           "#636efa",
           "#EF553B",
           "#00cc96",
           "#ab63fa",
           "#FFA15A",
           "#19d3f3",
           "#FF6692",
           "#B6E880",
           "#FF97FF",
           "#FECB52"
          ],
          "font": {
           "color": "#2a3f5f"
          },
          "geo": {
           "bgcolor": "white",
           "lakecolor": "white",
           "landcolor": "#E5ECF6",
           "showlakes": true,
           "showland": true,
           "subunitcolor": "white"
          },
          "hoverlabel": {
           "align": "left"
          },
          "hovermode": "closest",
          "mapbox": {
           "style": "light"
          },
          "paper_bgcolor": "white",
          "plot_bgcolor": "#E5ECF6",
          "polar": {
           "angularaxis": {
            "gridcolor": "white",
            "linecolor": "white",
            "ticks": ""
           },
           "bgcolor": "#E5ECF6",
           "radialaxis": {
            "gridcolor": "white",
            "linecolor": "white",
            "ticks": ""
           }
          },
          "scene": {
           "xaxis": {
            "backgroundcolor": "#E5ECF6",
            "gridcolor": "white",
            "gridwidth": 2,
            "linecolor": "white",
            "showbackground": true,
            "ticks": "",
            "zerolinecolor": "white"
           },
           "yaxis": {
            "backgroundcolor": "#E5ECF6",
            "gridcolor": "white",
            "gridwidth": 2,
            "linecolor": "white",
            "showbackground": true,
            "ticks": "",
            "zerolinecolor": "white"
           },
           "zaxis": {
            "backgroundcolor": "#E5ECF6",
            "gridcolor": "white",
            "gridwidth": 2,
            "linecolor": "white",
            "showbackground": true,
            "ticks": "",
            "zerolinecolor": "white"
           }
          },
          "shapedefaults": {
           "line": {
            "color": "#2a3f5f"
           }
          },
          "ternary": {
           "aaxis": {
            "gridcolor": "white",
            "linecolor": "white",
            "ticks": ""
           },
           "baxis": {
            "gridcolor": "white",
            "linecolor": "white",
            "ticks": ""
           },
           "bgcolor": "#E5ECF6",
           "caxis": {
            "gridcolor": "white",
            "linecolor": "white",
            "ticks": ""
           }
          },
          "title": {
           "x": 0.05
          },
          "xaxis": {
           "automargin": true,
           "gridcolor": "white",
           "linecolor": "white",
           "ticks": "",
           "title": {
            "standoff": 15
           },
           "zerolinecolor": "white",
           "zerolinewidth": 2
          },
          "yaxis": {
           "automargin": true,
           "gridcolor": "white",
           "linecolor": "white",
           "ticks": "",
           "title": {
            "standoff": 15
           },
           "zerolinecolor": "white",
           "zerolinewidth": 2
          }
         }
        },
        "title": {
         "font": {
          "color": "#4D5663"
         }
        },
        "xaxis": {
         "gridcolor": "#E1E5ED",
         "showgrid": true,
         "tickfont": {
          "color": "#4D5663"
         },
         "title": {
          "font": {
           "color": "#4D5663"
          },
          "text": ""
         },
         "zerolinecolor": "#E1E5ED"
        },
        "yaxis": {
         "gridcolor": "#E1E5ED",
         "showgrid": true,
         "tickfont": {
          "color": "#4D5663"
         },
         "title": {
          "font": {
           "color": "#4D5663"
          },
          "text": ""
         },
         "zerolinecolor": "#E1E5ED"
        }
       }
      },
      "text/html": [
       "<div>                            <div id=\"2cb2f79d-d069-4704-aba2-23680d425389\" class=\"plotly-graph-div\" style=\"height:525px; width:100%;\"></div>            <script type=\"text/javascript\">                require([\"plotly\"], function(Plotly) {                    window.PLOTLYENV=window.PLOTLYENV || {};\n",
       "                    window.PLOTLYENV.BASE_URL='https://plot.ly';                                    if (document.getElementById(\"2cb2f79d-d069-4704-aba2-23680d425389\")) {                    Plotly.newPlot(                        \"2cb2f79d-d069-4704-aba2-23680d425389\",                        [{\"colorscale\":[[0.0,\"rgb(255, 153, 51)\"],[0.1111111111111111,\"rgb(55, 128, 191)\"],[0.2222222222222222,\"rgb(50, 171, 96)\"],[0.3333333333333333,\"rgb(128, 0, 128)\"],[0.4444444444444444,\"rgb(219, 64, 82)\"],[0.5555555555555556,\"rgb(0, 128, 128)\"],[0.6666666666666666,\"rgb(255, 255, 51)\"],[0.7777777777777778,\"rgb(128, 128, 0)\"],[0.8888888888888888,\"rgb(251, 128, 114)\"],[1.0,\"rgb(128, 177, 211)\"]],\"x\":[0,1,2,3,4],\"y\":[\"x\",\"y\",\"z\"],\"z\":[[1,2,3,4,5],[10,20,30,20,10],[500,400,300,200,100]],\"type\":\"surface\"}],                        {\"legend\":{\"bgcolor\":\"#F5F6F9\",\"font\":{\"color\":\"#4D5663\"}},\"paper_bgcolor\":\"#F5F6F9\",\"plot_bgcolor\":\"#F5F6F9\",\"template\":{\"data\":{\"barpolar\":[{\"marker\":{\"line\":{\"color\":\"#E5ECF6\",\"width\":0.5},\"pattern\":{\"fillmode\":\"overlay\",\"size\":10,\"solidity\":0.2}},\"type\":\"barpolar\"}],\"bar\":[{\"error_x\":{\"color\":\"#2a3f5f\"},\"error_y\":{\"color\":\"#2a3f5f\"},\"marker\":{\"line\":{\"color\":\"#E5ECF6\",\"width\":0.5},\"pattern\":{\"fillmode\":\"overlay\",\"size\":10,\"solidity\":0.2}},\"type\":\"bar\"}],\"carpet\":[{\"aaxis\":{\"endlinecolor\":\"#2a3f5f\",\"gridcolor\":\"white\",\"linecolor\":\"white\",\"minorgridcolor\":\"white\",\"startlinecolor\":\"#2a3f5f\"},\"baxis\":{\"endlinecolor\":\"#2a3f5f\",\"gridcolor\":\"white\",\"linecolor\":\"white\",\"minorgridcolor\":\"white\",\"startlinecolor\":\"#2a3f5f\"},\"type\":\"carpet\"}],\"choropleth\":[{\"colorbar\":{\"outlinewidth\":0,\"ticks\":\"\"},\"type\":\"choropleth\"}],\"contourcarpet\":[{\"colorbar\":{\"outlinewidth\":0,\"ticks\":\"\"},\"type\":\"contourcarpet\"}],\"contour\":[{\"colorbar\":{\"outlinewidth\":0,\"ticks\":\"\"},\"colorscale\":[[0.0,\"#0d0887\"],[0.1111111111111111,\"#46039f\"],[0.2222222222222222,\"#7201a8\"],[0.3333333333333333,\"#9c179e\"],[0.4444444444444444,\"#bd3786\"],[0.5555555555555556,\"#d8576b\"],[0.6666666666666666,\"#ed7953\"],[0.7777777777777778,\"#fb9f3a\"],[0.8888888888888888,\"#fdca26\"],[1.0,\"#f0f921\"]],\"type\":\"contour\"}],\"heatmapgl\":[{\"colorbar\":{\"outlinewidth\":0,\"ticks\":\"\"},\"colorscale\":[[0.0,\"#0d0887\"],[0.1111111111111111,\"#46039f\"],[0.2222222222222222,\"#7201a8\"],[0.3333333333333333,\"#9c179e\"],[0.4444444444444444,\"#bd3786\"],[0.5555555555555556,\"#d8576b\"],[0.6666666666666666,\"#ed7953\"],[0.7777777777777778,\"#fb9f3a\"],[0.8888888888888888,\"#fdca26\"],[1.0,\"#f0f921\"]],\"type\":\"heatmapgl\"}],\"heatmap\":[{\"colorbar\":{\"outlinewidth\":0,\"ticks\":\"\"},\"colorscale\":[[0.0,\"#0d0887\"],[0.1111111111111111,\"#46039f\"],[0.2222222222222222,\"#7201a8\"],[0.3333333333333333,\"#9c179e\"],[0.4444444444444444,\"#bd3786\"],[0.5555555555555556,\"#d8576b\"],[0.6666666666666666,\"#ed7953\"],[0.7777777777777778,\"#fb9f3a\"],[0.8888888888888888,\"#fdca26\"],[1.0,\"#f0f921\"]],\"type\":\"heatmap\"}],\"histogram2dcontour\":[{\"colorbar\":{\"outlinewidth\":0,\"ticks\":\"\"},\"colorscale\":[[0.0,\"#0d0887\"],[0.1111111111111111,\"#46039f\"],[0.2222222222222222,\"#7201a8\"],[0.3333333333333333,\"#9c179e\"],[0.4444444444444444,\"#bd3786\"],[0.5555555555555556,\"#d8576b\"],[0.6666666666666666,\"#ed7953\"],[0.7777777777777778,\"#fb9f3a\"],[0.8888888888888888,\"#fdca26\"],[1.0,\"#f0f921\"]],\"type\":\"histogram2dcontour\"}],\"histogram2d\":[{\"colorbar\":{\"outlinewidth\":0,\"ticks\":\"\"},\"colorscale\":[[0.0,\"#0d0887\"],[0.1111111111111111,\"#46039f\"],[0.2222222222222222,\"#7201a8\"],[0.3333333333333333,\"#9c179e\"],[0.4444444444444444,\"#bd3786\"],[0.5555555555555556,\"#d8576b\"],[0.6666666666666666,\"#ed7953\"],[0.7777777777777778,\"#fb9f3a\"],[0.8888888888888888,\"#fdca26\"],[1.0,\"#f0f921\"]],\"type\":\"histogram2d\"}],\"histogram\":[{\"marker\":{\"pattern\":{\"fillmode\":\"overlay\",\"size\":10,\"solidity\":0.2}},\"type\":\"histogram\"}],\"mesh3d\":[{\"colorbar\":{\"outlinewidth\":0,\"ticks\":\"\"},\"type\":\"mesh3d\"}],\"parcoords\":[{\"line\":{\"colorbar\":{\"outlinewidth\":0,\"ticks\":\"\"}},\"type\":\"parcoords\"}],\"pie\":[{\"automargin\":true,\"type\":\"pie\"}],\"scatter3d\":[{\"line\":{\"colorbar\":{\"outlinewidth\":0,\"ticks\":\"\"}},\"marker\":{\"colorbar\":{\"outlinewidth\":0,\"ticks\":\"\"}},\"type\":\"scatter3d\"}],\"scattercarpet\":[{\"marker\":{\"colorbar\":{\"outlinewidth\":0,\"ticks\":\"\"}},\"type\":\"scattercarpet\"}],\"scattergeo\":[{\"marker\":{\"colorbar\":{\"outlinewidth\":0,\"ticks\":\"\"}},\"type\":\"scattergeo\"}],\"scattergl\":[{\"marker\":{\"colorbar\":{\"outlinewidth\":0,\"ticks\":\"\"}},\"type\":\"scattergl\"}],\"scattermapbox\":[{\"marker\":{\"colorbar\":{\"outlinewidth\":0,\"ticks\":\"\"}},\"type\":\"scattermapbox\"}],\"scatterpolargl\":[{\"marker\":{\"colorbar\":{\"outlinewidth\":0,\"ticks\":\"\"}},\"type\":\"scatterpolargl\"}],\"scatterpolar\":[{\"marker\":{\"colorbar\":{\"outlinewidth\":0,\"ticks\":\"\"}},\"type\":\"scatterpolar\"}],\"scatter\":[{\"marker\":{\"colorbar\":{\"outlinewidth\":0,\"ticks\":\"\"}},\"type\":\"scatter\"}],\"scatterternary\":[{\"marker\":{\"colorbar\":{\"outlinewidth\":0,\"ticks\":\"\"}},\"type\":\"scatterternary\"}],\"surface\":[{\"colorbar\":{\"outlinewidth\":0,\"ticks\":\"\"},\"colorscale\":[[0.0,\"#0d0887\"],[0.1111111111111111,\"#46039f\"],[0.2222222222222222,\"#7201a8\"],[0.3333333333333333,\"#9c179e\"],[0.4444444444444444,\"#bd3786\"],[0.5555555555555556,\"#d8576b\"],[0.6666666666666666,\"#ed7953\"],[0.7777777777777778,\"#fb9f3a\"],[0.8888888888888888,\"#fdca26\"],[1.0,\"#f0f921\"]],\"type\":\"surface\"}],\"table\":[{\"cells\":{\"fill\":{\"color\":\"#EBF0F8\"},\"line\":{\"color\":\"white\"}},\"header\":{\"fill\":{\"color\":\"#C8D4E3\"},\"line\":{\"color\":\"white\"}},\"type\":\"table\"}]},\"layout\":{\"annotationdefaults\":{\"arrowcolor\":\"#2a3f5f\",\"arrowhead\":0,\"arrowwidth\":1},\"autotypenumbers\":\"strict\",\"coloraxis\":{\"colorbar\":{\"outlinewidth\":0,\"ticks\":\"\"}},\"colorscale\":{\"diverging\":[[0,\"#8e0152\"],[0.1,\"#c51b7d\"],[0.2,\"#de77ae\"],[0.3,\"#f1b6da\"],[0.4,\"#fde0ef\"],[0.5,\"#f7f7f7\"],[0.6,\"#e6f5d0\"],[0.7,\"#b8e186\"],[0.8,\"#7fbc41\"],[0.9,\"#4d9221\"],[1,\"#276419\"]],\"sequential\":[[0.0,\"#0d0887\"],[0.1111111111111111,\"#46039f\"],[0.2222222222222222,\"#7201a8\"],[0.3333333333333333,\"#9c179e\"],[0.4444444444444444,\"#bd3786\"],[0.5555555555555556,\"#d8576b\"],[0.6666666666666666,\"#ed7953\"],[0.7777777777777778,\"#fb9f3a\"],[0.8888888888888888,\"#fdca26\"],[1.0,\"#f0f921\"]],\"sequentialminus\":[[0.0,\"#0d0887\"],[0.1111111111111111,\"#46039f\"],[0.2222222222222222,\"#7201a8\"],[0.3333333333333333,\"#9c179e\"],[0.4444444444444444,\"#bd3786\"],[0.5555555555555556,\"#d8576b\"],[0.6666666666666666,\"#ed7953\"],[0.7777777777777778,\"#fb9f3a\"],[0.8888888888888888,\"#fdca26\"],[1.0,\"#f0f921\"]]},\"colorway\":[\"#636efa\",\"#EF553B\",\"#00cc96\",\"#ab63fa\",\"#FFA15A\",\"#19d3f3\",\"#FF6692\",\"#B6E880\",\"#FF97FF\",\"#FECB52\"],\"font\":{\"color\":\"#2a3f5f\"},\"geo\":{\"bgcolor\":\"white\",\"lakecolor\":\"white\",\"landcolor\":\"#E5ECF6\",\"showlakes\":true,\"showland\":true,\"subunitcolor\":\"white\"},\"hoverlabel\":{\"align\":\"left\"},\"hovermode\":\"closest\",\"mapbox\":{\"style\":\"light\"},\"paper_bgcolor\":\"white\",\"plot_bgcolor\":\"#E5ECF6\",\"polar\":{\"angularaxis\":{\"gridcolor\":\"white\",\"linecolor\":\"white\",\"ticks\":\"\"},\"bgcolor\":\"#E5ECF6\",\"radialaxis\":{\"gridcolor\":\"white\",\"linecolor\":\"white\",\"ticks\":\"\"}},\"scene\":{\"xaxis\":{\"backgroundcolor\":\"#E5ECF6\",\"gridcolor\":\"white\",\"gridwidth\":2,\"linecolor\":\"white\",\"showbackground\":true,\"ticks\":\"\",\"zerolinecolor\":\"white\"},\"yaxis\":{\"backgroundcolor\":\"#E5ECF6\",\"gridcolor\":\"white\",\"gridwidth\":2,\"linecolor\":\"white\",\"showbackground\":true,\"ticks\":\"\",\"zerolinecolor\":\"white\"},\"zaxis\":{\"backgroundcolor\":\"#E5ECF6\",\"gridcolor\":\"white\",\"gridwidth\":2,\"linecolor\":\"white\",\"showbackground\":true,\"ticks\":\"\",\"zerolinecolor\":\"white\"}},\"shapedefaults\":{\"line\":{\"color\":\"#2a3f5f\"}},\"ternary\":{\"aaxis\":{\"gridcolor\":\"white\",\"linecolor\":\"white\",\"ticks\":\"\"},\"baxis\":{\"gridcolor\":\"white\",\"linecolor\":\"white\",\"ticks\":\"\"},\"bgcolor\":\"#E5ECF6\",\"caxis\":{\"gridcolor\":\"white\",\"linecolor\":\"white\",\"ticks\":\"\"}},\"title\":{\"x\":0.05},\"xaxis\":{\"automargin\":true,\"gridcolor\":\"white\",\"linecolor\":\"white\",\"ticks\":\"\",\"title\":{\"standoff\":15},\"zerolinecolor\":\"white\",\"zerolinewidth\":2},\"yaxis\":{\"automargin\":true,\"gridcolor\":\"white\",\"linecolor\":\"white\",\"ticks\":\"\",\"title\":{\"standoff\":15},\"zerolinecolor\":\"white\",\"zerolinewidth\":2}}},\"title\":{\"font\":{\"color\":\"#4D5663\"}},\"xaxis\":{\"gridcolor\":\"#E1E5ED\",\"showgrid\":true,\"tickfont\":{\"color\":\"#4D5663\"},\"title\":{\"font\":{\"color\":\"#4D5663\"},\"text\":\"\"},\"zerolinecolor\":\"#E1E5ED\"},\"yaxis\":{\"gridcolor\":\"#E1E5ED\",\"showgrid\":true,\"tickfont\":{\"color\":\"#4D5663\"},\"title\":{\"font\":{\"color\":\"#4D5663\"},\"text\":\"\"},\"zerolinecolor\":\"#E1E5ED\"}},                        {\"showLink\": true, \"linkText\": \"Export to plot.ly\", \"plotlyServerURL\": \"https://plot.ly\", \"responsive\": true}                    ).then(function(){\n",
       "                            \n",
       "var gd = document.getElementById('2cb2f79d-d069-4704-aba2-23680d425389');\n",
       "var x = new MutationObserver(function (mutations, observer) {{\n",
       "        var display = window.getComputedStyle(gd).display;\n",
       "        if (!display || display === 'none') {{\n",
       "            console.log([gd, 'removed!']);\n",
       "            Plotly.purge(gd);\n",
       "            observer.disconnect();\n",
       "        }}\n",
       "}});\n",
       "\n",
       "// Listen for the removal of the full notebook cells\n",
       "var notebookContainer = gd.closest('#notebook-container');\n",
       "if (notebookContainer) {{\n",
       "    x.observe(notebookContainer, {childList: true});\n",
       "}}\n",
       "\n",
       "// Listen for the clearing of the current output cell\n",
       "var outputEl = gd.closest('.output');\n",
       "if (outputEl) {{\n",
       "    x.observe(outputEl, {childList: true});\n",
       "}}\n",
       "\n",
       "                        })                };                });            </script>        </div>"
      ]
     },
     "metadata": {},
     "output_type": "display_data"
    }
   ],
   "source": [
    "df3.iplot(kind='surface')"
   ]
  },
  {
   "cell_type": "code",
   "execution_count": 31,
   "metadata": {},
   "outputs": [],
   "source": [
    "df3 = pd.DataFrame({'x':[1,2,3,4,5], 'y':[10,20,30,20,10], 'z':[5,4,3,2,1]})"
   ]
  },
  {
   "cell_type": "code",
   "execution_count": 32,
   "metadata": {},
   "outputs": [
    {
     "data": {
      "application/vnd.plotly.v1+json": {
       "config": {
        "linkText": "Export to plot.ly",
        "plotlyServerURL": "https://plot.ly",
        "showLink": true
       },
       "data": [
        {
         "colorscale": [
          [
           0,
           "rgb(255, 153, 51)"
          ],
          [
           0.1111111111111111,
           "rgb(55, 128, 191)"
          ],
          [
           0.2222222222222222,
           "rgb(50, 171, 96)"
          ],
          [
           0.3333333333333333,
           "rgb(128, 0, 128)"
          ],
          [
           0.4444444444444444,
           "rgb(219, 64, 82)"
          ],
          [
           0.5555555555555556,
           "rgb(0, 128, 128)"
          ],
          [
           0.6666666666666666,
           "rgb(255, 255, 51)"
          ],
          [
           0.7777777777777778,
           "rgb(128, 128, 0)"
          ],
          [
           0.8888888888888888,
           "rgb(251, 128, 114)"
          ],
          [
           1,
           "rgb(128, 177, 211)"
          ]
         ],
         "type": "surface",
         "x": [
          0,
          1,
          2,
          3,
          4
         ],
         "y": [
          "x",
          "y",
          "z"
         ],
         "z": [
          [
           1,
           2,
           3,
           4,
           5
          ],
          [
           10,
           20,
           30,
           20,
           10
          ],
          [
           5,
           4,
           3,
           2,
           1
          ]
         ]
        }
       ],
       "layout": {
        "legend": {
         "bgcolor": "#F5F6F9",
         "font": {
          "color": "#4D5663"
         }
        },
        "paper_bgcolor": "#F5F6F9",
        "plot_bgcolor": "#F5F6F9",
        "template": {
         "data": {
          "bar": [
           {
            "error_x": {
             "color": "#2a3f5f"
            },
            "error_y": {
             "color": "#2a3f5f"
            },
            "marker": {
             "line": {
              "color": "#E5ECF6",
              "width": 0.5
             },
             "pattern": {
              "fillmode": "overlay",
              "size": 10,
              "solidity": 0.2
             }
            },
            "type": "bar"
           }
          ],
          "barpolar": [
           {
            "marker": {
             "line": {
              "color": "#E5ECF6",
              "width": 0.5
             },
             "pattern": {
              "fillmode": "overlay",
              "size": 10,
              "solidity": 0.2
             }
            },
            "type": "barpolar"
           }
          ],
          "carpet": [
           {
            "aaxis": {
             "endlinecolor": "#2a3f5f",
             "gridcolor": "white",
             "linecolor": "white",
             "minorgridcolor": "white",
             "startlinecolor": "#2a3f5f"
            },
            "baxis": {
             "endlinecolor": "#2a3f5f",
             "gridcolor": "white",
             "linecolor": "white",
             "minorgridcolor": "white",
             "startlinecolor": "#2a3f5f"
            },
            "type": "carpet"
           }
          ],
          "choropleth": [
           {
            "colorbar": {
             "outlinewidth": 0,
             "ticks": ""
            },
            "type": "choropleth"
           }
          ],
          "contour": [
           {
            "colorbar": {
             "outlinewidth": 0,
             "ticks": ""
            },
            "colorscale": [
             [
              0,
              "#0d0887"
             ],
             [
              0.1111111111111111,
              "#46039f"
             ],
             [
              0.2222222222222222,
              "#7201a8"
             ],
             [
              0.3333333333333333,
              "#9c179e"
             ],
             [
              0.4444444444444444,
              "#bd3786"
             ],
             [
              0.5555555555555556,
              "#d8576b"
             ],
             [
              0.6666666666666666,
              "#ed7953"
             ],
             [
              0.7777777777777778,
              "#fb9f3a"
             ],
             [
              0.8888888888888888,
              "#fdca26"
             ],
             [
              1,
              "#f0f921"
             ]
            ],
            "type": "contour"
           }
          ],
          "contourcarpet": [
           {
            "colorbar": {
             "outlinewidth": 0,
             "ticks": ""
            },
            "type": "contourcarpet"
           }
          ],
          "heatmap": [
           {
            "colorbar": {
             "outlinewidth": 0,
             "ticks": ""
            },
            "colorscale": [
             [
              0,
              "#0d0887"
             ],
             [
              0.1111111111111111,
              "#46039f"
             ],
             [
              0.2222222222222222,
              "#7201a8"
             ],
             [
              0.3333333333333333,
              "#9c179e"
             ],
             [
              0.4444444444444444,
              "#bd3786"
             ],
             [
              0.5555555555555556,
              "#d8576b"
             ],
             [
              0.6666666666666666,
              "#ed7953"
             ],
             [
              0.7777777777777778,
              "#fb9f3a"
             ],
             [
              0.8888888888888888,
              "#fdca26"
             ],
             [
              1,
              "#f0f921"
             ]
            ],
            "type": "heatmap"
           }
          ],
          "heatmapgl": [
           {
            "colorbar": {
             "outlinewidth": 0,
             "ticks": ""
            },
            "colorscale": [
             [
              0,
              "#0d0887"
             ],
             [
              0.1111111111111111,
              "#46039f"
             ],
             [
              0.2222222222222222,
              "#7201a8"
             ],
             [
              0.3333333333333333,
              "#9c179e"
             ],
             [
              0.4444444444444444,
              "#bd3786"
             ],
             [
              0.5555555555555556,
              "#d8576b"
             ],
             [
              0.6666666666666666,
              "#ed7953"
             ],
             [
              0.7777777777777778,
              "#fb9f3a"
             ],
             [
              0.8888888888888888,
              "#fdca26"
             ],
             [
              1,
              "#f0f921"
             ]
            ],
            "type": "heatmapgl"
           }
          ],
          "histogram": [
           {
            "marker": {
             "pattern": {
              "fillmode": "overlay",
              "size": 10,
              "solidity": 0.2
             }
            },
            "type": "histogram"
           }
          ],
          "histogram2d": [
           {
            "colorbar": {
             "outlinewidth": 0,
             "ticks": ""
            },
            "colorscale": [
             [
              0,
              "#0d0887"
             ],
             [
              0.1111111111111111,
              "#46039f"
             ],
             [
              0.2222222222222222,
              "#7201a8"
             ],
             [
              0.3333333333333333,
              "#9c179e"
             ],
             [
              0.4444444444444444,
              "#bd3786"
             ],
             [
              0.5555555555555556,
              "#d8576b"
             ],
             [
              0.6666666666666666,
              "#ed7953"
             ],
             [
              0.7777777777777778,
              "#fb9f3a"
             ],
             [
              0.8888888888888888,
              "#fdca26"
             ],
             [
              1,
              "#f0f921"
             ]
            ],
            "type": "histogram2d"
           }
          ],
          "histogram2dcontour": [
           {
            "colorbar": {
             "outlinewidth": 0,
             "ticks": ""
            },
            "colorscale": [
             [
              0,
              "#0d0887"
             ],
             [
              0.1111111111111111,
              "#46039f"
             ],
             [
              0.2222222222222222,
              "#7201a8"
             ],
             [
              0.3333333333333333,
              "#9c179e"
             ],
             [
              0.4444444444444444,
              "#bd3786"
             ],
             [
              0.5555555555555556,
              "#d8576b"
             ],
             [
              0.6666666666666666,
              "#ed7953"
             ],
             [
              0.7777777777777778,
              "#fb9f3a"
             ],
             [
              0.8888888888888888,
              "#fdca26"
             ],
             [
              1,
              "#f0f921"
             ]
            ],
            "type": "histogram2dcontour"
           }
          ],
          "mesh3d": [
           {
            "colorbar": {
             "outlinewidth": 0,
             "ticks": ""
            },
            "type": "mesh3d"
           }
          ],
          "parcoords": [
           {
            "line": {
             "colorbar": {
              "outlinewidth": 0,
              "ticks": ""
             }
            },
            "type": "parcoords"
           }
          ],
          "pie": [
           {
            "automargin": true,
            "type": "pie"
           }
          ],
          "scatter": [
           {
            "marker": {
             "colorbar": {
              "outlinewidth": 0,
              "ticks": ""
             }
            },
            "type": "scatter"
           }
          ],
          "scatter3d": [
           {
            "line": {
             "colorbar": {
              "outlinewidth": 0,
              "ticks": ""
             }
            },
            "marker": {
             "colorbar": {
              "outlinewidth": 0,
              "ticks": ""
             }
            },
            "type": "scatter3d"
           }
          ],
          "scattercarpet": [
           {
            "marker": {
             "colorbar": {
              "outlinewidth": 0,
              "ticks": ""
             }
            },
            "type": "scattercarpet"
           }
          ],
          "scattergeo": [
           {
            "marker": {
             "colorbar": {
              "outlinewidth": 0,
              "ticks": ""
             }
            },
            "type": "scattergeo"
           }
          ],
          "scattergl": [
           {
            "marker": {
             "colorbar": {
              "outlinewidth": 0,
              "ticks": ""
             }
            },
            "type": "scattergl"
           }
          ],
          "scattermapbox": [
           {
            "marker": {
             "colorbar": {
              "outlinewidth": 0,
              "ticks": ""
             }
            },
            "type": "scattermapbox"
           }
          ],
          "scatterpolar": [
           {
            "marker": {
             "colorbar": {
              "outlinewidth": 0,
              "ticks": ""
             }
            },
            "type": "scatterpolar"
           }
          ],
          "scatterpolargl": [
           {
            "marker": {
             "colorbar": {
              "outlinewidth": 0,
              "ticks": ""
             }
            },
            "type": "scatterpolargl"
           }
          ],
          "scatterternary": [
           {
            "marker": {
             "colorbar": {
              "outlinewidth": 0,
              "ticks": ""
             }
            },
            "type": "scatterternary"
           }
          ],
          "surface": [
           {
            "colorbar": {
             "outlinewidth": 0,
             "ticks": ""
            },
            "colorscale": [
             [
              0,
              "#0d0887"
             ],
             [
              0.1111111111111111,
              "#46039f"
             ],
             [
              0.2222222222222222,
              "#7201a8"
             ],
             [
              0.3333333333333333,
              "#9c179e"
             ],
             [
              0.4444444444444444,
              "#bd3786"
             ],
             [
              0.5555555555555556,
              "#d8576b"
             ],
             [
              0.6666666666666666,
              "#ed7953"
             ],
             [
              0.7777777777777778,
              "#fb9f3a"
             ],
             [
              0.8888888888888888,
              "#fdca26"
             ],
             [
              1,
              "#f0f921"
             ]
            ],
            "type": "surface"
           }
          ],
          "table": [
           {
            "cells": {
             "fill": {
              "color": "#EBF0F8"
             },
             "line": {
              "color": "white"
             }
            },
            "header": {
             "fill": {
              "color": "#C8D4E3"
             },
             "line": {
              "color": "white"
             }
            },
            "type": "table"
           }
          ]
         },
         "layout": {
          "annotationdefaults": {
           "arrowcolor": "#2a3f5f",
           "arrowhead": 0,
           "arrowwidth": 1
          },
          "autotypenumbers": "strict",
          "coloraxis": {
           "colorbar": {
            "outlinewidth": 0,
            "ticks": ""
           }
          },
          "colorscale": {
           "diverging": [
            [
             0,
             "#8e0152"
            ],
            [
             0.1,
             "#c51b7d"
            ],
            [
             0.2,
             "#de77ae"
            ],
            [
             0.3,
             "#f1b6da"
            ],
            [
             0.4,
             "#fde0ef"
            ],
            [
             0.5,
             "#f7f7f7"
            ],
            [
             0.6,
             "#e6f5d0"
            ],
            [
             0.7,
             "#b8e186"
            ],
            [
             0.8,
             "#7fbc41"
            ],
            [
             0.9,
             "#4d9221"
            ],
            [
             1,
             "#276419"
            ]
           ],
           "sequential": [
            [
             0,
             "#0d0887"
            ],
            [
             0.1111111111111111,
             "#46039f"
            ],
            [
             0.2222222222222222,
             "#7201a8"
            ],
            [
             0.3333333333333333,
             "#9c179e"
            ],
            [
             0.4444444444444444,
             "#bd3786"
            ],
            [
             0.5555555555555556,
             "#d8576b"
            ],
            [
             0.6666666666666666,
             "#ed7953"
            ],
            [
             0.7777777777777778,
             "#fb9f3a"
            ],
            [
             0.8888888888888888,
             "#fdca26"
            ],
            [
             1,
             "#f0f921"
            ]
           ],
           "sequentialminus": [
            [
             0,
             "#0d0887"
            ],
            [
             0.1111111111111111,
             "#46039f"
            ],
            [
             0.2222222222222222,
             "#7201a8"
            ],
            [
             0.3333333333333333,
             "#9c179e"
            ],
            [
             0.4444444444444444,
             "#bd3786"
            ],
            [
             0.5555555555555556,
             "#d8576b"
            ],
            [
             0.6666666666666666,
             "#ed7953"
            ],
            [
             0.7777777777777778,
             "#fb9f3a"
            ],
            [
             0.8888888888888888,
             "#fdca26"
            ],
            [
             1,
             "#f0f921"
            ]
           ]
          },
          "colorway": [
           "#636efa",
           "#EF553B",
           "#00cc96",
           "#ab63fa",
           "#FFA15A",
           "#19d3f3",
           "#FF6692",
           "#B6E880",
           "#FF97FF",
           "#FECB52"
          ],
          "font": {
           "color": "#2a3f5f"
          },
          "geo": {
           "bgcolor": "white",
           "lakecolor": "white",
           "landcolor": "#E5ECF6",
           "showlakes": true,
           "showland": true,
           "subunitcolor": "white"
          },
          "hoverlabel": {
           "align": "left"
          },
          "hovermode": "closest",
          "mapbox": {
           "style": "light"
          },
          "paper_bgcolor": "white",
          "plot_bgcolor": "#E5ECF6",
          "polar": {
           "angularaxis": {
            "gridcolor": "white",
            "linecolor": "white",
            "ticks": ""
           },
           "bgcolor": "#E5ECF6",
           "radialaxis": {
            "gridcolor": "white",
            "linecolor": "white",
            "ticks": ""
           }
          },
          "scene": {
           "xaxis": {
            "backgroundcolor": "#E5ECF6",
            "gridcolor": "white",
            "gridwidth": 2,
            "linecolor": "white",
            "showbackground": true,
            "ticks": "",
            "zerolinecolor": "white"
           },
           "yaxis": {
            "backgroundcolor": "#E5ECF6",
            "gridcolor": "white",
            "gridwidth": 2,
            "linecolor": "white",
            "showbackground": true,
            "ticks": "",
            "zerolinecolor": "white"
           },
           "zaxis": {
            "backgroundcolor": "#E5ECF6",
            "gridcolor": "white",
            "gridwidth": 2,
            "linecolor": "white",
            "showbackground": true,
            "ticks": "",
            "zerolinecolor": "white"
           }
          },
          "shapedefaults": {
           "line": {
            "color": "#2a3f5f"
           }
          },
          "ternary": {
           "aaxis": {
            "gridcolor": "white",
            "linecolor": "white",
            "ticks": ""
           },
           "baxis": {
            "gridcolor": "white",
            "linecolor": "white",
            "ticks": ""
           },
           "bgcolor": "#E5ECF6",
           "caxis": {
            "gridcolor": "white",
            "linecolor": "white",
            "ticks": ""
           }
          },
          "title": {
           "x": 0.05
          },
          "xaxis": {
           "automargin": true,
           "gridcolor": "white",
           "linecolor": "white",
           "ticks": "",
           "title": {
            "standoff": 15
           },
           "zerolinecolor": "white",
           "zerolinewidth": 2
          },
          "yaxis": {
           "automargin": true,
           "gridcolor": "white",
           "linecolor": "white",
           "ticks": "",
           "title": {
            "standoff": 15
           },
           "zerolinecolor": "white",
           "zerolinewidth": 2
          }
         }
        },
        "title": {
         "font": {
          "color": "#4D5663"
         }
        },
        "xaxis": {
         "gridcolor": "#E1E5ED",
         "showgrid": true,
         "tickfont": {
          "color": "#4D5663"
         },
         "title": {
          "font": {
           "color": "#4D5663"
          },
          "text": ""
         },
         "zerolinecolor": "#E1E5ED"
        },
        "yaxis": {
         "gridcolor": "#E1E5ED",
         "showgrid": true,
         "tickfont": {
          "color": "#4D5663"
         },
         "title": {
          "font": {
           "color": "#4D5663"
          },
          "text": ""
         },
         "zerolinecolor": "#E1E5ED"
        }
       }
      },
      "text/html": [
       "<div>                            <div id=\"a4346803-3344-4dbb-946a-fad800373091\" class=\"plotly-graph-div\" style=\"height:525px; width:100%;\"></div>            <script type=\"text/javascript\">                require([\"plotly\"], function(Plotly) {                    window.PLOTLYENV=window.PLOTLYENV || {};\n",
       "                    window.PLOTLYENV.BASE_URL='https://plot.ly';                                    if (document.getElementById(\"a4346803-3344-4dbb-946a-fad800373091\")) {                    Plotly.newPlot(                        \"a4346803-3344-4dbb-946a-fad800373091\",                        [{\"colorscale\":[[0.0,\"rgb(255, 153, 51)\"],[0.1111111111111111,\"rgb(55, 128, 191)\"],[0.2222222222222222,\"rgb(50, 171, 96)\"],[0.3333333333333333,\"rgb(128, 0, 128)\"],[0.4444444444444444,\"rgb(219, 64, 82)\"],[0.5555555555555556,\"rgb(0, 128, 128)\"],[0.6666666666666666,\"rgb(255, 255, 51)\"],[0.7777777777777778,\"rgb(128, 128, 0)\"],[0.8888888888888888,\"rgb(251, 128, 114)\"],[1.0,\"rgb(128, 177, 211)\"]],\"x\":[0,1,2,3,4],\"y\":[\"x\",\"y\",\"z\"],\"z\":[[1,2,3,4,5],[10,20,30,20,10],[5,4,3,2,1]],\"type\":\"surface\"}],                        {\"legend\":{\"bgcolor\":\"#F5F6F9\",\"font\":{\"color\":\"#4D5663\"}},\"paper_bgcolor\":\"#F5F6F9\",\"plot_bgcolor\":\"#F5F6F9\",\"template\":{\"data\":{\"barpolar\":[{\"marker\":{\"line\":{\"color\":\"#E5ECF6\",\"width\":0.5},\"pattern\":{\"fillmode\":\"overlay\",\"size\":10,\"solidity\":0.2}},\"type\":\"barpolar\"}],\"bar\":[{\"error_x\":{\"color\":\"#2a3f5f\"},\"error_y\":{\"color\":\"#2a3f5f\"},\"marker\":{\"line\":{\"color\":\"#E5ECF6\",\"width\":0.5},\"pattern\":{\"fillmode\":\"overlay\",\"size\":10,\"solidity\":0.2}},\"type\":\"bar\"}],\"carpet\":[{\"aaxis\":{\"endlinecolor\":\"#2a3f5f\",\"gridcolor\":\"white\",\"linecolor\":\"white\",\"minorgridcolor\":\"white\",\"startlinecolor\":\"#2a3f5f\"},\"baxis\":{\"endlinecolor\":\"#2a3f5f\",\"gridcolor\":\"white\",\"linecolor\":\"white\",\"minorgridcolor\":\"white\",\"startlinecolor\":\"#2a3f5f\"},\"type\":\"carpet\"}],\"choropleth\":[{\"colorbar\":{\"outlinewidth\":0,\"ticks\":\"\"},\"type\":\"choropleth\"}],\"contourcarpet\":[{\"colorbar\":{\"outlinewidth\":0,\"ticks\":\"\"},\"type\":\"contourcarpet\"}],\"contour\":[{\"colorbar\":{\"outlinewidth\":0,\"ticks\":\"\"},\"colorscale\":[[0.0,\"#0d0887\"],[0.1111111111111111,\"#46039f\"],[0.2222222222222222,\"#7201a8\"],[0.3333333333333333,\"#9c179e\"],[0.4444444444444444,\"#bd3786\"],[0.5555555555555556,\"#d8576b\"],[0.6666666666666666,\"#ed7953\"],[0.7777777777777778,\"#fb9f3a\"],[0.8888888888888888,\"#fdca26\"],[1.0,\"#f0f921\"]],\"type\":\"contour\"}],\"heatmapgl\":[{\"colorbar\":{\"outlinewidth\":0,\"ticks\":\"\"},\"colorscale\":[[0.0,\"#0d0887\"],[0.1111111111111111,\"#46039f\"],[0.2222222222222222,\"#7201a8\"],[0.3333333333333333,\"#9c179e\"],[0.4444444444444444,\"#bd3786\"],[0.5555555555555556,\"#d8576b\"],[0.6666666666666666,\"#ed7953\"],[0.7777777777777778,\"#fb9f3a\"],[0.8888888888888888,\"#fdca26\"],[1.0,\"#f0f921\"]],\"type\":\"heatmapgl\"}],\"heatmap\":[{\"colorbar\":{\"outlinewidth\":0,\"ticks\":\"\"},\"colorscale\":[[0.0,\"#0d0887\"],[0.1111111111111111,\"#46039f\"],[0.2222222222222222,\"#7201a8\"],[0.3333333333333333,\"#9c179e\"],[0.4444444444444444,\"#bd3786\"],[0.5555555555555556,\"#d8576b\"],[0.6666666666666666,\"#ed7953\"],[0.7777777777777778,\"#fb9f3a\"],[0.8888888888888888,\"#fdca26\"],[1.0,\"#f0f921\"]],\"type\":\"heatmap\"}],\"histogram2dcontour\":[{\"colorbar\":{\"outlinewidth\":0,\"ticks\":\"\"},\"colorscale\":[[0.0,\"#0d0887\"],[0.1111111111111111,\"#46039f\"],[0.2222222222222222,\"#7201a8\"],[0.3333333333333333,\"#9c179e\"],[0.4444444444444444,\"#bd3786\"],[0.5555555555555556,\"#d8576b\"],[0.6666666666666666,\"#ed7953\"],[0.7777777777777778,\"#fb9f3a\"],[0.8888888888888888,\"#fdca26\"],[1.0,\"#f0f921\"]],\"type\":\"histogram2dcontour\"}],\"histogram2d\":[{\"colorbar\":{\"outlinewidth\":0,\"ticks\":\"\"},\"colorscale\":[[0.0,\"#0d0887\"],[0.1111111111111111,\"#46039f\"],[0.2222222222222222,\"#7201a8\"],[0.3333333333333333,\"#9c179e\"],[0.4444444444444444,\"#bd3786\"],[0.5555555555555556,\"#d8576b\"],[0.6666666666666666,\"#ed7953\"],[0.7777777777777778,\"#fb9f3a\"],[0.8888888888888888,\"#fdca26\"],[1.0,\"#f0f921\"]],\"type\":\"histogram2d\"}],\"histogram\":[{\"marker\":{\"pattern\":{\"fillmode\":\"overlay\",\"size\":10,\"solidity\":0.2}},\"type\":\"histogram\"}],\"mesh3d\":[{\"colorbar\":{\"outlinewidth\":0,\"ticks\":\"\"},\"type\":\"mesh3d\"}],\"parcoords\":[{\"line\":{\"colorbar\":{\"outlinewidth\":0,\"ticks\":\"\"}},\"type\":\"parcoords\"}],\"pie\":[{\"automargin\":true,\"type\":\"pie\"}],\"scatter3d\":[{\"line\":{\"colorbar\":{\"outlinewidth\":0,\"ticks\":\"\"}},\"marker\":{\"colorbar\":{\"outlinewidth\":0,\"ticks\":\"\"}},\"type\":\"scatter3d\"}],\"scattercarpet\":[{\"marker\":{\"colorbar\":{\"outlinewidth\":0,\"ticks\":\"\"}},\"type\":\"scattercarpet\"}],\"scattergeo\":[{\"marker\":{\"colorbar\":{\"outlinewidth\":0,\"ticks\":\"\"}},\"type\":\"scattergeo\"}],\"scattergl\":[{\"marker\":{\"colorbar\":{\"outlinewidth\":0,\"ticks\":\"\"}},\"type\":\"scattergl\"}],\"scattermapbox\":[{\"marker\":{\"colorbar\":{\"outlinewidth\":0,\"ticks\":\"\"}},\"type\":\"scattermapbox\"}],\"scatterpolargl\":[{\"marker\":{\"colorbar\":{\"outlinewidth\":0,\"ticks\":\"\"}},\"type\":\"scatterpolargl\"}],\"scatterpolar\":[{\"marker\":{\"colorbar\":{\"outlinewidth\":0,\"ticks\":\"\"}},\"type\":\"scatterpolar\"}],\"scatter\":[{\"marker\":{\"colorbar\":{\"outlinewidth\":0,\"ticks\":\"\"}},\"type\":\"scatter\"}],\"scatterternary\":[{\"marker\":{\"colorbar\":{\"outlinewidth\":0,\"ticks\":\"\"}},\"type\":\"scatterternary\"}],\"surface\":[{\"colorbar\":{\"outlinewidth\":0,\"ticks\":\"\"},\"colorscale\":[[0.0,\"#0d0887\"],[0.1111111111111111,\"#46039f\"],[0.2222222222222222,\"#7201a8\"],[0.3333333333333333,\"#9c179e\"],[0.4444444444444444,\"#bd3786\"],[0.5555555555555556,\"#d8576b\"],[0.6666666666666666,\"#ed7953\"],[0.7777777777777778,\"#fb9f3a\"],[0.8888888888888888,\"#fdca26\"],[1.0,\"#f0f921\"]],\"type\":\"surface\"}],\"table\":[{\"cells\":{\"fill\":{\"color\":\"#EBF0F8\"},\"line\":{\"color\":\"white\"}},\"header\":{\"fill\":{\"color\":\"#C8D4E3\"},\"line\":{\"color\":\"white\"}},\"type\":\"table\"}]},\"layout\":{\"annotationdefaults\":{\"arrowcolor\":\"#2a3f5f\",\"arrowhead\":0,\"arrowwidth\":1},\"autotypenumbers\":\"strict\",\"coloraxis\":{\"colorbar\":{\"outlinewidth\":0,\"ticks\":\"\"}},\"colorscale\":{\"diverging\":[[0,\"#8e0152\"],[0.1,\"#c51b7d\"],[0.2,\"#de77ae\"],[0.3,\"#f1b6da\"],[0.4,\"#fde0ef\"],[0.5,\"#f7f7f7\"],[0.6,\"#e6f5d0\"],[0.7,\"#b8e186\"],[0.8,\"#7fbc41\"],[0.9,\"#4d9221\"],[1,\"#276419\"]],\"sequential\":[[0.0,\"#0d0887\"],[0.1111111111111111,\"#46039f\"],[0.2222222222222222,\"#7201a8\"],[0.3333333333333333,\"#9c179e\"],[0.4444444444444444,\"#bd3786\"],[0.5555555555555556,\"#d8576b\"],[0.6666666666666666,\"#ed7953\"],[0.7777777777777778,\"#fb9f3a\"],[0.8888888888888888,\"#fdca26\"],[1.0,\"#f0f921\"]],\"sequentialminus\":[[0.0,\"#0d0887\"],[0.1111111111111111,\"#46039f\"],[0.2222222222222222,\"#7201a8\"],[0.3333333333333333,\"#9c179e\"],[0.4444444444444444,\"#bd3786\"],[0.5555555555555556,\"#d8576b\"],[0.6666666666666666,\"#ed7953\"],[0.7777777777777778,\"#fb9f3a\"],[0.8888888888888888,\"#fdca26\"],[1.0,\"#f0f921\"]]},\"colorway\":[\"#636efa\",\"#EF553B\",\"#00cc96\",\"#ab63fa\",\"#FFA15A\",\"#19d3f3\",\"#FF6692\",\"#B6E880\",\"#FF97FF\",\"#FECB52\"],\"font\":{\"color\":\"#2a3f5f\"},\"geo\":{\"bgcolor\":\"white\",\"lakecolor\":\"white\",\"landcolor\":\"#E5ECF6\",\"showlakes\":true,\"showland\":true,\"subunitcolor\":\"white\"},\"hoverlabel\":{\"align\":\"left\"},\"hovermode\":\"closest\",\"mapbox\":{\"style\":\"light\"},\"paper_bgcolor\":\"white\",\"plot_bgcolor\":\"#E5ECF6\",\"polar\":{\"angularaxis\":{\"gridcolor\":\"white\",\"linecolor\":\"white\",\"ticks\":\"\"},\"bgcolor\":\"#E5ECF6\",\"radialaxis\":{\"gridcolor\":\"white\",\"linecolor\":\"white\",\"ticks\":\"\"}},\"scene\":{\"xaxis\":{\"backgroundcolor\":\"#E5ECF6\",\"gridcolor\":\"white\",\"gridwidth\":2,\"linecolor\":\"white\",\"showbackground\":true,\"ticks\":\"\",\"zerolinecolor\":\"white\"},\"yaxis\":{\"backgroundcolor\":\"#E5ECF6\",\"gridcolor\":\"white\",\"gridwidth\":2,\"linecolor\":\"white\",\"showbackground\":true,\"ticks\":\"\",\"zerolinecolor\":\"white\"},\"zaxis\":{\"backgroundcolor\":\"#E5ECF6\",\"gridcolor\":\"white\",\"gridwidth\":2,\"linecolor\":\"white\",\"showbackground\":true,\"ticks\":\"\",\"zerolinecolor\":\"white\"}},\"shapedefaults\":{\"line\":{\"color\":\"#2a3f5f\"}},\"ternary\":{\"aaxis\":{\"gridcolor\":\"white\",\"linecolor\":\"white\",\"ticks\":\"\"},\"baxis\":{\"gridcolor\":\"white\",\"linecolor\":\"white\",\"ticks\":\"\"},\"bgcolor\":\"#E5ECF6\",\"caxis\":{\"gridcolor\":\"white\",\"linecolor\":\"white\",\"ticks\":\"\"}},\"title\":{\"x\":0.05},\"xaxis\":{\"automargin\":true,\"gridcolor\":\"white\",\"linecolor\":\"white\",\"ticks\":\"\",\"title\":{\"standoff\":15},\"zerolinecolor\":\"white\",\"zerolinewidth\":2},\"yaxis\":{\"automargin\":true,\"gridcolor\":\"white\",\"linecolor\":\"white\",\"ticks\":\"\",\"title\":{\"standoff\":15},\"zerolinecolor\":\"white\",\"zerolinewidth\":2}}},\"title\":{\"font\":{\"color\":\"#4D5663\"}},\"xaxis\":{\"gridcolor\":\"#E1E5ED\",\"showgrid\":true,\"tickfont\":{\"color\":\"#4D5663\"},\"title\":{\"font\":{\"color\":\"#4D5663\"},\"text\":\"\"},\"zerolinecolor\":\"#E1E5ED\"},\"yaxis\":{\"gridcolor\":\"#E1E5ED\",\"showgrid\":true,\"tickfont\":{\"color\":\"#4D5663\"},\"title\":{\"font\":{\"color\":\"#4D5663\"},\"text\":\"\"},\"zerolinecolor\":\"#E1E5ED\"}},                        {\"showLink\": true, \"linkText\": \"Export to plot.ly\", \"plotlyServerURL\": \"https://plot.ly\", \"responsive\": true}                    ).then(function(){\n",
       "                            \n",
       "var gd = document.getElementById('a4346803-3344-4dbb-946a-fad800373091');\n",
       "var x = new MutationObserver(function (mutations, observer) {{\n",
       "        var display = window.getComputedStyle(gd).display;\n",
       "        if (!display || display === 'none') {{\n",
       "            console.log([gd, 'removed!']);\n",
       "            Plotly.purge(gd);\n",
       "            observer.disconnect();\n",
       "        }}\n",
       "}});\n",
       "\n",
       "// Listen for the removal of the full notebook cells\n",
       "var notebookContainer = gd.closest('#notebook-container');\n",
       "if (notebookContainer) {{\n",
       "    x.observe(notebookContainer, {childList: true});\n",
       "}}\n",
       "\n",
       "// Listen for the clearing of the current output cell\n",
       "var outputEl = gd.closest('.output');\n",
       "if (outputEl) {{\n",
       "    x.observe(outputEl, {childList: true});\n",
       "}}\n",
       "\n",
       "                        })                };                });            </script>        </div>"
      ]
     },
     "metadata": {},
     "output_type": "display_data"
    }
   ],
   "source": [
    "df3.iplot(kind='surface')"
   ]
  },
  {
   "cell_type": "code",
   "execution_count": 33,
   "metadata": {},
   "outputs": [
    {
     "data": {
      "application/vnd.plotly.v1+json": {
       "config": {
        "linkText": "Export to plot.ly",
        "plotlyServerURL": "https://plot.ly",
        "showLink": true
       },
       "data": [
        {
         "colorscale": [
          [
           0,
           "rgb(165,0,38)"
          ],
          [
           0.1,
           "rgb(215,48,39)"
          ],
          [
           0.2,
           "rgb(244,109,67)"
          ],
          [
           0.3,
           "rgb(253,174,97)"
          ],
          [
           0.4,
           "rgb(254,224,144)"
          ],
          [
           0.5,
           "rgb(255,255,191)"
          ],
          [
           0.6,
           "rgb(224,243,248)"
          ],
          [
           0.7,
           "rgb(171,217,233)"
          ],
          [
           0.8,
           "rgb(116,173,209)"
          ],
          [
           0.9,
           "rgb(69,117,180)"
          ],
          [
           1,
           "rgb(49,54,149)"
          ]
         ],
         "type": "surface",
         "x": [
          0,
          1,
          2,
          3,
          4
         ],
         "y": [
          "x",
          "y",
          "z"
         ],
         "z": [
          [
           1,
           2,
           3,
           4,
           5
          ],
          [
           10,
           20,
           30,
           20,
           10
          ],
          [
           5,
           4,
           3,
           2,
           1
          ]
         ]
        }
       ],
       "layout": {
        "legend": {
         "bgcolor": "#F5F6F9",
         "font": {
          "color": "#4D5663"
         }
        },
        "paper_bgcolor": "#F5F6F9",
        "plot_bgcolor": "#F5F6F9",
        "template": {
         "data": {
          "bar": [
           {
            "error_x": {
             "color": "#2a3f5f"
            },
            "error_y": {
             "color": "#2a3f5f"
            },
            "marker": {
             "line": {
              "color": "#E5ECF6",
              "width": 0.5
             },
             "pattern": {
              "fillmode": "overlay",
              "size": 10,
              "solidity": 0.2
             }
            },
            "type": "bar"
           }
          ],
          "barpolar": [
           {
            "marker": {
             "line": {
              "color": "#E5ECF6",
              "width": 0.5
             },
             "pattern": {
              "fillmode": "overlay",
              "size": 10,
              "solidity": 0.2
             }
            },
            "type": "barpolar"
           }
          ],
          "carpet": [
           {
            "aaxis": {
             "endlinecolor": "#2a3f5f",
             "gridcolor": "white",
             "linecolor": "white",
             "minorgridcolor": "white",
             "startlinecolor": "#2a3f5f"
            },
            "baxis": {
             "endlinecolor": "#2a3f5f",
             "gridcolor": "white",
             "linecolor": "white",
             "minorgridcolor": "white",
             "startlinecolor": "#2a3f5f"
            },
            "type": "carpet"
           }
          ],
          "choropleth": [
           {
            "colorbar": {
             "outlinewidth": 0,
             "ticks": ""
            },
            "type": "choropleth"
           }
          ],
          "contour": [
           {
            "colorbar": {
             "outlinewidth": 0,
             "ticks": ""
            },
            "colorscale": [
             [
              0,
              "#0d0887"
             ],
             [
              0.1111111111111111,
              "#46039f"
             ],
             [
              0.2222222222222222,
              "#7201a8"
             ],
             [
              0.3333333333333333,
              "#9c179e"
             ],
             [
              0.4444444444444444,
              "#bd3786"
             ],
             [
              0.5555555555555556,
              "#d8576b"
             ],
             [
              0.6666666666666666,
              "#ed7953"
             ],
             [
              0.7777777777777778,
              "#fb9f3a"
             ],
             [
              0.8888888888888888,
              "#fdca26"
             ],
             [
              1,
              "#f0f921"
             ]
            ],
            "type": "contour"
           }
          ],
          "contourcarpet": [
           {
            "colorbar": {
             "outlinewidth": 0,
             "ticks": ""
            },
            "type": "contourcarpet"
           }
          ],
          "heatmap": [
           {
            "colorbar": {
             "outlinewidth": 0,
             "ticks": ""
            },
            "colorscale": [
             [
              0,
              "#0d0887"
             ],
             [
              0.1111111111111111,
              "#46039f"
             ],
             [
              0.2222222222222222,
              "#7201a8"
             ],
             [
              0.3333333333333333,
              "#9c179e"
             ],
             [
              0.4444444444444444,
              "#bd3786"
             ],
             [
              0.5555555555555556,
              "#d8576b"
             ],
             [
              0.6666666666666666,
              "#ed7953"
             ],
             [
              0.7777777777777778,
              "#fb9f3a"
             ],
             [
              0.8888888888888888,
              "#fdca26"
             ],
             [
              1,
              "#f0f921"
             ]
            ],
            "type": "heatmap"
           }
          ],
          "heatmapgl": [
           {
            "colorbar": {
             "outlinewidth": 0,
             "ticks": ""
            },
            "colorscale": [
             [
              0,
              "#0d0887"
             ],
             [
              0.1111111111111111,
              "#46039f"
             ],
             [
              0.2222222222222222,
              "#7201a8"
             ],
             [
              0.3333333333333333,
              "#9c179e"
             ],
             [
              0.4444444444444444,
              "#bd3786"
             ],
             [
              0.5555555555555556,
              "#d8576b"
             ],
             [
              0.6666666666666666,
              "#ed7953"
             ],
             [
              0.7777777777777778,
              "#fb9f3a"
             ],
             [
              0.8888888888888888,
              "#fdca26"
             ],
             [
              1,
              "#f0f921"
             ]
            ],
            "type": "heatmapgl"
           }
          ],
          "histogram": [
           {
            "marker": {
             "pattern": {
              "fillmode": "overlay",
              "size": 10,
              "solidity": 0.2
             }
            },
            "type": "histogram"
           }
          ],
          "histogram2d": [
           {
            "colorbar": {
             "outlinewidth": 0,
             "ticks": ""
            },
            "colorscale": [
             [
              0,
              "#0d0887"
             ],
             [
              0.1111111111111111,
              "#46039f"
             ],
             [
              0.2222222222222222,
              "#7201a8"
             ],
             [
              0.3333333333333333,
              "#9c179e"
             ],
             [
              0.4444444444444444,
              "#bd3786"
             ],
             [
              0.5555555555555556,
              "#d8576b"
             ],
             [
              0.6666666666666666,
              "#ed7953"
             ],
             [
              0.7777777777777778,
              "#fb9f3a"
             ],
             [
              0.8888888888888888,
              "#fdca26"
             ],
             [
              1,
              "#f0f921"
             ]
            ],
            "type": "histogram2d"
           }
          ],
          "histogram2dcontour": [
           {
            "colorbar": {
             "outlinewidth": 0,
             "ticks": ""
            },
            "colorscale": [
             [
              0,
              "#0d0887"
             ],
             [
              0.1111111111111111,
              "#46039f"
             ],
             [
              0.2222222222222222,
              "#7201a8"
             ],
             [
              0.3333333333333333,
              "#9c179e"
             ],
             [
              0.4444444444444444,
              "#bd3786"
             ],
             [
              0.5555555555555556,
              "#d8576b"
             ],
             [
              0.6666666666666666,
              "#ed7953"
             ],
             [
              0.7777777777777778,
              "#fb9f3a"
             ],
             [
              0.8888888888888888,
              "#fdca26"
             ],
             [
              1,
              "#f0f921"
             ]
            ],
            "type": "histogram2dcontour"
           }
          ],
          "mesh3d": [
           {
            "colorbar": {
             "outlinewidth": 0,
             "ticks": ""
            },
            "type": "mesh3d"
           }
          ],
          "parcoords": [
           {
            "line": {
             "colorbar": {
              "outlinewidth": 0,
              "ticks": ""
             }
            },
            "type": "parcoords"
           }
          ],
          "pie": [
           {
            "automargin": true,
            "type": "pie"
           }
          ],
          "scatter": [
           {
            "marker": {
             "colorbar": {
              "outlinewidth": 0,
              "ticks": ""
             }
            },
            "type": "scatter"
           }
          ],
          "scatter3d": [
           {
            "line": {
             "colorbar": {
              "outlinewidth": 0,
              "ticks": ""
             }
            },
            "marker": {
             "colorbar": {
              "outlinewidth": 0,
              "ticks": ""
             }
            },
            "type": "scatter3d"
           }
          ],
          "scattercarpet": [
           {
            "marker": {
             "colorbar": {
              "outlinewidth": 0,
              "ticks": ""
             }
            },
            "type": "scattercarpet"
           }
          ],
          "scattergeo": [
           {
            "marker": {
             "colorbar": {
              "outlinewidth": 0,
              "ticks": ""
             }
            },
            "type": "scattergeo"
           }
          ],
          "scattergl": [
           {
            "marker": {
             "colorbar": {
              "outlinewidth": 0,
              "ticks": ""
             }
            },
            "type": "scattergl"
           }
          ],
          "scattermapbox": [
           {
            "marker": {
             "colorbar": {
              "outlinewidth": 0,
              "ticks": ""
             }
            },
            "type": "scattermapbox"
           }
          ],
          "scatterpolar": [
           {
            "marker": {
             "colorbar": {
              "outlinewidth": 0,
              "ticks": ""
             }
            },
            "type": "scatterpolar"
           }
          ],
          "scatterpolargl": [
           {
            "marker": {
             "colorbar": {
              "outlinewidth": 0,
              "ticks": ""
             }
            },
            "type": "scatterpolargl"
           }
          ],
          "scatterternary": [
           {
            "marker": {
             "colorbar": {
              "outlinewidth": 0,
              "ticks": ""
             }
            },
            "type": "scatterternary"
           }
          ],
          "surface": [
           {
            "colorbar": {
             "outlinewidth": 0,
             "ticks": ""
            },
            "colorscale": [
             [
              0,
              "#0d0887"
             ],
             [
              0.1111111111111111,
              "#46039f"
             ],
             [
              0.2222222222222222,
              "#7201a8"
             ],
             [
              0.3333333333333333,
              "#9c179e"
             ],
             [
              0.4444444444444444,
              "#bd3786"
             ],
             [
              0.5555555555555556,
              "#d8576b"
             ],
             [
              0.6666666666666666,
              "#ed7953"
             ],
             [
              0.7777777777777778,
              "#fb9f3a"
             ],
             [
              0.8888888888888888,
              "#fdca26"
             ],
             [
              1,
              "#f0f921"
             ]
            ],
            "type": "surface"
           }
          ],
          "table": [
           {
            "cells": {
             "fill": {
              "color": "#EBF0F8"
             },
             "line": {
              "color": "white"
             }
            },
            "header": {
             "fill": {
              "color": "#C8D4E3"
             },
             "line": {
              "color": "white"
             }
            },
            "type": "table"
           }
          ]
         },
         "layout": {
          "annotationdefaults": {
           "arrowcolor": "#2a3f5f",
           "arrowhead": 0,
           "arrowwidth": 1
          },
          "autotypenumbers": "strict",
          "coloraxis": {
           "colorbar": {
            "outlinewidth": 0,
            "ticks": ""
           }
          },
          "colorscale": {
           "diverging": [
            [
             0,
             "#8e0152"
            ],
            [
             0.1,
             "#c51b7d"
            ],
            [
             0.2,
             "#de77ae"
            ],
            [
             0.3,
             "#f1b6da"
            ],
            [
             0.4,
             "#fde0ef"
            ],
            [
             0.5,
             "#f7f7f7"
            ],
            [
             0.6,
             "#e6f5d0"
            ],
            [
             0.7,
             "#b8e186"
            ],
            [
             0.8,
             "#7fbc41"
            ],
            [
             0.9,
             "#4d9221"
            ],
            [
             1,
             "#276419"
            ]
           ],
           "sequential": [
            [
             0,
             "#0d0887"
            ],
            [
             0.1111111111111111,
             "#46039f"
            ],
            [
             0.2222222222222222,
             "#7201a8"
            ],
            [
             0.3333333333333333,
             "#9c179e"
            ],
            [
             0.4444444444444444,
             "#bd3786"
            ],
            [
             0.5555555555555556,
             "#d8576b"
            ],
            [
             0.6666666666666666,
             "#ed7953"
            ],
            [
             0.7777777777777778,
             "#fb9f3a"
            ],
            [
             0.8888888888888888,
             "#fdca26"
            ],
            [
             1,
             "#f0f921"
            ]
           ],
           "sequentialminus": [
            [
             0,
             "#0d0887"
            ],
            [
             0.1111111111111111,
             "#46039f"
            ],
            [
             0.2222222222222222,
             "#7201a8"
            ],
            [
             0.3333333333333333,
             "#9c179e"
            ],
            [
             0.4444444444444444,
             "#bd3786"
            ],
            [
             0.5555555555555556,
             "#d8576b"
            ],
            [
             0.6666666666666666,
             "#ed7953"
            ],
            [
             0.7777777777777778,
             "#fb9f3a"
            ],
            [
             0.8888888888888888,
             "#fdca26"
            ],
            [
             1,
             "#f0f921"
            ]
           ]
          },
          "colorway": [
           "#636efa",
           "#EF553B",
           "#00cc96",
           "#ab63fa",
           "#FFA15A",
           "#19d3f3",
           "#FF6692",
           "#B6E880",
           "#FF97FF",
           "#FECB52"
          ],
          "font": {
           "color": "#2a3f5f"
          },
          "geo": {
           "bgcolor": "white",
           "lakecolor": "white",
           "landcolor": "#E5ECF6",
           "showlakes": true,
           "showland": true,
           "subunitcolor": "white"
          },
          "hoverlabel": {
           "align": "left"
          },
          "hovermode": "closest",
          "mapbox": {
           "style": "light"
          },
          "paper_bgcolor": "white",
          "plot_bgcolor": "#E5ECF6",
          "polar": {
           "angularaxis": {
            "gridcolor": "white",
            "linecolor": "white",
            "ticks": ""
           },
           "bgcolor": "#E5ECF6",
           "radialaxis": {
            "gridcolor": "white",
            "linecolor": "white",
            "ticks": ""
           }
          },
          "scene": {
           "xaxis": {
            "backgroundcolor": "#E5ECF6",
            "gridcolor": "white",
            "gridwidth": 2,
            "linecolor": "white",
            "showbackground": true,
            "ticks": "",
            "zerolinecolor": "white"
           },
           "yaxis": {
            "backgroundcolor": "#E5ECF6",
            "gridcolor": "white",
            "gridwidth": 2,
            "linecolor": "white",
            "showbackground": true,
            "ticks": "",
            "zerolinecolor": "white"
           },
           "zaxis": {
            "backgroundcolor": "#E5ECF6",
            "gridcolor": "white",
            "gridwidth": 2,
            "linecolor": "white",
            "showbackground": true,
            "ticks": "",
            "zerolinecolor": "white"
           }
          },
          "shapedefaults": {
           "line": {
            "color": "#2a3f5f"
           }
          },
          "ternary": {
           "aaxis": {
            "gridcolor": "white",
            "linecolor": "white",
            "ticks": ""
           },
           "baxis": {
            "gridcolor": "white",
            "linecolor": "white",
            "ticks": ""
           },
           "bgcolor": "#E5ECF6",
           "caxis": {
            "gridcolor": "white",
            "linecolor": "white",
            "ticks": ""
           }
          },
          "title": {
           "x": 0.05
          },
          "xaxis": {
           "automargin": true,
           "gridcolor": "white",
           "linecolor": "white",
           "ticks": "",
           "title": {
            "standoff": 15
           },
           "zerolinecolor": "white",
           "zerolinewidth": 2
          },
          "yaxis": {
           "automargin": true,
           "gridcolor": "white",
           "linecolor": "white",
           "ticks": "",
           "title": {
            "standoff": 15
           },
           "zerolinecolor": "white",
           "zerolinewidth": 2
          }
         }
        },
        "title": {
         "font": {
          "color": "#4D5663"
         }
        },
        "xaxis": {
         "gridcolor": "#E1E5ED",
         "showgrid": true,
         "tickfont": {
          "color": "#4D5663"
         },
         "title": {
          "font": {
           "color": "#4D5663"
          },
          "text": ""
         },
         "zerolinecolor": "#E1E5ED"
        },
        "yaxis": {
         "gridcolor": "#E1E5ED",
         "showgrid": true,
         "tickfont": {
          "color": "#4D5663"
         },
         "title": {
          "font": {
           "color": "#4D5663"
          },
          "text": ""
         },
         "zerolinecolor": "#E1E5ED"
        }
       }
      },
      "text/html": [
       "<div>                            <div id=\"a07c1f08-6a75-44e1-ac9b-ed5129d2dcb8\" class=\"plotly-graph-div\" style=\"height:525px; width:100%;\"></div>            <script type=\"text/javascript\">                require([\"plotly\"], function(Plotly) {                    window.PLOTLYENV=window.PLOTLYENV || {};\n",
       "                    window.PLOTLYENV.BASE_URL='https://plot.ly';                                    if (document.getElementById(\"a07c1f08-6a75-44e1-ac9b-ed5129d2dcb8\")) {                    Plotly.newPlot(                        \"a07c1f08-6a75-44e1-ac9b-ed5129d2dcb8\",                        [{\"colorscale\":[[0.0,\"rgb(165,0,38)\"],[0.1,\"rgb(215,48,39)\"],[0.2,\"rgb(244,109,67)\"],[0.3,\"rgb(253,174,97)\"],[0.4,\"rgb(254,224,144)\"],[0.5,\"rgb(255,255,191)\"],[0.6,\"rgb(224,243,248)\"],[0.7,\"rgb(171,217,233)\"],[0.8,\"rgb(116,173,209)\"],[0.9,\"rgb(69,117,180)\"],[1.0,\"rgb(49,54,149)\"]],\"x\":[0,1,2,3,4],\"y\":[\"x\",\"y\",\"z\"],\"z\":[[1,2,3,4,5],[10,20,30,20,10],[5,4,3,2,1]],\"type\":\"surface\"}],                        {\"legend\":{\"bgcolor\":\"#F5F6F9\",\"font\":{\"color\":\"#4D5663\"}},\"paper_bgcolor\":\"#F5F6F9\",\"plot_bgcolor\":\"#F5F6F9\",\"template\":{\"data\":{\"barpolar\":[{\"marker\":{\"line\":{\"color\":\"#E5ECF6\",\"width\":0.5},\"pattern\":{\"fillmode\":\"overlay\",\"size\":10,\"solidity\":0.2}},\"type\":\"barpolar\"}],\"bar\":[{\"error_x\":{\"color\":\"#2a3f5f\"},\"error_y\":{\"color\":\"#2a3f5f\"},\"marker\":{\"line\":{\"color\":\"#E5ECF6\",\"width\":0.5},\"pattern\":{\"fillmode\":\"overlay\",\"size\":10,\"solidity\":0.2}},\"type\":\"bar\"}],\"carpet\":[{\"aaxis\":{\"endlinecolor\":\"#2a3f5f\",\"gridcolor\":\"white\",\"linecolor\":\"white\",\"minorgridcolor\":\"white\",\"startlinecolor\":\"#2a3f5f\"},\"baxis\":{\"endlinecolor\":\"#2a3f5f\",\"gridcolor\":\"white\",\"linecolor\":\"white\",\"minorgridcolor\":\"white\",\"startlinecolor\":\"#2a3f5f\"},\"type\":\"carpet\"}],\"choropleth\":[{\"colorbar\":{\"outlinewidth\":0,\"ticks\":\"\"},\"type\":\"choropleth\"}],\"contourcarpet\":[{\"colorbar\":{\"outlinewidth\":0,\"ticks\":\"\"},\"type\":\"contourcarpet\"}],\"contour\":[{\"colorbar\":{\"outlinewidth\":0,\"ticks\":\"\"},\"colorscale\":[[0.0,\"#0d0887\"],[0.1111111111111111,\"#46039f\"],[0.2222222222222222,\"#7201a8\"],[0.3333333333333333,\"#9c179e\"],[0.4444444444444444,\"#bd3786\"],[0.5555555555555556,\"#d8576b\"],[0.6666666666666666,\"#ed7953\"],[0.7777777777777778,\"#fb9f3a\"],[0.8888888888888888,\"#fdca26\"],[1.0,\"#f0f921\"]],\"type\":\"contour\"}],\"heatmapgl\":[{\"colorbar\":{\"outlinewidth\":0,\"ticks\":\"\"},\"colorscale\":[[0.0,\"#0d0887\"],[0.1111111111111111,\"#46039f\"],[0.2222222222222222,\"#7201a8\"],[0.3333333333333333,\"#9c179e\"],[0.4444444444444444,\"#bd3786\"],[0.5555555555555556,\"#d8576b\"],[0.6666666666666666,\"#ed7953\"],[0.7777777777777778,\"#fb9f3a\"],[0.8888888888888888,\"#fdca26\"],[1.0,\"#f0f921\"]],\"type\":\"heatmapgl\"}],\"heatmap\":[{\"colorbar\":{\"outlinewidth\":0,\"ticks\":\"\"},\"colorscale\":[[0.0,\"#0d0887\"],[0.1111111111111111,\"#46039f\"],[0.2222222222222222,\"#7201a8\"],[0.3333333333333333,\"#9c179e\"],[0.4444444444444444,\"#bd3786\"],[0.5555555555555556,\"#d8576b\"],[0.6666666666666666,\"#ed7953\"],[0.7777777777777778,\"#fb9f3a\"],[0.8888888888888888,\"#fdca26\"],[1.0,\"#f0f921\"]],\"type\":\"heatmap\"}],\"histogram2dcontour\":[{\"colorbar\":{\"outlinewidth\":0,\"ticks\":\"\"},\"colorscale\":[[0.0,\"#0d0887\"],[0.1111111111111111,\"#46039f\"],[0.2222222222222222,\"#7201a8\"],[0.3333333333333333,\"#9c179e\"],[0.4444444444444444,\"#bd3786\"],[0.5555555555555556,\"#d8576b\"],[0.6666666666666666,\"#ed7953\"],[0.7777777777777778,\"#fb9f3a\"],[0.8888888888888888,\"#fdca26\"],[1.0,\"#f0f921\"]],\"type\":\"histogram2dcontour\"}],\"histogram2d\":[{\"colorbar\":{\"outlinewidth\":0,\"ticks\":\"\"},\"colorscale\":[[0.0,\"#0d0887\"],[0.1111111111111111,\"#46039f\"],[0.2222222222222222,\"#7201a8\"],[0.3333333333333333,\"#9c179e\"],[0.4444444444444444,\"#bd3786\"],[0.5555555555555556,\"#d8576b\"],[0.6666666666666666,\"#ed7953\"],[0.7777777777777778,\"#fb9f3a\"],[0.8888888888888888,\"#fdca26\"],[1.0,\"#f0f921\"]],\"type\":\"histogram2d\"}],\"histogram\":[{\"marker\":{\"pattern\":{\"fillmode\":\"overlay\",\"size\":10,\"solidity\":0.2}},\"type\":\"histogram\"}],\"mesh3d\":[{\"colorbar\":{\"outlinewidth\":0,\"ticks\":\"\"},\"type\":\"mesh3d\"}],\"parcoords\":[{\"line\":{\"colorbar\":{\"outlinewidth\":0,\"ticks\":\"\"}},\"type\":\"parcoords\"}],\"pie\":[{\"automargin\":true,\"type\":\"pie\"}],\"scatter3d\":[{\"line\":{\"colorbar\":{\"outlinewidth\":0,\"ticks\":\"\"}},\"marker\":{\"colorbar\":{\"outlinewidth\":0,\"ticks\":\"\"}},\"type\":\"scatter3d\"}],\"scattercarpet\":[{\"marker\":{\"colorbar\":{\"outlinewidth\":0,\"ticks\":\"\"}},\"type\":\"scattercarpet\"}],\"scattergeo\":[{\"marker\":{\"colorbar\":{\"outlinewidth\":0,\"ticks\":\"\"}},\"type\":\"scattergeo\"}],\"scattergl\":[{\"marker\":{\"colorbar\":{\"outlinewidth\":0,\"ticks\":\"\"}},\"type\":\"scattergl\"}],\"scattermapbox\":[{\"marker\":{\"colorbar\":{\"outlinewidth\":0,\"ticks\":\"\"}},\"type\":\"scattermapbox\"}],\"scatterpolargl\":[{\"marker\":{\"colorbar\":{\"outlinewidth\":0,\"ticks\":\"\"}},\"type\":\"scatterpolargl\"}],\"scatterpolar\":[{\"marker\":{\"colorbar\":{\"outlinewidth\":0,\"ticks\":\"\"}},\"type\":\"scatterpolar\"}],\"scatter\":[{\"marker\":{\"colorbar\":{\"outlinewidth\":0,\"ticks\":\"\"}},\"type\":\"scatter\"}],\"scatterternary\":[{\"marker\":{\"colorbar\":{\"outlinewidth\":0,\"ticks\":\"\"}},\"type\":\"scatterternary\"}],\"surface\":[{\"colorbar\":{\"outlinewidth\":0,\"ticks\":\"\"},\"colorscale\":[[0.0,\"#0d0887\"],[0.1111111111111111,\"#46039f\"],[0.2222222222222222,\"#7201a8\"],[0.3333333333333333,\"#9c179e\"],[0.4444444444444444,\"#bd3786\"],[0.5555555555555556,\"#d8576b\"],[0.6666666666666666,\"#ed7953\"],[0.7777777777777778,\"#fb9f3a\"],[0.8888888888888888,\"#fdca26\"],[1.0,\"#f0f921\"]],\"type\":\"surface\"}],\"table\":[{\"cells\":{\"fill\":{\"color\":\"#EBF0F8\"},\"line\":{\"color\":\"white\"}},\"header\":{\"fill\":{\"color\":\"#C8D4E3\"},\"line\":{\"color\":\"white\"}},\"type\":\"table\"}]},\"layout\":{\"annotationdefaults\":{\"arrowcolor\":\"#2a3f5f\",\"arrowhead\":0,\"arrowwidth\":1},\"autotypenumbers\":\"strict\",\"coloraxis\":{\"colorbar\":{\"outlinewidth\":0,\"ticks\":\"\"}},\"colorscale\":{\"diverging\":[[0,\"#8e0152\"],[0.1,\"#c51b7d\"],[0.2,\"#de77ae\"],[0.3,\"#f1b6da\"],[0.4,\"#fde0ef\"],[0.5,\"#f7f7f7\"],[0.6,\"#e6f5d0\"],[0.7,\"#b8e186\"],[0.8,\"#7fbc41\"],[0.9,\"#4d9221\"],[1,\"#276419\"]],\"sequential\":[[0.0,\"#0d0887\"],[0.1111111111111111,\"#46039f\"],[0.2222222222222222,\"#7201a8\"],[0.3333333333333333,\"#9c179e\"],[0.4444444444444444,\"#bd3786\"],[0.5555555555555556,\"#d8576b\"],[0.6666666666666666,\"#ed7953\"],[0.7777777777777778,\"#fb9f3a\"],[0.8888888888888888,\"#fdca26\"],[1.0,\"#f0f921\"]],\"sequentialminus\":[[0.0,\"#0d0887\"],[0.1111111111111111,\"#46039f\"],[0.2222222222222222,\"#7201a8\"],[0.3333333333333333,\"#9c179e\"],[0.4444444444444444,\"#bd3786\"],[0.5555555555555556,\"#d8576b\"],[0.6666666666666666,\"#ed7953\"],[0.7777777777777778,\"#fb9f3a\"],[0.8888888888888888,\"#fdca26\"],[1.0,\"#f0f921\"]]},\"colorway\":[\"#636efa\",\"#EF553B\",\"#00cc96\",\"#ab63fa\",\"#FFA15A\",\"#19d3f3\",\"#FF6692\",\"#B6E880\",\"#FF97FF\",\"#FECB52\"],\"font\":{\"color\":\"#2a3f5f\"},\"geo\":{\"bgcolor\":\"white\",\"lakecolor\":\"white\",\"landcolor\":\"#E5ECF6\",\"showlakes\":true,\"showland\":true,\"subunitcolor\":\"white\"},\"hoverlabel\":{\"align\":\"left\"},\"hovermode\":\"closest\",\"mapbox\":{\"style\":\"light\"},\"paper_bgcolor\":\"white\",\"plot_bgcolor\":\"#E5ECF6\",\"polar\":{\"angularaxis\":{\"gridcolor\":\"white\",\"linecolor\":\"white\",\"ticks\":\"\"},\"bgcolor\":\"#E5ECF6\",\"radialaxis\":{\"gridcolor\":\"white\",\"linecolor\":\"white\",\"ticks\":\"\"}},\"scene\":{\"xaxis\":{\"backgroundcolor\":\"#E5ECF6\",\"gridcolor\":\"white\",\"gridwidth\":2,\"linecolor\":\"white\",\"showbackground\":true,\"ticks\":\"\",\"zerolinecolor\":\"white\"},\"yaxis\":{\"backgroundcolor\":\"#E5ECF6\",\"gridcolor\":\"white\",\"gridwidth\":2,\"linecolor\":\"white\",\"showbackground\":true,\"ticks\":\"\",\"zerolinecolor\":\"white\"},\"zaxis\":{\"backgroundcolor\":\"#E5ECF6\",\"gridcolor\":\"white\",\"gridwidth\":2,\"linecolor\":\"white\",\"showbackground\":true,\"ticks\":\"\",\"zerolinecolor\":\"white\"}},\"shapedefaults\":{\"line\":{\"color\":\"#2a3f5f\"}},\"ternary\":{\"aaxis\":{\"gridcolor\":\"white\",\"linecolor\":\"white\",\"ticks\":\"\"},\"baxis\":{\"gridcolor\":\"white\",\"linecolor\":\"white\",\"ticks\":\"\"},\"bgcolor\":\"#E5ECF6\",\"caxis\":{\"gridcolor\":\"white\",\"linecolor\":\"white\",\"ticks\":\"\"}},\"title\":{\"x\":0.05},\"xaxis\":{\"automargin\":true,\"gridcolor\":\"white\",\"linecolor\":\"white\",\"ticks\":\"\",\"title\":{\"standoff\":15},\"zerolinecolor\":\"white\",\"zerolinewidth\":2},\"yaxis\":{\"automargin\":true,\"gridcolor\":\"white\",\"linecolor\":\"white\",\"ticks\":\"\",\"title\":{\"standoff\":15},\"zerolinecolor\":\"white\",\"zerolinewidth\":2}}},\"title\":{\"font\":{\"color\":\"#4D5663\"}},\"xaxis\":{\"gridcolor\":\"#E1E5ED\",\"showgrid\":true,\"tickfont\":{\"color\":\"#4D5663\"},\"title\":{\"font\":{\"color\":\"#4D5663\"},\"text\":\"\"},\"zerolinecolor\":\"#E1E5ED\"},\"yaxis\":{\"gridcolor\":\"#E1E5ED\",\"showgrid\":true,\"tickfont\":{\"color\":\"#4D5663\"},\"title\":{\"font\":{\"color\":\"#4D5663\"},\"text\":\"\"},\"zerolinecolor\":\"#E1E5ED\"}},                        {\"showLink\": true, \"linkText\": \"Export to plot.ly\", \"plotlyServerURL\": \"https://plot.ly\", \"responsive\": true}                    ).then(function(){\n",
       "                            \n",
       "var gd = document.getElementById('a07c1f08-6a75-44e1-ac9b-ed5129d2dcb8');\n",
       "var x = new MutationObserver(function (mutations, observer) {{\n",
       "        var display = window.getComputedStyle(gd).display;\n",
       "        if (!display || display === 'none') {{\n",
       "            console.log([gd, 'removed!']);\n",
       "            Plotly.purge(gd);\n",
       "            observer.disconnect();\n",
       "        }}\n",
       "}});\n",
       "\n",
       "// Listen for the removal of the full notebook cells\n",
       "var notebookContainer = gd.closest('#notebook-container');\n",
       "if (notebookContainer) {{\n",
       "    x.observe(notebookContainer, {childList: true});\n",
       "}}\n",
       "\n",
       "// Listen for the clearing of the current output cell\n",
       "var outputEl = gd.closest('.output');\n",
       "if (outputEl) {{\n",
       "    x.observe(outputEl, {childList: true});\n",
       "}}\n",
       "\n",
       "                        })                };                });            </script>        </div>"
      ]
     },
     "metadata": {},
     "output_type": "display_data"
    }
   ],
   "source": [
    "df3.iplot(kind='surface', colorscale='rdylbu')"
   ]
  },
  {
   "cell_type": "code",
   "execution_count": 35,
   "metadata": {},
   "outputs": [
    {
     "data": {
      "application/vnd.plotly.v1+json": {
       "config": {
        "linkText": "Export to plot.ly",
        "plotlyServerURL": "https://plot.ly",
        "showLink": true
       },
       "data": [
        {
         "histfunc": "count",
         "histnorm": "",
         "marker": {
          "color": "rgba(255, 153, 51, 1.0)",
          "line": {
           "color": "#4D5663",
           "width": 1.3
          }
         },
         "name": "A",
         "nbinsx": 25,
         "opacity": 0.8,
         "orientation": "v",
         "type": "histogram",
         "x": [
          0.43576161330137125,
          0.0392002026600367,
          -0.0828096051226737,
          -0.06899993842236976,
          -0.7445185078343501,
          -0.5818104718774442,
          0.20812256881462257,
          1.5771047203879411,
          -0.6229410571707626,
          -0.2542553127090784,
          -0.8616883603461633,
          -0.6882323696812119,
          1.6091381292540365,
          -0.08960730935903875,
          1.477667203229447,
          -1.1289770047232348,
          -0.37757591613281366,
          -0.9555659233157126,
          -0.8716190463369677,
          2.3343739223771967,
          -0.5804185512560397,
          -0.34512219064872196,
          1.0009426139151563,
          -0.03638635948039409,
          -0.4795511213004423,
          -0.38710379078114443,
          -0.5982291373045885,
          0.8057103455189922,
          0.07653649862068276,
          1.8789206942278476,
          -1.9870408379249231,
          -1.2534934267964573,
          1.1424388929052163,
          -0.19667780218489977,
          0.6672725785699418,
          0.22197020125418726,
          0.40375610544655427,
          0.790455120710436,
          0.47759724675807447,
          1.188441738310553,
          2.5966130677908876,
          -0.6307284045262942,
          0.07962977335776215,
          0.3075091604528683,
          -1.4964756673073725,
          -0.12521366306897264,
          -1.2358732389987421,
          -0.2360811692397413,
          -2.282498392530906,
          0.7428373771981449,
          -0.6288414109073985,
          0.6230290519320041,
          0.716991257672416,
          0.2741062424132256,
          0.9315691700047641,
          2.246444132120593,
          -0.09798021170589394,
          -1.4133581682943,
          0.27061743914078784,
          0.5896664688392396,
          0.049326040185358244,
          -1.6878301432568965,
          -2.048608617619134,
          0.44524418456960363,
          -0.9380811961782093,
          -1.88596316407578,
          0.6201094070399932,
          -1.5569988864741955,
          -0.5969142673083347,
          1.7125329163547705,
          2.0185871649641642,
          -1.2330424798204571,
          1.2660998430994834,
          0.4475507802687231,
          -0.808620887480285,
          -0.17552478952105183,
          -1.0126133692310482,
          -3.675695561961809,
          0.028560931347580483,
          1.92983422047473,
          0.35556609859758814,
          -0.06511288145789168,
          -0.25838345482305736,
          -1.2400752553123529,
          -0.34078316151973576,
          0.5430289046145775,
          -0.8056959136889844,
          1.6300090038319708,
          0.1558133548094795,
          0.09620023351258908,
          -0.7846317882449255,
          -2.5182101025471333,
          0.5562799597495309,
          0.16046651940046647,
          -0.21954404954103748,
          -0.32808367130031724,
          0.7209387084058826,
          -0.0345397981985188,
          -0.09495490706369364,
          -0.8910145283144787
         ]
        }
       ],
       "layout": {
        "barmode": "overlay",
        "legend": {
         "bgcolor": "#F5F6F9",
         "font": {
          "color": "#4D5663"
         }
        },
        "paper_bgcolor": "#F5F6F9",
        "plot_bgcolor": "#F5F6F9",
        "template": {
         "data": {
          "bar": [
           {
            "error_x": {
             "color": "#2a3f5f"
            },
            "error_y": {
             "color": "#2a3f5f"
            },
            "marker": {
             "line": {
              "color": "#E5ECF6",
              "width": 0.5
             },
             "pattern": {
              "fillmode": "overlay",
              "size": 10,
              "solidity": 0.2
             }
            },
            "type": "bar"
           }
          ],
          "barpolar": [
           {
            "marker": {
             "line": {
              "color": "#E5ECF6",
              "width": 0.5
             },
             "pattern": {
              "fillmode": "overlay",
              "size": 10,
              "solidity": 0.2
             }
            },
            "type": "barpolar"
           }
          ],
          "carpet": [
           {
            "aaxis": {
             "endlinecolor": "#2a3f5f",
             "gridcolor": "white",
             "linecolor": "white",
             "minorgridcolor": "white",
             "startlinecolor": "#2a3f5f"
            },
            "baxis": {
             "endlinecolor": "#2a3f5f",
             "gridcolor": "white",
             "linecolor": "white",
             "minorgridcolor": "white",
             "startlinecolor": "#2a3f5f"
            },
            "type": "carpet"
           }
          ],
          "choropleth": [
           {
            "colorbar": {
             "outlinewidth": 0,
             "ticks": ""
            },
            "type": "choropleth"
           }
          ],
          "contour": [
           {
            "colorbar": {
             "outlinewidth": 0,
             "ticks": ""
            },
            "colorscale": [
             [
              0,
              "#0d0887"
             ],
             [
              0.1111111111111111,
              "#46039f"
             ],
             [
              0.2222222222222222,
              "#7201a8"
             ],
             [
              0.3333333333333333,
              "#9c179e"
             ],
             [
              0.4444444444444444,
              "#bd3786"
             ],
             [
              0.5555555555555556,
              "#d8576b"
             ],
             [
              0.6666666666666666,
              "#ed7953"
             ],
             [
              0.7777777777777778,
              "#fb9f3a"
             ],
             [
              0.8888888888888888,
              "#fdca26"
             ],
             [
              1,
              "#f0f921"
             ]
            ],
            "type": "contour"
           }
          ],
          "contourcarpet": [
           {
            "colorbar": {
             "outlinewidth": 0,
             "ticks": ""
            },
            "type": "contourcarpet"
           }
          ],
          "heatmap": [
           {
            "colorbar": {
             "outlinewidth": 0,
             "ticks": ""
            },
            "colorscale": [
             [
              0,
              "#0d0887"
             ],
             [
              0.1111111111111111,
              "#46039f"
             ],
             [
              0.2222222222222222,
              "#7201a8"
             ],
             [
              0.3333333333333333,
              "#9c179e"
             ],
             [
              0.4444444444444444,
              "#bd3786"
             ],
             [
              0.5555555555555556,
              "#d8576b"
             ],
             [
              0.6666666666666666,
              "#ed7953"
             ],
             [
              0.7777777777777778,
              "#fb9f3a"
             ],
             [
              0.8888888888888888,
              "#fdca26"
             ],
             [
              1,
              "#f0f921"
             ]
            ],
            "type": "heatmap"
           }
          ],
          "heatmapgl": [
           {
            "colorbar": {
             "outlinewidth": 0,
             "ticks": ""
            },
            "colorscale": [
             [
              0,
              "#0d0887"
             ],
             [
              0.1111111111111111,
              "#46039f"
             ],
             [
              0.2222222222222222,
              "#7201a8"
             ],
             [
              0.3333333333333333,
              "#9c179e"
             ],
             [
              0.4444444444444444,
              "#bd3786"
             ],
             [
              0.5555555555555556,
              "#d8576b"
             ],
             [
              0.6666666666666666,
              "#ed7953"
             ],
             [
              0.7777777777777778,
              "#fb9f3a"
             ],
             [
              0.8888888888888888,
              "#fdca26"
             ],
             [
              1,
              "#f0f921"
             ]
            ],
            "type": "heatmapgl"
           }
          ],
          "histogram": [
           {
            "marker": {
             "pattern": {
              "fillmode": "overlay",
              "size": 10,
              "solidity": 0.2
             }
            },
            "type": "histogram"
           }
          ],
          "histogram2d": [
           {
            "colorbar": {
             "outlinewidth": 0,
             "ticks": ""
            },
            "colorscale": [
             [
              0,
              "#0d0887"
             ],
             [
              0.1111111111111111,
              "#46039f"
             ],
             [
              0.2222222222222222,
              "#7201a8"
             ],
             [
              0.3333333333333333,
              "#9c179e"
             ],
             [
              0.4444444444444444,
              "#bd3786"
             ],
             [
              0.5555555555555556,
              "#d8576b"
             ],
             [
              0.6666666666666666,
              "#ed7953"
             ],
             [
              0.7777777777777778,
              "#fb9f3a"
             ],
             [
              0.8888888888888888,
              "#fdca26"
             ],
             [
              1,
              "#f0f921"
             ]
            ],
            "type": "histogram2d"
           }
          ],
          "histogram2dcontour": [
           {
            "colorbar": {
             "outlinewidth": 0,
             "ticks": ""
            },
            "colorscale": [
             [
              0,
              "#0d0887"
             ],
             [
              0.1111111111111111,
              "#46039f"
             ],
             [
              0.2222222222222222,
              "#7201a8"
             ],
             [
              0.3333333333333333,
              "#9c179e"
             ],
             [
              0.4444444444444444,
              "#bd3786"
             ],
             [
              0.5555555555555556,
              "#d8576b"
             ],
             [
              0.6666666666666666,
              "#ed7953"
             ],
             [
              0.7777777777777778,
              "#fb9f3a"
             ],
             [
              0.8888888888888888,
              "#fdca26"
             ],
             [
              1,
              "#f0f921"
             ]
            ],
            "type": "histogram2dcontour"
           }
          ],
          "mesh3d": [
           {
            "colorbar": {
             "outlinewidth": 0,
             "ticks": ""
            },
            "type": "mesh3d"
           }
          ],
          "parcoords": [
           {
            "line": {
             "colorbar": {
              "outlinewidth": 0,
              "ticks": ""
             }
            },
            "type": "parcoords"
           }
          ],
          "pie": [
           {
            "automargin": true,
            "type": "pie"
           }
          ],
          "scatter": [
           {
            "marker": {
             "colorbar": {
              "outlinewidth": 0,
              "ticks": ""
             }
            },
            "type": "scatter"
           }
          ],
          "scatter3d": [
           {
            "line": {
             "colorbar": {
              "outlinewidth": 0,
              "ticks": ""
             }
            },
            "marker": {
             "colorbar": {
              "outlinewidth": 0,
              "ticks": ""
             }
            },
            "type": "scatter3d"
           }
          ],
          "scattercarpet": [
           {
            "marker": {
             "colorbar": {
              "outlinewidth": 0,
              "ticks": ""
             }
            },
            "type": "scattercarpet"
           }
          ],
          "scattergeo": [
           {
            "marker": {
             "colorbar": {
              "outlinewidth": 0,
              "ticks": ""
             }
            },
            "type": "scattergeo"
           }
          ],
          "scattergl": [
           {
            "marker": {
             "colorbar": {
              "outlinewidth": 0,
              "ticks": ""
             }
            },
            "type": "scattergl"
           }
          ],
          "scattermapbox": [
           {
            "marker": {
             "colorbar": {
              "outlinewidth": 0,
              "ticks": ""
             }
            },
            "type": "scattermapbox"
           }
          ],
          "scatterpolar": [
           {
            "marker": {
             "colorbar": {
              "outlinewidth": 0,
              "ticks": ""
             }
            },
            "type": "scatterpolar"
           }
          ],
          "scatterpolargl": [
           {
            "marker": {
             "colorbar": {
              "outlinewidth": 0,
              "ticks": ""
             }
            },
            "type": "scatterpolargl"
           }
          ],
          "scatterternary": [
           {
            "marker": {
             "colorbar": {
              "outlinewidth": 0,
              "ticks": ""
             }
            },
            "type": "scatterternary"
           }
          ],
          "surface": [
           {
            "colorbar": {
             "outlinewidth": 0,
             "ticks": ""
            },
            "colorscale": [
             [
              0,
              "#0d0887"
             ],
             [
              0.1111111111111111,
              "#46039f"
             ],
             [
              0.2222222222222222,
              "#7201a8"
             ],
             [
              0.3333333333333333,
              "#9c179e"
             ],
             [
              0.4444444444444444,
              "#bd3786"
             ],
             [
              0.5555555555555556,
              "#d8576b"
             ],
             [
              0.6666666666666666,
              "#ed7953"
             ],
             [
              0.7777777777777778,
              "#fb9f3a"
             ],
             [
              0.8888888888888888,
              "#fdca26"
             ],
             [
              1,
              "#f0f921"
             ]
            ],
            "type": "surface"
           }
          ],
          "table": [
           {
            "cells": {
             "fill": {
              "color": "#EBF0F8"
             },
             "line": {
              "color": "white"
             }
            },
            "header": {
             "fill": {
              "color": "#C8D4E3"
             },
             "line": {
              "color": "white"
             }
            },
            "type": "table"
           }
          ]
         },
         "layout": {
          "annotationdefaults": {
           "arrowcolor": "#2a3f5f",
           "arrowhead": 0,
           "arrowwidth": 1
          },
          "autotypenumbers": "strict",
          "coloraxis": {
           "colorbar": {
            "outlinewidth": 0,
            "ticks": ""
           }
          },
          "colorscale": {
           "diverging": [
            [
             0,
             "#8e0152"
            ],
            [
             0.1,
             "#c51b7d"
            ],
            [
             0.2,
             "#de77ae"
            ],
            [
             0.3,
             "#f1b6da"
            ],
            [
             0.4,
             "#fde0ef"
            ],
            [
             0.5,
             "#f7f7f7"
            ],
            [
             0.6,
             "#e6f5d0"
            ],
            [
             0.7,
             "#b8e186"
            ],
            [
             0.8,
             "#7fbc41"
            ],
            [
             0.9,
             "#4d9221"
            ],
            [
             1,
             "#276419"
            ]
           ],
           "sequential": [
            [
             0,
             "#0d0887"
            ],
            [
             0.1111111111111111,
             "#46039f"
            ],
            [
             0.2222222222222222,
             "#7201a8"
            ],
            [
             0.3333333333333333,
             "#9c179e"
            ],
            [
             0.4444444444444444,
             "#bd3786"
            ],
            [
             0.5555555555555556,
             "#d8576b"
            ],
            [
             0.6666666666666666,
             "#ed7953"
            ],
            [
             0.7777777777777778,
             "#fb9f3a"
            ],
            [
             0.8888888888888888,
             "#fdca26"
            ],
            [
             1,
             "#f0f921"
            ]
           ],
           "sequentialminus": [
            [
             0,
             "#0d0887"
            ],
            [
             0.1111111111111111,
             "#46039f"
            ],
            [
             0.2222222222222222,
             "#7201a8"
            ],
            [
             0.3333333333333333,
             "#9c179e"
            ],
            [
             0.4444444444444444,
             "#bd3786"
            ],
            [
             0.5555555555555556,
             "#d8576b"
            ],
            [
             0.6666666666666666,
             "#ed7953"
            ],
            [
             0.7777777777777778,
             "#fb9f3a"
            ],
            [
             0.8888888888888888,
             "#fdca26"
            ],
            [
             1,
             "#f0f921"
            ]
           ]
          },
          "colorway": [
           "#636efa",
           "#EF553B",
           "#00cc96",
           "#ab63fa",
           "#FFA15A",
           "#19d3f3",
           "#FF6692",
           "#B6E880",
           "#FF97FF",
           "#FECB52"
          ],
          "font": {
           "color": "#2a3f5f"
          },
          "geo": {
           "bgcolor": "white",
           "lakecolor": "white",
           "landcolor": "#E5ECF6",
           "showlakes": true,
           "showland": true,
           "subunitcolor": "white"
          },
          "hoverlabel": {
           "align": "left"
          },
          "hovermode": "closest",
          "mapbox": {
           "style": "light"
          },
          "paper_bgcolor": "white",
          "plot_bgcolor": "#E5ECF6",
          "polar": {
           "angularaxis": {
            "gridcolor": "white",
            "linecolor": "white",
            "ticks": ""
           },
           "bgcolor": "#E5ECF6",
           "radialaxis": {
            "gridcolor": "white",
            "linecolor": "white",
            "ticks": ""
           }
          },
          "scene": {
           "xaxis": {
            "backgroundcolor": "#E5ECF6",
            "gridcolor": "white",
            "gridwidth": 2,
            "linecolor": "white",
            "showbackground": true,
            "ticks": "",
            "zerolinecolor": "white"
           },
           "yaxis": {
            "backgroundcolor": "#E5ECF6",
            "gridcolor": "white",
            "gridwidth": 2,
            "linecolor": "white",
            "showbackground": true,
            "ticks": "",
            "zerolinecolor": "white"
           },
           "zaxis": {
            "backgroundcolor": "#E5ECF6",
            "gridcolor": "white",
            "gridwidth": 2,
            "linecolor": "white",
            "showbackground": true,
            "ticks": "",
            "zerolinecolor": "white"
           }
          },
          "shapedefaults": {
           "line": {
            "color": "#2a3f5f"
           }
          },
          "ternary": {
           "aaxis": {
            "gridcolor": "white",
            "linecolor": "white",
            "ticks": ""
           },
           "baxis": {
            "gridcolor": "white",
            "linecolor": "white",
            "ticks": ""
           },
           "bgcolor": "#E5ECF6",
           "caxis": {
            "gridcolor": "white",
            "linecolor": "white",
            "ticks": ""
           }
          },
          "title": {
           "x": 0.05
          },
          "xaxis": {
           "automargin": true,
           "gridcolor": "white",
           "linecolor": "white",
           "ticks": "",
           "title": {
            "standoff": 15
           },
           "zerolinecolor": "white",
           "zerolinewidth": 2
          },
          "yaxis": {
           "automargin": true,
           "gridcolor": "white",
           "linecolor": "white",
           "ticks": "",
           "title": {
            "standoff": 15
           },
           "zerolinecolor": "white",
           "zerolinewidth": 2
          }
         }
        },
        "title": {
         "font": {
          "color": "#4D5663"
         }
        },
        "xaxis": {
         "gridcolor": "#E1E5ED",
         "showgrid": true,
         "tickfont": {
          "color": "#4D5663"
         },
         "title": {
          "font": {
           "color": "#4D5663"
          },
          "text": ""
         },
         "zerolinecolor": "#E1E5ED"
        },
        "yaxis": {
         "gridcolor": "#E1E5ED",
         "showgrid": true,
         "tickfont": {
          "color": "#4D5663"
         },
         "title": {
          "font": {
           "color": "#4D5663"
          },
          "text": ""
         },
         "zerolinecolor": "#E1E5ED"
        }
       }
      },
      "text/html": [
       "<div>                            <div id=\"40dcf59b-14f5-4806-aeff-00b274be62ea\" class=\"plotly-graph-div\" style=\"height:525px; width:100%;\"></div>            <script type=\"text/javascript\">                require([\"plotly\"], function(Plotly) {                    window.PLOTLYENV=window.PLOTLYENV || {};\n",
       "                    window.PLOTLYENV.BASE_URL='https://plot.ly';                                    if (document.getElementById(\"40dcf59b-14f5-4806-aeff-00b274be62ea\")) {                    Plotly.newPlot(                        \"40dcf59b-14f5-4806-aeff-00b274be62ea\",                        [{\"histfunc\":\"count\",\"histnorm\":\"\",\"marker\":{\"color\":\"rgba(255, 153, 51, 1.0)\",\"line\":{\"color\":\"#4D5663\",\"width\":1.3}},\"name\":\"A\",\"nbinsx\":25,\"opacity\":0.8,\"orientation\":\"v\",\"x\":[0.43576161330137125,0.0392002026600367,-0.0828096051226737,-0.06899993842236976,-0.7445185078343501,-0.5818104718774442,0.20812256881462257,1.5771047203879411,-0.6229410571707626,-0.2542553127090784,-0.8616883603461633,-0.6882323696812119,1.6091381292540365,-0.08960730935903875,1.477667203229447,-1.1289770047232348,-0.37757591613281366,-0.9555659233157126,-0.8716190463369677,2.3343739223771967,-0.5804185512560397,-0.34512219064872196,1.0009426139151563,-0.03638635948039409,-0.4795511213004423,-0.38710379078114443,-0.5982291373045885,0.8057103455189922,0.07653649862068276,1.8789206942278476,-1.9870408379249231,-1.2534934267964573,1.1424388929052163,-0.19667780218489977,0.6672725785699418,0.22197020125418726,0.40375610544655427,0.790455120710436,0.47759724675807447,1.188441738310553,2.5966130677908876,-0.6307284045262942,0.07962977335776215,0.3075091604528683,-1.4964756673073725,-0.12521366306897264,-1.2358732389987421,-0.2360811692397413,-2.282498392530906,0.7428373771981449,-0.6288414109073985,0.6230290519320041,0.716991257672416,0.2741062424132256,0.9315691700047641,2.246444132120593,-0.09798021170589394,-1.4133581682943,0.27061743914078784,0.5896664688392396,0.049326040185358244,-1.6878301432568965,-2.048608617619134,0.44524418456960363,-0.9380811961782093,-1.88596316407578,0.6201094070399932,-1.5569988864741955,-0.5969142673083347,1.7125329163547705,2.0185871649641642,-1.2330424798204571,1.2660998430994834,0.4475507802687231,-0.808620887480285,-0.17552478952105183,-1.0126133692310482,-3.675695561961809,0.028560931347580483,1.92983422047473,0.35556609859758814,-0.06511288145789168,-0.25838345482305736,-1.2400752553123529,-0.34078316151973576,0.5430289046145775,-0.8056959136889844,1.6300090038319708,0.1558133548094795,0.09620023351258908,-0.7846317882449255,-2.5182101025471333,0.5562799597495309,0.16046651940046647,-0.21954404954103748,-0.32808367130031724,0.7209387084058826,-0.0345397981985188,-0.09495490706369364,-0.8910145283144787],\"type\":\"histogram\"}],                        {\"barmode\":\"overlay\",\"legend\":{\"bgcolor\":\"#F5F6F9\",\"font\":{\"color\":\"#4D5663\"}},\"paper_bgcolor\":\"#F5F6F9\",\"plot_bgcolor\":\"#F5F6F9\",\"template\":{\"data\":{\"barpolar\":[{\"marker\":{\"line\":{\"color\":\"#E5ECF6\",\"width\":0.5},\"pattern\":{\"fillmode\":\"overlay\",\"size\":10,\"solidity\":0.2}},\"type\":\"barpolar\"}],\"bar\":[{\"error_x\":{\"color\":\"#2a3f5f\"},\"error_y\":{\"color\":\"#2a3f5f\"},\"marker\":{\"line\":{\"color\":\"#E5ECF6\",\"width\":0.5},\"pattern\":{\"fillmode\":\"overlay\",\"size\":10,\"solidity\":0.2}},\"type\":\"bar\"}],\"carpet\":[{\"aaxis\":{\"endlinecolor\":\"#2a3f5f\",\"gridcolor\":\"white\",\"linecolor\":\"white\",\"minorgridcolor\":\"white\",\"startlinecolor\":\"#2a3f5f\"},\"baxis\":{\"endlinecolor\":\"#2a3f5f\",\"gridcolor\":\"white\",\"linecolor\":\"white\",\"minorgridcolor\":\"white\",\"startlinecolor\":\"#2a3f5f\"},\"type\":\"carpet\"}],\"choropleth\":[{\"colorbar\":{\"outlinewidth\":0,\"ticks\":\"\"},\"type\":\"choropleth\"}],\"contourcarpet\":[{\"colorbar\":{\"outlinewidth\":0,\"ticks\":\"\"},\"type\":\"contourcarpet\"}],\"contour\":[{\"colorbar\":{\"outlinewidth\":0,\"ticks\":\"\"},\"colorscale\":[[0.0,\"#0d0887\"],[0.1111111111111111,\"#46039f\"],[0.2222222222222222,\"#7201a8\"],[0.3333333333333333,\"#9c179e\"],[0.4444444444444444,\"#bd3786\"],[0.5555555555555556,\"#d8576b\"],[0.6666666666666666,\"#ed7953\"],[0.7777777777777778,\"#fb9f3a\"],[0.8888888888888888,\"#fdca26\"],[1.0,\"#f0f921\"]],\"type\":\"contour\"}],\"heatmapgl\":[{\"colorbar\":{\"outlinewidth\":0,\"ticks\":\"\"},\"colorscale\":[[0.0,\"#0d0887\"],[0.1111111111111111,\"#46039f\"],[0.2222222222222222,\"#7201a8\"],[0.3333333333333333,\"#9c179e\"],[0.4444444444444444,\"#bd3786\"],[0.5555555555555556,\"#d8576b\"],[0.6666666666666666,\"#ed7953\"],[0.7777777777777778,\"#fb9f3a\"],[0.8888888888888888,\"#fdca26\"],[1.0,\"#f0f921\"]],\"type\":\"heatmapgl\"}],\"heatmap\":[{\"colorbar\":{\"outlinewidth\":0,\"ticks\":\"\"},\"colorscale\":[[0.0,\"#0d0887\"],[0.1111111111111111,\"#46039f\"],[0.2222222222222222,\"#7201a8\"],[0.3333333333333333,\"#9c179e\"],[0.4444444444444444,\"#bd3786\"],[0.5555555555555556,\"#d8576b\"],[0.6666666666666666,\"#ed7953\"],[0.7777777777777778,\"#fb9f3a\"],[0.8888888888888888,\"#fdca26\"],[1.0,\"#f0f921\"]],\"type\":\"heatmap\"}],\"histogram2dcontour\":[{\"colorbar\":{\"outlinewidth\":0,\"ticks\":\"\"},\"colorscale\":[[0.0,\"#0d0887\"],[0.1111111111111111,\"#46039f\"],[0.2222222222222222,\"#7201a8\"],[0.3333333333333333,\"#9c179e\"],[0.4444444444444444,\"#bd3786\"],[0.5555555555555556,\"#d8576b\"],[0.6666666666666666,\"#ed7953\"],[0.7777777777777778,\"#fb9f3a\"],[0.8888888888888888,\"#fdca26\"],[1.0,\"#f0f921\"]],\"type\":\"histogram2dcontour\"}],\"histogram2d\":[{\"colorbar\":{\"outlinewidth\":0,\"ticks\":\"\"},\"colorscale\":[[0.0,\"#0d0887\"],[0.1111111111111111,\"#46039f\"],[0.2222222222222222,\"#7201a8\"],[0.3333333333333333,\"#9c179e\"],[0.4444444444444444,\"#bd3786\"],[0.5555555555555556,\"#d8576b\"],[0.6666666666666666,\"#ed7953\"],[0.7777777777777778,\"#fb9f3a\"],[0.8888888888888888,\"#fdca26\"],[1.0,\"#f0f921\"]],\"type\":\"histogram2d\"}],\"histogram\":[{\"marker\":{\"pattern\":{\"fillmode\":\"overlay\",\"size\":10,\"solidity\":0.2}},\"type\":\"histogram\"}],\"mesh3d\":[{\"colorbar\":{\"outlinewidth\":0,\"ticks\":\"\"},\"type\":\"mesh3d\"}],\"parcoords\":[{\"line\":{\"colorbar\":{\"outlinewidth\":0,\"ticks\":\"\"}},\"type\":\"parcoords\"}],\"pie\":[{\"automargin\":true,\"type\":\"pie\"}],\"scatter3d\":[{\"line\":{\"colorbar\":{\"outlinewidth\":0,\"ticks\":\"\"}},\"marker\":{\"colorbar\":{\"outlinewidth\":0,\"ticks\":\"\"}},\"type\":\"scatter3d\"}],\"scattercarpet\":[{\"marker\":{\"colorbar\":{\"outlinewidth\":0,\"ticks\":\"\"}},\"type\":\"scattercarpet\"}],\"scattergeo\":[{\"marker\":{\"colorbar\":{\"outlinewidth\":0,\"ticks\":\"\"}},\"type\":\"scattergeo\"}],\"scattergl\":[{\"marker\":{\"colorbar\":{\"outlinewidth\":0,\"ticks\":\"\"}},\"type\":\"scattergl\"}],\"scattermapbox\":[{\"marker\":{\"colorbar\":{\"outlinewidth\":0,\"ticks\":\"\"}},\"type\":\"scattermapbox\"}],\"scatterpolargl\":[{\"marker\":{\"colorbar\":{\"outlinewidth\":0,\"ticks\":\"\"}},\"type\":\"scatterpolargl\"}],\"scatterpolar\":[{\"marker\":{\"colorbar\":{\"outlinewidth\":0,\"ticks\":\"\"}},\"type\":\"scatterpolar\"}],\"scatter\":[{\"marker\":{\"colorbar\":{\"outlinewidth\":0,\"ticks\":\"\"}},\"type\":\"scatter\"}],\"scatterternary\":[{\"marker\":{\"colorbar\":{\"outlinewidth\":0,\"ticks\":\"\"}},\"type\":\"scatterternary\"}],\"surface\":[{\"colorbar\":{\"outlinewidth\":0,\"ticks\":\"\"},\"colorscale\":[[0.0,\"#0d0887\"],[0.1111111111111111,\"#46039f\"],[0.2222222222222222,\"#7201a8\"],[0.3333333333333333,\"#9c179e\"],[0.4444444444444444,\"#bd3786\"],[0.5555555555555556,\"#d8576b\"],[0.6666666666666666,\"#ed7953\"],[0.7777777777777778,\"#fb9f3a\"],[0.8888888888888888,\"#fdca26\"],[1.0,\"#f0f921\"]],\"type\":\"surface\"}],\"table\":[{\"cells\":{\"fill\":{\"color\":\"#EBF0F8\"},\"line\":{\"color\":\"white\"}},\"header\":{\"fill\":{\"color\":\"#C8D4E3\"},\"line\":{\"color\":\"white\"}},\"type\":\"table\"}]},\"layout\":{\"annotationdefaults\":{\"arrowcolor\":\"#2a3f5f\",\"arrowhead\":0,\"arrowwidth\":1},\"autotypenumbers\":\"strict\",\"coloraxis\":{\"colorbar\":{\"outlinewidth\":0,\"ticks\":\"\"}},\"colorscale\":{\"diverging\":[[0,\"#8e0152\"],[0.1,\"#c51b7d\"],[0.2,\"#de77ae\"],[0.3,\"#f1b6da\"],[0.4,\"#fde0ef\"],[0.5,\"#f7f7f7\"],[0.6,\"#e6f5d0\"],[0.7,\"#b8e186\"],[0.8,\"#7fbc41\"],[0.9,\"#4d9221\"],[1,\"#276419\"]],\"sequential\":[[0.0,\"#0d0887\"],[0.1111111111111111,\"#46039f\"],[0.2222222222222222,\"#7201a8\"],[0.3333333333333333,\"#9c179e\"],[0.4444444444444444,\"#bd3786\"],[0.5555555555555556,\"#d8576b\"],[0.6666666666666666,\"#ed7953\"],[0.7777777777777778,\"#fb9f3a\"],[0.8888888888888888,\"#fdca26\"],[1.0,\"#f0f921\"]],\"sequentialminus\":[[0.0,\"#0d0887\"],[0.1111111111111111,\"#46039f\"],[0.2222222222222222,\"#7201a8\"],[0.3333333333333333,\"#9c179e\"],[0.4444444444444444,\"#bd3786\"],[0.5555555555555556,\"#d8576b\"],[0.6666666666666666,\"#ed7953\"],[0.7777777777777778,\"#fb9f3a\"],[0.8888888888888888,\"#fdca26\"],[1.0,\"#f0f921\"]]},\"colorway\":[\"#636efa\",\"#EF553B\",\"#00cc96\",\"#ab63fa\",\"#FFA15A\",\"#19d3f3\",\"#FF6692\",\"#B6E880\",\"#FF97FF\",\"#FECB52\"],\"font\":{\"color\":\"#2a3f5f\"},\"geo\":{\"bgcolor\":\"white\",\"lakecolor\":\"white\",\"landcolor\":\"#E5ECF6\",\"showlakes\":true,\"showland\":true,\"subunitcolor\":\"white\"},\"hoverlabel\":{\"align\":\"left\"},\"hovermode\":\"closest\",\"mapbox\":{\"style\":\"light\"},\"paper_bgcolor\":\"white\",\"plot_bgcolor\":\"#E5ECF6\",\"polar\":{\"angularaxis\":{\"gridcolor\":\"white\",\"linecolor\":\"white\",\"ticks\":\"\"},\"bgcolor\":\"#E5ECF6\",\"radialaxis\":{\"gridcolor\":\"white\",\"linecolor\":\"white\",\"ticks\":\"\"}},\"scene\":{\"xaxis\":{\"backgroundcolor\":\"#E5ECF6\",\"gridcolor\":\"white\",\"gridwidth\":2,\"linecolor\":\"white\",\"showbackground\":true,\"ticks\":\"\",\"zerolinecolor\":\"white\"},\"yaxis\":{\"backgroundcolor\":\"#E5ECF6\",\"gridcolor\":\"white\",\"gridwidth\":2,\"linecolor\":\"white\",\"showbackground\":true,\"ticks\":\"\",\"zerolinecolor\":\"white\"},\"zaxis\":{\"backgroundcolor\":\"#E5ECF6\",\"gridcolor\":\"white\",\"gridwidth\":2,\"linecolor\":\"white\",\"showbackground\":true,\"ticks\":\"\",\"zerolinecolor\":\"white\"}},\"shapedefaults\":{\"line\":{\"color\":\"#2a3f5f\"}},\"ternary\":{\"aaxis\":{\"gridcolor\":\"white\",\"linecolor\":\"white\",\"ticks\":\"\"},\"baxis\":{\"gridcolor\":\"white\",\"linecolor\":\"white\",\"ticks\":\"\"},\"bgcolor\":\"#E5ECF6\",\"caxis\":{\"gridcolor\":\"white\",\"linecolor\":\"white\",\"ticks\":\"\"}},\"title\":{\"x\":0.05},\"xaxis\":{\"automargin\":true,\"gridcolor\":\"white\",\"linecolor\":\"white\",\"ticks\":\"\",\"title\":{\"standoff\":15},\"zerolinecolor\":\"white\",\"zerolinewidth\":2},\"yaxis\":{\"automargin\":true,\"gridcolor\":\"white\",\"linecolor\":\"white\",\"ticks\":\"\",\"title\":{\"standoff\":15},\"zerolinecolor\":\"white\",\"zerolinewidth\":2}}},\"title\":{\"font\":{\"color\":\"#4D5663\"}},\"xaxis\":{\"gridcolor\":\"#E1E5ED\",\"showgrid\":true,\"tickfont\":{\"color\":\"#4D5663\"},\"title\":{\"font\":{\"color\":\"#4D5663\"},\"text\":\"\"},\"zerolinecolor\":\"#E1E5ED\"},\"yaxis\":{\"gridcolor\":\"#E1E5ED\",\"showgrid\":true,\"tickfont\":{\"color\":\"#4D5663\"},\"title\":{\"font\":{\"color\":\"#4D5663\"},\"text\":\"\"},\"zerolinecolor\":\"#E1E5ED\"}},                        {\"showLink\": true, \"linkText\": \"Export to plot.ly\", \"plotlyServerURL\": \"https://plot.ly\", \"responsive\": true}                    ).then(function(){\n",
       "                            \n",
       "var gd = document.getElementById('40dcf59b-14f5-4806-aeff-00b274be62ea');\n",
       "var x = new MutationObserver(function (mutations, observer) {{\n",
       "        var display = window.getComputedStyle(gd).display;\n",
       "        if (!display || display === 'none') {{\n",
       "            console.log([gd, 'removed!']);\n",
       "            Plotly.purge(gd);\n",
       "            observer.disconnect();\n",
       "        }}\n",
       "}});\n",
       "\n",
       "// Listen for the removal of the full notebook cells\n",
       "var notebookContainer = gd.closest('#notebook-container');\n",
       "if (notebookContainer) {{\n",
       "    x.observe(notebookContainer, {childList: true});\n",
       "}}\n",
       "\n",
       "// Listen for the clearing of the current output cell\n",
       "var outputEl = gd.closest('.output');\n",
       "if (outputEl) {{\n",
       "    x.observe(outputEl, {childList: true});\n",
       "}}\n",
       "\n",
       "                        })                };                });            </script>        </div>"
      ]
     },
     "metadata": {},
     "output_type": "display_data"
    }
   ],
   "source": [
    "df['A'].iplot(kind='hist',bins=25)"
   ]
  },
  {
   "cell_type": "code",
   "execution_count": 37,
   "metadata": {},
   "outputs": [
    {
     "data": {
      "application/vnd.plotly.v1+json": {
       "config": {
        "linkText": "Export to plot.ly",
        "plotlyServerURL": "https://plot.ly",
        "showLink": true
       },
       "data": [
        {
         "histfunc": "count",
         "histnorm": "",
         "marker": {
          "color": "rgba(255, 153, 51, 1.0)",
          "line": {
           "color": "#4D5663",
           "width": 1.3
          }
         },
         "name": "A",
         "opacity": 0.8,
         "orientation": "v",
         "type": "histogram",
         "x": [
          0.43576161330137125,
          0.0392002026600367,
          -0.0828096051226737,
          -0.06899993842236976,
          -0.7445185078343501,
          -0.5818104718774442,
          0.20812256881462257,
          1.5771047203879411,
          -0.6229410571707626,
          -0.2542553127090784,
          -0.8616883603461633,
          -0.6882323696812119,
          1.6091381292540365,
          -0.08960730935903875,
          1.477667203229447,
          -1.1289770047232348,
          -0.37757591613281366,
          -0.9555659233157126,
          -0.8716190463369677,
          2.3343739223771967,
          -0.5804185512560397,
          -0.34512219064872196,
          1.0009426139151563,
          -0.03638635948039409,
          -0.4795511213004423,
          -0.38710379078114443,
          -0.5982291373045885,
          0.8057103455189922,
          0.07653649862068276,
          1.8789206942278476,
          -1.9870408379249231,
          -1.2534934267964573,
          1.1424388929052163,
          -0.19667780218489977,
          0.6672725785699418,
          0.22197020125418726,
          0.40375610544655427,
          0.790455120710436,
          0.47759724675807447,
          1.188441738310553,
          2.5966130677908876,
          -0.6307284045262942,
          0.07962977335776215,
          0.3075091604528683,
          -1.4964756673073725,
          -0.12521366306897264,
          -1.2358732389987421,
          -0.2360811692397413,
          -2.282498392530906,
          0.7428373771981449,
          -0.6288414109073985,
          0.6230290519320041,
          0.716991257672416,
          0.2741062424132256,
          0.9315691700047641,
          2.246444132120593,
          -0.09798021170589394,
          -1.4133581682943,
          0.27061743914078784,
          0.5896664688392396,
          0.049326040185358244,
          -1.6878301432568965,
          -2.048608617619134,
          0.44524418456960363,
          -0.9380811961782093,
          -1.88596316407578,
          0.6201094070399932,
          -1.5569988864741955,
          -0.5969142673083347,
          1.7125329163547705,
          2.0185871649641642,
          -1.2330424798204571,
          1.2660998430994834,
          0.4475507802687231,
          -0.808620887480285,
          -0.17552478952105183,
          -1.0126133692310482,
          -3.675695561961809,
          0.028560931347580483,
          1.92983422047473,
          0.35556609859758814,
          -0.06511288145789168,
          -0.25838345482305736,
          -1.2400752553123529,
          -0.34078316151973576,
          0.5430289046145775,
          -0.8056959136889844,
          1.6300090038319708,
          0.1558133548094795,
          0.09620023351258908,
          -0.7846317882449255,
          -2.5182101025471333,
          0.5562799597495309,
          0.16046651940046647,
          -0.21954404954103748,
          -0.32808367130031724,
          0.7209387084058826,
          -0.0345397981985188,
          -0.09495490706369364,
          -0.8910145283144787
         ]
        },
        {
         "histfunc": "count",
         "histnorm": "",
         "marker": {
          "color": "rgba(55, 128, 191, 1.0)",
          "line": {
           "color": "#4D5663",
           "width": 1.3
          }
         },
         "name": "B",
         "opacity": 0.8,
         "orientation": "v",
         "type": "histogram",
         "x": [
          0.7470965589601339,
          -1.5219044668573725,
          -0.09809943298661565,
          -1.250222948666942,
          -0.698474158306239,
          0.9150731563300875,
          -1.7165979226019592,
          -1.2451154557852744,
          -0.4204666686443543,
          -0.0012794767147798895,
          -0.261186490901393,
          -0.3538924472485142,
          1.9908666564163198,
          0.851133799942738,
          1.5852483356617322,
          0.9124402543743519,
          0.5349719533559576,
          -0.7486594206111689,
          0.4215163263542885,
          -0.477420154232497,
          0.7682913569156996,
          1.1072895097909077,
          2.054407350902693,
          1.6175776756957496,
          0.5611477786926051,
          1.4031946166589802,
          -1.0167138268528113,
          0.19646954503078082,
          0.945974554393974,
          0.9408949156430599,
          1.1413517627554308,
          -0.1357448260510389,
          -0.04351760173125842,
          -0.8512903450571877,
          0.91744346009552,
          -0.1542511662085185,
          0.7063318506651899,
          -0.3031156931539478,
          -1.6443563957714007,
          1.2650837687557859,
          -0.8311250713611842,
          0.13834368861202084,
          0.31895857306174547,
          -0.5449946250740695,
          -3.262605243961339,
          -1.418654021604739,
          1.7861024688943528,
          0.6224571859649373,
          0.09101051584656397,
          0.6521919226727627,
          1.3058238267837332,
          -1.0018932539119865,
          0.36743339504271666,
          0.7195461980329014,
          -0.7852233456105248,
          -0.5934846408673413,
          -1.8222702027000843,
          -0.6168587967023298,
          -0.5414383002922646,
          -0.5421020917700555,
          0.12406293568327871,
          2.325695325282169,
          -0.3056098266005972,
          -1.2400002200650149,
          -0.7547227374480309,
          0.053572223237500154,
          1.209431097011376,
          2.2161223547948716,
          -0.42419252357043197,
          0.47008337374490233,
          -1.2385983525496629,
          0.4083282423594256,
          1.1018396289990668,
          -1.3439267263174357,
          -1.2148010375833018,
          1.378503549128289,
          -0.865442571080681,
          1.4981255490911167,
          0.5268652709491807,
          -0.5864705000603173,
          -0.03251046298779092,
          -1.657971247262324,
          0.5387740305912381,
          0.33891930104974144,
          -0.017631905464170265,
          0.235035832459136,
          -0.22302903550297953,
          -0.42911270255814304,
          0.45012009799066305,
          -0.9780296593173486,
          -0.11851579616469118,
          1.047681204062073,
          0.9889001376060471,
          1.3966008775466294,
          0.09077097106105908,
          1.3376388975447437,
          -0.2036133802195914,
          -0.11638871633048702,
          -0.054452121594433106,
          0.382117572004654
         ]
        },
        {
         "histfunc": "count",
         "histnorm": "",
         "marker": {
          "color": "rgba(50, 171, 96, 1.0)",
          "line": {
           "color": "#4D5663",
           "width": 1.3
          }
         },
         "name": "C",
         "opacity": 0.8,
         "orientation": "v",
         "type": "histogram",
         "x": [
          0.3682377144132527,
          0.3466890761278271,
          -0.36913753005199823,
          0.18514537841315948,
          -1.0887193428018571,
          0.8197485014104589,
          -1.2480792457914922,
          0.8032857896965091,
          -0.7372634145936622,
          1.8916263785651137,
          -1.0091640111893094,
          0.6669618923940757,
          -1.2347372819390838,
          0.3586286742808286,
          -0.17797767358538108,
          0.14261496579823077,
          -1.6054052554704594,
          1.1746627862690353,
          0.22194911958937508,
          -0.3491598059032676,
          -0.9997487538488474,
          0.9665740152979908,
          -0.5974613801113016,
          1.2027824998329095,
          0.8055499031272653,
          -1.1705064006479604,
          0.805894459386693,
          0.08228254999688683,
          1.0887366927019209,
          1.4106915911500681,
          -0.867900972018244,
          -0.6339851583086878,
          -1.3890048876027952,
          -0.7127045563198836,
          0.4898398447200245,
          0.14869214579216922,
          0.9874702488096306,
          -0.5974306475460034,
          -0.059375257352179585,
          1.2348799507675814,
          0.45432412727610216,
          -0.39615476589886783,
          -0.6116096177234337,
          0.12343362764980646,
          -1.2793811350833177,
          1.7621541021838003,
          -1.6575406700058628,
          -0.9102543410907438,
          -1.8037290171758542,
          -0.562133591486102,
          -1.542449489376436,
          1.5622069830921548,
          -0.015535066606124135,
          0.19179000418996284,
          -0.3865933407686439,
          0.3767014127544314,
          -0.39035565729367816,
          -0.17593237649210466,
          0.5010787800055183,
          1.5068826796973953,
          0.7548535916650044,
          -0.09345064568866177,
          -0.6748023482836941,
          -0.007867500606330622,
          1.2452765230361882,
          -1.9797610765138551,
          2.288109166982434,
          0.3158001520261646,
          -1.0022812872462648,
          0.14323345564166073,
          0.9297586307776996,
          1.1613537249460568,
          -0.535713295674978,
          -0.04247466282924876,
          -1.0864391841694818,
          -0.17535156734247248,
          -1.0435435528269077,
          1.4972108118555416,
          0.5443510427237117,
          0.4522251302277498,
          -1.3806338969360445,
          1.5394722937803447,
          -0.5669625412314382,
          -0.09449124702752644,
          0.7425778961101418,
          0.4196628907191677,
          -0.2982502752981818,
          1.1018302596780367,
          1.041507789996542,
          0.1229506045307668,
          -0.3239100280384493,
          1.7517960645639947,
          -1.593660968080219,
          -0.29520459008899336,
          -1.1079059337127208,
          -0.8443831132442462,
          -1.105499520464632,
          0.31414854886524113,
          -0.19347118107445258,
          0.1949481448016391
         ]
        },
        {
         "histfunc": "count",
         "histnorm": "",
         "marker": {
          "color": "rgba(128, 0, 128, 1.0)",
          "line": {
           "color": "#4D5663",
           "width": 1.3
          }
         },
         "name": "D",
         "opacity": 0.8,
         "orientation": "v",
         "type": "histogram",
         "x": [
          -0.9461952856679982,
          0.6490505117458512,
          -2.8856777417148423,
          0.7543179079921039,
          -1.2620466925622829,
          -0.29671662214552724,
          -0.12432979792114747,
          0.4055078787706235,
          -1.6849278164940076,
          0.7592765208403887,
          0.7295973675512063,
          -1.2289778806316503,
          0.4746662390192041,
          -1.9467463645444505,
          1.279041672422795,
          0.28596923632067106,
          -1.1047989995477818,
          -0.2750916111734189,
          -0.004445869216080266,
          -0.8447524529656686,
          -1.0847559402515845,
          -0.36831017623822854,
          1.7849046353242075,
          0.09457412928279552,
          -1.5220100918781827,
          -0.7204173596427004,
          -0.8406541388820522,
          1.7828216483160868,
          0.5723990541038184,
          0.04134495585573406,
          -0.043738453631860075,
          -0.062351447856486206,
          -1.029165749659944,
          -0.6464275203370826,
          -2.4790377438704385,
          0.8924262480171544,
          -0.09287039344225873,
          -0.5987040240203508,
          -0.3852951367141403,
          -0.5946067828347857,
          -1.338306940118594,
          -1.143664724386562,
          0.23717244680581728,
          -1.0553239866701294,
          -1.768056578374799,
          -0.43961323355406806,
          -1.8203198565273977,
          0.2950382232612245,
          0.241784236809698,
          -0.609871180395315,
          1.1389627799474984,
          0.09800288010116572,
          -0.31334022306554643,
          -0.11281582001464618,
          -0.8450599277568367,
          1.0914831382708754,
          -0.06812203830684074,
          -0.06485931824662995,
          0.06345771885869014,
          0.780898024037899,
          0.38519174605760986,
          1.5596975457436253,
          -1.1573456724277826,
          1.4445043903679835,
          0.10738099318593422,
          -0.6889425940821164,
          -0.10029195797902998,
          0.17541820166233416,
          0.4910207830569502,
          0.5130207172331803,
          -2.1113232049226838,
          0.7494933159230787,
          0.2930842867454575,
          -0.9881669095762277,
          -2.252876926788418,
          -0.613739798262879,
          0.11338688536083144,
          0.1529186605142726,
          0.5601423111987032,
          0.27164095954332557,
          -0.590306556357339,
          -0.19359801024144416,
          -0.5727331843839251,
          1.8325506531733573,
          1.149233790873831,
          -2.393557334344154,
          -1.2250112430753446,
          -0.9124986713695532,
          -0.03101020857729068,
          0.90728421512498,
          -0.3583318565094099,
          2.519005246911356,
          -0.4151337693932833,
          0.03665958749737384,
          -0.4331483093163314,
          1.9034225405674647,
          0.6279386320745678,
          -0.8565835172293262,
          0.6026905340869714,
          -0.08280840058685728
         ]
        }
       ],
       "layout": {
        "barmode": "overlay",
        "legend": {
         "bgcolor": "#F5F6F9",
         "font": {
          "color": "#4D5663"
         }
        },
        "paper_bgcolor": "#F5F6F9",
        "plot_bgcolor": "#F5F6F9",
        "template": {
         "data": {
          "bar": [
           {
            "error_x": {
             "color": "#2a3f5f"
            },
            "error_y": {
             "color": "#2a3f5f"
            },
            "marker": {
             "line": {
              "color": "#E5ECF6",
              "width": 0.5
             },
             "pattern": {
              "fillmode": "overlay",
              "size": 10,
              "solidity": 0.2
             }
            },
            "type": "bar"
           }
          ],
          "barpolar": [
           {
            "marker": {
             "line": {
              "color": "#E5ECF6",
              "width": 0.5
             },
             "pattern": {
              "fillmode": "overlay",
              "size": 10,
              "solidity": 0.2
             }
            },
            "type": "barpolar"
           }
          ],
          "carpet": [
           {
            "aaxis": {
             "endlinecolor": "#2a3f5f",
             "gridcolor": "white",
             "linecolor": "white",
             "minorgridcolor": "white",
             "startlinecolor": "#2a3f5f"
            },
            "baxis": {
             "endlinecolor": "#2a3f5f",
             "gridcolor": "white",
             "linecolor": "white",
             "minorgridcolor": "white",
             "startlinecolor": "#2a3f5f"
            },
            "type": "carpet"
           }
          ],
          "choropleth": [
           {
            "colorbar": {
             "outlinewidth": 0,
             "ticks": ""
            },
            "type": "choropleth"
           }
          ],
          "contour": [
           {
            "colorbar": {
             "outlinewidth": 0,
             "ticks": ""
            },
            "colorscale": [
             [
              0,
              "#0d0887"
             ],
             [
              0.1111111111111111,
              "#46039f"
             ],
             [
              0.2222222222222222,
              "#7201a8"
             ],
             [
              0.3333333333333333,
              "#9c179e"
             ],
             [
              0.4444444444444444,
              "#bd3786"
             ],
             [
              0.5555555555555556,
              "#d8576b"
             ],
             [
              0.6666666666666666,
              "#ed7953"
             ],
             [
              0.7777777777777778,
              "#fb9f3a"
             ],
             [
              0.8888888888888888,
              "#fdca26"
             ],
             [
              1,
              "#f0f921"
             ]
            ],
            "type": "contour"
           }
          ],
          "contourcarpet": [
           {
            "colorbar": {
             "outlinewidth": 0,
             "ticks": ""
            },
            "type": "contourcarpet"
           }
          ],
          "heatmap": [
           {
            "colorbar": {
             "outlinewidth": 0,
             "ticks": ""
            },
            "colorscale": [
             [
              0,
              "#0d0887"
             ],
             [
              0.1111111111111111,
              "#46039f"
             ],
             [
              0.2222222222222222,
              "#7201a8"
             ],
             [
              0.3333333333333333,
              "#9c179e"
             ],
             [
              0.4444444444444444,
              "#bd3786"
             ],
             [
              0.5555555555555556,
              "#d8576b"
             ],
             [
              0.6666666666666666,
              "#ed7953"
             ],
             [
              0.7777777777777778,
              "#fb9f3a"
             ],
             [
              0.8888888888888888,
              "#fdca26"
             ],
             [
              1,
              "#f0f921"
             ]
            ],
            "type": "heatmap"
           }
          ],
          "heatmapgl": [
           {
            "colorbar": {
             "outlinewidth": 0,
             "ticks": ""
            },
            "colorscale": [
             [
              0,
              "#0d0887"
             ],
             [
              0.1111111111111111,
              "#46039f"
             ],
             [
              0.2222222222222222,
              "#7201a8"
             ],
             [
              0.3333333333333333,
              "#9c179e"
             ],
             [
              0.4444444444444444,
              "#bd3786"
             ],
             [
              0.5555555555555556,
              "#d8576b"
             ],
             [
              0.6666666666666666,
              "#ed7953"
             ],
             [
              0.7777777777777778,
              "#fb9f3a"
             ],
             [
              0.8888888888888888,
              "#fdca26"
             ],
             [
              1,
              "#f0f921"
             ]
            ],
            "type": "heatmapgl"
           }
          ],
          "histogram": [
           {
            "marker": {
             "pattern": {
              "fillmode": "overlay",
              "size": 10,
              "solidity": 0.2
             }
            },
            "type": "histogram"
           }
          ],
          "histogram2d": [
           {
            "colorbar": {
             "outlinewidth": 0,
             "ticks": ""
            },
            "colorscale": [
             [
              0,
              "#0d0887"
             ],
             [
              0.1111111111111111,
              "#46039f"
             ],
             [
              0.2222222222222222,
              "#7201a8"
             ],
             [
              0.3333333333333333,
              "#9c179e"
             ],
             [
              0.4444444444444444,
              "#bd3786"
             ],
             [
              0.5555555555555556,
              "#d8576b"
             ],
             [
              0.6666666666666666,
              "#ed7953"
             ],
             [
              0.7777777777777778,
              "#fb9f3a"
             ],
             [
              0.8888888888888888,
              "#fdca26"
             ],
             [
              1,
              "#f0f921"
             ]
            ],
            "type": "histogram2d"
           }
          ],
          "histogram2dcontour": [
           {
            "colorbar": {
             "outlinewidth": 0,
             "ticks": ""
            },
            "colorscale": [
             [
              0,
              "#0d0887"
             ],
             [
              0.1111111111111111,
              "#46039f"
             ],
             [
              0.2222222222222222,
              "#7201a8"
             ],
             [
              0.3333333333333333,
              "#9c179e"
             ],
             [
              0.4444444444444444,
              "#bd3786"
             ],
             [
              0.5555555555555556,
              "#d8576b"
             ],
             [
              0.6666666666666666,
              "#ed7953"
             ],
             [
              0.7777777777777778,
              "#fb9f3a"
             ],
             [
              0.8888888888888888,
              "#fdca26"
             ],
             [
              1,
              "#f0f921"
             ]
            ],
            "type": "histogram2dcontour"
           }
          ],
          "mesh3d": [
           {
            "colorbar": {
             "outlinewidth": 0,
             "ticks": ""
            },
            "type": "mesh3d"
           }
          ],
          "parcoords": [
           {
            "line": {
             "colorbar": {
              "outlinewidth": 0,
              "ticks": ""
             }
            },
            "type": "parcoords"
           }
          ],
          "pie": [
           {
            "automargin": true,
            "type": "pie"
           }
          ],
          "scatter": [
           {
            "marker": {
             "colorbar": {
              "outlinewidth": 0,
              "ticks": ""
             }
            },
            "type": "scatter"
           }
          ],
          "scatter3d": [
           {
            "line": {
             "colorbar": {
              "outlinewidth": 0,
              "ticks": ""
             }
            },
            "marker": {
             "colorbar": {
              "outlinewidth": 0,
              "ticks": ""
             }
            },
            "type": "scatter3d"
           }
          ],
          "scattercarpet": [
           {
            "marker": {
             "colorbar": {
              "outlinewidth": 0,
              "ticks": ""
             }
            },
            "type": "scattercarpet"
           }
          ],
          "scattergeo": [
           {
            "marker": {
             "colorbar": {
              "outlinewidth": 0,
              "ticks": ""
             }
            },
            "type": "scattergeo"
           }
          ],
          "scattergl": [
           {
            "marker": {
             "colorbar": {
              "outlinewidth": 0,
              "ticks": ""
             }
            },
            "type": "scattergl"
           }
          ],
          "scattermapbox": [
           {
            "marker": {
             "colorbar": {
              "outlinewidth": 0,
              "ticks": ""
             }
            },
            "type": "scattermapbox"
           }
          ],
          "scatterpolar": [
           {
            "marker": {
             "colorbar": {
              "outlinewidth": 0,
              "ticks": ""
             }
            },
            "type": "scatterpolar"
           }
          ],
          "scatterpolargl": [
           {
            "marker": {
             "colorbar": {
              "outlinewidth": 0,
              "ticks": ""
             }
            },
            "type": "scatterpolargl"
           }
          ],
          "scatterternary": [
           {
            "marker": {
             "colorbar": {
              "outlinewidth": 0,
              "ticks": ""
             }
            },
            "type": "scatterternary"
           }
          ],
          "surface": [
           {
            "colorbar": {
             "outlinewidth": 0,
             "ticks": ""
            },
            "colorscale": [
             [
              0,
              "#0d0887"
             ],
             [
              0.1111111111111111,
              "#46039f"
             ],
             [
              0.2222222222222222,
              "#7201a8"
             ],
             [
              0.3333333333333333,
              "#9c179e"
             ],
             [
              0.4444444444444444,
              "#bd3786"
             ],
             [
              0.5555555555555556,
              "#d8576b"
             ],
             [
              0.6666666666666666,
              "#ed7953"
             ],
             [
              0.7777777777777778,
              "#fb9f3a"
             ],
             [
              0.8888888888888888,
              "#fdca26"
             ],
             [
              1,
              "#f0f921"
             ]
            ],
            "type": "surface"
           }
          ],
          "table": [
           {
            "cells": {
             "fill": {
              "color": "#EBF0F8"
             },
             "line": {
              "color": "white"
             }
            },
            "header": {
             "fill": {
              "color": "#C8D4E3"
             },
             "line": {
              "color": "white"
             }
            },
            "type": "table"
           }
          ]
         },
         "layout": {
          "annotationdefaults": {
           "arrowcolor": "#2a3f5f",
           "arrowhead": 0,
           "arrowwidth": 1
          },
          "autotypenumbers": "strict",
          "coloraxis": {
           "colorbar": {
            "outlinewidth": 0,
            "ticks": ""
           }
          },
          "colorscale": {
           "diverging": [
            [
             0,
             "#8e0152"
            ],
            [
             0.1,
             "#c51b7d"
            ],
            [
             0.2,
             "#de77ae"
            ],
            [
             0.3,
             "#f1b6da"
            ],
            [
             0.4,
             "#fde0ef"
            ],
            [
             0.5,
             "#f7f7f7"
            ],
            [
             0.6,
             "#e6f5d0"
            ],
            [
             0.7,
             "#b8e186"
            ],
            [
             0.8,
             "#7fbc41"
            ],
            [
             0.9,
             "#4d9221"
            ],
            [
             1,
             "#276419"
            ]
           ],
           "sequential": [
            [
             0,
             "#0d0887"
            ],
            [
             0.1111111111111111,
             "#46039f"
            ],
            [
             0.2222222222222222,
             "#7201a8"
            ],
            [
             0.3333333333333333,
             "#9c179e"
            ],
            [
             0.4444444444444444,
             "#bd3786"
            ],
            [
             0.5555555555555556,
             "#d8576b"
            ],
            [
             0.6666666666666666,
             "#ed7953"
            ],
            [
             0.7777777777777778,
             "#fb9f3a"
            ],
            [
             0.8888888888888888,
             "#fdca26"
            ],
            [
             1,
             "#f0f921"
            ]
           ],
           "sequentialminus": [
            [
             0,
             "#0d0887"
            ],
            [
             0.1111111111111111,
             "#46039f"
            ],
            [
             0.2222222222222222,
             "#7201a8"
            ],
            [
             0.3333333333333333,
             "#9c179e"
            ],
            [
             0.4444444444444444,
             "#bd3786"
            ],
            [
             0.5555555555555556,
             "#d8576b"
            ],
            [
             0.6666666666666666,
             "#ed7953"
            ],
            [
             0.7777777777777778,
             "#fb9f3a"
            ],
            [
             0.8888888888888888,
             "#fdca26"
            ],
            [
             1,
             "#f0f921"
            ]
           ]
          },
          "colorway": [
           "#636efa",
           "#EF553B",
           "#00cc96",
           "#ab63fa",
           "#FFA15A",
           "#19d3f3",
           "#FF6692",
           "#B6E880",
           "#FF97FF",
           "#FECB52"
          ],
          "font": {
           "color": "#2a3f5f"
          },
          "geo": {
           "bgcolor": "white",
           "lakecolor": "white",
           "landcolor": "#E5ECF6",
           "showlakes": true,
           "showland": true,
           "subunitcolor": "white"
          },
          "hoverlabel": {
           "align": "left"
          },
          "hovermode": "closest",
          "mapbox": {
           "style": "light"
          },
          "paper_bgcolor": "white",
          "plot_bgcolor": "#E5ECF6",
          "polar": {
           "angularaxis": {
            "gridcolor": "white",
            "linecolor": "white",
            "ticks": ""
           },
           "bgcolor": "#E5ECF6",
           "radialaxis": {
            "gridcolor": "white",
            "linecolor": "white",
            "ticks": ""
           }
          },
          "scene": {
           "xaxis": {
            "backgroundcolor": "#E5ECF6",
            "gridcolor": "white",
            "gridwidth": 2,
            "linecolor": "white",
            "showbackground": true,
            "ticks": "",
            "zerolinecolor": "white"
           },
           "yaxis": {
            "backgroundcolor": "#E5ECF6",
            "gridcolor": "white",
            "gridwidth": 2,
            "linecolor": "white",
            "showbackground": true,
            "ticks": "",
            "zerolinecolor": "white"
           },
           "zaxis": {
            "backgroundcolor": "#E5ECF6",
            "gridcolor": "white",
            "gridwidth": 2,
            "linecolor": "white",
            "showbackground": true,
            "ticks": "",
            "zerolinecolor": "white"
           }
          },
          "shapedefaults": {
           "line": {
            "color": "#2a3f5f"
           }
          },
          "ternary": {
           "aaxis": {
            "gridcolor": "white",
            "linecolor": "white",
            "ticks": ""
           },
           "baxis": {
            "gridcolor": "white",
            "linecolor": "white",
            "ticks": ""
           },
           "bgcolor": "#E5ECF6",
           "caxis": {
            "gridcolor": "white",
            "linecolor": "white",
            "ticks": ""
           }
          },
          "title": {
           "x": 0.05
          },
          "xaxis": {
           "automargin": true,
           "gridcolor": "white",
           "linecolor": "white",
           "ticks": "",
           "title": {
            "standoff": 15
           },
           "zerolinecolor": "white",
           "zerolinewidth": 2
          },
          "yaxis": {
           "automargin": true,
           "gridcolor": "white",
           "linecolor": "white",
           "ticks": "",
           "title": {
            "standoff": 15
           },
           "zerolinecolor": "white",
           "zerolinewidth": 2
          }
         }
        },
        "title": {
         "font": {
          "color": "#4D5663"
         }
        },
        "xaxis": {
         "gridcolor": "#E1E5ED",
         "showgrid": true,
         "tickfont": {
          "color": "#4D5663"
         },
         "title": {
          "font": {
           "color": "#4D5663"
          },
          "text": ""
         },
         "zerolinecolor": "#E1E5ED"
        },
        "yaxis": {
         "gridcolor": "#E1E5ED",
         "showgrid": true,
         "tickfont": {
          "color": "#4D5663"
         },
         "title": {
          "font": {
           "color": "#4D5663"
          },
          "text": ""
         },
         "zerolinecolor": "#E1E5ED"
        }
       }
      },
      "text/html": [
       "<div>                            <div id=\"6c815d6e-3353-4a00-9c43-4c37ea198991\" class=\"plotly-graph-div\" style=\"height:525px; width:100%;\"></div>            <script type=\"text/javascript\">                require([\"plotly\"], function(Plotly) {                    window.PLOTLYENV=window.PLOTLYENV || {};\n",
       "                    window.PLOTLYENV.BASE_URL='https://plot.ly';                                    if (document.getElementById(\"6c815d6e-3353-4a00-9c43-4c37ea198991\")) {                    Plotly.newPlot(                        \"6c815d6e-3353-4a00-9c43-4c37ea198991\",                        [{\"histfunc\":\"count\",\"histnorm\":\"\",\"marker\":{\"color\":\"rgba(255, 153, 51, 1.0)\",\"line\":{\"color\":\"#4D5663\",\"width\":1.3}},\"name\":\"A\",\"opacity\":0.8,\"orientation\":\"v\",\"x\":[0.43576161330137125,0.0392002026600367,-0.0828096051226737,-0.06899993842236976,-0.7445185078343501,-0.5818104718774442,0.20812256881462257,1.5771047203879411,-0.6229410571707626,-0.2542553127090784,-0.8616883603461633,-0.6882323696812119,1.6091381292540365,-0.08960730935903875,1.477667203229447,-1.1289770047232348,-0.37757591613281366,-0.9555659233157126,-0.8716190463369677,2.3343739223771967,-0.5804185512560397,-0.34512219064872196,1.0009426139151563,-0.03638635948039409,-0.4795511213004423,-0.38710379078114443,-0.5982291373045885,0.8057103455189922,0.07653649862068276,1.8789206942278476,-1.9870408379249231,-1.2534934267964573,1.1424388929052163,-0.19667780218489977,0.6672725785699418,0.22197020125418726,0.40375610544655427,0.790455120710436,0.47759724675807447,1.188441738310553,2.5966130677908876,-0.6307284045262942,0.07962977335776215,0.3075091604528683,-1.4964756673073725,-0.12521366306897264,-1.2358732389987421,-0.2360811692397413,-2.282498392530906,0.7428373771981449,-0.6288414109073985,0.6230290519320041,0.716991257672416,0.2741062424132256,0.9315691700047641,2.246444132120593,-0.09798021170589394,-1.4133581682943,0.27061743914078784,0.5896664688392396,0.049326040185358244,-1.6878301432568965,-2.048608617619134,0.44524418456960363,-0.9380811961782093,-1.88596316407578,0.6201094070399932,-1.5569988864741955,-0.5969142673083347,1.7125329163547705,2.0185871649641642,-1.2330424798204571,1.2660998430994834,0.4475507802687231,-0.808620887480285,-0.17552478952105183,-1.0126133692310482,-3.675695561961809,0.028560931347580483,1.92983422047473,0.35556609859758814,-0.06511288145789168,-0.25838345482305736,-1.2400752553123529,-0.34078316151973576,0.5430289046145775,-0.8056959136889844,1.6300090038319708,0.1558133548094795,0.09620023351258908,-0.7846317882449255,-2.5182101025471333,0.5562799597495309,0.16046651940046647,-0.21954404954103748,-0.32808367130031724,0.7209387084058826,-0.0345397981985188,-0.09495490706369364,-0.8910145283144787],\"type\":\"histogram\"},{\"histfunc\":\"count\",\"histnorm\":\"\",\"marker\":{\"color\":\"rgba(55, 128, 191, 1.0)\",\"line\":{\"color\":\"#4D5663\",\"width\":1.3}},\"name\":\"B\",\"opacity\":0.8,\"orientation\":\"v\",\"x\":[0.7470965589601339,-1.5219044668573725,-0.09809943298661565,-1.250222948666942,-0.698474158306239,0.9150731563300875,-1.7165979226019592,-1.2451154557852744,-0.4204666686443543,-0.0012794767147798895,-0.261186490901393,-0.3538924472485142,1.9908666564163198,0.851133799942738,1.5852483356617322,0.9124402543743519,0.5349719533559576,-0.7486594206111689,0.4215163263542885,-0.477420154232497,0.7682913569156996,1.1072895097909077,2.054407350902693,1.6175776756957496,0.5611477786926051,1.4031946166589802,-1.0167138268528113,0.19646954503078082,0.945974554393974,0.9408949156430599,1.1413517627554308,-0.1357448260510389,-0.04351760173125842,-0.8512903450571877,0.91744346009552,-0.1542511662085185,0.7063318506651899,-0.3031156931539478,-1.6443563957714007,1.2650837687557859,-0.8311250713611842,0.13834368861202084,0.31895857306174547,-0.5449946250740695,-3.262605243961339,-1.418654021604739,1.7861024688943528,0.6224571859649373,0.09101051584656397,0.6521919226727627,1.3058238267837332,-1.0018932539119865,0.36743339504271666,0.7195461980329014,-0.7852233456105248,-0.5934846408673413,-1.8222702027000843,-0.6168587967023298,-0.5414383002922646,-0.5421020917700555,0.12406293568327871,2.325695325282169,-0.3056098266005972,-1.2400002200650149,-0.7547227374480309,0.053572223237500154,1.209431097011376,2.2161223547948716,-0.42419252357043197,0.47008337374490233,-1.2385983525496629,0.4083282423594256,1.1018396289990668,-1.3439267263174357,-1.2148010375833018,1.378503549128289,-0.865442571080681,1.4981255490911167,0.5268652709491807,-0.5864705000603173,-0.03251046298779092,-1.657971247262324,0.5387740305912381,0.33891930104974144,-0.017631905464170265,0.235035832459136,-0.22302903550297953,-0.42911270255814304,0.45012009799066305,-0.9780296593173486,-0.11851579616469118,1.047681204062073,0.9889001376060471,1.3966008775466294,0.09077097106105908,1.3376388975447437,-0.2036133802195914,-0.11638871633048702,-0.054452121594433106,0.382117572004654],\"type\":\"histogram\"},{\"histfunc\":\"count\",\"histnorm\":\"\",\"marker\":{\"color\":\"rgba(50, 171, 96, 1.0)\",\"line\":{\"color\":\"#4D5663\",\"width\":1.3}},\"name\":\"C\",\"opacity\":0.8,\"orientation\":\"v\",\"x\":[0.3682377144132527,0.3466890761278271,-0.36913753005199823,0.18514537841315948,-1.0887193428018571,0.8197485014104589,-1.2480792457914922,0.8032857896965091,-0.7372634145936622,1.8916263785651137,-1.0091640111893094,0.6669618923940757,-1.2347372819390838,0.3586286742808286,-0.17797767358538108,0.14261496579823077,-1.6054052554704594,1.1746627862690353,0.22194911958937508,-0.3491598059032676,-0.9997487538488474,0.9665740152979908,-0.5974613801113016,1.2027824998329095,0.8055499031272653,-1.1705064006479604,0.805894459386693,0.08228254999688683,1.0887366927019209,1.4106915911500681,-0.867900972018244,-0.6339851583086878,-1.3890048876027952,-0.7127045563198836,0.4898398447200245,0.14869214579216922,0.9874702488096306,-0.5974306475460034,-0.059375257352179585,1.2348799507675814,0.45432412727610216,-0.39615476589886783,-0.6116096177234337,0.12343362764980646,-1.2793811350833177,1.7621541021838003,-1.6575406700058628,-0.9102543410907438,-1.8037290171758542,-0.562133591486102,-1.542449489376436,1.5622069830921548,-0.015535066606124135,0.19179000418996284,-0.3865933407686439,0.3767014127544314,-0.39035565729367816,-0.17593237649210466,0.5010787800055183,1.5068826796973953,0.7548535916650044,-0.09345064568866177,-0.6748023482836941,-0.007867500606330622,1.2452765230361882,-1.9797610765138551,2.288109166982434,0.3158001520261646,-1.0022812872462648,0.14323345564166073,0.9297586307776996,1.1613537249460568,-0.535713295674978,-0.04247466282924876,-1.0864391841694818,-0.17535156734247248,-1.0435435528269077,1.4972108118555416,0.5443510427237117,0.4522251302277498,-1.3806338969360445,1.5394722937803447,-0.5669625412314382,-0.09449124702752644,0.7425778961101418,0.4196628907191677,-0.2982502752981818,1.1018302596780367,1.041507789996542,0.1229506045307668,-0.3239100280384493,1.7517960645639947,-1.593660968080219,-0.29520459008899336,-1.1079059337127208,-0.8443831132442462,-1.105499520464632,0.31414854886524113,-0.19347118107445258,0.1949481448016391],\"type\":\"histogram\"},{\"histfunc\":\"count\",\"histnorm\":\"\",\"marker\":{\"color\":\"rgba(128, 0, 128, 1.0)\",\"line\":{\"color\":\"#4D5663\",\"width\":1.3}},\"name\":\"D\",\"opacity\":0.8,\"orientation\":\"v\",\"x\":[-0.9461952856679982,0.6490505117458512,-2.8856777417148423,0.7543179079921039,-1.2620466925622829,-0.29671662214552724,-0.12432979792114747,0.4055078787706235,-1.6849278164940076,0.7592765208403887,0.7295973675512063,-1.2289778806316503,0.4746662390192041,-1.9467463645444505,1.279041672422795,0.28596923632067106,-1.1047989995477818,-0.2750916111734189,-0.004445869216080266,-0.8447524529656686,-1.0847559402515845,-0.36831017623822854,1.7849046353242075,0.09457412928279552,-1.5220100918781827,-0.7204173596427004,-0.8406541388820522,1.7828216483160868,0.5723990541038184,0.04134495585573406,-0.043738453631860075,-0.062351447856486206,-1.029165749659944,-0.6464275203370826,-2.4790377438704385,0.8924262480171544,-0.09287039344225873,-0.5987040240203508,-0.3852951367141403,-0.5946067828347857,-1.338306940118594,-1.143664724386562,0.23717244680581728,-1.0553239866701294,-1.768056578374799,-0.43961323355406806,-1.8203198565273977,0.2950382232612245,0.241784236809698,-0.609871180395315,1.1389627799474984,0.09800288010116572,-0.31334022306554643,-0.11281582001464618,-0.8450599277568367,1.0914831382708754,-0.06812203830684074,-0.06485931824662995,0.06345771885869014,0.780898024037899,0.38519174605760986,1.5596975457436253,-1.1573456724277826,1.4445043903679835,0.10738099318593422,-0.6889425940821164,-0.10029195797902998,0.17541820166233416,0.4910207830569502,0.5130207172331803,-2.1113232049226838,0.7494933159230787,0.2930842867454575,-0.9881669095762277,-2.252876926788418,-0.613739798262879,0.11338688536083144,0.1529186605142726,0.5601423111987032,0.27164095954332557,-0.590306556357339,-0.19359801024144416,-0.5727331843839251,1.8325506531733573,1.149233790873831,-2.393557334344154,-1.2250112430753446,-0.9124986713695532,-0.03101020857729068,0.90728421512498,-0.3583318565094099,2.519005246911356,-0.4151337693932833,0.03665958749737384,-0.4331483093163314,1.9034225405674647,0.6279386320745678,-0.8565835172293262,0.6026905340869714,-0.08280840058685728],\"type\":\"histogram\"}],                        {\"barmode\":\"overlay\",\"legend\":{\"bgcolor\":\"#F5F6F9\",\"font\":{\"color\":\"#4D5663\"}},\"paper_bgcolor\":\"#F5F6F9\",\"plot_bgcolor\":\"#F5F6F9\",\"template\":{\"data\":{\"barpolar\":[{\"marker\":{\"line\":{\"color\":\"#E5ECF6\",\"width\":0.5},\"pattern\":{\"fillmode\":\"overlay\",\"size\":10,\"solidity\":0.2}},\"type\":\"barpolar\"}],\"bar\":[{\"error_x\":{\"color\":\"#2a3f5f\"},\"error_y\":{\"color\":\"#2a3f5f\"},\"marker\":{\"line\":{\"color\":\"#E5ECF6\",\"width\":0.5},\"pattern\":{\"fillmode\":\"overlay\",\"size\":10,\"solidity\":0.2}},\"type\":\"bar\"}],\"carpet\":[{\"aaxis\":{\"endlinecolor\":\"#2a3f5f\",\"gridcolor\":\"white\",\"linecolor\":\"white\",\"minorgridcolor\":\"white\",\"startlinecolor\":\"#2a3f5f\"},\"baxis\":{\"endlinecolor\":\"#2a3f5f\",\"gridcolor\":\"white\",\"linecolor\":\"white\",\"minorgridcolor\":\"white\",\"startlinecolor\":\"#2a3f5f\"},\"type\":\"carpet\"}],\"choropleth\":[{\"colorbar\":{\"outlinewidth\":0,\"ticks\":\"\"},\"type\":\"choropleth\"}],\"contourcarpet\":[{\"colorbar\":{\"outlinewidth\":0,\"ticks\":\"\"},\"type\":\"contourcarpet\"}],\"contour\":[{\"colorbar\":{\"outlinewidth\":0,\"ticks\":\"\"},\"colorscale\":[[0.0,\"#0d0887\"],[0.1111111111111111,\"#46039f\"],[0.2222222222222222,\"#7201a8\"],[0.3333333333333333,\"#9c179e\"],[0.4444444444444444,\"#bd3786\"],[0.5555555555555556,\"#d8576b\"],[0.6666666666666666,\"#ed7953\"],[0.7777777777777778,\"#fb9f3a\"],[0.8888888888888888,\"#fdca26\"],[1.0,\"#f0f921\"]],\"type\":\"contour\"}],\"heatmapgl\":[{\"colorbar\":{\"outlinewidth\":0,\"ticks\":\"\"},\"colorscale\":[[0.0,\"#0d0887\"],[0.1111111111111111,\"#46039f\"],[0.2222222222222222,\"#7201a8\"],[0.3333333333333333,\"#9c179e\"],[0.4444444444444444,\"#bd3786\"],[0.5555555555555556,\"#d8576b\"],[0.6666666666666666,\"#ed7953\"],[0.7777777777777778,\"#fb9f3a\"],[0.8888888888888888,\"#fdca26\"],[1.0,\"#f0f921\"]],\"type\":\"heatmapgl\"}],\"heatmap\":[{\"colorbar\":{\"outlinewidth\":0,\"ticks\":\"\"},\"colorscale\":[[0.0,\"#0d0887\"],[0.1111111111111111,\"#46039f\"],[0.2222222222222222,\"#7201a8\"],[0.3333333333333333,\"#9c179e\"],[0.4444444444444444,\"#bd3786\"],[0.5555555555555556,\"#d8576b\"],[0.6666666666666666,\"#ed7953\"],[0.7777777777777778,\"#fb9f3a\"],[0.8888888888888888,\"#fdca26\"],[1.0,\"#f0f921\"]],\"type\":\"heatmap\"}],\"histogram2dcontour\":[{\"colorbar\":{\"outlinewidth\":0,\"ticks\":\"\"},\"colorscale\":[[0.0,\"#0d0887\"],[0.1111111111111111,\"#46039f\"],[0.2222222222222222,\"#7201a8\"],[0.3333333333333333,\"#9c179e\"],[0.4444444444444444,\"#bd3786\"],[0.5555555555555556,\"#d8576b\"],[0.6666666666666666,\"#ed7953\"],[0.7777777777777778,\"#fb9f3a\"],[0.8888888888888888,\"#fdca26\"],[1.0,\"#f0f921\"]],\"type\":\"histogram2dcontour\"}],\"histogram2d\":[{\"colorbar\":{\"outlinewidth\":0,\"ticks\":\"\"},\"colorscale\":[[0.0,\"#0d0887\"],[0.1111111111111111,\"#46039f\"],[0.2222222222222222,\"#7201a8\"],[0.3333333333333333,\"#9c179e\"],[0.4444444444444444,\"#bd3786\"],[0.5555555555555556,\"#d8576b\"],[0.6666666666666666,\"#ed7953\"],[0.7777777777777778,\"#fb9f3a\"],[0.8888888888888888,\"#fdca26\"],[1.0,\"#f0f921\"]],\"type\":\"histogram2d\"}],\"histogram\":[{\"marker\":{\"pattern\":{\"fillmode\":\"overlay\",\"size\":10,\"solidity\":0.2}},\"type\":\"histogram\"}],\"mesh3d\":[{\"colorbar\":{\"outlinewidth\":0,\"ticks\":\"\"},\"type\":\"mesh3d\"}],\"parcoords\":[{\"line\":{\"colorbar\":{\"outlinewidth\":0,\"ticks\":\"\"}},\"type\":\"parcoords\"}],\"pie\":[{\"automargin\":true,\"type\":\"pie\"}],\"scatter3d\":[{\"line\":{\"colorbar\":{\"outlinewidth\":0,\"ticks\":\"\"}},\"marker\":{\"colorbar\":{\"outlinewidth\":0,\"ticks\":\"\"}},\"type\":\"scatter3d\"}],\"scattercarpet\":[{\"marker\":{\"colorbar\":{\"outlinewidth\":0,\"ticks\":\"\"}},\"type\":\"scattercarpet\"}],\"scattergeo\":[{\"marker\":{\"colorbar\":{\"outlinewidth\":0,\"ticks\":\"\"}},\"type\":\"scattergeo\"}],\"scattergl\":[{\"marker\":{\"colorbar\":{\"outlinewidth\":0,\"ticks\":\"\"}},\"type\":\"scattergl\"}],\"scattermapbox\":[{\"marker\":{\"colorbar\":{\"outlinewidth\":0,\"ticks\":\"\"}},\"type\":\"scattermapbox\"}],\"scatterpolargl\":[{\"marker\":{\"colorbar\":{\"outlinewidth\":0,\"ticks\":\"\"}},\"type\":\"scatterpolargl\"}],\"scatterpolar\":[{\"marker\":{\"colorbar\":{\"outlinewidth\":0,\"ticks\":\"\"}},\"type\":\"scatterpolar\"}],\"scatter\":[{\"marker\":{\"colorbar\":{\"outlinewidth\":0,\"ticks\":\"\"}},\"type\":\"scatter\"}],\"scatterternary\":[{\"marker\":{\"colorbar\":{\"outlinewidth\":0,\"ticks\":\"\"}},\"type\":\"scatterternary\"}],\"surface\":[{\"colorbar\":{\"outlinewidth\":0,\"ticks\":\"\"},\"colorscale\":[[0.0,\"#0d0887\"],[0.1111111111111111,\"#46039f\"],[0.2222222222222222,\"#7201a8\"],[0.3333333333333333,\"#9c179e\"],[0.4444444444444444,\"#bd3786\"],[0.5555555555555556,\"#d8576b\"],[0.6666666666666666,\"#ed7953\"],[0.7777777777777778,\"#fb9f3a\"],[0.8888888888888888,\"#fdca26\"],[1.0,\"#f0f921\"]],\"type\":\"surface\"}],\"table\":[{\"cells\":{\"fill\":{\"color\":\"#EBF0F8\"},\"line\":{\"color\":\"white\"}},\"header\":{\"fill\":{\"color\":\"#C8D4E3\"},\"line\":{\"color\":\"white\"}},\"type\":\"table\"}]},\"layout\":{\"annotationdefaults\":{\"arrowcolor\":\"#2a3f5f\",\"arrowhead\":0,\"arrowwidth\":1},\"autotypenumbers\":\"strict\",\"coloraxis\":{\"colorbar\":{\"outlinewidth\":0,\"ticks\":\"\"}},\"colorscale\":{\"diverging\":[[0,\"#8e0152\"],[0.1,\"#c51b7d\"],[0.2,\"#de77ae\"],[0.3,\"#f1b6da\"],[0.4,\"#fde0ef\"],[0.5,\"#f7f7f7\"],[0.6,\"#e6f5d0\"],[0.7,\"#b8e186\"],[0.8,\"#7fbc41\"],[0.9,\"#4d9221\"],[1,\"#276419\"]],\"sequential\":[[0.0,\"#0d0887\"],[0.1111111111111111,\"#46039f\"],[0.2222222222222222,\"#7201a8\"],[0.3333333333333333,\"#9c179e\"],[0.4444444444444444,\"#bd3786\"],[0.5555555555555556,\"#d8576b\"],[0.6666666666666666,\"#ed7953\"],[0.7777777777777778,\"#fb9f3a\"],[0.8888888888888888,\"#fdca26\"],[1.0,\"#f0f921\"]],\"sequentialminus\":[[0.0,\"#0d0887\"],[0.1111111111111111,\"#46039f\"],[0.2222222222222222,\"#7201a8\"],[0.3333333333333333,\"#9c179e\"],[0.4444444444444444,\"#bd3786\"],[0.5555555555555556,\"#d8576b\"],[0.6666666666666666,\"#ed7953\"],[0.7777777777777778,\"#fb9f3a\"],[0.8888888888888888,\"#fdca26\"],[1.0,\"#f0f921\"]]},\"colorway\":[\"#636efa\",\"#EF553B\",\"#00cc96\",\"#ab63fa\",\"#FFA15A\",\"#19d3f3\",\"#FF6692\",\"#B6E880\",\"#FF97FF\",\"#FECB52\"],\"font\":{\"color\":\"#2a3f5f\"},\"geo\":{\"bgcolor\":\"white\",\"lakecolor\":\"white\",\"landcolor\":\"#E5ECF6\",\"showlakes\":true,\"showland\":true,\"subunitcolor\":\"white\"},\"hoverlabel\":{\"align\":\"left\"},\"hovermode\":\"closest\",\"mapbox\":{\"style\":\"light\"},\"paper_bgcolor\":\"white\",\"plot_bgcolor\":\"#E5ECF6\",\"polar\":{\"angularaxis\":{\"gridcolor\":\"white\",\"linecolor\":\"white\",\"ticks\":\"\"},\"bgcolor\":\"#E5ECF6\",\"radialaxis\":{\"gridcolor\":\"white\",\"linecolor\":\"white\",\"ticks\":\"\"}},\"scene\":{\"xaxis\":{\"backgroundcolor\":\"#E5ECF6\",\"gridcolor\":\"white\",\"gridwidth\":2,\"linecolor\":\"white\",\"showbackground\":true,\"ticks\":\"\",\"zerolinecolor\":\"white\"},\"yaxis\":{\"backgroundcolor\":\"#E5ECF6\",\"gridcolor\":\"white\",\"gridwidth\":2,\"linecolor\":\"white\",\"showbackground\":true,\"ticks\":\"\",\"zerolinecolor\":\"white\"},\"zaxis\":{\"backgroundcolor\":\"#E5ECF6\",\"gridcolor\":\"white\",\"gridwidth\":2,\"linecolor\":\"white\",\"showbackground\":true,\"ticks\":\"\",\"zerolinecolor\":\"white\"}},\"shapedefaults\":{\"line\":{\"color\":\"#2a3f5f\"}},\"ternary\":{\"aaxis\":{\"gridcolor\":\"white\",\"linecolor\":\"white\",\"ticks\":\"\"},\"baxis\":{\"gridcolor\":\"white\",\"linecolor\":\"white\",\"ticks\":\"\"},\"bgcolor\":\"#E5ECF6\",\"caxis\":{\"gridcolor\":\"white\",\"linecolor\":\"white\",\"ticks\":\"\"}},\"title\":{\"x\":0.05},\"xaxis\":{\"automargin\":true,\"gridcolor\":\"white\",\"linecolor\":\"white\",\"ticks\":\"\",\"title\":{\"standoff\":15},\"zerolinecolor\":\"white\",\"zerolinewidth\":2},\"yaxis\":{\"automargin\":true,\"gridcolor\":\"white\",\"linecolor\":\"white\",\"ticks\":\"\",\"title\":{\"standoff\":15},\"zerolinecolor\":\"white\",\"zerolinewidth\":2}}},\"title\":{\"font\":{\"color\":\"#4D5663\"}},\"xaxis\":{\"gridcolor\":\"#E1E5ED\",\"showgrid\":true,\"tickfont\":{\"color\":\"#4D5663\"},\"title\":{\"font\":{\"color\":\"#4D5663\"},\"text\":\"\"},\"zerolinecolor\":\"#E1E5ED\"},\"yaxis\":{\"gridcolor\":\"#E1E5ED\",\"showgrid\":true,\"tickfont\":{\"color\":\"#4D5663\"},\"title\":{\"font\":{\"color\":\"#4D5663\"},\"text\":\"\"},\"zerolinecolor\":\"#E1E5ED\"}},                        {\"showLink\": true, \"linkText\": \"Export to plot.ly\", \"plotlyServerURL\": \"https://plot.ly\", \"responsive\": true}                    ).then(function(){\n",
       "                            \n",
       "var gd = document.getElementById('6c815d6e-3353-4a00-9c43-4c37ea198991');\n",
       "var x = new MutationObserver(function (mutations, observer) {{\n",
       "        var display = window.getComputedStyle(gd).display;\n",
       "        if (!display || display === 'none') {{\n",
       "            console.log([gd, 'removed!']);\n",
       "            Plotly.purge(gd);\n",
       "            observer.disconnect();\n",
       "        }}\n",
       "}});\n",
       "\n",
       "// Listen for the removal of the full notebook cells\n",
       "var notebookContainer = gd.closest('#notebook-container');\n",
       "if (notebookContainer) {{\n",
       "    x.observe(notebookContainer, {childList: true});\n",
       "}}\n",
       "\n",
       "// Listen for the clearing of the current output cell\n",
       "var outputEl = gd.closest('.output');\n",
       "if (outputEl) {{\n",
       "    x.observe(outputEl, {childList: true});\n",
       "}}\n",
       "\n",
       "                        })                };                });            </script>        </div>"
      ]
     },
     "metadata": {},
     "output_type": "display_data"
    }
   ],
   "source": [
    "df.iplot(kind='hist')"
   ]
  },
  {
   "cell_type": "code",
   "execution_count": 38,
   "metadata": {},
   "outputs": [
    {
     "name": "stderr",
     "output_type": "stream",
     "text": [
      "C:\\Users\\User\\.conda\\envs\\cv\\lib\\site-packages\\cufflinks\\plotlytools.py:849: FutureWarning:\n",
      "\n",
      "The pandas.np module is deprecated and will be removed from pandas in a future version. Import numpy directly instead\n",
      "\n",
      "C:\\Users\\User\\.conda\\envs\\cv\\lib\\site-packages\\cufflinks\\plotlytools.py:850: FutureWarning:\n",
      "\n",
      "The pandas.np module is deprecated and will be removed from pandas in a future version. Import numpy directly instead\n",
      "\n"
     ]
    },
    {
     "data": {
      "application/vnd.plotly.v1+json": {
       "config": {
        "linkText": "Export to plot.ly",
        "plotlyServerURL": "https://plot.ly",
        "showLink": true
       },
       "data": [
        {
         "line": {
          "color": "rgba(255, 153, 51, 1.0)",
          "dash": "solid",
          "shape": "linear",
          "width": 1.3
         },
         "mode": "lines",
         "name": "A",
         "text": "",
         "type": "scatter",
         "x": [
          0,
          1,
          2,
          3,
          4,
          5,
          6,
          7,
          8,
          9,
          10,
          11,
          12,
          13,
          14,
          15,
          16,
          17,
          18,
          19,
          20,
          21,
          22,
          23,
          24,
          25,
          26,
          27,
          28,
          29,
          30,
          31,
          32,
          33,
          34,
          35,
          36,
          37,
          38,
          39,
          40,
          41,
          42,
          43,
          44,
          45,
          46,
          47,
          48,
          49,
          50,
          51,
          52,
          53,
          54,
          55,
          56,
          57,
          58,
          59,
          60,
          61,
          62,
          63,
          64,
          65,
          66,
          67,
          68,
          69,
          70,
          71,
          72,
          73,
          74,
          75,
          76,
          77,
          78,
          79,
          80,
          81,
          82,
          83,
          84,
          85,
          86,
          87,
          88,
          89,
          90,
          91,
          92,
          93,
          94,
          95,
          96,
          97,
          98,
          99
         ],
         "y": [
          0.43576161330137125,
          0.0392002026600367,
          -0.0828096051226737,
          -0.06899993842236976,
          -0.7445185078343501,
          -0.5818104718774442,
          0.20812256881462257,
          1.5771047203879411,
          -0.6229410571707626,
          -0.2542553127090784,
          -0.8616883603461633,
          -0.6882323696812119,
          1.6091381292540365,
          -0.08960730935903875,
          1.477667203229447,
          -1.1289770047232348,
          -0.37757591613281366,
          -0.9555659233157126,
          -0.8716190463369677,
          2.3343739223771967,
          -0.5804185512560397,
          -0.34512219064872196,
          1.0009426139151563,
          -0.03638635948039409,
          -0.4795511213004423,
          -0.38710379078114443,
          -0.5982291373045885,
          0.8057103455189922,
          0.07653649862068276,
          1.8789206942278476,
          -1.9870408379249231,
          -1.2534934267964573,
          1.1424388929052163,
          -0.19667780218489977,
          0.6672725785699418,
          0.22197020125418726,
          0.40375610544655427,
          0.790455120710436,
          0.47759724675807447,
          1.188441738310553,
          2.5966130677908876,
          -0.6307284045262942,
          0.07962977335776215,
          0.3075091604528683,
          -1.4964756673073725,
          -0.12521366306897264,
          -1.2358732389987421,
          -0.2360811692397413,
          -2.282498392530906,
          0.7428373771981449,
          -0.6288414109073985,
          0.6230290519320041,
          0.716991257672416,
          0.2741062424132256,
          0.9315691700047641,
          2.246444132120593,
          -0.09798021170589394,
          -1.4133581682943,
          0.27061743914078784,
          0.5896664688392396,
          0.049326040185358244,
          -1.6878301432568965,
          -2.048608617619134,
          0.44524418456960363,
          -0.9380811961782093,
          -1.88596316407578,
          0.6201094070399932,
          -1.5569988864741955,
          -0.5969142673083347,
          1.7125329163547705,
          2.0185871649641642,
          -1.2330424798204571,
          1.2660998430994834,
          0.4475507802687231,
          -0.808620887480285,
          -0.17552478952105183,
          -1.0126133692310482,
          -3.675695561961809,
          0.028560931347580483,
          1.92983422047473,
          0.35556609859758814,
          -0.06511288145789168,
          -0.25838345482305736,
          -1.2400752553123529,
          -0.34078316151973576,
          0.5430289046145775,
          -0.8056959136889844,
          1.6300090038319708,
          0.1558133548094795,
          0.09620023351258908,
          -0.7846317882449255,
          -2.5182101025471333,
          0.5562799597495309,
          0.16046651940046647,
          -0.21954404954103748,
          -0.32808367130031724,
          0.7209387084058826,
          -0.0345397981985188,
          -0.09495490706369364,
          -0.8910145283144787
         ]
        },
        {
         "line": {
          "color": "rgba(55, 128, 191, 1.0)",
          "dash": "solid",
          "shape": "linear",
          "width": 1.3
         },
         "mode": "lines",
         "name": "B",
         "text": "",
         "type": "scatter",
         "x": [
          0,
          1,
          2,
          3,
          4,
          5,
          6,
          7,
          8,
          9,
          10,
          11,
          12,
          13,
          14,
          15,
          16,
          17,
          18,
          19,
          20,
          21,
          22,
          23,
          24,
          25,
          26,
          27,
          28,
          29,
          30,
          31,
          32,
          33,
          34,
          35,
          36,
          37,
          38,
          39,
          40,
          41,
          42,
          43,
          44,
          45,
          46,
          47,
          48,
          49,
          50,
          51,
          52,
          53,
          54,
          55,
          56,
          57,
          58,
          59,
          60,
          61,
          62,
          63,
          64,
          65,
          66,
          67,
          68,
          69,
          70,
          71,
          72,
          73,
          74,
          75,
          76,
          77,
          78,
          79,
          80,
          81,
          82,
          83,
          84,
          85,
          86,
          87,
          88,
          89,
          90,
          91,
          92,
          93,
          94,
          95,
          96,
          97,
          98,
          99
         ],
         "y": [
          0.7470965589601339,
          -1.5219044668573725,
          -0.09809943298661565,
          -1.250222948666942,
          -0.698474158306239,
          0.9150731563300875,
          -1.7165979226019592,
          -1.2451154557852744,
          -0.4204666686443543,
          -0.0012794767147798895,
          -0.261186490901393,
          -0.3538924472485142,
          1.9908666564163198,
          0.851133799942738,
          1.5852483356617322,
          0.9124402543743519,
          0.5349719533559576,
          -0.7486594206111689,
          0.4215163263542885,
          -0.477420154232497,
          0.7682913569156996,
          1.1072895097909077,
          2.054407350902693,
          1.6175776756957496,
          0.5611477786926051,
          1.4031946166589802,
          -1.0167138268528113,
          0.19646954503078082,
          0.945974554393974,
          0.9408949156430599,
          1.1413517627554308,
          -0.1357448260510389,
          -0.04351760173125842,
          -0.8512903450571877,
          0.91744346009552,
          -0.1542511662085185,
          0.7063318506651899,
          -0.3031156931539478,
          -1.6443563957714007,
          1.2650837687557859,
          -0.8311250713611842,
          0.13834368861202084,
          0.31895857306174547,
          -0.5449946250740695,
          -3.262605243961339,
          -1.418654021604739,
          1.7861024688943528,
          0.6224571859649373,
          0.09101051584656397,
          0.6521919226727627,
          1.3058238267837332,
          -1.0018932539119865,
          0.36743339504271666,
          0.7195461980329014,
          -0.7852233456105248,
          -0.5934846408673413,
          -1.8222702027000843,
          -0.6168587967023298,
          -0.5414383002922646,
          -0.5421020917700555,
          0.12406293568327871,
          2.325695325282169,
          -0.3056098266005972,
          -1.2400002200650149,
          -0.7547227374480309,
          0.053572223237500154,
          1.209431097011376,
          2.2161223547948716,
          -0.42419252357043197,
          0.47008337374490233,
          -1.2385983525496629,
          0.4083282423594256,
          1.1018396289990668,
          -1.3439267263174357,
          -1.2148010375833018,
          1.378503549128289,
          -0.865442571080681,
          1.4981255490911167,
          0.5268652709491807,
          -0.5864705000603173,
          -0.03251046298779092,
          -1.657971247262324,
          0.5387740305912381,
          0.33891930104974144,
          -0.017631905464170265,
          0.235035832459136,
          -0.22302903550297953,
          -0.42911270255814304,
          0.45012009799066305,
          -0.9780296593173486,
          -0.11851579616469118,
          1.047681204062073,
          0.9889001376060471,
          1.3966008775466294,
          0.09077097106105908,
          1.3376388975447437,
          -0.2036133802195914,
          -0.11638871633048702,
          -0.054452121594433106,
          0.382117572004654
         ]
        },
        {
         "connectgaps": false,
         "fill": "tozeroy",
         "line": {
          "color": "green",
          "dash": "solid",
          "shape": "linear",
          "width": 0.5
         },
         "mode": "lines",
         "name": "Spread",
         "showlegend": false,
         "type": "scatter",
         "x": [
          0,
          1,
          2,
          3,
          4,
          5,
          6,
          7,
          8,
          9,
          10,
          11,
          12,
          13,
          14,
          15,
          16,
          17,
          18,
          19,
          20,
          21,
          22,
          23,
          24,
          25,
          26,
          27,
          28,
          29,
          30,
          31,
          32,
          33,
          34,
          35,
          36,
          37,
          38,
          39,
          40,
          41,
          42,
          43,
          44,
          45,
          46,
          47,
          48,
          49,
          50,
          51,
          52,
          53,
          54,
          55,
          56,
          57,
          58,
          59,
          60,
          61,
          62,
          63,
          64,
          65,
          66,
          67,
          68,
          69,
          70,
          71,
          72,
          73,
          74,
          75,
          76,
          77,
          78,
          79,
          80,
          81,
          82,
          83,
          84,
          85,
          86,
          87,
          88,
          89,
          90,
          91,
          92,
          93,
          94,
          95,
          96,
          97,
          98,
          99
         ],
         "xaxis": "x2",
         "y": [
          "",
          1.5611046695174091,
          0.015289827863941952,
          1.1812230102445722,
          "",
          "",
          1.9247204914165819,
          2.8222201761732153,
          "",
          "",
          "",
          "",
          "",
          "",
          "",
          "",
          "",
          "",
          "",
          2.8117940766096936,
          "",
          "",
          "",
          "",
          "",
          "",
          0.4184846895482228,
          0.6092408004882114,
          "",
          0.9380257785847876,
          "",
          "",
          1.1859564946364747,
          0.654612542872288,
          "",
          0.37622136746270574,
          "",
          1.0935708138643838,
          2.1219536425294754,
          "",
          3.427738139152072,
          "",
          "",
          0.8525037855269377,
          1.7661295766539664,
          1.2934403585357663,
          "",
          "",
          "",
          0.0906454545253822,
          "",
          1.6249223058439906,
          0.34955786262969935,
          "",
          1.716792515615289,
          2.8399287729879346,
          1.7242899909941904,
          "",
          0.8120557394330524,
          1.131768560609295,
          "",
          "",
          "",
          1.6852444046346184,
          "",
          "",
          "",
          "",
          "",
          1.242449542609868,
          3.257185517513827,
          "",
          0.16426021410041658,
          1.7914775065861588,
          0.4061801501030168,
          "",
          "",
          "",
          "",
          2.5163047205350475,
          0.38807656158537907,
          1.5928583658044324,
          "",
          "",
          "",
          0.3079930721554415,
          "",
          2.0591217063901137,
          "",
          1.0742298928299376,
          "",
          "",
          "",
          "",
          "",
          "",
          0.924552088625474,
          0.0818489181319682,
          "",
          ""
         ],
         "yaxis": "y2"
        },
        {
         "connectgaps": false,
         "fill": "tozeroy",
         "line": {
          "color": "red",
          "dash": "solid",
          "shape": "linear",
          "width": 0.5
         },
         "mode": "lines",
         "name": "Spread",
         "showlegend": false,
         "type": "scatter",
         "x": [
          0,
          1,
          2,
          3,
          4,
          5,
          6,
          7,
          8,
          9,
          10,
          11,
          12,
          13,
          14,
          15,
          16,
          17,
          18,
          19,
          20,
          21,
          22,
          23,
          24,
          25,
          26,
          27,
          28,
          29,
          30,
          31,
          32,
          33,
          34,
          35,
          36,
          37,
          38,
          39,
          40,
          41,
          42,
          43,
          44,
          45,
          46,
          47,
          48,
          49,
          50,
          51,
          52,
          53,
          54,
          55,
          56,
          57,
          58,
          59,
          60,
          61,
          62,
          63,
          64,
          65,
          66,
          67,
          68,
          69,
          70,
          71,
          72,
          73,
          74,
          75,
          76,
          77,
          78,
          79,
          80,
          81,
          82,
          83,
          84,
          85,
          86,
          87,
          88,
          89,
          90,
          91,
          92,
          93,
          94,
          95,
          96,
          97,
          98,
          99
         ],
         "xaxis": "x2",
         "y": [
          -0.3113349456587627,
          "",
          "",
          "",
          -0.046044349528111095,
          -1.4968836282075317,
          "",
          "",
          -0.20247438852640837,
          -0.2529758359942985,
          -0.6005018694447702,
          -0.3343399224326977,
          -0.3817285271622832,
          -0.9407411093017767,
          -0.10758113243228529,
          -2.041417259097587,
          -0.9125478694887712,
          -0.2069065027045437,
          -1.2931353726912562,
          "",
          -1.3487099081717393,
          -1.4524117004396295,
          -1.0534647369875367,
          -1.6539640351761438,
          -1.0406988999930475,
          -1.7902984074401247,
          "",
          "",
          -0.8694380557732913,
          "",
          -3.128392600680354,
          -1.1177486007454183,
          "",
          "",
          -0.2501708815255782,
          "",
          -0.3025757452186356,
          "",
          "",
          -0.07664203044523288,
          "",
          -0.769072093138315,
          -0.2393287997039833,
          "",
          "",
          "",
          -3.0219757078930947,
          -0.8585383552046786,
          -2.37350890837747,
          "",
          -1.9346652376911317,
          "",
          "",
          -0.4454399556196758,
          "",
          "",
          "",
          -0.7964993715919702,
          "",
          "",
          -0.07473689549792047,
          -4.013525468539065,
          -1.7429987910185365,
          "",
          -0.18335845873017842,
          -1.9395353873132801,
          -0.5893216899713828,
          -3.773121241269067,
          -0.17272174373790278,
          "",
          "",
          -1.6413707221798828,
          "",
          "",
          "",
          -1.554028338649341,
          -0.14717079815036715,
          -5.173821111052925,
          -0.4983043396016002,
          "",
          "",
          "",
          -0.7971574854142954,
          -1.5789945563620944,
          -0.3231512560555655,
          "",
          -0.5826668781860049,
          "",
          -0.29430674318118355,
          "",
          -0.6661159920802343,
          -3.565891306609206,
          -0.4326201778565162,
          -1.236134358146163,
          -0.3103150206020966,
          -1.665722568845061,
          "",
          "",
          -0.04050278546926053,
          -1.2731321003191327
         ],
         "yaxis": "y2"
        }
       ],
       "layout": {
        "hovermode": "x",
        "legend": {
         "bgcolor": "#F5F6F9",
         "font": {
          "color": "#4D5663"
         }
        },
        "paper_bgcolor": "#F5F6F9",
        "plot_bgcolor": "#F5F6F9",
        "template": {
         "data": {
          "bar": [
           {
            "error_x": {
             "color": "#2a3f5f"
            },
            "error_y": {
             "color": "#2a3f5f"
            },
            "marker": {
             "line": {
              "color": "#E5ECF6",
              "width": 0.5
             },
             "pattern": {
              "fillmode": "overlay",
              "size": 10,
              "solidity": 0.2
             }
            },
            "type": "bar"
           }
          ],
          "barpolar": [
           {
            "marker": {
             "line": {
              "color": "#E5ECF6",
              "width": 0.5
             },
             "pattern": {
              "fillmode": "overlay",
              "size": 10,
              "solidity": 0.2
             }
            },
            "type": "barpolar"
           }
          ],
          "carpet": [
           {
            "aaxis": {
             "endlinecolor": "#2a3f5f",
             "gridcolor": "white",
             "linecolor": "white",
             "minorgridcolor": "white",
             "startlinecolor": "#2a3f5f"
            },
            "baxis": {
             "endlinecolor": "#2a3f5f",
             "gridcolor": "white",
             "linecolor": "white",
             "minorgridcolor": "white",
             "startlinecolor": "#2a3f5f"
            },
            "type": "carpet"
           }
          ],
          "choropleth": [
           {
            "colorbar": {
             "outlinewidth": 0,
             "ticks": ""
            },
            "type": "choropleth"
           }
          ],
          "contour": [
           {
            "colorbar": {
             "outlinewidth": 0,
             "ticks": ""
            },
            "colorscale": [
             [
              0,
              "#0d0887"
             ],
             [
              0.1111111111111111,
              "#46039f"
             ],
             [
              0.2222222222222222,
              "#7201a8"
             ],
             [
              0.3333333333333333,
              "#9c179e"
             ],
             [
              0.4444444444444444,
              "#bd3786"
             ],
             [
              0.5555555555555556,
              "#d8576b"
             ],
             [
              0.6666666666666666,
              "#ed7953"
             ],
             [
              0.7777777777777778,
              "#fb9f3a"
             ],
             [
              0.8888888888888888,
              "#fdca26"
             ],
             [
              1,
              "#f0f921"
             ]
            ],
            "type": "contour"
           }
          ],
          "contourcarpet": [
           {
            "colorbar": {
             "outlinewidth": 0,
             "ticks": ""
            },
            "type": "contourcarpet"
           }
          ],
          "heatmap": [
           {
            "colorbar": {
             "outlinewidth": 0,
             "ticks": ""
            },
            "colorscale": [
             [
              0,
              "#0d0887"
             ],
             [
              0.1111111111111111,
              "#46039f"
             ],
             [
              0.2222222222222222,
              "#7201a8"
             ],
             [
              0.3333333333333333,
              "#9c179e"
             ],
             [
              0.4444444444444444,
              "#bd3786"
             ],
             [
              0.5555555555555556,
              "#d8576b"
             ],
             [
              0.6666666666666666,
              "#ed7953"
             ],
             [
              0.7777777777777778,
              "#fb9f3a"
             ],
             [
              0.8888888888888888,
              "#fdca26"
             ],
             [
              1,
              "#f0f921"
             ]
            ],
            "type": "heatmap"
           }
          ],
          "heatmapgl": [
           {
            "colorbar": {
             "outlinewidth": 0,
             "ticks": ""
            },
            "colorscale": [
             [
              0,
              "#0d0887"
             ],
             [
              0.1111111111111111,
              "#46039f"
             ],
             [
              0.2222222222222222,
              "#7201a8"
             ],
             [
              0.3333333333333333,
              "#9c179e"
             ],
             [
              0.4444444444444444,
              "#bd3786"
             ],
             [
              0.5555555555555556,
              "#d8576b"
             ],
             [
              0.6666666666666666,
              "#ed7953"
             ],
             [
              0.7777777777777778,
              "#fb9f3a"
             ],
             [
              0.8888888888888888,
              "#fdca26"
             ],
             [
              1,
              "#f0f921"
             ]
            ],
            "type": "heatmapgl"
           }
          ],
          "histogram": [
           {
            "marker": {
             "pattern": {
              "fillmode": "overlay",
              "size": 10,
              "solidity": 0.2
             }
            },
            "type": "histogram"
           }
          ],
          "histogram2d": [
           {
            "colorbar": {
             "outlinewidth": 0,
             "ticks": ""
            },
            "colorscale": [
             [
              0,
              "#0d0887"
             ],
             [
              0.1111111111111111,
              "#46039f"
             ],
             [
              0.2222222222222222,
              "#7201a8"
             ],
             [
              0.3333333333333333,
              "#9c179e"
             ],
             [
              0.4444444444444444,
              "#bd3786"
             ],
             [
              0.5555555555555556,
              "#d8576b"
             ],
             [
              0.6666666666666666,
              "#ed7953"
             ],
             [
              0.7777777777777778,
              "#fb9f3a"
             ],
             [
              0.8888888888888888,
              "#fdca26"
             ],
             [
              1,
              "#f0f921"
             ]
            ],
            "type": "histogram2d"
           }
          ],
          "histogram2dcontour": [
           {
            "colorbar": {
             "outlinewidth": 0,
             "ticks": ""
            },
            "colorscale": [
             [
              0,
              "#0d0887"
             ],
             [
              0.1111111111111111,
              "#46039f"
             ],
             [
              0.2222222222222222,
              "#7201a8"
             ],
             [
              0.3333333333333333,
              "#9c179e"
             ],
             [
              0.4444444444444444,
              "#bd3786"
             ],
             [
              0.5555555555555556,
              "#d8576b"
             ],
             [
              0.6666666666666666,
              "#ed7953"
             ],
             [
              0.7777777777777778,
              "#fb9f3a"
             ],
             [
              0.8888888888888888,
              "#fdca26"
             ],
             [
              1,
              "#f0f921"
             ]
            ],
            "type": "histogram2dcontour"
           }
          ],
          "mesh3d": [
           {
            "colorbar": {
             "outlinewidth": 0,
             "ticks": ""
            },
            "type": "mesh3d"
           }
          ],
          "parcoords": [
           {
            "line": {
             "colorbar": {
              "outlinewidth": 0,
              "ticks": ""
             }
            },
            "type": "parcoords"
           }
          ],
          "pie": [
           {
            "automargin": true,
            "type": "pie"
           }
          ],
          "scatter": [
           {
            "marker": {
             "colorbar": {
              "outlinewidth": 0,
              "ticks": ""
             }
            },
            "type": "scatter"
           }
          ],
          "scatter3d": [
           {
            "line": {
             "colorbar": {
              "outlinewidth": 0,
              "ticks": ""
             }
            },
            "marker": {
             "colorbar": {
              "outlinewidth": 0,
              "ticks": ""
             }
            },
            "type": "scatter3d"
           }
          ],
          "scattercarpet": [
           {
            "marker": {
             "colorbar": {
              "outlinewidth": 0,
              "ticks": ""
             }
            },
            "type": "scattercarpet"
           }
          ],
          "scattergeo": [
           {
            "marker": {
             "colorbar": {
              "outlinewidth": 0,
              "ticks": ""
             }
            },
            "type": "scattergeo"
           }
          ],
          "scattergl": [
           {
            "marker": {
             "colorbar": {
              "outlinewidth": 0,
              "ticks": ""
             }
            },
            "type": "scattergl"
           }
          ],
          "scattermapbox": [
           {
            "marker": {
             "colorbar": {
              "outlinewidth": 0,
              "ticks": ""
             }
            },
            "type": "scattermapbox"
           }
          ],
          "scatterpolar": [
           {
            "marker": {
             "colorbar": {
              "outlinewidth": 0,
              "ticks": ""
             }
            },
            "type": "scatterpolar"
           }
          ],
          "scatterpolargl": [
           {
            "marker": {
             "colorbar": {
              "outlinewidth": 0,
              "ticks": ""
             }
            },
            "type": "scatterpolargl"
           }
          ],
          "scatterternary": [
           {
            "marker": {
             "colorbar": {
              "outlinewidth": 0,
              "ticks": ""
             }
            },
            "type": "scatterternary"
           }
          ],
          "surface": [
           {
            "colorbar": {
             "outlinewidth": 0,
             "ticks": ""
            },
            "colorscale": [
             [
              0,
              "#0d0887"
             ],
             [
              0.1111111111111111,
              "#46039f"
             ],
             [
              0.2222222222222222,
              "#7201a8"
             ],
             [
              0.3333333333333333,
              "#9c179e"
             ],
             [
              0.4444444444444444,
              "#bd3786"
             ],
             [
              0.5555555555555556,
              "#d8576b"
             ],
             [
              0.6666666666666666,
              "#ed7953"
             ],
             [
              0.7777777777777778,
              "#fb9f3a"
             ],
             [
              0.8888888888888888,
              "#fdca26"
             ],
             [
              1,
              "#f0f921"
             ]
            ],
            "type": "surface"
           }
          ],
          "table": [
           {
            "cells": {
             "fill": {
              "color": "#EBF0F8"
             },
             "line": {
              "color": "white"
             }
            },
            "header": {
             "fill": {
              "color": "#C8D4E3"
             },
             "line": {
              "color": "white"
             }
            },
            "type": "table"
           }
          ]
         },
         "layout": {
          "annotationdefaults": {
           "arrowcolor": "#2a3f5f",
           "arrowhead": 0,
           "arrowwidth": 1
          },
          "autotypenumbers": "strict",
          "coloraxis": {
           "colorbar": {
            "outlinewidth": 0,
            "ticks": ""
           }
          },
          "colorscale": {
           "diverging": [
            [
             0,
             "#8e0152"
            ],
            [
             0.1,
             "#c51b7d"
            ],
            [
             0.2,
             "#de77ae"
            ],
            [
             0.3,
             "#f1b6da"
            ],
            [
             0.4,
             "#fde0ef"
            ],
            [
             0.5,
             "#f7f7f7"
            ],
            [
             0.6,
             "#e6f5d0"
            ],
            [
             0.7,
             "#b8e186"
            ],
            [
             0.8,
             "#7fbc41"
            ],
            [
             0.9,
             "#4d9221"
            ],
            [
             1,
             "#276419"
            ]
           ],
           "sequential": [
            [
             0,
             "#0d0887"
            ],
            [
             0.1111111111111111,
             "#46039f"
            ],
            [
             0.2222222222222222,
             "#7201a8"
            ],
            [
             0.3333333333333333,
             "#9c179e"
            ],
            [
             0.4444444444444444,
             "#bd3786"
            ],
            [
             0.5555555555555556,
             "#d8576b"
            ],
            [
             0.6666666666666666,
             "#ed7953"
            ],
            [
             0.7777777777777778,
             "#fb9f3a"
            ],
            [
             0.8888888888888888,
             "#fdca26"
            ],
            [
             1,
             "#f0f921"
            ]
           ],
           "sequentialminus": [
            [
             0,
             "#0d0887"
            ],
            [
             0.1111111111111111,
             "#46039f"
            ],
            [
             0.2222222222222222,
             "#7201a8"
            ],
            [
             0.3333333333333333,
             "#9c179e"
            ],
            [
             0.4444444444444444,
             "#bd3786"
            ],
            [
             0.5555555555555556,
             "#d8576b"
            ],
            [
             0.6666666666666666,
             "#ed7953"
            ],
            [
             0.7777777777777778,
             "#fb9f3a"
            ],
            [
             0.8888888888888888,
             "#fdca26"
            ],
            [
             1,
             "#f0f921"
            ]
           ]
          },
          "colorway": [
           "#636efa",
           "#EF553B",
           "#00cc96",
           "#ab63fa",
           "#FFA15A",
           "#19d3f3",
           "#FF6692",
           "#B6E880",
           "#FF97FF",
           "#FECB52"
          ],
          "font": {
           "color": "#2a3f5f"
          },
          "geo": {
           "bgcolor": "white",
           "lakecolor": "white",
           "landcolor": "#E5ECF6",
           "showlakes": true,
           "showland": true,
           "subunitcolor": "white"
          },
          "hoverlabel": {
           "align": "left"
          },
          "hovermode": "closest",
          "mapbox": {
           "style": "light"
          },
          "paper_bgcolor": "white",
          "plot_bgcolor": "#E5ECF6",
          "polar": {
           "angularaxis": {
            "gridcolor": "white",
            "linecolor": "white",
            "ticks": ""
           },
           "bgcolor": "#E5ECF6",
           "radialaxis": {
            "gridcolor": "white",
            "linecolor": "white",
            "ticks": ""
           }
          },
          "scene": {
           "xaxis": {
            "backgroundcolor": "#E5ECF6",
            "gridcolor": "white",
            "gridwidth": 2,
            "linecolor": "white",
            "showbackground": true,
            "ticks": "",
            "zerolinecolor": "white"
           },
           "yaxis": {
            "backgroundcolor": "#E5ECF6",
            "gridcolor": "white",
            "gridwidth": 2,
            "linecolor": "white",
            "showbackground": true,
            "ticks": "",
            "zerolinecolor": "white"
           },
           "zaxis": {
            "backgroundcolor": "#E5ECF6",
            "gridcolor": "white",
            "gridwidth": 2,
            "linecolor": "white",
            "showbackground": true,
            "ticks": "",
            "zerolinecolor": "white"
           }
          },
          "shapedefaults": {
           "line": {
            "color": "#2a3f5f"
           }
          },
          "ternary": {
           "aaxis": {
            "gridcolor": "white",
            "linecolor": "white",
            "ticks": ""
           },
           "baxis": {
            "gridcolor": "white",
            "linecolor": "white",
            "ticks": ""
           },
           "bgcolor": "#E5ECF6",
           "caxis": {
            "gridcolor": "white",
            "linecolor": "white",
            "ticks": ""
           }
          },
          "title": {
           "x": 0.05
          },
          "xaxis": {
           "automargin": true,
           "gridcolor": "white",
           "linecolor": "white",
           "ticks": "",
           "title": {
            "standoff": 15
           },
           "zerolinecolor": "white",
           "zerolinewidth": 2
          },
          "yaxis": {
           "automargin": true,
           "gridcolor": "white",
           "linecolor": "white",
           "ticks": "",
           "title": {
            "standoff": 15
           },
           "zerolinecolor": "white",
           "zerolinewidth": 2
          }
         }
        },
        "title": {
         "font": {
          "color": "#4D5663"
         }
        },
        "xaxis": {
         "gridcolor": "#E1E5ED",
         "showgrid": true,
         "tickfont": {
          "color": "#4D5663"
         },
         "title": {
          "font": {
           "color": "#4D5663"
          },
          "text": ""
         },
         "zerolinecolor": "#E1E5ED"
        },
        "xaxis2": {
         "anchor": "y2",
         "gridcolor": "#E1E5ED",
         "showgrid": true,
         "showticklabels": false,
         "tickfont": {
          "color": "#4D5663"
         },
         "title": {
          "font": {
           "color": "#4D5663"
          },
          "text": ""
         },
         "zerolinecolor": "#E1E5ED"
        },
        "yaxis": {
         "domain": [
          0.3,
          1
         ],
         "gridcolor": "#E1E5ED",
         "showgrid": true,
         "tickfont": {
          "color": "#4D5663"
         },
         "title": {
          "font": {
           "color": "#4D5663"
          },
          "text": ""
         },
         "zerolinecolor": "#E1E5ED"
        },
        "yaxis2": {
         "domain": [
          0,
          0.25
         ],
         "gridcolor": "#E1E5ED",
         "showgrid": true,
         "tickfont": {
          "color": "#4D5663"
         },
         "title": {
          "font": {
           "color": "#4D5663"
          },
          "text": "Spread"
         },
         "zerolinecolor": "#E1E5ED"
        }
       }
      },
      "text/html": [
       "<div>                            <div id=\"6c0a09b0-df88-417e-8e23-8980a0c17e45\" class=\"plotly-graph-div\" style=\"height:525px; width:100%;\"></div>            <script type=\"text/javascript\">                require([\"plotly\"], function(Plotly) {                    window.PLOTLYENV=window.PLOTLYENV || {};\n",
       "                    window.PLOTLYENV.BASE_URL='https://plot.ly';                                    if (document.getElementById(\"6c0a09b0-df88-417e-8e23-8980a0c17e45\")) {                    Plotly.newPlot(                        \"6c0a09b0-df88-417e-8e23-8980a0c17e45\",                        [{\"line\":{\"color\":\"rgba(255, 153, 51, 1.0)\",\"dash\":\"solid\",\"shape\":\"linear\",\"width\":1.3},\"mode\":\"lines\",\"name\":\"A\",\"text\":\"\",\"x\":[0,1,2,3,4,5,6,7,8,9,10,11,12,13,14,15,16,17,18,19,20,21,22,23,24,25,26,27,28,29,30,31,32,33,34,35,36,37,38,39,40,41,42,43,44,45,46,47,48,49,50,51,52,53,54,55,56,57,58,59,60,61,62,63,64,65,66,67,68,69,70,71,72,73,74,75,76,77,78,79,80,81,82,83,84,85,86,87,88,89,90,91,92,93,94,95,96,97,98,99],\"y\":[0.43576161330137125,0.0392002026600367,-0.0828096051226737,-0.06899993842236976,-0.7445185078343501,-0.5818104718774442,0.20812256881462257,1.5771047203879411,-0.6229410571707626,-0.2542553127090784,-0.8616883603461633,-0.6882323696812119,1.6091381292540365,-0.08960730935903875,1.477667203229447,-1.1289770047232348,-0.37757591613281366,-0.9555659233157126,-0.8716190463369677,2.3343739223771967,-0.5804185512560397,-0.34512219064872196,1.0009426139151563,-0.03638635948039409,-0.4795511213004423,-0.38710379078114443,-0.5982291373045885,0.8057103455189922,0.07653649862068276,1.8789206942278476,-1.9870408379249231,-1.2534934267964573,1.1424388929052163,-0.19667780218489977,0.6672725785699418,0.22197020125418726,0.40375610544655427,0.790455120710436,0.47759724675807447,1.188441738310553,2.5966130677908876,-0.6307284045262942,0.07962977335776215,0.3075091604528683,-1.4964756673073725,-0.12521366306897264,-1.2358732389987421,-0.2360811692397413,-2.282498392530906,0.7428373771981449,-0.6288414109073985,0.6230290519320041,0.716991257672416,0.2741062424132256,0.9315691700047641,2.246444132120593,-0.09798021170589394,-1.4133581682943,0.27061743914078784,0.5896664688392396,0.049326040185358244,-1.6878301432568965,-2.048608617619134,0.44524418456960363,-0.9380811961782093,-1.88596316407578,0.6201094070399932,-1.5569988864741955,-0.5969142673083347,1.7125329163547705,2.0185871649641642,-1.2330424798204571,1.2660998430994834,0.4475507802687231,-0.808620887480285,-0.17552478952105183,-1.0126133692310482,-3.675695561961809,0.028560931347580483,1.92983422047473,0.35556609859758814,-0.06511288145789168,-0.25838345482305736,-1.2400752553123529,-0.34078316151973576,0.5430289046145775,-0.8056959136889844,1.6300090038319708,0.1558133548094795,0.09620023351258908,-0.7846317882449255,-2.5182101025471333,0.5562799597495309,0.16046651940046647,-0.21954404954103748,-0.32808367130031724,0.7209387084058826,-0.0345397981985188,-0.09495490706369364,-0.8910145283144787],\"type\":\"scatter\"},{\"line\":{\"color\":\"rgba(55, 128, 191, 1.0)\",\"dash\":\"solid\",\"shape\":\"linear\",\"width\":1.3},\"mode\":\"lines\",\"name\":\"B\",\"text\":\"\",\"x\":[0,1,2,3,4,5,6,7,8,9,10,11,12,13,14,15,16,17,18,19,20,21,22,23,24,25,26,27,28,29,30,31,32,33,34,35,36,37,38,39,40,41,42,43,44,45,46,47,48,49,50,51,52,53,54,55,56,57,58,59,60,61,62,63,64,65,66,67,68,69,70,71,72,73,74,75,76,77,78,79,80,81,82,83,84,85,86,87,88,89,90,91,92,93,94,95,96,97,98,99],\"y\":[0.7470965589601339,-1.5219044668573725,-0.09809943298661565,-1.250222948666942,-0.698474158306239,0.9150731563300875,-1.7165979226019592,-1.2451154557852744,-0.4204666686443543,-0.0012794767147798895,-0.261186490901393,-0.3538924472485142,1.9908666564163198,0.851133799942738,1.5852483356617322,0.9124402543743519,0.5349719533559576,-0.7486594206111689,0.4215163263542885,-0.477420154232497,0.7682913569156996,1.1072895097909077,2.054407350902693,1.6175776756957496,0.5611477786926051,1.4031946166589802,-1.0167138268528113,0.19646954503078082,0.945974554393974,0.9408949156430599,1.1413517627554308,-0.1357448260510389,-0.04351760173125842,-0.8512903450571877,0.91744346009552,-0.1542511662085185,0.7063318506651899,-0.3031156931539478,-1.6443563957714007,1.2650837687557859,-0.8311250713611842,0.13834368861202084,0.31895857306174547,-0.5449946250740695,-3.262605243961339,-1.418654021604739,1.7861024688943528,0.6224571859649373,0.09101051584656397,0.6521919226727627,1.3058238267837332,-1.0018932539119865,0.36743339504271666,0.7195461980329014,-0.7852233456105248,-0.5934846408673413,-1.8222702027000843,-0.6168587967023298,-0.5414383002922646,-0.5421020917700555,0.12406293568327871,2.325695325282169,-0.3056098266005972,-1.2400002200650149,-0.7547227374480309,0.053572223237500154,1.209431097011376,2.2161223547948716,-0.42419252357043197,0.47008337374490233,-1.2385983525496629,0.4083282423594256,1.1018396289990668,-1.3439267263174357,-1.2148010375833018,1.378503549128289,-0.865442571080681,1.4981255490911167,0.5268652709491807,-0.5864705000603173,-0.03251046298779092,-1.657971247262324,0.5387740305912381,0.33891930104974144,-0.017631905464170265,0.235035832459136,-0.22302903550297953,-0.42911270255814304,0.45012009799066305,-0.9780296593173486,-0.11851579616469118,1.047681204062073,0.9889001376060471,1.3966008775466294,0.09077097106105908,1.3376388975447437,-0.2036133802195914,-0.11638871633048702,-0.054452121594433106,0.382117572004654],\"type\":\"scatter\"},{\"connectgaps\":false,\"fill\":\"tozeroy\",\"line\":{\"color\":\"green\",\"dash\":\"solid\",\"shape\":\"linear\",\"width\":0.5},\"mode\":\"lines\",\"name\":\"Spread\",\"showlegend\":false,\"x\":[0,1,2,3,4,5,6,7,8,9,10,11,12,13,14,15,16,17,18,19,20,21,22,23,24,25,26,27,28,29,30,31,32,33,34,35,36,37,38,39,40,41,42,43,44,45,46,47,48,49,50,51,52,53,54,55,56,57,58,59,60,61,62,63,64,65,66,67,68,69,70,71,72,73,74,75,76,77,78,79,80,81,82,83,84,85,86,87,88,89,90,91,92,93,94,95,96,97,98,99],\"xaxis\":\"x2\",\"y\":[\"\",1.5611046695174091,0.015289827863941952,1.1812230102445722,\"\",\"\",1.9247204914165819,2.8222201761732153,\"\",\"\",\"\",\"\",\"\",\"\",\"\",\"\",\"\",\"\",\"\",2.8117940766096936,\"\",\"\",\"\",\"\",\"\",\"\",0.4184846895482228,0.6092408004882114,\"\",0.9380257785847876,\"\",\"\",1.1859564946364747,0.654612542872288,\"\",0.37622136746270574,\"\",1.0935708138643838,2.1219536425294754,\"\",3.427738139152072,\"\",\"\",0.8525037855269377,1.7661295766539664,1.2934403585357663,\"\",\"\",\"\",0.0906454545253822,\"\",1.6249223058439906,0.34955786262969935,\"\",1.716792515615289,2.8399287729879346,1.7242899909941904,\"\",0.8120557394330524,1.131768560609295,\"\",\"\",\"\",1.6852444046346184,\"\",\"\",\"\",\"\",\"\",1.242449542609868,3.257185517513827,\"\",0.16426021410041658,1.7914775065861588,0.4061801501030168,\"\",\"\",\"\",\"\",2.5163047205350475,0.38807656158537907,1.5928583658044324,\"\",\"\",\"\",0.3079930721554415,\"\",2.0591217063901137,\"\",1.0742298928299376,\"\",\"\",\"\",\"\",\"\",\"\",0.924552088625474,0.0818489181319682,\"\",\"\"],\"yaxis\":\"y2\",\"type\":\"scatter\"},{\"connectgaps\":false,\"fill\":\"tozeroy\",\"line\":{\"color\":\"red\",\"dash\":\"solid\",\"shape\":\"linear\",\"width\":0.5},\"mode\":\"lines\",\"name\":\"Spread\",\"showlegend\":false,\"x\":[0,1,2,3,4,5,6,7,8,9,10,11,12,13,14,15,16,17,18,19,20,21,22,23,24,25,26,27,28,29,30,31,32,33,34,35,36,37,38,39,40,41,42,43,44,45,46,47,48,49,50,51,52,53,54,55,56,57,58,59,60,61,62,63,64,65,66,67,68,69,70,71,72,73,74,75,76,77,78,79,80,81,82,83,84,85,86,87,88,89,90,91,92,93,94,95,96,97,98,99],\"xaxis\":\"x2\",\"y\":[-0.3113349456587627,\"\",\"\",\"\",-0.046044349528111095,-1.4968836282075317,\"\",\"\",-0.20247438852640837,-0.2529758359942985,-0.6005018694447702,-0.3343399224326977,-0.3817285271622832,-0.9407411093017767,-0.10758113243228529,-2.041417259097587,-0.9125478694887712,-0.2069065027045437,-1.2931353726912562,\"\",-1.3487099081717393,-1.4524117004396295,-1.0534647369875367,-1.6539640351761438,-1.0406988999930475,-1.7902984074401247,\"\",\"\",-0.8694380557732913,\"\",-3.128392600680354,-1.1177486007454183,\"\",\"\",-0.2501708815255782,\"\",-0.3025757452186356,\"\",\"\",-0.07664203044523288,\"\",-0.769072093138315,-0.2393287997039833,\"\",\"\",\"\",-3.0219757078930947,-0.8585383552046786,-2.37350890837747,\"\",-1.9346652376911317,\"\",\"\",-0.4454399556196758,\"\",\"\",\"\",-0.7964993715919702,\"\",\"\",-0.07473689549792047,-4.013525468539065,-1.7429987910185365,\"\",-0.18335845873017842,-1.9395353873132801,-0.5893216899713828,-3.773121241269067,-0.17272174373790278,\"\",\"\",-1.6413707221798828,\"\",\"\",\"\",-1.554028338649341,-0.14717079815036715,-5.173821111052925,-0.4983043396016002,\"\",\"\",\"\",-0.7971574854142954,-1.5789945563620944,-0.3231512560555655,\"\",-0.5826668781860049,\"\",-0.29430674318118355,\"\",-0.6661159920802343,-3.565891306609206,-0.4326201778565162,-1.236134358146163,-0.3103150206020966,-1.665722568845061,\"\",\"\",-0.04050278546926053,-1.2731321003191327],\"yaxis\":\"y2\",\"type\":\"scatter\"}],                        {\"hovermode\":\"x\",\"legend\":{\"bgcolor\":\"#F5F6F9\",\"font\":{\"color\":\"#4D5663\"}},\"paper_bgcolor\":\"#F5F6F9\",\"plot_bgcolor\":\"#F5F6F9\",\"template\":{\"data\":{\"barpolar\":[{\"marker\":{\"line\":{\"color\":\"#E5ECF6\",\"width\":0.5},\"pattern\":{\"fillmode\":\"overlay\",\"size\":10,\"solidity\":0.2}},\"type\":\"barpolar\"}],\"bar\":[{\"error_x\":{\"color\":\"#2a3f5f\"},\"error_y\":{\"color\":\"#2a3f5f\"},\"marker\":{\"line\":{\"color\":\"#E5ECF6\",\"width\":0.5},\"pattern\":{\"fillmode\":\"overlay\",\"size\":10,\"solidity\":0.2}},\"type\":\"bar\"}],\"carpet\":[{\"aaxis\":{\"endlinecolor\":\"#2a3f5f\",\"gridcolor\":\"white\",\"linecolor\":\"white\",\"minorgridcolor\":\"white\",\"startlinecolor\":\"#2a3f5f\"},\"baxis\":{\"endlinecolor\":\"#2a3f5f\",\"gridcolor\":\"white\",\"linecolor\":\"white\",\"minorgridcolor\":\"white\",\"startlinecolor\":\"#2a3f5f\"},\"type\":\"carpet\"}],\"choropleth\":[{\"colorbar\":{\"outlinewidth\":0,\"ticks\":\"\"},\"type\":\"choropleth\"}],\"contourcarpet\":[{\"colorbar\":{\"outlinewidth\":0,\"ticks\":\"\"},\"type\":\"contourcarpet\"}],\"contour\":[{\"colorbar\":{\"outlinewidth\":0,\"ticks\":\"\"},\"colorscale\":[[0.0,\"#0d0887\"],[0.1111111111111111,\"#46039f\"],[0.2222222222222222,\"#7201a8\"],[0.3333333333333333,\"#9c179e\"],[0.4444444444444444,\"#bd3786\"],[0.5555555555555556,\"#d8576b\"],[0.6666666666666666,\"#ed7953\"],[0.7777777777777778,\"#fb9f3a\"],[0.8888888888888888,\"#fdca26\"],[1.0,\"#f0f921\"]],\"type\":\"contour\"}],\"heatmapgl\":[{\"colorbar\":{\"outlinewidth\":0,\"ticks\":\"\"},\"colorscale\":[[0.0,\"#0d0887\"],[0.1111111111111111,\"#46039f\"],[0.2222222222222222,\"#7201a8\"],[0.3333333333333333,\"#9c179e\"],[0.4444444444444444,\"#bd3786\"],[0.5555555555555556,\"#d8576b\"],[0.6666666666666666,\"#ed7953\"],[0.7777777777777778,\"#fb9f3a\"],[0.8888888888888888,\"#fdca26\"],[1.0,\"#f0f921\"]],\"type\":\"heatmapgl\"}],\"heatmap\":[{\"colorbar\":{\"outlinewidth\":0,\"ticks\":\"\"},\"colorscale\":[[0.0,\"#0d0887\"],[0.1111111111111111,\"#46039f\"],[0.2222222222222222,\"#7201a8\"],[0.3333333333333333,\"#9c179e\"],[0.4444444444444444,\"#bd3786\"],[0.5555555555555556,\"#d8576b\"],[0.6666666666666666,\"#ed7953\"],[0.7777777777777778,\"#fb9f3a\"],[0.8888888888888888,\"#fdca26\"],[1.0,\"#f0f921\"]],\"type\":\"heatmap\"}],\"histogram2dcontour\":[{\"colorbar\":{\"outlinewidth\":0,\"ticks\":\"\"},\"colorscale\":[[0.0,\"#0d0887\"],[0.1111111111111111,\"#46039f\"],[0.2222222222222222,\"#7201a8\"],[0.3333333333333333,\"#9c179e\"],[0.4444444444444444,\"#bd3786\"],[0.5555555555555556,\"#d8576b\"],[0.6666666666666666,\"#ed7953\"],[0.7777777777777778,\"#fb9f3a\"],[0.8888888888888888,\"#fdca26\"],[1.0,\"#f0f921\"]],\"type\":\"histogram2dcontour\"}],\"histogram2d\":[{\"colorbar\":{\"outlinewidth\":0,\"ticks\":\"\"},\"colorscale\":[[0.0,\"#0d0887\"],[0.1111111111111111,\"#46039f\"],[0.2222222222222222,\"#7201a8\"],[0.3333333333333333,\"#9c179e\"],[0.4444444444444444,\"#bd3786\"],[0.5555555555555556,\"#d8576b\"],[0.6666666666666666,\"#ed7953\"],[0.7777777777777778,\"#fb9f3a\"],[0.8888888888888888,\"#fdca26\"],[1.0,\"#f0f921\"]],\"type\":\"histogram2d\"}],\"histogram\":[{\"marker\":{\"pattern\":{\"fillmode\":\"overlay\",\"size\":10,\"solidity\":0.2}},\"type\":\"histogram\"}],\"mesh3d\":[{\"colorbar\":{\"outlinewidth\":0,\"ticks\":\"\"},\"type\":\"mesh3d\"}],\"parcoords\":[{\"line\":{\"colorbar\":{\"outlinewidth\":0,\"ticks\":\"\"}},\"type\":\"parcoords\"}],\"pie\":[{\"automargin\":true,\"type\":\"pie\"}],\"scatter3d\":[{\"line\":{\"colorbar\":{\"outlinewidth\":0,\"ticks\":\"\"}},\"marker\":{\"colorbar\":{\"outlinewidth\":0,\"ticks\":\"\"}},\"type\":\"scatter3d\"}],\"scattercarpet\":[{\"marker\":{\"colorbar\":{\"outlinewidth\":0,\"ticks\":\"\"}},\"type\":\"scattercarpet\"}],\"scattergeo\":[{\"marker\":{\"colorbar\":{\"outlinewidth\":0,\"ticks\":\"\"}},\"type\":\"scattergeo\"}],\"scattergl\":[{\"marker\":{\"colorbar\":{\"outlinewidth\":0,\"ticks\":\"\"}},\"type\":\"scattergl\"}],\"scattermapbox\":[{\"marker\":{\"colorbar\":{\"outlinewidth\":0,\"ticks\":\"\"}},\"type\":\"scattermapbox\"}],\"scatterpolargl\":[{\"marker\":{\"colorbar\":{\"outlinewidth\":0,\"ticks\":\"\"}},\"type\":\"scatterpolargl\"}],\"scatterpolar\":[{\"marker\":{\"colorbar\":{\"outlinewidth\":0,\"ticks\":\"\"}},\"type\":\"scatterpolar\"}],\"scatter\":[{\"marker\":{\"colorbar\":{\"outlinewidth\":0,\"ticks\":\"\"}},\"type\":\"scatter\"}],\"scatterternary\":[{\"marker\":{\"colorbar\":{\"outlinewidth\":0,\"ticks\":\"\"}},\"type\":\"scatterternary\"}],\"surface\":[{\"colorbar\":{\"outlinewidth\":0,\"ticks\":\"\"},\"colorscale\":[[0.0,\"#0d0887\"],[0.1111111111111111,\"#46039f\"],[0.2222222222222222,\"#7201a8\"],[0.3333333333333333,\"#9c179e\"],[0.4444444444444444,\"#bd3786\"],[0.5555555555555556,\"#d8576b\"],[0.6666666666666666,\"#ed7953\"],[0.7777777777777778,\"#fb9f3a\"],[0.8888888888888888,\"#fdca26\"],[1.0,\"#f0f921\"]],\"type\":\"surface\"}],\"table\":[{\"cells\":{\"fill\":{\"color\":\"#EBF0F8\"},\"line\":{\"color\":\"white\"}},\"header\":{\"fill\":{\"color\":\"#C8D4E3\"},\"line\":{\"color\":\"white\"}},\"type\":\"table\"}]},\"layout\":{\"annotationdefaults\":{\"arrowcolor\":\"#2a3f5f\",\"arrowhead\":0,\"arrowwidth\":1},\"autotypenumbers\":\"strict\",\"coloraxis\":{\"colorbar\":{\"outlinewidth\":0,\"ticks\":\"\"}},\"colorscale\":{\"diverging\":[[0,\"#8e0152\"],[0.1,\"#c51b7d\"],[0.2,\"#de77ae\"],[0.3,\"#f1b6da\"],[0.4,\"#fde0ef\"],[0.5,\"#f7f7f7\"],[0.6,\"#e6f5d0\"],[0.7,\"#b8e186\"],[0.8,\"#7fbc41\"],[0.9,\"#4d9221\"],[1,\"#276419\"]],\"sequential\":[[0.0,\"#0d0887\"],[0.1111111111111111,\"#46039f\"],[0.2222222222222222,\"#7201a8\"],[0.3333333333333333,\"#9c179e\"],[0.4444444444444444,\"#bd3786\"],[0.5555555555555556,\"#d8576b\"],[0.6666666666666666,\"#ed7953\"],[0.7777777777777778,\"#fb9f3a\"],[0.8888888888888888,\"#fdca26\"],[1.0,\"#f0f921\"]],\"sequentialminus\":[[0.0,\"#0d0887\"],[0.1111111111111111,\"#46039f\"],[0.2222222222222222,\"#7201a8\"],[0.3333333333333333,\"#9c179e\"],[0.4444444444444444,\"#bd3786\"],[0.5555555555555556,\"#d8576b\"],[0.6666666666666666,\"#ed7953\"],[0.7777777777777778,\"#fb9f3a\"],[0.8888888888888888,\"#fdca26\"],[1.0,\"#f0f921\"]]},\"colorway\":[\"#636efa\",\"#EF553B\",\"#00cc96\",\"#ab63fa\",\"#FFA15A\",\"#19d3f3\",\"#FF6692\",\"#B6E880\",\"#FF97FF\",\"#FECB52\"],\"font\":{\"color\":\"#2a3f5f\"},\"geo\":{\"bgcolor\":\"white\",\"lakecolor\":\"white\",\"landcolor\":\"#E5ECF6\",\"showlakes\":true,\"showland\":true,\"subunitcolor\":\"white\"},\"hoverlabel\":{\"align\":\"left\"},\"hovermode\":\"closest\",\"mapbox\":{\"style\":\"light\"},\"paper_bgcolor\":\"white\",\"plot_bgcolor\":\"#E5ECF6\",\"polar\":{\"angularaxis\":{\"gridcolor\":\"white\",\"linecolor\":\"white\",\"ticks\":\"\"},\"bgcolor\":\"#E5ECF6\",\"radialaxis\":{\"gridcolor\":\"white\",\"linecolor\":\"white\",\"ticks\":\"\"}},\"scene\":{\"xaxis\":{\"backgroundcolor\":\"#E5ECF6\",\"gridcolor\":\"white\",\"gridwidth\":2,\"linecolor\":\"white\",\"showbackground\":true,\"ticks\":\"\",\"zerolinecolor\":\"white\"},\"yaxis\":{\"backgroundcolor\":\"#E5ECF6\",\"gridcolor\":\"white\",\"gridwidth\":2,\"linecolor\":\"white\",\"showbackground\":true,\"ticks\":\"\",\"zerolinecolor\":\"white\"},\"zaxis\":{\"backgroundcolor\":\"#E5ECF6\",\"gridcolor\":\"white\",\"gridwidth\":2,\"linecolor\":\"white\",\"showbackground\":true,\"ticks\":\"\",\"zerolinecolor\":\"white\"}},\"shapedefaults\":{\"line\":{\"color\":\"#2a3f5f\"}},\"ternary\":{\"aaxis\":{\"gridcolor\":\"white\",\"linecolor\":\"white\",\"ticks\":\"\"},\"baxis\":{\"gridcolor\":\"white\",\"linecolor\":\"white\",\"ticks\":\"\"},\"bgcolor\":\"#E5ECF6\",\"caxis\":{\"gridcolor\":\"white\",\"linecolor\":\"white\",\"ticks\":\"\"}},\"title\":{\"x\":0.05},\"xaxis\":{\"automargin\":true,\"gridcolor\":\"white\",\"linecolor\":\"white\",\"ticks\":\"\",\"title\":{\"standoff\":15},\"zerolinecolor\":\"white\",\"zerolinewidth\":2},\"yaxis\":{\"automargin\":true,\"gridcolor\":\"white\",\"linecolor\":\"white\",\"ticks\":\"\",\"title\":{\"standoff\":15},\"zerolinecolor\":\"white\",\"zerolinewidth\":2}}},\"title\":{\"font\":{\"color\":\"#4D5663\"}},\"xaxis\":{\"gridcolor\":\"#E1E5ED\",\"showgrid\":true,\"tickfont\":{\"color\":\"#4D5663\"},\"title\":{\"font\":{\"color\":\"#4D5663\"},\"text\":\"\"},\"zerolinecolor\":\"#E1E5ED\"},\"yaxis\":{\"domain\":[0.3,1],\"gridcolor\":\"#E1E5ED\",\"showgrid\":true,\"tickfont\":{\"color\":\"#4D5663\"},\"title\":{\"font\":{\"color\":\"#4D5663\"},\"text\":\"\"},\"zerolinecolor\":\"#E1E5ED\"},\"yaxis2\":{\"domain\":[0,0.25],\"gridcolor\":\"#E1E5ED\",\"showgrid\":true,\"tickfont\":{\"color\":\"#4D5663\"},\"title\":{\"font\":{\"color\":\"#4D5663\"},\"text\":\"Spread\"},\"zerolinecolor\":\"#E1E5ED\"},\"xaxis2\":{\"anchor\":\"y2\",\"gridcolor\":\"#E1E5ED\",\"showgrid\":true,\"showticklabels\":false,\"tickfont\":{\"color\":\"#4D5663\"},\"title\":{\"font\":{\"color\":\"#4D5663\"},\"text\":\"\"},\"zerolinecolor\":\"#E1E5ED\"}},                        {\"showLink\": true, \"linkText\": \"Export to plot.ly\", \"plotlyServerURL\": \"https://plot.ly\", \"responsive\": true}                    ).then(function(){\n",
       "                            \n",
       "var gd = document.getElementById('6c0a09b0-df88-417e-8e23-8980a0c17e45');\n",
       "var x = new MutationObserver(function (mutations, observer) {{\n",
       "        var display = window.getComputedStyle(gd).display;\n",
       "        if (!display || display === 'none') {{\n",
       "            console.log([gd, 'removed!']);\n",
       "            Plotly.purge(gd);\n",
       "            observer.disconnect();\n",
       "        }}\n",
       "}});\n",
       "\n",
       "// Listen for the removal of the full notebook cells\n",
       "var notebookContainer = gd.closest('#notebook-container');\n",
       "if (notebookContainer) {{\n",
       "    x.observe(notebookContainer, {childList: true});\n",
       "}}\n",
       "\n",
       "// Listen for the clearing of the current output cell\n",
       "var outputEl = gd.closest('.output');\n",
       "if (outputEl) {{\n",
       "    x.observe(outputEl, {childList: true});\n",
       "}}\n",
       "\n",
       "                        })                };                });            </script>        </div>"
      ]
     },
     "metadata": {},
     "output_type": "display_data"
    }
   ],
   "source": [
    "df[['A','B']].iplot(kind='spread')"
   ]
  },
  {
   "cell_type": "code",
   "execution_count": 39,
   "metadata": {},
   "outputs": [
    {
     "data": {
      "application/vnd.plotly.v1+json": {
       "config": {
        "linkText": "Export to plot.ly",
        "plotlyServerURL": "https://plot.ly",
        "showLink": true
       },
       "data": [
        {
         "marker": {
          "color": [
           "rgb(255, 153, 51)",
           "rgb(55, 128, 191)",
           "rgb(50, 171, 96)",
           "rgb(128, 0, 128)",
           "rgb(219, 64, 82)",
           "rgb(0, 128, 128)",
           "rgb(255, 255, 51)",
           "rgb(128, 128, 0)",
           "rgb(251, 128, 114)",
           "rgb(128, 177, 211)"
          ],
          "line": {
           "width": 1.3
          },
          "size": [
           67,
           66,
           49,
           62,
           32,
           77,
           29,
           77,
           41,
           102,
           34,
           74,
           29,
           66,
           54,
           61,
           20,
           85,
           63,
           50,
           34,
           81,
           44,
           86,
           77,
           30,
           77,
           60,
           83,
           91,
           38,
           43,
           25,
           41,
           69,
           61,
           81,
           44,
           56,
           87,
           69,
           49,
           44,
           61,
           28,
           99,
           19,
           37,
           16,
           45,
           22,
           94,
           58,
           62,
           49,
           67,
           49,
           54,
           70,
           93,
           76,
           56,
           42,
           58,
           87,
           12,
           112,
           65,
           34,
           61,
           80,
           85,
           45,
           57,
           32,
           54,
           33,
           93,
           71,
           68,
           26,
           94,
           45,
           56,
           75,
           68,
           51,
           84,
           82,
           61,
           50,
           99,
           21,
           51,
           32,
           38,
           32,
           65,
           53,
           62
          ],
          "symbol": "circle"
         },
         "mode": "markers",
         "text": "",
         "type": "scatter",
         "x": [
          0.43576161330137125,
          0.0392002026600367,
          -0.0828096051226737,
          -0.06899993842236976,
          -0.7445185078343501,
          -0.5818104718774442,
          0.20812256881462257,
          1.5771047203879411,
          -0.6229410571707626,
          -0.2542553127090784,
          -0.8616883603461633,
          -0.6882323696812119,
          1.6091381292540365,
          -0.08960730935903875,
          1.477667203229447,
          -1.1289770047232348,
          -0.37757591613281366,
          -0.9555659233157126,
          -0.8716190463369677,
          2.3343739223771967,
          -0.5804185512560397,
          -0.34512219064872196,
          1.0009426139151563,
          -0.03638635948039409,
          -0.4795511213004423,
          -0.38710379078114443,
          -0.5982291373045885,
          0.8057103455189922,
          0.07653649862068276,
          1.8789206942278476,
          -1.9870408379249231,
          -1.2534934267964573,
          1.1424388929052163,
          -0.19667780218489977,
          0.6672725785699418,
          0.22197020125418726,
          0.40375610544655427,
          0.790455120710436,
          0.47759724675807447,
          1.188441738310553,
          2.5966130677908876,
          -0.6307284045262942,
          0.07962977335776215,
          0.3075091604528683,
          -1.4964756673073725,
          -0.12521366306897264,
          -1.2358732389987421,
          -0.2360811692397413,
          -2.282498392530906,
          0.7428373771981449,
          -0.6288414109073985,
          0.6230290519320041,
          0.716991257672416,
          0.2741062424132256,
          0.9315691700047641,
          2.246444132120593,
          -0.09798021170589394,
          -1.4133581682943,
          0.27061743914078784,
          0.5896664688392396,
          0.049326040185358244,
          -1.6878301432568965,
          -2.048608617619134,
          0.44524418456960363,
          -0.9380811961782093,
          -1.88596316407578,
          0.6201094070399932,
          -1.5569988864741955,
          -0.5969142673083347,
          1.7125329163547705,
          2.0185871649641642,
          -1.2330424798204571,
          1.2660998430994834,
          0.4475507802687231,
          -0.808620887480285,
          -0.17552478952105183,
          -1.0126133692310482,
          -3.675695561961809,
          0.028560931347580483,
          1.92983422047473,
          0.35556609859758814,
          -0.06511288145789168,
          -0.25838345482305736,
          -1.2400752553123529,
          -0.34078316151973576,
          0.5430289046145775,
          -0.8056959136889844,
          1.6300090038319708,
          0.1558133548094795,
          0.09620023351258908,
          -0.7846317882449255,
          -2.5182101025471333,
          0.5562799597495309,
          0.16046651940046647,
          -0.21954404954103748,
          -0.32808367130031724,
          0.7209387084058826,
          -0.0345397981985188,
          -0.09495490706369364,
          -0.8910145283144787
         ],
         "y": [
          0.7470965589601339,
          -1.5219044668573725,
          -0.09809943298661565,
          -1.250222948666942,
          -0.698474158306239,
          0.9150731563300875,
          -1.7165979226019592,
          -1.2451154557852744,
          -0.4204666686443543,
          -0.0012794767147798895,
          -0.261186490901393,
          -0.3538924472485142,
          1.9908666564163198,
          0.851133799942738,
          1.5852483356617322,
          0.9124402543743519,
          0.5349719533559576,
          -0.7486594206111689,
          0.4215163263542885,
          -0.477420154232497,
          0.7682913569156996,
          1.1072895097909077,
          2.054407350902693,
          1.6175776756957496,
          0.5611477786926051,
          1.4031946166589802,
          -1.0167138268528113,
          0.19646954503078082,
          0.945974554393974,
          0.9408949156430599,
          1.1413517627554308,
          -0.1357448260510389,
          -0.04351760173125842,
          -0.8512903450571877,
          0.91744346009552,
          -0.1542511662085185,
          0.7063318506651899,
          -0.3031156931539478,
          -1.6443563957714007,
          1.2650837687557859,
          -0.8311250713611842,
          0.13834368861202084,
          0.31895857306174547,
          -0.5449946250740695,
          -3.262605243961339,
          -1.418654021604739,
          1.7861024688943528,
          0.6224571859649373,
          0.09101051584656397,
          0.6521919226727627,
          1.3058238267837332,
          -1.0018932539119865,
          0.36743339504271666,
          0.7195461980329014,
          -0.7852233456105248,
          -0.5934846408673413,
          -1.8222702027000843,
          -0.6168587967023298,
          -0.5414383002922646,
          -0.5421020917700555,
          0.12406293568327871,
          2.325695325282169,
          -0.3056098266005972,
          -1.2400002200650149,
          -0.7547227374480309,
          0.053572223237500154,
          1.209431097011376,
          2.2161223547948716,
          -0.42419252357043197,
          0.47008337374490233,
          -1.2385983525496629,
          0.4083282423594256,
          1.1018396289990668,
          -1.3439267263174357,
          -1.2148010375833018,
          1.378503549128289,
          -0.865442571080681,
          1.4981255490911167,
          0.5268652709491807,
          -0.5864705000603173,
          -0.03251046298779092,
          -1.657971247262324,
          0.5387740305912381,
          0.33891930104974144,
          -0.017631905464170265,
          0.235035832459136,
          -0.22302903550297953,
          -0.42911270255814304,
          0.45012009799066305,
          -0.9780296593173486,
          -0.11851579616469118,
          1.047681204062073,
          0.9889001376060471,
          1.3966008775466294,
          0.09077097106105908,
          1.3376388975447437,
          -0.2036133802195914,
          -0.11638871633048702,
          -0.054452121594433106,
          0.382117572004654
         ]
        }
       ],
       "layout": {
        "legend": {
         "bgcolor": "#F5F6F9",
         "font": {
          "color": "#4D5663"
         }
        },
        "paper_bgcolor": "#F5F6F9",
        "plot_bgcolor": "#F5F6F9",
        "template": {
         "data": {
          "bar": [
           {
            "error_x": {
             "color": "#2a3f5f"
            },
            "error_y": {
             "color": "#2a3f5f"
            },
            "marker": {
             "line": {
              "color": "#E5ECF6",
              "width": 0.5
             },
             "pattern": {
              "fillmode": "overlay",
              "size": 10,
              "solidity": 0.2
             }
            },
            "type": "bar"
           }
          ],
          "barpolar": [
           {
            "marker": {
             "line": {
              "color": "#E5ECF6",
              "width": 0.5
             },
             "pattern": {
              "fillmode": "overlay",
              "size": 10,
              "solidity": 0.2
             }
            },
            "type": "barpolar"
           }
          ],
          "carpet": [
           {
            "aaxis": {
             "endlinecolor": "#2a3f5f",
             "gridcolor": "white",
             "linecolor": "white",
             "minorgridcolor": "white",
             "startlinecolor": "#2a3f5f"
            },
            "baxis": {
             "endlinecolor": "#2a3f5f",
             "gridcolor": "white",
             "linecolor": "white",
             "minorgridcolor": "white",
             "startlinecolor": "#2a3f5f"
            },
            "type": "carpet"
           }
          ],
          "choropleth": [
           {
            "colorbar": {
             "outlinewidth": 0,
             "ticks": ""
            },
            "type": "choropleth"
           }
          ],
          "contour": [
           {
            "colorbar": {
             "outlinewidth": 0,
             "ticks": ""
            },
            "colorscale": [
             [
              0,
              "#0d0887"
             ],
             [
              0.1111111111111111,
              "#46039f"
             ],
             [
              0.2222222222222222,
              "#7201a8"
             ],
             [
              0.3333333333333333,
              "#9c179e"
             ],
             [
              0.4444444444444444,
              "#bd3786"
             ],
             [
              0.5555555555555556,
              "#d8576b"
             ],
             [
              0.6666666666666666,
              "#ed7953"
             ],
             [
              0.7777777777777778,
              "#fb9f3a"
             ],
             [
              0.8888888888888888,
              "#fdca26"
             ],
             [
              1,
              "#f0f921"
             ]
            ],
            "type": "contour"
           }
          ],
          "contourcarpet": [
           {
            "colorbar": {
             "outlinewidth": 0,
             "ticks": ""
            },
            "type": "contourcarpet"
           }
          ],
          "heatmap": [
           {
            "colorbar": {
             "outlinewidth": 0,
             "ticks": ""
            },
            "colorscale": [
             [
              0,
              "#0d0887"
             ],
             [
              0.1111111111111111,
              "#46039f"
             ],
             [
              0.2222222222222222,
              "#7201a8"
             ],
             [
              0.3333333333333333,
              "#9c179e"
             ],
             [
              0.4444444444444444,
              "#bd3786"
             ],
             [
              0.5555555555555556,
              "#d8576b"
             ],
             [
              0.6666666666666666,
              "#ed7953"
             ],
             [
              0.7777777777777778,
              "#fb9f3a"
             ],
             [
              0.8888888888888888,
              "#fdca26"
             ],
             [
              1,
              "#f0f921"
             ]
            ],
            "type": "heatmap"
           }
          ],
          "heatmapgl": [
           {
            "colorbar": {
             "outlinewidth": 0,
             "ticks": ""
            },
            "colorscale": [
             [
              0,
              "#0d0887"
             ],
             [
              0.1111111111111111,
              "#46039f"
             ],
             [
              0.2222222222222222,
              "#7201a8"
             ],
             [
              0.3333333333333333,
              "#9c179e"
             ],
             [
              0.4444444444444444,
              "#bd3786"
             ],
             [
              0.5555555555555556,
              "#d8576b"
             ],
             [
              0.6666666666666666,
              "#ed7953"
             ],
             [
              0.7777777777777778,
              "#fb9f3a"
             ],
             [
              0.8888888888888888,
              "#fdca26"
             ],
             [
              1,
              "#f0f921"
             ]
            ],
            "type": "heatmapgl"
           }
          ],
          "histogram": [
           {
            "marker": {
             "pattern": {
              "fillmode": "overlay",
              "size": 10,
              "solidity": 0.2
             }
            },
            "type": "histogram"
           }
          ],
          "histogram2d": [
           {
            "colorbar": {
             "outlinewidth": 0,
             "ticks": ""
            },
            "colorscale": [
             [
              0,
              "#0d0887"
             ],
             [
              0.1111111111111111,
              "#46039f"
             ],
             [
              0.2222222222222222,
              "#7201a8"
             ],
             [
              0.3333333333333333,
              "#9c179e"
             ],
             [
              0.4444444444444444,
              "#bd3786"
             ],
             [
              0.5555555555555556,
              "#d8576b"
             ],
             [
              0.6666666666666666,
              "#ed7953"
             ],
             [
              0.7777777777777778,
              "#fb9f3a"
             ],
             [
              0.8888888888888888,
              "#fdca26"
             ],
             [
              1,
              "#f0f921"
             ]
            ],
            "type": "histogram2d"
           }
          ],
          "histogram2dcontour": [
           {
            "colorbar": {
             "outlinewidth": 0,
             "ticks": ""
            },
            "colorscale": [
             [
              0,
              "#0d0887"
             ],
             [
              0.1111111111111111,
              "#46039f"
             ],
             [
              0.2222222222222222,
              "#7201a8"
             ],
             [
              0.3333333333333333,
              "#9c179e"
             ],
             [
              0.4444444444444444,
              "#bd3786"
             ],
             [
              0.5555555555555556,
              "#d8576b"
             ],
             [
              0.6666666666666666,
              "#ed7953"
             ],
             [
              0.7777777777777778,
              "#fb9f3a"
             ],
             [
              0.8888888888888888,
              "#fdca26"
             ],
             [
              1,
              "#f0f921"
             ]
            ],
            "type": "histogram2dcontour"
           }
          ],
          "mesh3d": [
           {
            "colorbar": {
             "outlinewidth": 0,
             "ticks": ""
            },
            "type": "mesh3d"
           }
          ],
          "parcoords": [
           {
            "line": {
             "colorbar": {
              "outlinewidth": 0,
              "ticks": ""
             }
            },
            "type": "parcoords"
           }
          ],
          "pie": [
           {
            "automargin": true,
            "type": "pie"
           }
          ],
          "scatter": [
           {
            "marker": {
             "colorbar": {
              "outlinewidth": 0,
              "ticks": ""
             }
            },
            "type": "scatter"
           }
          ],
          "scatter3d": [
           {
            "line": {
             "colorbar": {
              "outlinewidth": 0,
              "ticks": ""
             }
            },
            "marker": {
             "colorbar": {
              "outlinewidth": 0,
              "ticks": ""
             }
            },
            "type": "scatter3d"
           }
          ],
          "scattercarpet": [
           {
            "marker": {
             "colorbar": {
              "outlinewidth": 0,
              "ticks": ""
             }
            },
            "type": "scattercarpet"
           }
          ],
          "scattergeo": [
           {
            "marker": {
             "colorbar": {
              "outlinewidth": 0,
              "ticks": ""
             }
            },
            "type": "scattergeo"
           }
          ],
          "scattergl": [
           {
            "marker": {
             "colorbar": {
              "outlinewidth": 0,
              "ticks": ""
             }
            },
            "type": "scattergl"
           }
          ],
          "scattermapbox": [
           {
            "marker": {
             "colorbar": {
              "outlinewidth": 0,
              "ticks": ""
             }
            },
            "type": "scattermapbox"
           }
          ],
          "scatterpolar": [
           {
            "marker": {
             "colorbar": {
              "outlinewidth": 0,
              "ticks": ""
             }
            },
            "type": "scatterpolar"
           }
          ],
          "scatterpolargl": [
           {
            "marker": {
             "colorbar": {
              "outlinewidth": 0,
              "ticks": ""
             }
            },
            "type": "scatterpolargl"
           }
          ],
          "scatterternary": [
           {
            "marker": {
             "colorbar": {
              "outlinewidth": 0,
              "ticks": ""
             }
            },
            "type": "scatterternary"
           }
          ],
          "surface": [
           {
            "colorbar": {
             "outlinewidth": 0,
             "ticks": ""
            },
            "colorscale": [
             [
              0,
              "#0d0887"
             ],
             [
              0.1111111111111111,
              "#46039f"
             ],
             [
              0.2222222222222222,
              "#7201a8"
             ],
             [
              0.3333333333333333,
              "#9c179e"
             ],
             [
              0.4444444444444444,
              "#bd3786"
             ],
             [
              0.5555555555555556,
              "#d8576b"
             ],
             [
              0.6666666666666666,
              "#ed7953"
             ],
             [
              0.7777777777777778,
              "#fb9f3a"
             ],
             [
              0.8888888888888888,
              "#fdca26"
             ],
             [
              1,
              "#f0f921"
             ]
            ],
            "type": "surface"
           }
          ],
          "table": [
           {
            "cells": {
             "fill": {
              "color": "#EBF0F8"
             },
             "line": {
              "color": "white"
             }
            },
            "header": {
             "fill": {
              "color": "#C8D4E3"
             },
             "line": {
              "color": "white"
             }
            },
            "type": "table"
           }
          ]
         },
         "layout": {
          "annotationdefaults": {
           "arrowcolor": "#2a3f5f",
           "arrowhead": 0,
           "arrowwidth": 1
          },
          "autotypenumbers": "strict",
          "coloraxis": {
           "colorbar": {
            "outlinewidth": 0,
            "ticks": ""
           }
          },
          "colorscale": {
           "diverging": [
            [
             0,
             "#8e0152"
            ],
            [
             0.1,
             "#c51b7d"
            ],
            [
             0.2,
             "#de77ae"
            ],
            [
             0.3,
             "#f1b6da"
            ],
            [
             0.4,
             "#fde0ef"
            ],
            [
             0.5,
             "#f7f7f7"
            ],
            [
             0.6,
             "#e6f5d0"
            ],
            [
             0.7,
             "#b8e186"
            ],
            [
             0.8,
             "#7fbc41"
            ],
            [
             0.9,
             "#4d9221"
            ],
            [
             1,
             "#276419"
            ]
           ],
           "sequential": [
            [
             0,
             "#0d0887"
            ],
            [
             0.1111111111111111,
             "#46039f"
            ],
            [
             0.2222222222222222,
             "#7201a8"
            ],
            [
             0.3333333333333333,
             "#9c179e"
            ],
            [
             0.4444444444444444,
             "#bd3786"
            ],
            [
             0.5555555555555556,
             "#d8576b"
            ],
            [
             0.6666666666666666,
             "#ed7953"
            ],
            [
             0.7777777777777778,
             "#fb9f3a"
            ],
            [
             0.8888888888888888,
             "#fdca26"
            ],
            [
             1,
             "#f0f921"
            ]
           ],
           "sequentialminus": [
            [
             0,
             "#0d0887"
            ],
            [
             0.1111111111111111,
             "#46039f"
            ],
            [
             0.2222222222222222,
             "#7201a8"
            ],
            [
             0.3333333333333333,
             "#9c179e"
            ],
            [
             0.4444444444444444,
             "#bd3786"
            ],
            [
             0.5555555555555556,
             "#d8576b"
            ],
            [
             0.6666666666666666,
             "#ed7953"
            ],
            [
             0.7777777777777778,
             "#fb9f3a"
            ],
            [
             0.8888888888888888,
             "#fdca26"
            ],
            [
             1,
             "#f0f921"
            ]
           ]
          },
          "colorway": [
           "#636efa",
           "#EF553B",
           "#00cc96",
           "#ab63fa",
           "#FFA15A",
           "#19d3f3",
           "#FF6692",
           "#B6E880",
           "#FF97FF",
           "#FECB52"
          ],
          "font": {
           "color": "#2a3f5f"
          },
          "geo": {
           "bgcolor": "white",
           "lakecolor": "white",
           "landcolor": "#E5ECF6",
           "showlakes": true,
           "showland": true,
           "subunitcolor": "white"
          },
          "hoverlabel": {
           "align": "left"
          },
          "hovermode": "closest",
          "mapbox": {
           "style": "light"
          },
          "paper_bgcolor": "white",
          "plot_bgcolor": "#E5ECF6",
          "polar": {
           "angularaxis": {
            "gridcolor": "white",
            "linecolor": "white",
            "ticks": ""
           },
           "bgcolor": "#E5ECF6",
           "radialaxis": {
            "gridcolor": "white",
            "linecolor": "white",
            "ticks": ""
           }
          },
          "scene": {
           "xaxis": {
            "backgroundcolor": "#E5ECF6",
            "gridcolor": "white",
            "gridwidth": 2,
            "linecolor": "white",
            "showbackground": true,
            "ticks": "",
            "zerolinecolor": "white"
           },
           "yaxis": {
            "backgroundcolor": "#E5ECF6",
            "gridcolor": "white",
            "gridwidth": 2,
            "linecolor": "white",
            "showbackground": true,
            "ticks": "",
            "zerolinecolor": "white"
           },
           "zaxis": {
            "backgroundcolor": "#E5ECF6",
            "gridcolor": "white",
            "gridwidth": 2,
            "linecolor": "white",
            "showbackground": true,
            "ticks": "",
            "zerolinecolor": "white"
           }
          },
          "shapedefaults": {
           "line": {
            "color": "#2a3f5f"
           }
          },
          "ternary": {
           "aaxis": {
            "gridcolor": "white",
            "linecolor": "white",
            "ticks": ""
           },
           "baxis": {
            "gridcolor": "white",
            "linecolor": "white",
            "ticks": ""
           },
           "bgcolor": "#E5ECF6",
           "caxis": {
            "gridcolor": "white",
            "linecolor": "white",
            "ticks": ""
           }
          },
          "title": {
           "x": 0.05
          },
          "xaxis": {
           "automargin": true,
           "gridcolor": "white",
           "linecolor": "white",
           "ticks": "",
           "title": {
            "standoff": 15
           },
           "zerolinecolor": "white",
           "zerolinewidth": 2
          },
          "yaxis": {
           "automargin": true,
           "gridcolor": "white",
           "linecolor": "white",
           "ticks": "",
           "title": {
            "standoff": 15
           },
           "zerolinecolor": "white",
           "zerolinewidth": 2
          }
         }
        },
        "title": {
         "font": {
          "color": "#4D5663"
         }
        },
        "xaxis": {
         "gridcolor": "#E1E5ED",
         "showgrid": true,
         "tickfont": {
          "color": "#4D5663"
         },
         "title": {
          "font": {
           "color": "#4D5663"
          },
          "text": ""
         },
         "zerolinecolor": "#E1E5ED"
        },
        "yaxis": {
         "gridcolor": "#E1E5ED",
         "showgrid": true,
         "tickfont": {
          "color": "#4D5663"
         },
         "title": {
          "font": {
           "color": "#4D5663"
          },
          "text": ""
         },
         "zerolinecolor": "#E1E5ED"
        }
       }
      },
      "text/html": [
       "<div>                            <div id=\"b0806e8f-4111-4b40-84bd-d6c64540a4d5\" class=\"plotly-graph-div\" style=\"height:525px; width:100%;\"></div>            <script type=\"text/javascript\">                require([\"plotly\"], function(Plotly) {                    window.PLOTLYENV=window.PLOTLYENV || {};\n",
       "                    window.PLOTLYENV.BASE_URL='https://plot.ly';                                    if (document.getElementById(\"b0806e8f-4111-4b40-84bd-d6c64540a4d5\")) {                    Plotly.newPlot(                        \"b0806e8f-4111-4b40-84bd-d6c64540a4d5\",                        [{\"marker\":{\"color\":[\"rgb(255, 153, 51)\",\"rgb(55, 128, 191)\",\"rgb(50, 171, 96)\",\"rgb(128, 0, 128)\",\"rgb(219, 64, 82)\",\"rgb(0, 128, 128)\",\"rgb(255, 255, 51)\",\"rgb(128, 128, 0)\",\"rgb(251, 128, 114)\",\"rgb(128, 177, 211)\"],\"line\":{\"width\":1.3},\"size\":[67,66,49,62,32,77,29,77,41,102,34,74,29,66,54,61,20,85,63,50,34,81,44,86,77,30,77,60,83,91,38,43,25,41,69,61,81,44,56,87,69,49,44,61,28,99,19,37,16,45,22,94,58,62,49,67,49,54,70,93,76,56,42,58,87,12,112,65,34,61,80,85,45,57,32,54,33,93,71,68,26,94,45,56,75,68,51,84,82,61,50,99,21,51,32,38,32,65,53,62],\"symbol\":\"circle\"},\"mode\":\"markers\",\"text\":\"\",\"x\":[0.43576161330137125,0.0392002026600367,-0.0828096051226737,-0.06899993842236976,-0.7445185078343501,-0.5818104718774442,0.20812256881462257,1.5771047203879411,-0.6229410571707626,-0.2542553127090784,-0.8616883603461633,-0.6882323696812119,1.6091381292540365,-0.08960730935903875,1.477667203229447,-1.1289770047232348,-0.37757591613281366,-0.9555659233157126,-0.8716190463369677,2.3343739223771967,-0.5804185512560397,-0.34512219064872196,1.0009426139151563,-0.03638635948039409,-0.4795511213004423,-0.38710379078114443,-0.5982291373045885,0.8057103455189922,0.07653649862068276,1.8789206942278476,-1.9870408379249231,-1.2534934267964573,1.1424388929052163,-0.19667780218489977,0.6672725785699418,0.22197020125418726,0.40375610544655427,0.790455120710436,0.47759724675807447,1.188441738310553,2.5966130677908876,-0.6307284045262942,0.07962977335776215,0.3075091604528683,-1.4964756673073725,-0.12521366306897264,-1.2358732389987421,-0.2360811692397413,-2.282498392530906,0.7428373771981449,-0.6288414109073985,0.6230290519320041,0.716991257672416,0.2741062424132256,0.9315691700047641,2.246444132120593,-0.09798021170589394,-1.4133581682943,0.27061743914078784,0.5896664688392396,0.049326040185358244,-1.6878301432568965,-2.048608617619134,0.44524418456960363,-0.9380811961782093,-1.88596316407578,0.6201094070399932,-1.5569988864741955,-0.5969142673083347,1.7125329163547705,2.0185871649641642,-1.2330424798204571,1.2660998430994834,0.4475507802687231,-0.808620887480285,-0.17552478952105183,-1.0126133692310482,-3.675695561961809,0.028560931347580483,1.92983422047473,0.35556609859758814,-0.06511288145789168,-0.25838345482305736,-1.2400752553123529,-0.34078316151973576,0.5430289046145775,-0.8056959136889844,1.6300090038319708,0.1558133548094795,0.09620023351258908,-0.7846317882449255,-2.5182101025471333,0.5562799597495309,0.16046651940046647,-0.21954404954103748,-0.32808367130031724,0.7209387084058826,-0.0345397981985188,-0.09495490706369364,-0.8910145283144787],\"y\":[0.7470965589601339,-1.5219044668573725,-0.09809943298661565,-1.250222948666942,-0.698474158306239,0.9150731563300875,-1.7165979226019592,-1.2451154557852744,-0.4204666686443543,-0.0012794767147798895,-0.261186490901393,-0.3538924472485142,1.9908666564163198,0.851133799942738,1.5852483356617322,0.9124402543743519,0.5349719533559576,-0.7486594206111689,0.4215163263542885,-0.477420154232497,0.7682913569156996,1.1072895097909077,2.054407350902693,1.6175776756957496,0.5611477786926051,1.4031946166589802,-1.0167138268528113,0.19646954503078082,0.945974554393974,0.9408949156430599,1.1413517627554308,-0.1357448260510389,-0.04351760173125842,-0.8512903450571877,0.91744346009552,-0.1542511662085185,0.7063318506651899,-0.3031156931539478,-1.6443563957714007,1.2650837687557859,-0.8311250713611842,0.13834368861202084,0.31895857306174547,-0.5449946250740695,-3.262605243961339,-1.418654021604739,1.7861024688943528,0.6224571859649373,0.09101051584656397,0.6521919226727627,1.3058238267837332,-1.0018932539119865,0.36743339504271666,0.7195461980329014,-0.7852233456105248,-0.5934846408673413,-1.8222702027000843,-0.6168587967023298,-0.5414383002922646,-0.5421020917700555,0.12406293568327871,2.325695325282169,-0.3056098266005972,-1.2400002200650149,-0.7547227374480309,0.053572223237500154,1.209431097011376,2.2161223547948716,-0.42419252357043197,0.47008337374490233,-1.2385983525496629,0.4083282423594256,1.1018396289990668,-1.3439267263174357,-1.2148010375833018,1.378503549128289,-0.865442571080681,1.4981255490911167,0.5268652709491807,-0.5864705000603173,-0.03251046298779092,-1.657971247262324,0.5387740305912381,0.33891930104974144,-0.017631905464170265,0.235035832459136,-0.22302903550297953,-0.42911270255814304,0.45012009799066305,-0.9780296593173486,-0.11851579616469118,1.047681204062073,0.9889001376060471,1.3966008775466294,0.09077097106105908,1.3376388975447437,-0.2036133802195914,-0.11638871633048702,-0.054452121594433106,0.382117572004654],\"type\":\"scatter\"}],                        {\"legend\":{\"bgcolor\":\"#F5F6F9\",\"font\":{\"color\":\"#4D5663\"}},\"paper_bgcolor\":\"#F5F6F9\",\"plot_bgcolor\":\"#F5F6F9\",\"template\":{\"data\":{\"barpolar\":[{\"marker\":{\"line\":{\"color\":\"#E5ECF6\",\"width\":0.5},\"pattern\":{\"fillmode\":\"overlay\",\"size\":10,\"solidity\":0.2}},\"type\":\"barpolar\"}],\"bar\":[{\"error_x\":{\"color\":\"#2a3f5f\"},\"error_y\":{\"color\":\"#2a3f5f\"},\"marker\":{\"line\":{\"color\":\"#E5ECF6\",\"width\":0.5},\"pattern\":{\"fillmode\":\"overlay\",\"size\":10,\"solidity\":0.2}},\"type\":\"bar\"}],\"carpet\":[{\"aaxis\":{\"endlinecolor\":\"#2a3f5f\",\"gridcolor\":\"white\",\"linecolor\":\"white\",\"minorgridcolor\":\"white\",\"startlinecolor\":\"#2a3f5f\"},\"baxis\":{\"endlinecolor\":\"#2a3f5f\",\"gridcolor\":\"white\",\"linecolor\":\"white\",\"minorgridcolor\":\"white\",\"startlinecolor\":\"#2a3f5f\"},\"type\":\"carpet\"}],\"choropleth\":[{\"colorbar\":{\"outlinewidth\":0,\"ticks\":\"\"},\"type\":\"choropleth\"}],\"contourcarpet\":[{\"colorbar\":{\"outlinewidth\":0,\"ticks\":\"\"},\"type\":\"contourcarpet\"}],\"contour\":[{\"colorbar\":{\"outlinewidth\":0,\"ticks\":\"\"},\"colorscale\":[[0.0,\"#0d0887\"],[0.1111111111111111,\"#46039f\"],[0.2222222222222222,\"#7201a8\"],[0.3333333333333333,\"#9c179e\"],[0.4444444444444444,\"#bd3786\"],[0.5555555555555556,\"#d8576b\"],[0.6666666666666666,\"#ed7953\"],[0.7777777777777778,\"#fb9f3a\"],[0.8888888888888888,\"#fdca26\"],[1.0,\"#f0f921\"]],\"type\":\"contour\"}],\"heatmapgl\":[{\"colorbar\":{\"outlinewidth\":0,\"ticks\":\"\"},\"colorscale\":[[0.0,\"#0d0887\"],[0.1111111111111111,\"#46039f\"],[0.2222222222222222,\"#7201a8\"],[0.3333333333333333,\"#9c179e\"],[0.4444444444444444,\"#bd3786\"],[0.5555555555555556,\"#d8576b\"],[0.6666666666666666,\"#ed7953\"],[0.7777777777777778,\"#fb9f3a\"],[0.8888888888888888,\"#fdca26\"],[1.0,\"#f0f921\"]],\"type\":\"heatmapgl\"}],\"heatmap\":[{\"colorbar\":{\"outlinewidth\":0,\"ticks\":\"\"},\"colorscale\":[[0.0,\"#0d0887\"],[0.1111111111111111,\"#46039f\"],[0.2222222222222222,\"#7201a8\"],[0.3333333333333333,\"#9c179e\"],[0.4444444444444444,\"#bd3786\"],[0.5555555555555556,\"#d8576b\"],[0.6666666666666666,\"#ed7953\"],[0.7777777777777778,\"#fb9f3a\"],[0.8888888888888888,\"#fdca26\"],[1.0,\"#f0f921\"]],\"type\":\"heatmap\"}],\"histogram2dcontour\":[{\"colorbar\":{\"outlinewidth\":0,\"ticks\":\"\"},\"colorscale\":[[0.0,\"#0d0887\"],[0.1111111111111111,\"#46039f\"],[0.2222222222222222,\"#7201a8\"],[0.3333333333333333,\"#9c179e\"],[0.4444444444444444,\"#bd3786\"],[0.5555555555555556,\"#d8576b\"],[0.6666666666666666,\"#ed7953\"],[0.7777777777777778,\"#fb9f3a\"],[0.8888888888888888,\"#fdca26\"],[1.0,\"#f0f921\"]],\"type\":\"histogram2dcontour\"}],\"histogram2d\":[{\"colorbar\":{\"outlinewidth\":0,\"ticks\":\"\"},\"colorscale\":[[0.0,\"#0d0887\"],[0.1111111111111111,\"#46039f\"],[0.2222222222222222,\"#7201a8\"],[0.3333333333333333,\"#9c179e\"],[0.4444444444444444,\"#bd3786\"],[0.5555555555555556,\"#d8576b\"],[0.6666666666666666,\"#ed7953\"],[0.7777777777777778,\"#fb9f3a\"],[0.8888888888888888,\"#fdca26\"],[1.0,\"#f0f921\"]],\"type\":\"histogram2d\"}],\"histogram\":[{\"marker\":{\"pattern\":{\"fillmode\":\"overlay\",\"size\":10,\"solidity\":0.2}},\"type\":\"histogram\"}],\"mesh3d\":[{\"colorbar\":{\"outlinewidth\":0,\"ticks\":\"\"},\"type\":\"mesh3d\"}],\"parcoords\":[{\"line\":{\"colorbar\":{\"outlinewidth\":0,\"ticks\":\"\"}},\"type\":\"parcoords\"}],\"pie\":[{\"automargin\":true,\"type\":\"pie\"}],\"scatter3d\":[{\"line\":{\"colorbar\":{\"outlinewidth\":0,\"ticks\":\"\"}},\"marker\":{\"colorbar\":{\"outlinewidth\":0,\"ticks\":\"\"}},\"type\":\"scatter3d\"}],\"scattercarpet\":[{\"marker\":{\"colorbar\":{\"outlinewidth\":0,\"ticks\":\"\"}},\"type\":\"scattercarpet\"}],\"scattergeo\":[{\"marker\":{\"colorbar\":{\"outlinewidth\":0,\"ticks\":\"\"}},\"type\":\"scattergeo\"}],\"scattergl\":[{\"marker\":{\"colorbar\":{\"outlinewidth\":0,\"ticks\":\"\"}},\"type\":\"scattergl\"}],\"scattermapbox\":[{\"marker\":{\"colorbar\":{\"outlinewidth\":0,\"ticks\":\"\"}},\"type\":\"scattermapbox\"}],\"scatterpolargl\":[{\"marker\":{\"colorbar\":{\"outlinewidth\":0,\"ticks\":\"\"}},\"type\":\"scatterpolargl\"}],\"scatterpolar\":[{\"marker\":{\"colorbar\":{\"outlinewidth\":0,\"ticks\":\"\"}},\"type\":\"scatterpolar\"}],\"scatter\":[{\"marker\":{\"colorbar\":{\"outlinewidth\":0,\"ticks\":\"\"}},\"type\":\"scatter\"}],\"scatterternary\":[{\"marker\":{\"colorbar\":{\"outlinewidth\":0,\"ticks\":\"\"}},\"type\":\"scatterternary\"}],\"surface\":[{\"colorbar\":{\"outlinewidth\":0,\"ticks\":\"\"},\"colorscale\":[[0.0,\"#0d0887\"],[0.1111111111111111,\"#46039f\"],[0.2222222222222222,\"#7201a8\"],[0.3333333333333333,\"#9c179e\"],[0.4444444444444444,\"#bd3786\"],[0.5555555555555556,\"#d8576b\"],[0.6666666666666666,\"#ed7953\"],[0.7777777777777778,\"#fb9f3a\"],[0.8888888888888888,\"#fdca26\"],[1.0,\"#f0f921\"]],\"type\":\"surface\"}],\"table\":[{\"cells\":{\"fill\":{\"color\":\"#EBF0F8\"},\"line\":{\"color\":\"white\"}},\"header\":{\"fill\":{\"color\":\"#C8D4E3\"},\"line\":{\"color\":\"white\"}},\"type\":\"table\"}]},\"layout\":{\"annotationdefaults\":{\"arrowcolor\":\"#2a3f5f\",\"arrowhead\":0,\"arrowwidth\":1},\"autotypenumbers\":\"strict\",\"coloraxis\":{\"colorbar\":{\"outlinewidth\":0,\"ticks\":\"\"}},\"colorscale\":{\"diverging\":[[0,\"#8e0152\"],[0.1,\"#c51b7d\"],[0.2,\"#de77ae\"],[0.3,\"#f1b6da\"],[0.4,\"#fde0ef\"],[0.5,\"#f7f7f7\"],[0.6,\"#e6f5d0\"],[0.7,\"#b8e186\"],[0.8,\"#7fbc41\"],[0.9,\"#4d9221\"],[1,\"#276419\"]],\"sequential\":[[0.0,\"#0d0887\"],[0.1111111111111111,\"#46039f\"],[0.2222222222222222,\"#7201a8\"],[0.3333333333333333,\"#9c179e\"],[0.4444444444444444,\"#bd3786\"],[0.5555555555555556,\"#d8576b\"],[0.6666666666666666,\"#ed7953\"],[0.7777777777777778,\"#fb9f3a\"],[0.8888888888888888,\"#fdca26\"],[1.0,\"#f0f921\"]],\"sequentialminus\":[[0.0,\"#0d0887\"],[0.1111111111111111,\"#46039f\"],[0.2222222222222222,\"#7201a8\"],[0.3333333333333333,\"#9c179e\"],[0.4444444444444444,\"#bd3786\"],[0.5555555555555556,\"#d8576b\"],[0.6666666666666666,\"#ed7953\"],[0.7777777777777778,\"#fb9f3a\"],[0.8888888888888888,\"#fdca26\"],[1.0,\"#f0f921\"]]},\"colorway\":[\"#636efa\",\"#EF553B\",\"#00cc96\",\"#ab63fa\",\"#FFA15A\",\"#19d3f3\",\"#FF6692\",\"#B6E880\",\"#FF97FF\",\"#FECB52\"],\"font\":{\"color\":\"#2a3f5f\"},\"geo\":{\"bgcolor\":\"white\",\"lakecolor\":\"white\",\"landcolor\":\"#E5ECF6\",\"showlakes\":true,\"showland\":true,\"subunitcolor\":\"white\"},\"hoverlabel\":{\"align\":\"left\"},\"hovermode\":\"closest\",\"mapbox\":{\"style\":\"light\"},\"paper_bgcolor\":\"white\",\"plot_bgcolor\":\"#E5ECF6\",\"polar\":{\"angularaxis\":{\"gridcolor\":\"white\",\"linecolor\":\"white\",\"ticks\":\"\"},\"bgcolor\":\"#E5ECF6\",\"radialaxis\":{\"gridcolor\":\"white\",\"linecolor\":\"white\",\"ticks\":\"\"}},\"scene\":{\"xaxis\":{\"backgroundcolor\":\"#E5ECF6\",\"gridcolor\":\"white\",\"gridwidth\":2,\"linecolor\":\"white\",\"showbackground\":true,\"ticks\":\"\",\"zerolinecolor\":\"white\"},\"yaxis\":{\"backgroundcolor\":\"#E5ECF6\",\"gridcolor\":\"white\",\"gridwidth\":2,\"linecolor\":\"white\",\"showbackground\":true,\"ticks\":\"\",\"zerolinecolor\":\"white\"},\"zaxis\":{\"backgroundcolor\":\"#E5ECF6\",\"gridcolor\":\"white\",\"gridwidth\":2,\"linecolor\":\"white\",\"showbackground\":true,\"ticks\":\"\",\"zerolinecolor\":\"white\"}},\"shapedefaults\":{\"line\":{\"color\":\"#2a3f5f\"}},\"ternary\":{\"aaxis\":{\"gridcolor\":\"white\",\"linecolor\":\"white\",\"ticks\":\"\"},\"baxis\":{\"gridcolor\":\"white\",\"linecolor\":\"white\",\"ticks\":\"\"},\"bgcolor\":\"#E5ECF6\",\"caxis\":{\"gridcolor\":\"white\",\"linecolor\":\"white\",\"ticks\":\"\"}},\"title\":{\"x\":0.05},\"xaxis\":{\"automargin\":true,\"gridcolor\":\"white\",\"linecolor\":\"white\",\"ticks\":\"\",\"title\":{\"standoff\":15},\"zerolinecolor\":\"white\",\"zerolinewidth\":2},\"yaxis\":{\"automargin\":true,\"gridcolor\":\"white\",\"linecolor\":\"white\",\"ticks\":\"\",\"title\":{\"standoff\":15},\"zerolinecolor\":\"white\",\"zerolinewidth\":2}}},\"title\":{\"font\":{\"color\":\"#4D5663\"}},\"xaxis\":{\"gridcolor\":\"#E1E5ED\",\"showgrid\":true,\"tickfont\":{\"color\":\"#4D5663\"},\"title\":{\"font\":{\"color\":\"#4D5663\"},\"text\":\"\"},\"zerolinecolor\":\"#E1E5ED\"},\"yaxis\":{\"gridcolor\":\"#E1E5ED\",\"showgrid\":true,\"tickfont\":{\"color\":\"#4D5663\"},\"title\":{\"font\":{\"color\":\"#4D5663\"},\"text\":\"\"},\"zerolinecolor\":\"#E1E5ED\"}},                        {\"showLink\": true, \"linkText\": \"Export to plot.ly\", \"plotlyServerURL\": \"https://plot.ly\", \"responsive\": true}                    ).then(function(){\n",
       "                            \n",
       "var gd = document.getElementById('b0806e8f-4111-4b40-84bd-d6c64540a4d5');\n",
       "var x = new MutationObserver(function (mutations, observer) {{\n",
       "        var display = window.getComputedStyle(gd).display;\n",
       "        if (!display || display === 'none') {{\n",
       "            console.log([gd, 'removed!']);\n",
       "            Plotly.purge(gd);\n",
       "            observer.disconnect();\n",
       "        }}\n",
       "}});\n",
       "\n",
       "// Listen for the removal of the full notebook cells\n",
       "var notebookContainer = gd.closest('#notebook-container');\n",
       "if (notebookContainer) {{\n",
       "    x.observe(notebookContainer, {childList: true});\n",
       "}}\n",
       "\n",
       "// Listen for the clearing of the current output cell\n",
       "var outputEl = gd.closest('.output');\n",
       "if (outputEl) {{\n",
       "    x.observe(outputEl, {childList: true});\n",
       "}}\n",
       "\n",
       "                        })                };                });            </script>        </div>"
      ]
     },
     "metadata": {},
     "output_type": "display_data"
    }
   ],
   "source": [
    "df.iplot(kind='bubble',x='A', y='B', size='C')"
   ]
  },
  {
   "cell_type": "code",
   "execution_count": 40,
   "metadata": {},
   "outputs": [
    {
     "data": {
      "application/vnd.plotly.v1+json": {
       "config": {
        "linkText": "Export to plot.ly",
        "plotlyServerURL": "https://plot.ly",
        "showLink": true
       },
       "data": [
        {
         "histfunc": "count",
         "histnorm": "",
         "marker": {
          "color": "rgba(255, 153, 51, 1.0)",
          "line": {
           "color": "#4D5663",
           "width": 1.3
          }
         },
         "name": "A",
         "nbinsx": 10,
         "opacity": 0.8,
         "orientation": "v",
         "type": "histogram",
         "x": [
          0.43576161330137125,
          0.0392002026600367,
          -0.0828096051226737,
          -0.06899993842236976,
          -0.7445185078343501,
          -0.5818104718774442,
          0.20812256881462257,
          1.5771047203879411,
          -0.6229410571707626,
          -0.2542553127090784,
          -0.8616883603461633,
          -0.6882323696812119,
          1.6091381292540365,
          -0.08960730935903875,
          1.477667203229447,
          -1.1289770047232348,
          -0.37757591613281366,
          -0.9555659233157126,
          -0.8716190463369677,
          2.3343739223771967,
          -0.5804185512560397,
          -0.34512219064872196,
          1.0009426139151563,
          -0.03638635948039409,
          -0.4795511213004423,
          -0.38710379078114443,
          -0.5982291373045885,
          0.8057103455189922,
          0.07653649862068276,
          1.8789206942278476,
          -1.9870408379249231,
          -1.2534934267964573,
          1.1424388929052163,
          -0.19667780218489977,
          0.6672725785699418,
          0.22197020125418726,
          0.40375610544655427,
          0.790455120710436,
          0.47759724675807447,
          1.188441738310553,
          2.5966130677908876,
          -0.6307284045262942,
          0.07962977335776215,
          0.3075091604528683,
          -1.4964756673073725,
          -0.12521366306897264,
          -1.2358732389987421,
          -0.2360811692397413,
          -2.282498392530906,
          0.7428373771981449,
          -0.6288414109073985,
          0.6230290519320041,
          0.716991257672416,
          0.2741062424132256,
          0.9315691700047641,
          2.246444132120593,
          -0.09798021170589394,
          -1.4133581682943,
          0.27061743914078784,
          0.5896664688392396,
          0.049326040185358244,
          -1.6878301432568965,
          -2.048608617619134,
          0.44524418456960363,
          -0.9380811961782093,
          -1.88596316407578,
          0.6201094070399932,
          -1.5569988864741955,
          -0.5969142673083347,
          1.7125329163547705,
          2.0185871649641642,
          -1.2330424798204571,
          1.2660998430994834,
          0.4475507802687231,
          -0.808620887480285,
          -0.17552478952105183,
          -1.0126133692310482,
          -3.675695561961809,
          0.028560931347580483,
          1.92983422047473,
          0.35556609859758814,
          -0.06511288145789168,
          -0.25838345482305736,
          -1.2400752553123529,
          -0.34078316151973576,
          0.5430289046145775,
          -0.8056959136889844,
          1.6300090038319708,
          0.1558133548094795,
          0.09620023351258908,
          -0.7846317882449255,
          -2.5182101025471333,
          0.5562799597495309,
          0.16046651940046647,
          -0.21954404954103748,
          -0.32808367130031724,
          0.7209387084058826,
          -0.0345397981985188,
          -0.09495490706369364,
          -0.8910145283144787
         ],
         "xaxis": "x",
         "yaxis": "y"
        },
        {
         "line": {
          "color": "rgba(128, 128, 128, 1.0)",
          "dash": "solid",
          "shape": "linear",
          "width": 1.3
         },
         "marker": {
          "size": 2,
          "symbol": "circle"
         },
         "mode": "markers",
         "name": "A",
         "text": "",
         "type": "scatter",
         "x": [
          0.7470965589601339,
          -1.5219044668573725,
          -0.09809943298661565,
          -1.250222948666942,
          -0.698474158306239,
          0.9150731563300875,
          -1.7165979226019592,
          -1.2451154557852744,
          -0.4204666686443543,
          -0.0012794767147798895,
          -0.261186490901393,
          -0.3538924472485142,
          1.9908666564163198,
          0.851133799942738,
          1.5852483356617322,
          0.9124402543743519,
          0.5349719533559576,
          -0.7486594206111689,
          0.4215163263542885,
          -0.477420154232497,
          0.7682913569156996,
          1.1072895097909077,
          2.054407350902693,
          1.6175776756957496,
          0.5611477786926051,
          1.4031946166589802,
          -1.0167138268528113,
          0.19646954503078082,
          0.945974554393974,
          0.9408949156430599,
          1.1413517627554308,
          -0.1357448260510389,
          -0.04351760173125842,
          -0.8512903450571877,
          0.91744346009552,
          -0.1542511662085185,
          0.7063318506651899,
          -0.3031156931539478,
          -1.6443563957714007,
          1.2650837687557859,
          -0.8311250713611842,
          0.13834368861202084,
          0.31895857306174547,
          -0.5449946250740695,
          -3.262605243961339,
          -1.418654021604739,
          1.7861024688943528,
          0.6224571859649373,
          0.09101051584656397,
          0.6521919226727627,
          1.3058238267837332,
          -1.0018932539119865,
          0.36743339504271666,
          0.7195461980329014,
          -0.7852233456105248,
          -0.5934846408673413,
          -1.8222702027000843,
          -0.6168587967023298,
          -0.5414383002922646,
          -0.5421020917700555,
          0.12406293568327871,
          2.325695325282169,
          -0.3056098266005972,
          -1.2400002200650149,
          -0.7547227374480309,
          0.053572223237500154,
          1.209431097011376,
          2.2161223547948716,
          -0.42419252357043197,
          0.47008337374490233,
          -1.2385983525496629,
          0.4083282423594256,
          1.1018396289990668,
          -1.3439267263174357,
          -1.2148010375833018,
          1.378503549128289,
          -0.865442571080681,
          1.4981255490911167,
          0.5268652709491807,
          -0.5864705000603173,
          -0.03251046298779092,
          -1.657971247262324,
          0.5387740305912381,
          0.33891930104974144,
          -0.017631905464170265,
          0.235035832459136,
          -0.22302903550297953,
          -0.42911270255814304,
          0.45012009799066305,
          -0.9780296593173486,
          -0.11851579616469118,
          1.047681204062073,
          0.9889001376060471,
          1.3966008775466294,
          0.09077097106105908,
          1.3376388975447437,
          -0.2036133802195914,
          -0.11638871633048702,
          -0.054452121594433106,
          0.382117572004654
         ],
         "xaxis": "x2",
         "y": [
          0.43576161330137125,
          0.0392002026600367,
          -0.0828096051226737,
          -0.06899993842236976,
          -0.7445185078343501,
          -0.5818104718774442,
          0.20812256881462257,
          1.5771047203879411,
          -0.6229410571707626,
          -0.2542553127090784,
          -0.8616883603461633,
          -0.6882323696812119,
          1.6091381292540365,
          -0.08960730935903875,
          1.477667203229447,
          -1.1289770047232348,
          -0.37757591613281366,
          -0.9555659233157126,
          -0.8716190463369677,
          2.3343739223771967,
          -0.5804185512560397,
          -0.34512219064872196,
          1.0009426139151563,
          -0.03638635948039409,
          -0.4795511213004423,
          -0.38710379078114443,
          -0.5982291373045885,
          0.8057103455189922,
          0.07653649862068276,
          1.8789206942278476,
          -1.9870408379249231,
          -1.2534934267964573,
          1.1424388929052163,
          -0.19667780218489977,
          0.6672725785699418,
          0.22197020125418726,
          0.40375610544655427,
          0.790455120710436,
          0.47759724675807447,
          1.188441738310553,
          2.5966130677908876,
          -0.6307284045262942,
          0.07962977335776215,
          0.3075091604528683,
          -1.4964756673073725,
          -0.12521366306897264,
          -1.2358732389987421,
          -0.2360811692397413,
          -2.282498392530906,
          0.7428373771981449,
          -0.6288414109073985,
          0.6230290519320041,
          0.716991257672416,
          0.2741062424132256,
          0.9315691700047641,
          2.246444132120593,
          -0.09798021170589394,
          -1.4133581682943,
          0.27061743914078784,
          0.5896664688392396,
          0.049326040185358244,
          -1.6878301432568965,
          -2.048608617619134,
          0.44524418456960363,
          -0.9380811961782093,
          -1.88596316407578,
          0.6201094070399932,
          -1.5569988864741955,
          -0.5969142673083347,
          1.7125329163547705,
          2.0185871649641642,
          -1.2330424798204571,
          1.2660998430994834,
          0.4475507802687231,
          -0.808620887480285,
          -0.17552478952105183,
          -1.0126133692310482,
          -3.675695561961809,
          0.028560931347580483,
          1.92983422047473,
          0.35556609859758814,
          -0.06511288145789168,
          -0.25838345482305736,
          -1.2400752553123529,
          -0.34078316151973576,
          0.5430289046145775,
          -0.8056959136889844,
          1.6300090038319708,
          0.1558133548094795,
          0.09620023351258908,
          -0.7846317882449255,
          -2.5182101025471333,
          0.5562799597495309,
          0.16046651940046647,
          -0.21954404954103748,
          -0.32808367130031724,
          0.7209387084058826,
          -0.0345397981985188,
          -0.09495490706369364,
          -0.8910145283144787
         ],
         "yaxis": "y2"
        },
        {
         "line": {
          "color": "rgba(128, 128, 128, 1.0)",
          "dash": "solid",
          "shape": "linear",
          "width": 1.3
         },
         "marker": {
          "size": 2,
          "symbol": "circle"
         },
         "mode": "markers",
         "name": "A",
         "text": "",
         "type": "scatter",
         "x": [
          0.3682377144132527,
          0.3466890761278271,
          -0.36913753005199823,
          0.18514537841315948,
          -1.0887193428018571,
          0.8197485014104589,
          -1.2480792457914922,
          0.8032857896965091,
          -0.7372634145936622,
          1.8916263785651137,
          -1.0091640111893094,
          0.6669618923940757,
          -1.2347372819390838,
          0.3586286742808286,
          -0.17797767358538108,
          0.14261496579823077,
          -1.6054052554704594,
          1.1746627862690353,
          0.22194911958937508,
          -0.3491598059032676,
          -0.9997487538488474,
          0.9665740152979908,
          -0.5974613801113016,
          1.2027824998329095,
          0.8055499031272653,
          -1.1705064006479604,
          0.805894459386693,
          0.08228254999688683,
          1.0887366927019209,
          1.4106915911500681,
          -0.867900972018244,
          -0.6339851583086878,
          -1.3890048876027952,
          -0.7127045563198836,
          0.4898398447200245,
          0.14869214579216922,
          0.9874702488096306,
          -0.5974306475460034,
          -0.059375257352179585,
          1.2348799507675814,
          0.45432412727610216,
          -0.39615476589886783,
          -0.6116096177234337,
          0.12343362764980646,
          -1.2793811350833177,
          1.7621541021838003,
          -1.6575406700058628,
          -0.9102543410907438,
          -1.8037290171758542,
          -0.562133591486102,
          -1.542449489376436,
          1.5622069830921548,
          -0.015535066606124135,
          0.19179000418996284,
          -0.3865933407686439,
          0.3767014127544314,
          -0.39035565729367816,
          -0.17593237649210466,
          0.5010787800055183,
          1.5068826796973953,
          0.7548535916650044,
          -0.09345064568866177,
          -0.6748023482836941,
          -0.007867500606330622,
          1.2452765230361882,
          -1.9797610765138551,
          2.288109166982434,
          0.3158001520261646,
          -1.0022812872462648,
          0.14323345564166073,
          0.9297586307776996,
          1.1613537249460568,
          -0.535713295674978,
          -0.04247466282924876,
          -1.0864391841694818,
          -0.17535156734247248,
          -1.0435435528269077,
          1.4972108118555416,
          0.5443510427237117,
          0.4522251302277498,
          -1.3806338969360445,
          1.5394722937803447,
          -0.5669625412314382,
          -0.09449124702752644,
          0.7425778961101418,
          0.4196628907191677,
          -0.2982502752981818,
          1.1018302596780367,
          1.041507789996542,
          0.1229506045307668,
          -0.3239100280384493,
          1.7517960645639947,
          -1.593660968080219,
          -0.29520459008899336,
          -1.1079059337127208,
          -0.8443831132442462,
          -1.105499520464632,
          0.31414854886524113,
          -0.19347118107445258,
          0.1949481448016391
         ],
         "xaxis": "x3",
         "y": [
          0.43576161330137125,
          0.0392002026600367,
          -0.0828096051226737,
          -0.06899993842236976,
          -0.7445185078343501,
          -0.5818104718774442,
          0.20812256881462257,
          1.5771047203879411,
          -0.6229410571707626,
          -0.2542553127090784,
          -0.8616883603461633,
          -0.6882323696812119,
          1.6091381292540365,
          -0.08960730935903875,
          1.477667203229447,
          -1.1289770047232348,
          -0.37757591613281366,
          -0.9555659233157126,
          -0.8716190463369677,
          2.3343739223771967,
          -0.5804185512560397,
          -0.34512219064872196,
          1.0009426139151563,
          -0.03638635948039409,
          -0.4795511213004423,
          -0.38710379078114443,
          -0.5982291373045885,
          0.8057103455189922,
          0.07653649862068276,
          1.8789206942278476,
          -1.9870408379249231,
          -1.2534934267964573,
          1.1424388929052163,
          -0.19667780218489977,
          0.6672725785699418,
          0.22197020125418726,
          0.40375610544655427,
          0.790455120710436,
          0.47759724675807447,
          1.188441738310553,
          2.5966130677908876,
          -0.6307284045262942,
          0.07962977335776215,
          0.3075091604528683,
          -1.4964756673073725,
          -0.12521366306897264,
          -1.2358732389987421,
          -0.2360811692397413,
          -2.282498392530906,
          0.7428373771981449,
          -0.6288414109073985,
          0.6230290519320041,
          0.716991257672416,
          0.2741062424132256,
          0.9315691700047641,
          2.246444132120593,
          -0.09798021170589394,
          -1.4133581682943,
          0.27061743914078784,
          0.5896664688392396,
          0.049326040185358244,
          -1.6878301432568965,
          -2.048608617619134,
          0.44524418456960363,
          -0.9380811961782093,
          -1.88596316407578,
          0.6201094070399932,
          -1.5569988864741955,
          -0.5969142673083347,
          1.7125329163547705,
          2.0185871649641642,
          -1.2330424798204571,
          1.2660998430994834,
          0.4475507802687231,
          -0.808620887480285,
          -0.17552478952105183,
          -1.0126133692310482,
          -3.675695561961809,
          0.028560931347580483,
          1.92983422047473,
          0.35556609859758814,
          -0.06511288145789168,
          -0.25838345482305736,
          -1.2400752553123529,
          -0.34078316151973576,
          0.5430289046145775,
          -0.8056959136889844,
          1.6300090038319708,
          0.1558133548094795,
          0.09620023351258908,
          -0.7846317882449255,
          -2.5182101025471333,
          0.5562799597495309,
          0.16046651940046647,
          -0.21954404954103748,
          -0.32808367130031724,
          0.7209387084058826,
          -0.0345397981985188,
          -0.09495490706369364,
          -0.8910145283144787
         ],
         "yaxis": "y3"
        },
        {
         "line": {
          "color": "rgba(128, 128, 128, 1.0)",
          "dash": "solid",
          "shape": "linear",
          "width": 1.3
         },
         "marker": {
          "size": 2,
          "symbol": "circle"
         },
         "mode": "markers",
         "name": "A",
         "text": "",
         "type": "scatter",
         "x": [
          -0.9461952856679982,
          0.6490505117458512,
          -2.8856777417148423,
          0.7543179079921039,
          -1.2620466925622829,
          -0.29671662214552724,
          -0.12432979792114747,
          0.4055078787706235,
          -1.6849278164940076,
          0.7592765208403887,
          0.7295973675512063,
          -1.2289778806316503,
          0.4746662390192041,
          -1.9467463645444505,
          1.279041672422795,
          0.28596923632067106,
          -1.1047989995477818,
          -0.2750916111734189,
          -0.004445869216080266,
          -0.8447524529656686,
          -1.0847559402515845,
          -0.36831017623822854,
          1.7849046353242075,
          0.09457412928279552,
          -1.5220100918781827,
          -0.7204173596427004,
          -0.8406541388820522,
          1.7828216483160868,
          0.5723990541038184,
          0.04134495585573406,
          -0.043738453631860075,
          -0.062351447856486206,
          -1.029165749659944,
          -0.6464275203370826,
          -2.4790377438704385,
          0.8924262480171544,
          -0.09287039344225873,
          -0.5987040240203508,
          -0.3852951367141403,
          -0.5946067828347857,
          -1.338306940118594,
          -1.143664724386562,
          0.23717244680581728,
          -1.0553239866701294,
          -1.768056578374799,
          -0.43961323355406806,
          -1.8203198565273977,
          0.2950382232612245,
          0.241784236809698,
          -0.609871180395315,
          1.1389627799474984,
          0.09800288010116572,
          -0.31334022306554643,
          -0.11281582001464618,
          -0.8450599277568367,
          1.0914831382708754,
          -0.06812203830684074,
          -0.06485931824662995,
          0.06345771885869014,
          0.780898024037899,
          0.38519174605760986,
          1.5596975457436253,
          -1.1573456724277826,
          1.4445043903679835,
          0.10738099318593422,
          -0.6889425940821164,
          -0.10029195797902998,
          0.17541820166233416,
          0.4910207830569502,
          0.5130207172331803,
          -2.1113232049226838,
          0.7494933159230787,
          0.2930842867454575,
          -0.9881669095762277,
          -2.252876926788418,
          -0.613739798262879,
          0.11338688536083144,
          0.1529186605142726,
          0.5601423111987032,
          0.27164095954332557,
          -0.590306556357339,
          -0.19359801024144416,
          -0.5727331843839251,
          1.8325506531733573,
          1.149233790873831,
          -2.393557334344154,
          -1.2250112430753446,
          -0.9124986713695532,
          -0.03101020857729068,
          0.90728421512498,
          -0.3583318565094099,
          2.519005246911356,
          -0.4151337693932833,
          0.03665958749737384,
          -0.4331483093163314,
          1.9034225405674647,
          0.6279386320745678,
          -0.8565835172293262,
          0.6026905340869714,
          -0.08280840058685728
         ],
         "xaxis": "x4",
         "y": [
          0.43576161330137125,
          0.0392002026600367,
          -0.0828096051226737,
          -0.06899993842236976,
          -0.7445185078343501,
          -0.5818104718774442,
          0.20812256881462257,
          1.5771047203879411,
          -0.6229410571707626,
          -0.2542553127090784,
          -0.8616883603461633,
          -0.6882323696812119,
          1.6091381292540365,
          -0.08960730935903875,
          1.477667203229447,
          -1.1289770047232348,
          -0.37757591613281366,
          -0.9555659233157126,
          -0.8716190463369677,
          2.3343739223771967,
          -0.5804185512560397,
          -0.34512219064872196,
          1.0009426139151563,
          -0.03638635948039409,
          -0.4795511213004423,
          -0.38710379078114443,
          -0.5982291373045885,
          0.8057103455189922,
          0.07653649862068276,
          1.8789206942278476,
          -1.9870408379249231,
          -1.2534934267964573,
          1.1424388929052163,
          -0.19667780218489977,
          0.6672725785699418,
          0.22197020125418726,
          0.40375610544655427,
          0.790455120710436,
          0.47759724675807447,
          1.188441738310553,
          2.5966130677908876,
          -0.6307284045262942,
          0.07962977335776215,
          0.3075091604528683,
          -1.4964756673073725,
          -0.12521366306897264,
          -1.2358732389987421,
          -0.2360811692397413,
          -2.282498392530906,
          0.7428373771981449,
          -0.6288414109073985,
          0.6230290519320041,
          0.716991257672416,
          0.2741062424132256,
          0.9315691700047641,
          2.246444132120593,
          -0.09798021170589394,
          -1.4133581682943,
          0.27061743914078784,
          0.5896664688392396,
          0.049326040185358244,
          -1.6878301432568965,
          -2.048608617619134,
          0.44524418456960363,
          -0.9380811961782093,
          -1.88596316407578,
          0.6201094070399932,
          -1.5569988864741955,
          -0.5969142673083347,
          1.7125329163547705,
          2.0185871649641642,
          -1.2330424798204571,
          1.2660998430994834,
          0.4475507802687231,
          -0.808620887480285,
          -0.17552478952105183,
          -1.0126133692310482,
          -3.675695561961809,
          0.028560931347580483,
          1.92983422047473,
          0.35556609859758814,
          -0.06511288145789168,
          -0.25838345482305736,
          -1.2400752553123529,
          -0.34078316151973576,
          0.5430289046145775,
          -0.8056959136889844,
          1.6300090038319708,
          0.1558133548094795,
          0.09620023351258908,
          -0.7846317882449255,
          -2.5182101025471333,
          0.5562799597495309,
          0.16046651940046647,
          -0.21954404954103748,
          -0.32808367130031724,
          0.7209387084058826,
          -0.0345397981985188,
          -0.09495490706369364,
          -0.8910145283144787
         ],
         "yaxis": "y4"
        },
        {
         "line": {
          "color": "rgba(128, 128, 128, 1.0)",
          "dash": "solid",
          "shape": "linear",
          "width": 1.3
         },
         "marker": {
          "size": 2,
          "symbol": "circle"
         },
         "mode": "markers",
         "name": "B",
         "text": "",
         "type": "scatter",
         "x": [
          0.43576161330137125,
          0.0392002026600367,
          -0.0828096051226737,
          -0.06899993842236976,
          -0.7445185078343501,
          -0.5818104718774442,
          0.20812256881462257,
          1.5771047203879411,
          -0.6229410571707626,
          -0.2542553127090784,
          -0.8616883603461633,
          -0.6882323696812119,
          1.6091381292540365,
          -0.08960730935903875,
          1.477667203229447,
          -1.1289770047232348,
          -0.37757591613281366,
          -0.9555659233157126,
          -0.8716190463369677,
          2.3343739223771967,
          -0.5804185512560397,
          -0.34512219064872196,
          1.0009426139151563,
          -0.03638635948039409,
          -0.4795511213004423,
          -0.38710379078114443,
          -0.5982291373045885,
          0.8057103455189922,
          0.07653649862068276,
          1.8789206942278476,
          -1.9870408379249231,
          -1.2534934267964573,
          1.1424388929052163,
          -0.19667780218489977,
          0.6672725785699418,
          0.22197020125418726,
          0.40375610544655427,
          0.790455120710436,
          0.47759724675807447,
          1.188441738310553,
          2.5966130677908876,
          -0.6307284045262942,
          0.07962977335776215,
          0.3075091604528683,
          -1.4964756673073725,
          -0.12521366306897264,
          -1.2358732389987421,
          -0.2360811692397413,
          -2.282498392530906,
          0.7428373771981449,
          -0.6288414109073985,
          0.6230290519320041,
          0.716991257672416,
          0.2741062424132256,
          0.9315691700047641,
          2.246444132120593,
          -0.09798021170589394,
          -1.4133581682943,
          0.27061743914078784,
          0.5896664688392396,
          0.049326040185358244,
          -1.6878301432568965,
          -2.048608617619134,
          0.44524418456960363,
          -0.9380811961782093,
          -1.88596316407578,
          0.6201094070399932,
          -1.5569988864741955,
          -0.5969142673083347,
          1.7125329163547705,
          2.0185871649641642,
          -1.2330424798204571,
          1.2660998430994834,
          0.4475507802687231,
          -0.808620887480285,
          -0.17552478952105183,
          -1.0126133692310482,
          -3.675695561961809,
          0.028560931347580483,
          1.92983422047473,
          0.35556609859758814,
          -0.06511288145789168,
          -0.25838345482305736,
          -1.2400752553123529,
          -0.34078316151973576,
          0.5430289046145775,
          -0.8056959136889844,
          1.6300090038319708,
          0.1558133548094795,
          0.09620023351258908,
          -0.7846317882449255,
          -2.5182101025471333,
          0.5562799597495309,
          0.16046651940046647,
          -0.21954404954103748,
          -0.32808367130031724,
          0.7209387084058826,
          -0.0345397981985188,
          -0.09495490706369364,
          -0.8910145283144787
         ],
         "xaxis": "x5",
         "y": [
          0.7470965589601339,
          -1.5219044668573725,
          -0.09809943298661565,
          -1.250222948666942,
          -0.698474158306239,
          0.9150731563300875,
          -1.7165979226019592,
          -1.2451154557852744,
          -0.4204666686443543,
          -0.0012794767147798895,
          -0.261186490901393,
          -0.3538924472485142,
          1.9908666564163198,
          0.851133799942738,
          1.5852483356617322,
          0.9124402543743519,
          0.5349719533559576,
          -0.7486594206111689,
          0.4215163263542885,
          -0.477420154232497,
          0.7682913569156996,
          1.1072895097909077,
          2.054407350902693,
          1.6175776756957496,
          0.5611477786926051,
          1.4031946166589802,
          -1.0167138268528113,
          0.19646954503078082,
          0.945974554393974,
          0.9408949156430599,
          1.1413517627554308,
          -0.1357448260510389,
          -0.04351760173125842,
          -0.8512903450571877,
          0.91744346009552,
          -0.1542511662085185,
          0.7063318506651899,
          -0.3031156931539478,
          -1.6443563957714007,
          1.2650837687557859,
          -0.8311250713611842,
          0.13834368861202084,
          0.31895857306174547,
          -0.5449946250740695,
          -3.262605243961339,
          -1.418654021604739,
          1.7861024688943528,
          0.6224571859649373,
          0.09101051584656397,
          0.6521919226727627,
          1.3058238267837332,
          -1.0018932539119865,
          0.36743339504271666,
          0.7195461980329014,
          -0.7852233456105248,
          -0.5934846408673413,
          -1.8222702027000843,
          -0.6168587967023298,
          -0.5414383002922646,
          -0.5421020917700555,
          0.12406293568327871,
          2.325695325282169,
          -0.3056098266005972,
          -1.2400002200650149,
          -0.7547227374480309,
          0.053572223237500154,
          1.209431097011376,
          2.2161223547948716,
          -0.42419252357043197,
          0.47008337374490233,
          -1.2385983525496629,
          0.4083282423594256,
          1.1018396289990668,
          -1.3439267263174357,
          -1.2148010375833018,
          1.378503549128289,
          -0.865442571080681,
          1.4981255490911167,
          0.5268652709491807,
          -0.5864705000603173,
          -0.03251046298779092,
          -1.657971247262324,
          0.5387740305912381,
          0.33891930104974144,
          -0.017631905464170265,
          0.235035832459136,
          -0.22302903550297953,
          -0.42911270255814304,
          0.45012009799066305,
          -0.9780296593173486,
          -0.11851579616469118,
          1.047681204062073,
          0.9889001376060471,
          1.3966008775466294,
          0.09077097106105908,
          1.3376388975447437,
          -0.2036133802195914,
          -0.11638871633048702,
          -0.054452121594433106,
          0.382117572004654
         ],
         "yaxis": "y5"
        },
        {
         "histfunc": "count",
         "histnorm": "",
         "marker": {
          "color": "rgba(55, 128, 191, 1.0)",
          "line": {
           "color": "#4D5663",
           "width": 1.3
          }
         },
         "name": "B",
         "nbinsx": 10,
         "opacity": 0.8,
         "orientation": "v",
         "type": "histogram",
         "x": [
          0.7470965589601339,
          -1.5219044668573725,
          -0.09809943298661565,
          -1.250222948666942,
          -0.698474158306239,
          0.9150731563300875,
          -1.7165979226019592,
          -1.2451154557852744,
          -0.4204666686443543,
          -0.0012794767147798895,
          -0.261186490901393,
          -0.3538924472485142,
          1.9908666564163198,
          0.851133799942738,
          1.5852483356617322,
          0.9124402543743519,
          0.5349719533559576,
          -0.7486594206111689,
          0.4215163263542885,
          -0.477420154232497,
          0.7682913569156996,
          1.1072895097909077,
          2.054407350902693,
          1.6175776756957496,
          0.5611477786926051,
          1.4031946166589802,
          -1.0167138268528113,
          0.19646954503078082,
          0.945974554393974,
          0.9408949156430599,
          1.1413517627554308,
          -0.1357448260510389,
          -0.04351760173125842,
          -0.8512903450571877,
          0.91744346009552,
          -0.1542511662085185,
          0.7063318506651899,
          -0.3031156931539478,
          -1.6443563957714007,
          1.2650837687557859,
          -0.8311250713611842,
          0.13834368861202084,
          0.31895857306174547,
          -0.5449946250740695,
          -3.262605243961339,
          -1.418654021604739,
          1.7861024688943528,
          0.6224571859649373,
          0.09101051584656397,
          0.6521919226727627,
          1.3058238267837332,
          -1.0018932539119865,
          0.36743339504271666,
          0.7195461980329014,
          -0.7852233456105248,
          -0.5934846408673413,
          -1.8222702027000843,
          -0.6168587967023298,
          -0.5414383002922646,
          -0.5421020917700555,
          0.12406293568327871,
          2.325695325282169,
          -0.3056098266005972,
          -1.2400002200650149,
          -0.7547227374480309,
          0.053572223237500154,
          1.209431097011376,
          2.2161223547948716,
          -0.42419252357043197,
          0.47008337374490233,
          -1.2385983525496629,
          0.4083282423594256,
          1.1018396289990668,
          -1.3439267263174357,
          -1.2148010375833018,
          1.378503549128289,
          -0.865442571080681,
          1.4981255490911167,
          0.5268652709491807,
          -0.5864705000603173,
          -0.03251046298779092,
          -1.657971247262324,
          0.5387740305912381,
          0.33891930104974144,
          -0.017631905464170265,
          0.235035832459136,
          -0.22302903550297953,
          -0.42911270255814304,
          0.45012009799066305,
          -0.9780296593173486,
          -0.11851579616469118,
          1.047681204062073,
          0.9889001376060471,
          1.3966008775466294,
          0.09077097106105908,
          1.3376388975447437,
          -0.2036133802195914,
          -0.11638871633048702,
          -0.054452121594433106,
          0.382117572004654
         ],
         "xaxis": "x6",
         "yaxis": "y6"
        },
        {
         "line": {
          "color": "rgba(128, 128, 128, 1.0)",
          "dash": "solid",
          "shape": "linear",
          "width": 1.3
         },
         "marker": {
          "size": 2,
          "symbol": "circle"
         },
         "mode": "markers",
         "name": "B",
         "text": "",
         "type": "scatter",
         "x": [
          0.3682377144132527,
          0.3466890761278271,
          -0.36913753005199823,
          0.18514537841315948,
          -1.0887193428018571,
          0.8197485014104589,
          -1.2480792457914922,
          0.8032857896965091,
          -0.7372634145936622,
          1.8916263785651137,
          -1.0091640111893094,
          0.6669618923940757,
          -1.2347372819390838,
          0.3586286742808286,
          -0.17797767358538108,
          0.14261496579823077,
          -1.6054052554704594,
          1.1746627862690353,
          0.22194911958937508,
          -0.3491598059032676,
          -0.9997487538488474,
          0.9665740152979908,
          -0.5974613801113016,
          1.2027824998329095,
          0.8055499031272653,
          -1.1705064006479604,
          0.805894459386693,
          0.08228254999688683,
          1.0887366927019209,
          1.4106915911500681,
          -0.867900972018244,
          -0.6339851583086878,
          -1.3890048876027952,
          -0.7127045563198836,
          0.4898398447200245,
          0.14869214579216922,
          0.9874702488096306,
          -0.5974306475460034,
          -0.059375257352179585,
          1.2348799507675814,
          0.45432412727610216,
          -0.39615476589886783,
          -0.6116096177234337,
          0.12343362764980646,
          -1.2793811350833177,
          1.7621541021838003,
          -1.6575406700058628,
          -0.9102543410907438,
          -1.8037290171758542,
          -0.562133591486102,
          -1.542449489376436,
          1.5622069830921548,
          -0.015535066606124135,
          0.19179000418996284,
          -0.3865933407686439,
          0.3767014127544314,
          -0.39035565729367816,
          -0.17593237649210466,
          0.5010787800055183,
          1.5068826796973953,
          0.7548535916650044,
          -0.09345064568866177,
          -0.6748023482836941,
          -0.007867500606330622,
          1.2452765230361882,
          -1.9797610765138551,
          2.288109166982434,
          0.3158001520261646,
          -1.0022812872462648,
          0.14323345564166073,
          0.9297586307776996,
          1.1613537249460568,
          -0.535713295674978,
          -0.04247466282924876,
          -1.0864391841694818,
          -0.17535156734247248,
          -1.0435435528269077,
          1.4972108118555416,
          0.5443510427237117,
          0.4522251302277498,
          -1.3806338969360445,
          1.5394722937803447,
          -0.5669625412314382,
          -0.09449124702752644,
          0.7425778961101418,
          0.4196628907191677,
          -0.2982502752981818,
          1.1018302596780367,
          1.041507789996542,
          0.1229506045307668,
          -0.3239100280384493,
          1.7517960645639947,
          -1.593660968080219,
          -0.29520459008899336,
          -1.1079059337127208,
          -0.8443831132442462,
          -1.105499520464632,
          0.31414854886524113,
          -0.19347118107445258,
          0.1949481448016391
         ],
         "xaxis": "x7",
         "y": [
          0.7470965589601339,
          -1.5219044668573725,
          -0.09809943298661565,
          -1.250222948666942,
          -0.698474158306239,
          0.9150731563300875,
          -1.7165979226019592,
          -1.2451154557852744,
          -0.4204666686443543,
          -0.0012794767147798895,
          -0.261186490901393,
          -0.3538924472485142,
          1.9908666564163198,
          0.851133799942738,
          1.5852483356617322,
          0.9124402543743519,
          0.5349719533559576,
          -0.7486594206111689,
          0.4215163263542885,
          -0.477420154232497,
          0.7682913569156996,
          1.1072895097909077,
          2.054407350902693,
          1.6175776756957496,
          0.5611477786926051,
          1.4031946166589802,
          -1.0167138268528113,
          0.19646954503078082,
          0.945974554393974,
          0.9408949156430599,
          1.1413517627554308,
          -0.1357448260510389,
          -0.04351760173125842,
          -0.8512903450571877,
          0.91744346009552,
          -0.1542511662085185,
          0.7063318506651899,
          -0.3031156931539478,
          -1.6443563957714007,
          1.2650837687557859,
          -0.8311250713611842,
          0.13834368861202084,
          0.31895857306174547,
          -0.5449946250740695,
          -3.262605243961339,
          -1.418654021604739,
          1.7861024688943528,
          0.6224571859649373,
          0.09101051584656397,
          0.6521919226727627,
          1.3058238267837332,
          -1.0018932539119865,
          0.36743339504271666,
          0.7195461980329014,
          -0.7852233456105248,
          -0.5934846408673413,
          -1.8222702027000843,
          -0.6168587967023298,
          -0.5414383002922646,
          -0.5421020917700555,
          0.12406293568327871,
          2.325695325282169,
          -0.3056098266005972,
          -1.2400002200650149,
          -0.7547227374480309,
          0.053572223237500154,
          1.209431097011376,
          2.2161223547948716,
          -0.42419252357043197,
          0.47008337374490233,
          -1.2385983525496629,
          0.4083282423594256,
          1.1018396289990668,
          -1.3439267263174357,
          -1.2148010375833018,
          1.378503549128289,
          -0.865442571080681,
          1.4981255490911167,
          0.5268652709491807,
          -0.5864705000603173,
          -0.03251046298779092,
          -1.657971247262324,
          0.5387740305912381,
          0.33891930104974144,
          -0.017631905464170265,
          0.235035832459136,
          -0.22302903550297953,
          -0.42911270255814304,
          0.45012009799066305,
          -0.9780296593173486,
          -0.11851579616469118,
          1.047681204062073,
          0.9889001376060471,
          1.3966008775466294,
          0.09077097106105908,
          1.3376388975447437,
          -0.2036133802195914,
          -0.11638871633048702,
          -0.054452121594433106,
          0.382117572004654
         ],
         "yaxis": "y7"
        },
        {
         "line": {
          "color": "rgba(128, 128, 128, 1.0)",
          "dash": "solid",
          "shape": "linear",
          "width": 1.3
         },
         "marker": {
          "size": 2,
          "symbol": "circle"
         },
         "mode": "markers",
         "name": "B",
         "text": "",
         "type": "scatter",
         "x": [
          -0.9461952856679982,
          0.6490505117458512,
          -2.8856777417148423,
          0.7543179079921039,
          -1.2620466925622829,
          -0.29671662214552724,
          -0.12432979792114747,
          0.4055078787706235,
          -1.6849278164940076,
          0.7592765208403887,
          0.7295973675512063,
          -1.2289778806316503,
          0.4746662390192041,
          -1.9467463645444505,
          1.279041672422795,
          0.28596923632067106,
          -1.1047989995477818,
          -0.2750916111734189,
          -0.004445869216080266,
          -0.8447524529656686,
          -1.0847559402515845,
          -0.36831017623822854,
          1.7849046353242075,
          0.09457412928279552,
          -1.5220100918781827,
          -0.7204173596427004,
          -0.8406541388820522,
          1.7828216483160868,
          0.5723990541038184,
          0.04134495585573406,
          -0.043738453631860075,
          -0.062351447856486206,
          -1.029165749659944,
          -0.6464275203370826,
          -2.4790377438704385,
          0.8924262480171544,
          -0.09287039344225873,
          -0.5987040240203508,
          -0.3852951367141403,
          -0.5946067828347857,
          -1.338306940118594,
          -1.143664724386562,
          0.23717244680581728,
          -1.0553239866701294,
          -1.768056578374799,
          -0.43961323355406806,
          -1.8203198565273977,
          0.2950382232612245,
          0.241784236809698,
          -0.609871180395315,
          1.1389627799474984,
          0.09800288010116572,
          -0.31334022306554643,
          -0.11281582001464618,
          -0.8450599277568367,
          1.0914831382708754,
          -0.06812203830684074,
          -0.06485931824662995,
          0.06345771885869014,
          0.780898024037899,
          0.38519174605760986,
          1.5596975457436253,
          -1.1573456724277826,
          1.4445043903679835,
          0.10738099318593422,
          -0.6889425940821164,
          -0.10029195797902998,
          0.17541820166233416,
          0.4910207830569502,
          0.5130207172331803,
          -2.1113232049226838,
          0.7494933159230787,
          0.2930842867454575,
          -0.9881669095762277,
          -2.252876926788418,
          -0.613739798262879,
          0.11338688536083144,
          0.1529186605142726,
          0.5601423111987032,
          0.27164095954332557,
          -0.590306556357339,
          -0.19359801024144416,
          -0.5727331843839251,
          1.8325506531733573,
          1.149233790873831,
          -2.393557334344154,
          -1.2250112430753446,
          -0.9124986713695532,
          -0.03101020857729068,
          0.90728421512498,
          -0.3583318565094099,
          2.519005246911356,
          -0.4151337693932833,
          0.03665958749737384,
          -0.4331483093163314,
          1.9034225405674647,
          0.6279386320745678,
          -0.8565835172293262,
          0.6026905340869714,
          -0.08280840058685728
         ],
         "xaxis": "x8",
         "y": [
          0.7470965589601339,
          -1.5219044668573725,
          -0.09809943298661565,
          -1.250222948666942,
          -0.698474158306239,
          0.9150731563300875,
          -1.7165979226019592,
          -1.2451154557852744,
          -0.4204666686443543,
          -0.0012794767147798895,
          -0.261186490901393,
          -0.3538924472485142,
          1.9908666564163198,
          0.851133799942738,
          1.5852483356617322,
          0.9124402543743519,
          0.5349719533559576,
          -0.7486594206111689,
          0.4215163263542885,
          -0.477420154232497,
          0.7682913569156996,
          1.1072895097909077,
          2.054407350902693,
          1.6175776756957496,
          0.5611477786926051,
          1.4031946166589802,
          -1.0167138268528113,
          0.19646954503078082,
          0.945974554393974,
          0.9408949156430599,
          1.1413517627554308,
          -0.1357448260510389,
          -0.04351760173125842,
          -0.8512903450571877,
          0.91744346009552,
          -0.1542511662085185,
          0.7063318506651899,
          -0.3031156931539478,
          -1.6443563957714007,
          1.2650837687557859,
          -0.8311250713611842,
          0.13834368861202084,
          0.31895857306174547,
          -0.5449946250740695,
          -3.262605243961339,
          -1.418654021604739,
          1.7861024688943528,
          0.6224571859649373,
          0.09101051584656397,
          0.6521919226727627,
          1.3058238267837332,
          -1.0018932539119865,
          0.36743339504271666,
          0.7195461980329014,
          -0.7852233456105248,
          -0.5934846408673413,
          -1.8222702027000843,
          -0.6168587967023298,
          -0.5414383002922646,
          -0.5421020917700555,
          0.12406293568327871,
          2.325695325282169,
          -0.3056098266005972,
          -1.2400002200650149,
          -0.7547227374480309,
          0.053572223237500154,
          1.209431097011376,
          2.2161223547948716,
          -0.42419252357043197,
          0.47008337374490233,
          -1.2385983525496629,
          0.4083282423594256,
          1.1018396289990668,
          -1.3439267263174357,
          -1.2148010375833018,
          1.378503549128289,
          -0.865442571080681,
          1.4981255490911167,
          0.5268652709491807,
          -0.5864705000603173,
          -0.03251046298779092,
          -1.657971247262324,
          0.5387740305912381,
          0.33891930104974144,
          -0.017631905464170265,
          0.235035832459136,
          -0.22302903550297953,
          -0.42911270255814304,
          0.45012009799066305,
          -0.9780296593173486,
          -0.11851579616469118,
          1.047681204062073,
          0.9889001376060471,
          1.3966008775466294,
          0.09077097106105908,
          1.3376388975447437,
          -0.2036133802195914,
          -0.11638871633048702,
          -0.054452121594433106,
          0.382117572004654
         ],
         "yaxis": "y8"
        },
        {
         "line": {
          "color": "rgba(128, 128, 128, 1.0)",
          "dash": "solid",
          "shape": "linear",
          "width": 1.3
         },
         "marker": {
          "size": 2,
          "symbol": "circle"
         },
         "mode": "markers",
         "name": "C",
         "text": "",
         "type": "scatter",
         "x": [
          0.43576161330137125,
          0.0392002026600367,
          -0.0828096051226737,
          -0.06899993842236976,
          -0.7445185078343501,
          -0.5818104718774442,
          0.20812256881462257,
          1.5771047203879411,
          -0.6229410571707626,
          -0.2542553127090784,
          -0.8616883603461633,
          -0.6882323696812119,
          1.6091381292540365,
          -0.08960730935903875,
          1.477667203229447,
          -1.1289770047232348,
          -0.37757591613281366,
          -0.9555659233157126,
          -0.8716190463369677,
          2.3343739223771967,
          -0.5804185512560397,
          -0.34512219064872196,
          1.0009426139151563,
          -0.03638635948039409,
          -0.4795511213004423,
          -0.38710379078114443,
          -0.5982291373045885,
          0.8057103455189922,
          0.07653649862068276,
          1.8789206942278476,
          -1.9870408379249231,
          -1.2534934267964573,
          1.1424388929052163,
          -0.19667780218489977,
          0.6672725785699418,
          0.22197020125418726,
          0.40375610544655427,
          0.790455120710436,
          0.47759724675807447,
          1.188441738310553,
          2.5966130677908876,
          -0.6307284045262942,
          0.07962977335776215,
          0.3075091604528683,
          -1.4964756673073725,
          -0.12521366306897264,
          -1.2358732389987421,
          -0.2360811692397413,
          -2.282498392530906,
          0.7428373771981449,
          -0.6288414109073985,
          0.6230290519320041,
          0.716991257672416,
          0.2741062424132256,
          0.9315691700047641,
          2.246444132120593,
          -0.09798021170589394,
          -1.4133581682943,
          0.27061743914078784,
          0.5896664688392396,
          0.049326040185358244,
          -1.6878301432568965,
          -2.048608617619134,
          0.44524418456960363,
          -0.9380811961782093,
          -1.88596316407578,
          0.6201094070399932,
          -1.5569988864741955,
          -0.5969142673083347,
          1.7125329163547705,
          2.0185871649641642,
          -1.2330424798204571,
          1.2660998430994834,
          0.4475507802687231,
          -0.808620887480285,
          -0.17552478952105183,
          -1.0126133692310482,
          -3.675695561961809,
          0.028560931347580483,
          1.92983422047473,
          0.35556609859758814,
          -0.06511288145789168,
          -0.25838345482305736,
          -1.2400752553123529,
          -0.34078316151973576,
          0.5430289046145775,
          -0.8056959136889844,
          1.6300090038319708,
          0.1558133548094795,
          0.09620023351258908,
          -0.7846317882449255,
          -2.5182101025471333,
          0.5562799597495309,
          0.16046651940046647,
          -0.21954404954103748,
          -0.32808367130031724,
          0.7209387084058826,
          -0.0345397981985188,
          -0.09495490706369364,
          -0.8910145283144787
         ],
         "xaxis": "x9",
         "y": [
          0.3682377144132527,
          0.3466890761278271,
          -0.36913753005199823,
          0.18514537841315948,
          -1.0887193428018571,
          0.8197485014104589,
          -1.2480792457914922,
          0.8032857896965091,
          -0.7372634145936622,
          1.8916263785651137,
          -1.0091640111893094,
          0.6669618923940757,
          -1.2347372819390838,
          0.3586286742808286,
          -0.17797767358538108,
          0.14261496579823077,
          -1.6054052554704594,
          1.1746627862690353,
          0.22194911958937508,
          -0.3491598059032676,
          -0.9997487538488474,
          0.9665740152979908,
          -0.5974613801113016,
          1.2027824998329095,
          0.8055499031272653,
          -1.1705064006479604,
          0.805894459386693,
          0.08228254999688683,
          1.0887366927019209,
          1.4106915911500681,
          -0.867900972018244,
          -0.6339851583086878,
          -1.3890048876027952,
          -0.7127045563198836,
          0.4898398447200245,
          0.14869214579216922,
          0.9874702488096306,
          -0.5974306475460034,
          -0.059375257352179585,
          1.2348799507675814,
          0.45432412727610216,
          -0.39615476589886783,
          -0.6116096177234337,
          0.12343362764980646,
          -1.2793811350833177,
          1.7621541021838003,
          -1.6575406700058628,
          -0.9102543410907438,
          -1.8037290171758542,
          -0.562133591486102,
          -1.542449489376436,
          1.5622069830921548,
          -0.015535066606124135,
          0.19179000418996284,
          -0.3865933407686439,
          0.3767014127544314,
          -0.39035565729367816,
          -0.17593237649210466,
          0.5010787800055183,
          1.5068826796973953,
          0.7548535916650044,
          -0.09345064568866177,
          -0.6748023482836941,
          -0.007867500606330622,
          1.2452765230361882,
          -1.9797610765138551,
          2.288109166982434,
          0.3158001520261646,
          -1.0022812872462648,
          0.14323345564166073,
          0.9297586307776996,
          1.1613537249460568,
          -0.535713295674978,
          -0.04247466282924876,
          -1.0864391841694818,
          -0.17535156734247248,
          -1.0435435528269077,
          1.4972108118555416,
          0.5443510427237117,
          0.4522251302277498,
          -1.3806338969360445,
          1.5394722937803447,
          -0.5669625412314382,
          -0.09449124702752644,
          0.7425778961101418,
          0.4196628907191677,
          -0.2982502752981818,
          1.1018302596780367,
          1.041507789996542,
          0.1229506045307668,
          -0.3239100280384493,
          1.7517960645639947,
          -1.593660968080219,
          -0.29520459008899336,
          -1.1079059337127208,
          -0.8443831132442462,
          -1.105499520464632,
          0.31414854886524113,
          -0.19347118107445258,
          0.1949481448016391
         ],
         "yaxis": "y9"
        },
        {
         "line": {
          "color": "rgba(128, 128, 128, 1.0)",
          "dash": "solid",
          "shape": "linear",
          "width": 1.3
         },
         "marker": {
          "size": 2,
          "symbol": "circle"
         },
         "mode": "markers",
         "name": "C",
         "text": "",
         "type": "scatter",
         "x": [
          0.7470965589601339,
          -1.5219044668573725,
          -0.09809943298661565,
          -1.250222948666942,
          -0.698474158306239,
          0.9150731563300875,
          -1.7165979226019592,
          -1.2451154557852744,
          -0.4204666686443543,
          -0.0012794767147798895,
          -0.261186490901393,
          -0.3538924472485142,
          1.9908666564163198,
          0.851133799942738,
          1.5852483356617322,
          0.9124402543743519,
          0.5349719533559576,
          -0.7486594206111689,
          0.4215163263542885,
          -0.477420154232497,
          0.7682913569156996,
          1.1072895097909077,
          2.054407350902693,
          1.6175776756957496,
          0.5611477786926051,
          1.4031946166589802,
          -1.0167138268528113,
          0.19646954503078082,
          0.945974554393974,
          0.9408949156430599,
          1.1413517627554308,
          -0.1357448260510389,
          -0.04351760173125842,
          -0.8512903450571877,
          0.91744346009552,
          -0.1542511662085185,
          0.7063318506651899,
          -0.3031156931539478,
          -1.6443563957714007,
          1.2650837687557859,
          -0.8311250713611842,
          0.13834368861202084,
          0.31895857306174547,
          -0.5449946250740695,
          -3.262605243961339,
          -1.418654021604739,
          1.7861024688943528,
          0.6224571859649373,
          0.09101051584656397,
          0.6521919226727627,
          1.3058238267837332,
          -1.0018932539119865,
          0.36743339504271666,
          0.7195461980329014,
          -0.7852233456105248,
          -0.5934846408673413,
          -1.8222702027000843,
          -0.6168587967023298,
          -0.5414383002922646,
          -0.5421020917700555,
          0.12406293568327871,
          2.325695325282169,
          -0.3056098266005972,
          -1.2400002200650149,
          -0.7547227374480309,
          0.053572223237500154,
          1.209431097011376,
          2.2161223547948716,
          -0.42419252357043197,
          0.47008337374490233,
          -1.2385983525496629,
          0.4083282423594256,
          1.1018396289990668,
          -1.3439267263174357,
          -1.2148010375833018,
          1.378503549128289,
          -0.865442571080681,
          1.4981255490911167,
          0.5268652709491807,
          -0.5864705000603173,
          -0.03251046298779092,
          -1.657971247262324,
          0.5387740305912381,
          0.33891930104974144,
          -0.017631905464170265,
          0.235035832459136,
          -0.22302903550297953,
          -0.42911270255814304,
          0.45012009799066305,
          -0.9780296593173486,
          -0.11851579616469118,
          1.047681204062073,
          0.9889001376060471,
          1.3966008775466294,
          0.09077097106105908,
          1.3376388975447437,
          -0.2036133802195914,
          -0.11638871633048702,
          -0.054452121594433106,
          0.382117572004654
         ],
         "xaxis": "x10",
         "y": [
          0.3682377144132527,
          0.3466890761278271,
          -0.36913753005199823,
          0.18514537841315948,
          -1.0887193428018571,
          0.8197485014104589,
          -1.2480792457914922,
          0.8032857896965091,
          -0.7372634145936622,
          1.8916263785651137,
          -1.0091640111893094,
          0.6669618923940757,
          -1.2347372819390838,
          0.3586286742808286,
          -0.17797767358538108,
          0.14261496579823077,
          -1.6054052554704594,
          1.1746627862690353,
          0.22194911958937508,
          -0.3491598059032676,
          -0.9997487538488474,
          0.9665740152979908,
          -0.5974613801113016,
          1.2027824998329095,
          0.8055499031272653,
          -1.1705064006479604,
          0.805894459386693,
          0.08228254999688683,
          1.0887366927019209,
          1.4106915911500681,
          -0.867900972018244,
          -0.6339851583086878,
          -1.3890048876027952,
          -0.7127045563198836,
          0.4898398447200245,
          0.14869214579216922,
          0.9874702488096306,
          -0.5974306475460034,
          -0.059375257352179585,
          1.2348799507675814,
          0.45432412727610216,
          -0.39615476589886783,
          -0.6116096177234337,
          0.12343362764980646,
          -1.2793811350833177,
          1.7621541021838003,
          -1.6575406700058628,
          -0.9102543410907438,
          -1.8037290171758542,
          -0.562133591486102,
          -1.542449489376436,
          1.5622069830921548,
          -0.015535066606124135,
          0.19179000418996284,
          -0.3865933407686439,
          0.3767014127544314,
          -0.39035565729367816,
          -0.17593237649210466,
          0.5010787800055183,
          1.5068826796973953,
          0.7548535916650044,
          -0.09345064568866177,
          -0.6748023482836941,
          -0.007867500606330622,
          1.2452765230361882,
          -1.9797610765138551,
          2.288109166982434,
          0.3158001520261646,
          -1.0022812872462648,
          0.14323345564166073,
          0.9297586307776996,
          1.1613537249460568,
          -0.535713295674978,
          -0.04247466282924876,
          -1.0864391841694818,
          -0.17535156734247248,
          -1.0435435528269077,
          1.4972108118555416,
          0.5443510427237117,
          0.4522251302277498,
          -1.3806338969360445,
          1.5394722937803447,
          -0.5669625412314382,
          -0.09449124702752644,
          0.7425778961101418,
          0.4196628907191677,
          -0.2982502752981818,
          1.1018302596780367,
          1.041507789996542,
          0.1229506045307668,
          -0.3239100280384493,
          1.7517960645639947,
          -1.593660968080219,
          -0.29520459008899336,
          -1.1079059337127208,
          -0.8443831132442462,
          -1.105499520464632,
          0.31414854886524113,
          -0.19347118107445258,
          0.1949481448016391
         ],
         "yaxis": "y10"
        },
        {
         "histfunc": "count",
         "histnorm": "",
         "marker": {
          "color": "rgba(50, 171, 96, 1.0)",
          "line": {
           "color": "#4D5663",
           "width": 1.3
          }
         },
         "name": "C",
         "nbinsx": 10,
         "opacity": 0.8,
         "orientation": "v",
         "type": "histogram",
         "x": [
          0.3682377144132527,
          0.3466890761278271,
          -0.36913753005199823,
          0.18514537841315948,
          -1.0887193428018571,
          0.8197485014104589,
          -1.2480792457914922,
          0.8032857896965091,
          -0.7372634145936622,
          1.8916263785651137,
          -1.0091640111893094,
          0.6669618923940757,
          -1.2347372819390838,
          0.3586286742808286,
          -0.17797767358538108,
          0.14261496579823077,
          -1.6054052554704594,
          1.1746627862690353,
          0.22194911958937508,
          -0.3491598059032676,
          -0.9997487538488474,
          0.9665740152979908,
          -0.5974613801113016,
          1.2027824998329095,
          0.8055499031272653,
          -1.1705064006479604,
          0.805894459386693,
          0.08228254999688683,
          1.0887366927019209,
          1.4106915911500681,
          -0.867900972018244,
          -0.6339851583086878,
          -1.3890048876027952,
          -0.7127045563198836,
          0.4898398447200245,
          0.14869214579216922,
          0.9874702488096306,
          -0.5974306475460034,
          -0.059375257352179585,
          1.2348799507675814,
          0.45432412727610216,
          -0.39615476589886783,
          -0.6116096177234337,
          0.12343362764980646,
          -1.2793811350833177,
          1.7621541021838003,
          -1.6575406700058628,
          -0.9102543410907438,
          -1.8037290171758542,
          -0.562133591486102,
          -1.542449489376436,
          1.5622069830921548,
          -0.015535066606124135,
          0.19179000418996284,
          -0.3865933407686439,
          0.3767014127544314,
          -0.39035565729367816,
          -0.17593237649210466,
          0.5010787800055183,
          1.5068826796973953,
          0.7548535916650044,
          -0.09345064568866177,
          -0.6748023482836941,
          -0.007867500606330622,
          1.2452765230361882,
          -1.9797610765138551,
          2.288109166982434,
          0.3158001520261646,
          -1.0022812872462648,
          0.14323345564166073,
          0.9297586307776996,
          1.1613537249460568,
          -0.535713295674978,
          -0.04247466282924876,
          -1.0864391841694818,
          -0.17535156734247248,
          -1.0435435528269077,
          1.4972108118555416,
          0.5443510427237117,
          0.4522251302277498,
          -1.3806338969360445,
          1.5394722937803447,
          -0.5669625412314382,
          -0.09449124702752644,
          0.7425778961101418,
          0.4196628907191677,
          -0.2982502752981818,
          1.1018302596780367,
          1.041507789996542,
          0.1229506045307668,
          -0.3239100280384493,
          1.7517960645639947,
          -1.593660968080219,
          -0.29520459008899336,
          -1.1079059337127208,
          -0.8443831132442462,
          -1.105499520464632,
          0.31414854886524113,
          -0.19347118107445258,
          0.1949481448016391
         ],
         "xaxis": "x11",
         "yaxis": "y11"
        },
        {
         "line": {
          "color": "rgba(128, 128, 128, 1.0)",
          "dash": "solid",
          "shape": "linear",
          "width": 1.3
         },
         "marker": {
          "size": 2,
          "symbol": "circle"
         },
         "mode": "markers",
         "name": "C",
         "text": "",
         "type": "scatter",
         "x": [
          -0.9461952856679982,
          0.6490505117458512,
          -2.8856777417148423,
          0.7543179079921039,
          -1.2620466925622829,
          -0.29671662214552724,
          -0.12432979792114747,
          0.4055078787706235,
          -1.6849278164940076,
          0.7592765208403887,
          0.7295973675512063,
          -1.2289778806316503,
          0.4746662390192041,
          -1.9467463645444505,
          1.279041672422795,
          0.28596923632067106,
          -1.1047989995477818,
          -0.2750916111734189,
          -0.004445869216080266,
          -0.8447524529656686,
          -1.0847559402515845,
          -0.36831017623822854,
          1.7849046353242075,
          0.09457412928279552,
          -1.5220100918781827,
          -0.7204173596427004,
          -0.8406541388820522,
          1.7828216483160868,
          0.5723990541038184,
          0.04134495585573406,
          -0.043738453631860075,
          -0.062351447856486206,
          -1.029165749659944,
          -0.6464275203370826,
          -2.4790377438704385,
          0.8924262480171544,
          -0.09287039344225873,
          -0.5987040240203508,
          -0.3852951367141403,
          -0.5946067828347857,
          -1.338306940118594,
          -1.143664724386562,
          0.23717244680581728,
          -1.0553239866701294,
          -1.768056578374799,
          -0.43961323355406806,
          -1.8203198565273977,
          0.2950382232612245,
          0.241784236809698,
          -0.609871180395315,
          1.1389627799474984,
          0.09800288010116572,
          -0.31334022306554643,
          -0.11281582001464618,
          -0.8450599277568367,
          1.0914831382708754,
          -0.06812203830684074,
          -0.06485931824662995,
          0.06345771885869014,
          0.780898024037899,
          0.38519174605760986,
          1.5596975457436253,
          -1.1573456724277826,
          1.4445043903679835,
          0.10738099318593422,
          -0.6889425940821164,
          -0.10029195797902998,
          0.17541820166233416,
          0.4910207830569502,
          0.5130207172331803,
          -2.1113232049226838,
          0.7494933159230787,
          0.2930842867454575,
          -0.9881669095762277,
          -2.252876926788418,
          -0.613739798262879,
          0.11338688536083144,
          0.1529186605142726,
          0.5601423111987032,
          0.27164095954332557,
          -0.590306556357339,
          -0.19359801024144416,
          -0.5727331843839251,
          1.8325506531733573,
          1.149233790873831,
          -2.393557334344154,
          -1.2250112430753446,
          -0.9124986713695532,
          -0.03101020857729068,
          0.90728421512498,
          -0.3583318565094099,
          2.519005246911356,
          -0.4151337693932833,
          0.03665958749737384,
          -0.4331483093163314,
          1.9034225405674647,
          0.6279386320745678,
          -0.8565835172293262,
          0.6026905340869714,
          -0.08280840058685728
         ],
         "xaxis": "x12",
         "y": [
          0.3682377144132527,
          0.3466890761278271,
          -0.36913753005199823,
          0.18514537841315948,
          -1.0887193428018571,
          0.8197485014104589,
          -1.2480792457914922,
          0.8032857896965091,
          -0.7372634145936622,
          1.8916263785651137,
          -1.0091640111893094,
          0.6669618923940757,
          -1.2347372819390838,
          0.3586286742808286,
          -0.17797767358538108,
          0.14261496579823077,
          -1.6054052554704594,
          1.1746627862690353,
          0.22194911958937508,
          -0.3491598059032676,
          -0.9997487538488474,
          0.9665740152979908,
          -0.5974613801113016,
          1.2027824998329095,
          0.8055499031272653,
          -1.1705064006479604,
          0.805894459386693,
          0.08228254999688683,
          1.0887366927019209,
          1.4106915911500681,
          -0.867900972018244,
          -0.6339851583086878,
          -1.3890048876027952,
          -0.7127045563198836,
          0.4898398447200245,
          0.14869214579216922,
          0.9874702488096306,
          -0.5974306475460034,
          -0.059375257352179585,
          1.2348799507675814,
          0.45432412727610216,
          -0.39615476589886783,
          -0.6116096177234337,
          0.12343362764980646,
          -1.2793811350833177,
          1.7621541021838003,
          -1.6575406700058628,
          -0.9102543410907438,
          -1.8037290171758542,
          -0.562133591486102,
          -1.542449489376436,
          1.5622069830921548,
          -0.015535066606124135,
          0.19179000418996284,
          -0.3865933407686439,
          0.3767014127544314,
          -0.39035565729367816,
          -0.17593237649210466,
          0.5010787800055183,
          1.5068826796973953,
          0.7548535916650044,
          -0.09345064568866177,
          -0.6748023482836941,
          -0.007867500606330622,
          1.2452765230361882,
          -1.9797610765138551,
          2.288109166982434,
          0.3158001520261646,
          -1.0022812872462648,
          0.14323345564166073,
          0.9297586307776996,
          1.1613537249460568,
          -0.535713295674978,
          -0.04247466282924876,
          -1.0864391841694818,
          -0.17535156734247248,
          -1.0435435528269077,
          1.4972108118555416,
          0.5443510427237117,
          0.4522251302277498,
          -1.3806338969360445,
          1.5394722937803447,
          -0.5669625412314382,
          -0.09449124702752644,
          0.7425778961101418,
          0.4196628907191677,
          -0.2982502752981818,
          1.1018302596780367,
          1.041507789996542,
          0.1229506045307668,
          -0.3239100280384493,
          1.7517960645639947,
          -1.593660968080219,
          -0.29520459008899336,
          -1.1079059337127208,
          -0.8443831132442462,
          -1.105499520464632,
          0.31414854886524113,
          -0.19347118107445258,
          0.1949481448016391
         ],
         "yaxis": "y12"
        },
        {
         "line": {
          "color": "rgba(128, 128, 128, 1.0)",
          "dash": "solid",
          "shape": "linear",
          "width": 1.3
         },
         "marker": {
          "size": 2,
          "symbol": "circle"
         },
         "mode": "markers",
         "name": "D",
         "text": "",
         "type": "scatter",
         "x": [
          0.43576161330137125,
          0.0392002026600367,
          -0.0828096051226737,
          -0.06899993842236976,
          -0.7445185078343501,
          -0.5818104718774442,
          0.20812256881462257,
          1.5771047203879411,
          -0.6229410571707626,
          -0.2542553127090784,
          -0.8616883603461633,
          -0.6882323696812119,
          1.6091381292540365,
          -0.08960730935903875,
          1.477667203229447,
          -1.1289770047232348,
          -0.37757591613281366,
          -0.9555659233157126,
          -0.8716190463369677,
          2.3343739223771967,
          -0.5804185512560397,
          -0.34512219064872196,
          1.0009426139151563,
          -0.03638635948039409,
          -0.4795511213004423,
          -0.38710379078114443,
          -0.5982291373045885,
          0.8057103455189922,
          0.07653649862068276,
          1.8789206942278476,
          -1.9870408379249231,
          -1.2534934267964573,
          1.1424388929052163,
          -0.19667780218489977,
          0.6672725785699418,
          0.22197020125418726,
          0.40375610544655427,
          0.790455120710436,
          0.47759724675807447,
          1.188441738310553,
          2.5966130677908876,
          -0.6307284045262942,
          0.07962977335776215,
          0.3075091604528683,
          -1.4964756673073725,
          -0.12521366306897264,
          -1.2358732389987421,
          -0.2360811692397413,
          -2.282498392530906,
          0.7428373771981449,
          -0.6288414109073985,
          0.6230290519320041,
          0.716991257672416,
          0.2741062424132256,
          0.9315691700047641,
          2.246444132120593,
          -0.09798021170589394,
          -1.4133581682943,
          0.27061743914078784,
          0.5896664688392396,
          0.049326040185358244,
          -1.6878301432568965,
          -2.048608617619134,
          0.44524418456960363,
          -0.9380811961782093,
          -1.88596316407578,
          0.6201094070399932,
          -1.5569988864741955,
          -0.5969142673083347,
          1.7125329163547705,
          2.0185871649641642,
          -1.2330424798204571,
          1.2660998430994834,
          0.4475507802687231,
          -0.808620887480285,
          -0.17552478952105183,
          -1.0126133692310482,
          -3.675695561961809,
          0.028560931347580483,
          1.92983422047473,
          0.35556609859758814,
          -0.06511288145789168,
          -0.25838345482305736,
          -1.2400752553123529,
          -0.34078316151973576,
          0.5430289046145775,
          -0.8056959136889844,
          1.6300090038319708,
          0.1558133548094795,
          0.09620023351258908,
          -0.7846317882449255,
          -2.5182101025471333,
          0.5562799597495309,
          0.16046651940046647,
          -0.21954404954103748,
          -0.32808367130031724,
          0.7209387084058826,
          -0.0345397981985188,
          -0.09495490706369364,
          -0.8910145283144787
         ],
         "xaxis": "x13",
         "y": [
          -0.9461952856679982,
          0.6490505117458512,
          -2.8856777417148423,
          0.7543179079921039,
          -1.2620466925622829,
          -0.29671662214552724,
          -0.12432979792114747,
          0.4055078787706235,
          -1.6849278164940076,
          0.7592765208403887,
          0.7295973675512063,
          -1.2289778806316503,
          0.4746662390192041,
          -1.9467463645444505,
          1.279041672422795,
          0.28596923632067106,
          -1.1047989995477818,
          -0.2750916111734189,
          -0.004445869216080266,
          -0.8447524529656686,
          -1.0847559402515845,
          -0.36831017623822854,
          1.7849046353242075,
          0.09457412928279552,
          -1.5220100918781827,
          -0.7204173596427004,
          -0.8406541388820522,
          1.7828216483160868,
          0.5723990541038184,
          0.04134495585573406,
          -0.043738453631860075,
          -0.062351447856486206,
          -1.029165749659944,
          -0.6464275203370826,
          -2.4790377438704385,
          0.8924262480171544,
          -0.09287039344225873,
          -0.5987040240203508,
          -0.3852951367141403,
          -0.5946067828347857,
          -1.338306940118594,
          -1.143664724386562,
          0.23717244680581728,
          -1.0553239866701294,
          -1.768056578374799,
          -0.43961323355406806,
          -1.8203198565273977,
          0.2950382232612245,
          0.241784236809698,
          -0.609871180395315,
          1.1389627799474984,
          0.09800288010116572,
          -0.31334022306554643,
          -0.11281582001464618,
          -0.8450599277568367,
          1.0914831382708754,
          -0.06812203830684074,
          -0.06485931824662995,
          0.06345771885869014,
          0.780898024037899,
          0.38519174605760986,
          1.5596975457436253,
          -1.1573456724277826,
          1.4445043903679835,
          0.10738099318593422,
          -0.6889425940821164,
          -0.10029195797902998,
          0.17541820166233416,
          0.4910207830569502,
          0.5130207172331803,
          -2.1113232049226838,
          0.7494933159230787,
          0.2930842867454575,
          -0.9881669095762277,
          -2.252876926788418,
          -0.613739798262879,
          0.11338688536083144,
          0.1529186605142726,
          0.5601423111987032,
          0.27164095954332557,
          -0.590306556357339,
          -0.19359801024144416,
          -0.5727331843839251,
          1.8325506531733573,
          1.149233790873831,
          -2.393557334344154,
          -1.2250112430753446,
          -0.9124986713695532,
          -0.03101020857729068,
          0.90728421512498,
          -0.3583318565094099,
          2.519005246911356,
          -0.4151337693932833,
          0.03665958749737384,
          -0.4331483093163314,
          1.9034225405674647,
          0.6279386320745678,
          -0.8565835172293262,
          0.6026905340869714,
          -0.08280840058685728
         ],
         "yaxis": "y13"
        },
        {
         "line": {
          "color": "rgba(128, 128, 128, 1.0)",
          "dash": "solid",
          "shape": "linear",
          "width": 1.3
         },
         "marker": {
          "size": 2,
          "symbol": "circle"
         },
         "mode": "markers",
         "name": "D",
         "text": "",
         "type": "scatter",
         "x": [
          0.7470965589601339,
          -1.5219044668573725,
          -0.09809943298661565,
          -1.250222948666942,
          -0.698474158306239,
          0.9150731563300875,
          -1.7165979226019592,
          -1.2451154557852744,
          -0.4204666686443543,
          -0.0012794767147798895,
          -0.261186490901393,
          -0.3538924472485142,
          1.9908666564163198,
          0.851133799942738,
          1.5852483356617322,
          0.9124402543743519,
          0.5349719533559576,
          -0.7486594206111689,
          0.4215163263542885,
          -0.477420154232497,
          0.7682913569156996,
          1.1072895097909077,
          2.054407350902693,
          1.6175776756957496,
          0.5611477786926051,
          1.4031946166589802,
          -1.0167138268528113,
          0.19646954503078082,
          0.945974554393974,
          0.9408949156430599,
          1.1413517627554308,
          -0.1357448260510389,
          -0.04351760173125842,
          -0.8512903450571877,
          0.91744346009552,
          -0.1542511662085185,
          0.7063318506651899,
          -0.3031156931539478,
          -1.6443563957714007,
          1.2650837687557859,
          -0.8311250713611842,
          0.13834368861202084,
          0.31895857306174547,
          -0.5449946250740695,
          -3.262605243961339,
          -1.418654021604739,
          1.7861024688943528,
          0.6224571859649373,
          0.09101051584656397,
          0.6521919226727627,
          1.3058238267837332,
          -1.0018932539119865,
          0.36743339504271666,
          0.7195461980329014,
          -0.7852233456105248,
          -0.5934846408673413,
          -1.8222702027000843,
          -0.6168587967023298,
          -0.5414383002922646,
          -0.5421020917700555,
          0.12406293568327871,
          2.325695325282169,
          -0.3056098266005972,
          -1.2400002200650149,
          -0.7547227374480309,
          0.053572223237500154,
          1.209431097011376,
          2.2161223547948716,
          -0.42419252357043197,
          0.47008337374490233,
          -1.2385983525496629,
          0.4083282423594256,
          1.1018396289990668,
          -1.3439267263174357,
          -1.2148010375833018,
          1.378503549128289,
          -0.865442571080681,
          1.4981255490911167,
          0.5268652709491807,
          -0.5864705000603173,
          -0.03251046298779092,
          -1.657971247262324,
          0.5387740305912381,
          0.33891930104974144,
          -0.017631905464170265,
          0.235035832459136,
          -0.22302903550297953,
          -0.42911270255814304,
          0.45012009799066305,
          -0.9780296593173486,
          -0.11851579616469118,
          1.047681204062073,
          0.9889001376060471,
          1.3966008775466294,
          0.09077097106105908,
          1.3376388975447437,
          -0.2036133802195914,
          -0.11638871633048702,
          -0.054452121594433106,
          0.382117572004654
         ],
         "xaxis": "x14",
         "y": [
          -0.9461952856679982,
          0.6490505117458512,
          -2.8856777417148423,
          0.7543179079921039,
          -1.2620466925622829,
          -0.29671662214552724,
          -0.12432979792114747,
          0.4055078787706235,
          -1.6849278164940076,
          0.7592765208403887,
          0.7295973675512063,
          -1.2289778806316503,
          0.4746662390192041,
          -1.9467463645444505,
          1.279041672422795,
          0.28596923632067106,
          -1.1047989995477818,
          -0.2750916111734189,
          -0.004445869216080266,
          -0.8447524529656686,
          -1.0847559402515845,
          -0.36831017623822854,
          1.7849046353242075,
          0.09457412928279552,
          -1.5220100918781827,
          -0.7204173596427004,
          -0.8406541388820522,
          1.7828216483160868,
          0.5723990541038184,
          0.04134495585573406,
          -0.043738453631860075,
          -0.062351447856486206,
          -1.029165749659944,
          -0.6464275203370826,
          -2.4790377438704385,
          0.8924262480171544,
          -0.09287039344225873,
          -0.5987040240203508,
          -0.3852951367141403,
          -0.5946067828347857,
          -1.338306940118594,
          -1.143664724386562,
          0.23717244680581728,
          -1.0553239866701294,
          -1.768056578374799,
          -0.43961323355406806,
          -1.8203198565273977,
          0.2950382232612245,
          0.241784236809698,
          -0.609871180395315,
          1.1389627799474984,
          0.09800288010116572,
          -0.31334022306554643,
          -0.11281582001464618,
          -0.8450599277568367,
          1.0914831382708754,
          -0.06812203830684074,
          -0.06485931824662995,
          0.06345771885869014,
          0.780898024037899,
          0.38519174605760986,
          1.5596975457436253,
          -1.1573456724277826,
          1.4445043903679835,
          0.10738099318593422,
          -0.6889425940821164,
          -0.10029195797902998,
          0.17541820166233416,
          0.4910207830569502,
          0.5130207172331803,
          -2.1113232049226838,
          0.7494933159230787,
          0.2930842867454575,
          -0.9881669095762277,
          -2.252876926788418,
          -0.613739798262879,
          0.11338688536083144,
          0.1529186605142726,
          0.5601423111987032,
          0.27164095954332557,
          -0.590306556357339,
          -0.19359801024144416,
          -0.5727331843839251,
          1.8325506531733573,
          1.149233790873831,
          -2.393557334344154,
          -1.2250112430753446,
          -0.9124986713695532,
          -0.03101020857729068,
          0.90728421512498,
          -0.3583318565094099,
          2.519005246911356,
          -0.4151337693932833,
          0.03665958749737384,
          -0.4331483093163314,
          1.9034225405674647,
          0.6279386320745678,
          -0.8565835172293262,
          0.6026905340869714,
          -0.08280840058685728
         ],
         "yaxis": "y14"
        },
        {
         "line": {
          "color": "rgba(128, 128, 128, 1.0)",
          "dash": "solid",
          "shape": "linear",
          "width": 1.3
         },
         "marker": {
          "size": 2,
          "symbol": "circle"
         },
         "mode": "markers",
         "name": "D",
         "text": "",
         "type": "scatter",
         "x": [
          0.3682377144132527,
          0.3466890761278271,
          -0.36913753005199823,
          0.18514537841315948,
          -1.0887193428018571,
          0.8197485014104589,
          -1.2480792457914922,
          0.8032857896965091,
          -0.7372634145936622,
          1.8916263785651137,
          -1.0091640111893094,
          0.6669618923940757,
          -1.2347372819390838,
          0.3586286742808286,
          -0.17797767358538108,
          0.14261496579823077,
          -1.6054052554704594,
          1.1746627862690353,
          0.22194911958937508,
          -0.3491598059032676,
          -0.9997487538488474,
          0.9665740152979908,
          -0.5974613801113016,
          1.2027824998329095,
          0.8055499031272653,
          -1.1705064006479604,
          0.805894459386693,
          0.08228254999688683,
          1.0887366927019209,
          1.4106915911500681,
          -0.867900972018244,
          -0.6339851583086878,
          -1.3890048876027952,
          -0.7127045563198836,
          0.4898398447200245,
          0.14869214579216922,
          0.9874702488096306,
          -0.5974306475460034,
          -0.059375257352179585,
          1.2348799507675814,
          0.45432412727610216,
          -0.39615476589886783,
          -0.6116096177234337,
          0.12343362764980646,
          -1.2793811350833177,
          1.7621541021838003,
          -1.6575406700058628,
          -0.9102543410907438,
          -1.8037290171758542,
          -0.562133591486102,
          -1.542449489376436,
          1.5622069830921548,
          -0.015535066606124135,
          0.19179000418996284,
          -0.3865933407686439,
          0.3767014127544314,
          -0.39035565729367816,
          -0.17593237649210466,
          0.5010787800055183,
          1.5068826796973953,
          0.7548535916650044,
          -0.09345064568866177,
          -0.6748023482836941,
          -0.007867500606330622,
          1.2452765230361882,
          -1.9797610765138551,
          2.288109166982434,
          0.3158001520261646,
          -1.0022812872462648,
          0.14323345564166073,
          0.9297586307776996,
          1.1613537249460568,
          -0.535713295674978,
          -0.04247466282924876,
          -1.0864391841694818,
          -0.17535156734247248,
          -1.0435435528269077,
          1.4972108118555416,
          0.5443510427237117,
          0.4522251302277498,
          -1.3806338969360445,
          1.5394722937803447,
          -0.5669625412314382,
          -0.09449124702752644,
          0.7425778961101418,
          0.4196628907191677,
          -0.2982502752981818,
          1.1018302596780367,
          1.041507789996542,
          0.1229506045307668,
          -0.3239100280384493,
          1.7517960645639947,
          -1.593660968080219,
          -0.29520459008899336,
          -1.1079059337127208,
          -0.8443831132442462,
          -1.105499520464632,
          0.31414854886524113,
          -0.19347118107445258,
          0.1949481448016391
         ],
         "xaxis": "x15",
         "y": [
          -0.9461952856679982,
          0.6490505117458512,
          -2.8856777417148423,
          0.7543179079921039,
          -1.2620466925622829,
          -0.29671662214552724,
          -0.12432979792114747,
          0.4055078787706235,
          -1.6849278164940076,
          0.7592765208403887,
          0.7295973675512063,
          -1.2289778806316503,
          0.4746662390192041,
          -1.9467463645444505,
          1.279041672422795,
          0.28596923632067106,
          -1.1047989995477818,
          -0.2750916111734189,
          -0.004445869216080266,
          -0.8447524529656686,
          -1.0847559402515845,
          -0.36831017623822854,
          1.7849046353242075,
          0.09457412928279552,
          -1.5220100918781827,
          -0.7204173596427004,
          -0.8406541388820522,
          1.7828216483160868,
          0.5723990541038184,
          0.04134495585573406,
          -0.043738453631860075,
          -0.062351447856486206,
          -1.029165749659944,
          -0.6464275203370826,
          -2.4790377438704385,
          0.8924262480171544,
          -0.09287039344225873,
          -0.5987040240203508,
          -0.3852951367141403,
          -0.5946067828347857,
          -1.338306940118594,
          -1.143664724386562,
          0.23717244680581728,
          -1.0553239866701294,
          -1.768056578374799,
          -0.43961323355406806,
          -1.8203198565273977,
          0.2950382232612245,
          0.241784236809698,
          -0.609871180395315,
          1.1389627799474984,
          0.09800288010116572,
          -0.31334022306554643,
          -0.11281582001464618,
          -0.8450599277568367,
          1.0914831382708754,
          -0.06812203830684074,
          -0.06485931824662995,
          0.06345771885869014,
          0.780898024037899,
          0.38519174605760986,
          1.5596975457436253,
          -1.1573456724277826,
          1.4445043903679835,
          0.10738099318593422,
          -0.6889425940821164,
          -0.10029195797902998,
          0.17541820166233416,
          0.4910207830569502,
          0.5130207172331803,
          -2.1113232049226838,
          0.7494933159230787,
          0.2930842867454575,
          -0.9881669095762277,
          -2.252876926788418,
          -0.613739798262879,
          0.11338688536083144,
          0.1529186605142726,
          0.5601423111987032,
          0.27164095954332557,
          -0.590306556357339,
          -0.19359801024144416,
          -0.5727331843839251,
          1.8325506531733573,
          1.149233790873831,
          -2.393557334344154,
          -1.2250112430753446,
          -0.9124986713695532,
          -0.03101020857729068,
          0.90728421512498,
          -0.3583318565094099,
          2.519005246911356,
          -0.4151337693932833,
          0.03665958749737384,
          -0.4331483093163314,
          1.9034225405674647,
          0.6279386320745678,
          -0.8565835172293262,
          0.6026905340869714,
          -0.08280840058685728
         ],
         "yaxis": "y15"
        },
        {
         "histfunc": "count",
         "histnorm": "",
         "marker": {
          "color": "rgba(128, 0, 128, 1.0)",
          "line": {
           "color": "#4D5663",
           "width": 1.3
          }
         },
         "name": "D",
         "nbinsx": 10,
         "opacity": 0.8,
         "orientation": "v",
         "type": "histogram",
         "x": [
          -0.9461952856679982,
          0.6490505117458512,
          -2.8856777417148423,
          0.7543179079921039,
          -1.2620466925622829,
          -0.29671662214552724,
          -0.12432979792114747,
          0.4055078787706235,
          -1.6849278164940076,
          0.7592765208403887,
          0.7295973675512063,
          -1.2289778806316503,
          0.4746662390192041,
          -1.9467463645444505,
          1.279041672422795,
          0.28596923632067106,
          -1.1047989995477818,
          -0.2750916111734189,
          -0.004445869216080266,
          -0.8447524529656686,
          -1.0847559402515845,
          -0.36831017623822854,
          1.7849046353242075,
          0.09457412928279552,
          -1.5220100918781827,
          -0.7204173596427004,
          -0.8406541388820522,
          1.7828216483160868,
          0.5723990541038184,
          0.04134495585573406,
          -0.043738453631860075,
          -0.062351447856486206,
          -1.029165749659944,
          -0.6464275203370826,
          -2.4790377438704385,
          0.8924262480171544,
          -0.09287039344225873,
          -0.5987040240203508,
          -0.3852951367141403,
          -0.5946067828347857,
          -1.338306940118594,
          -1.143664724386562,
          0.23717244680581728,
          -1.0553239866701294,
          -1.768056578374799,
          -0.43961323355406806,
          -1.8203198565273977,
          0.2950382232612245,
          0.241784236809698,
          -0.609871180395315,
          1.1389627799474984,
          0.09800288010116572,
          -0.31334022306554643,
          -0.11281582001464618,
          -0.8450599277568367,
          1.0914831382708754,
          -0.06812203830684074,
          -0.06485931824662995,
          0.06345771885869014,
          0.780898024037899,
          0.38519174605760986,
          1.5596975457436253,
          -1.1573456724277826,
          1.4445043903679835,
          0.10738099318593422,
          -0.6889425940821164,
          -0.10029195797902998,
          0.17541820166233416,
          0.4910207830569502,
          0.5130207172331803,
          -2.1113232049226838,
          0.7494933159230787,
          0.2930842867454575,
          -0.9881669095762277,
          -2.252876926788418,
          -0.613739798262879,
          0.11338688536083144,
          0.1529186605142726,
          0.5601423111987032,
          0.27164095954332557,
          -0.590306556357339,
          -0.19359801024144416,
          -0.5727331843839251,
          1.8325506531733573,
          1.149233790873831,
          -2.393557334344154,
          -1.2250112430753446,
          -0.9124986713695532,
          -0.03101020857729068,
          0.90728421512498,
          -0.3583318565094099,
          2.519005246911356,
          -0.4151337693932833,
          0.03665958749737384,
          -0.4331483093163314,
          1.9034225405674647,
          0.6279386320745678,
          -0.8565835172293262,
          0.6026905340869714,
          -0.08280840058685728
         ],
         "xaxis": "x16",
         "yaxis": "y16"
        }
       ],
       "layout": {
        "bargap": 0.02,
        "legend": {
         "bgcolor": "#F5F6F9",
         "font": {
          "color": "#4D5663"
         }
        },
        "paper_bgcolor": "#F5F6F9",
        "plot_bgcolor": "#F5F6F9",
        "showlegend": false,
        "template": {
         "data": {
          "bar": [
           {
            "error_x": {
             "color": "#2a3f5f"
            },
            "error_y": {
             "color": "#2a3f5f"
            },
            "marker": {
             "line": {
              "color": "#E5ECF6",
              "width": 0.5
             },
             "pattern": {
              "fillmode": "overlay",
              "size": 10,
              "solidity": 0.2
             }
            },
            "type": "bar"
           }
          ],
          "barpolar": [
           {
            "marker": {
             "line": {
              "color": "#E5ECF6",
              "width": 0.5
             },
             "pattern": {
              "fillmode": "overlay",
              "size": 10,
              "solidity": 0.2
             }
            },
            "type": "barpolar"
           }
          ],
          "carpet": [
           {
            "aaxis": {
             "endlinecolor": "#2a3f5f",
             "gridcolor": "white",
             "linecolor": "white",
             "minorgridcolor": "white",
             "startlinecolor": "#2a3f5f"
            },
            "baxis": {
             "endlinecolor": "#2a3f5f",
             "gridcolor": "white",
             "linecolor": "white",
             "minorgridcolor": "white",
             "startlinecolor": "#2a3f5f"
            },
            "type": "carpet"
           }
          ],
          "choropleth": [
           {
            "colorbar": {
             "outlinewidth": 0,
             "ticks": ""
            },
            "type": "choropleth"
           }
          ],
          "contour": [
           {
            "colorbar": {
             "outlinewidth": 0,
             "ticks": ""
            },
            "colorscale": [
             [
              0,
              "#0d0887"
             ],
             [
              0.1111111111111111,
              "#46039f"
             ],
             [
              0.2222222222222222,
              "#7201a8"
             ],
             [
              0.3333333333333333,
              "#9c179e"
             ],
             [
              0.4444444444444444,
              "#bd3786"
             ],
             [
              0.5555555555555556,
              "#d8576b"
             ],
             [
              0.6666666666666666,
              "#ed7953"
             ],
             [
              0.7777777777777778,
              "#fb9f3a"
             ],
             [
              0.8888888888888888,
              "#fdca26"
             ],
             [
              1,
              "#f0f921"
             ]
            ],
            "type": "contour"
           }
          ],
          "contourcarpet": [
           {
            "colorbar": {
             "outlinewidth": 0,
             "ticks": ""
            },
            "type": "contourcarpet"
           }
          ],
          "heatmap": [
           {
            "colorbar": {
             "outlinewidth": 0,
             "ticks": ""
            },
            "colorscale": [
             [
              0,
              "#0d0887"
             ],
             [
              0.1111111111111111,
              "#46039f"
             ],
             [
              0.2222222222222222,
              "#7201a8"
             ],
             [
              0.3333333333333333,
              "#9c179e"
             ],
             [
              0.4444444444444444,
              "#bd3786"
             ],
             [
              0.5555555555555556,
              "#d8576b"
             ],
             [
              0.6666666666666666,
              "#ed7953"
             ],
             [
              0.7777777777777778,
              "#fb9f3a"
             ],
             [
              0.8888888888888888,
              "#fdca26"
             ],
             [
              1,
              "#f0f921"
             ]
            ],
            "type": "heatmap"
           }
          ],
          "heatmapgl": [
           {
            "colorbar": {
             "outlinewidth": 0,
             "ticks": ""
            },
            "colorscale": [
             [
              0,
              "#0d0887"
             ],
             [
              0.1111111111111111,
              "#46039f"
             ],
             [
              0.2222222222222222,
              "#7201a8"
             ],
             [
              0.3333333333333333,
              "#9c179e"
             ],
             [
              0.4444444444444444,
              "#bd3786"
             ],
             [
              0.5555555555555556,
              "#d8576b"
             ],
             [
              0.6666666666666666,
              "#ed7953"
             ],
             [
              0.7777777777777778,
              "#fb9f3a"
             ],
             [
              0.8888888888888888,
              "#fdca26"
             ],
             [
              1,
              "#f0f921"
             ]
            ],
            "type": "heatmapgl"
           }
          ],
          "histogram": [
           {
            "marker": {
             "pattern": {
              "fillmode": "overlay",
              "size": 10,
              "solidity": 0.2
             }
            },
            "type": "histogram"
           }
          ],
          "histogram2d": [
           {
            "colorbar": {
             "outlinewidth": 0,
             "ticks": ""
            },
            "colorscale": [
             [
              0,
              "#0d0887"
             ],
             [
              0.1111111111111111,
              "#46039f"
             ],
             [
              0.2222222222222222,
              "#7201a8"
             ],
             [
              0.3333333333333333,
              "#9c179e"
             ],
             [
              0.4444444444444444,
              "#bd3786"
             ],
             [
              0.5555555555555556,
              "#d8576b"
             ],
             [
              0.6666666666666666,
              "#ed7953"
             ],
             [
              0.7777777777777778,
              "#fb9f3a"
             ],
             [
              0.8888888888888888,
              "#fdca26"
             ],
             [
              1,
              "#f0f921"
             ]
            ],
            "type": "histogram2d"
           }
          ],
          "histogram2dcontour": [
           {
            "colorbar": {
             "outlinewidth": 0,
             "ticks": ""
            },
            "colorscale": [
             [
              0,
              "#0d0887"
             ],
             [
              0.1111111111111111,
              "#46039f"
             ],
             [
              0.2222222222222222,
              "#7201a8"
             ],
             [
              0.3333333333333333,
              "#9c179e"
             ],
             [
              0.4444444444444444,
              "#bd3786"
             ],
             [
              0.5555555555555556,
              "#d8576b"
             ],
             [
              0.6666666666666666,
              "#ed7953"
             ],
             [
              0.7777777777777778,
              "#fb9f3a"
             ],
             [
              0.8888888888888888,
              "#fdca26"
             ],
             [
              1,
              "#f0f921"
             ]
            ],
            "type": "histogram2dcontour"
           }
          ],
          "mesh3d": [
           {
            "colorbar": {
             "outlinewidth": 0,
             "ticks": ""
            },
            "type": "mesh3d"
           }
          ],
          "parcoords": [
           {
            "line": {
             "colorbar": {
              "outlinewidth": 0,
              "ticks": ""
             }
            },
            "type": "parcoords"
           }
          ],
          "pie": [
           {
            "automargin": true,
            "type": "pie"
           }
          ],
          "scatter": [
           {
            "marker": {
             "colorbar": {
              "outlinewidth": 0,
              "ticks": ""
             }
            },
            "type": "scatter"
           }
          ],
          "scatter3d": [
           {
            "line": {
             "colorbar": {
              "outlinewidth": 0,
              "ticks": ""
             }
            },
            "marker": {
             "colorbar": {
              "outlinewidth": 0,
              "ticks": ""
             }
            },
            "type": "scatter3d"
           }
          ],
          "scattercarpet": [
           {
            "marker": {
             "colorbar": {
              "outlinewidth": 0,
              "ticks": ""
             }
            },
            "type": "scattercarpet"
           }
          ],
          "scattergeo": [
           {
            "marker": {
             "colorbar": {
              "outlinewidth": 0,
              "ticks": ""
             }
            },
            "type": "scattergeo"
           }
          ],
          "scattergl": [
           {
            "marker": {
             "colorbar": {
              "outlinewidth": 0,
              "ticks": ""
             }
            },
            "type": "scattergl"
           }
          ],
          "scattermapbox": [
           {
            "marker": {
             "colorbar": {
              "outlinewidth": 0,
              "ticks": ""
             }
            },
            "type": "scattermapbox"
           }
          ],
          "scatterpolar": [
           {
            "marker": {
             "colorbar": {
              "outlinewidth": 0,
              "ticks": ""
             }
            },
            "type": "scatterpolar"
           }
          ],
          "scatterpolargl": [
           {
            "marker": {
             "colorbar": {
              "outlinewidth": 0,
              "ticks": ""
             }
            },
            "type": "scatterpolargl"
           }
          ],
          "scatterternary": [
           {
            "marker": {
             "colorbar": {
              "outlinewidth": 0,
              "ticks": ""
             }
            },
            "type": "scatterternary"
           }
          ],
          "surface": [
           {
            "colorbar": {
             "outlinewidth": 0,
             "ticks": ""
            },
            "colorscale": [
             [
              0,
              "#0d0887"
             ],
             [
              0.1111111111111111,
              "#46039f"
             ],
             [
              0.2222222222222222,
              "#7201a8"
             ],
             [
              0.3333333333333333,
              "#9c179e"
             ],
             [
              0.4444444444444444,
              "#bd3786"
             ],
             [
              0.5555555555555556,
              "#d8576b"
             ],
             [
              0.6666666666666666,
              "#ed7953"
             ],
             [
              0.7777777777777778,
              "#fb9f3a"
             ],
             [
              0.8888888888888888,
              "#fdca26"
             ],
             [
              1,
              "#f0f921"
             ]
            ],
            "type": "surface"
           }
          ],
          "table": [
           {
            "cells": {
             "fill": {
              "color": "#EBF0F8"
             },
             "line": {
              "color": "white"
             }
            },
            "header": {
             "fill": {
              "color": "#C8D4E3"
             },
             "line": {
              "color": "white"
             }
            },
            "type": "table"
           }
          ]
         },
         "layout": {
          "annotationdefaults": {
           "arrowcolor": "#2a3f5f",
           "arrowhead": 0,
           "arrowwidth": 1
          },
          "autotypenumbers": "strict",
          "coloraxis": {
           "colorbar": {
            "outlinewidth": 0,
            "ticks": ""
           }
          },
          "colorscale": {
           "diverging": [
            [
             0,
             "#8e0152"
            ],
            [
             0.1,
             "#c51b7d"
            ],
            [
             0.2,
             "#de77ae"
            ],
            [
             0.3,
             "#f1b6da"
            ],
            [
             0.4,
             "#fde0ef"
            ],
            [
             0.5,
             "#f7f7f7"
            ],
            [
             0.6,
             "#e6f5d0"
            ],
            [
             0.7,
             "#b8e186"
            ],
            [
             0.8,
             "#7fbc41"
            ],
            [
             0.9,
             "#4d9221"
            ],
            [
             1,
             "#276419"
            ]
           ],
           "sequential": [
            [
             0,
             "#0d0887"
            ],
            [
             0.1111111111111111,
             "#46039f"
            ],
            [
             0.2222222222222222,
             "#7201a8"
            ],
            [
             0.3333333333333333,
             "#9c179e"
            ],
            [
             0.4444444444444444,
             "#bd3786"
            ],
            [
             0.5555555555555556,
             "#d8576b"
            ],
            [
             0.6666666666666666,
             "#ed7953"
            ],
            [
             0.7777777777777778,
             "#fb9f3a"
            ],
            [
             0.8888888888888888,
             "#fdca26"
            ],
            [
             1,
             "#f0f921"
            ]
           ],
           "sequentialminus": [
            [
             0,
             "#0d0887"
            ],
            [
             0.1111111111111111,
             "#46039f"
            ],
            [
             0.2222222222222222,
             "#7201a8"
            ],
            [
             0.3333333333333333,
             "#9c179e"
            ],
            [
             0.4444444444444444,
             "#bd3786"
            ],
            [
             0.5555555555555556,
             "#d8576b"
            ],
            [
             0.6666666666666666,
             "#ed7953"
            ],
            [
             0.7777777777777778,
             "#fb9f3a"
            ],
            [
             0.8888888888888888,
             "#fdca26"
            ],
            [
             1,
             "#f0f921"
            ]
           ]
          },
          "colorway": [
           "#636efa",
           "#EF553B",
           "#00cc96",
           "#ab63fa",
           "#FFA15A",
           "#19d3f3",
           "#FF6692",
           "#B6E880",
           "#FF97FF",
           "#FECB52"
          ],
          "font": {
           "color": "#2a3f5f"
          },
          "geo": {
           "bgcolor": "white",
           "lakecolor": "white",
           "landcolor": "#E5ECF6",
           "showlakes": true,
           "showland": true,
           "subunitcolor": "white"
          },
          "hoverlabel": {
           "align": "left"
          },
          "hovermode": "closest",
          "mapbox": {
           "style": "light"
          },
          "paper_bgcolor": "white",
          "plot_bgcolor": "#E5ECF6",
          "polar": {
           "angularaxis": {
            "gridcolor": "white",
            "linecolor": "white",
            "ticks": ""
           },
           "bgcolor": "#E5ECF6",
           "radialaxis": {
            "gridcolor": "white",
            "linecolor": "white",
            "ticks": ""
           }
          },
          "scene": {
           "xaxis": {
            "backgroundcolor": "#E5ECF6",
            "gridcolor": "white",
            "gridwidth": 2,
            "linecolor": "white",
            "showbackground": true,
            "ticks": "",
            "zerolinecolor": "white"
           },
           "yaxis": {
            "backgroundcolor": "#E5ECF6",
            "gridcolor": "white",
            "gridwidth": 2,
            "linecolor": "white",
            "showbackground": true,
            "ticks": "",
            "zerolinecolor": "white"
           },
           "zaxis": {
            "backgroundcolor": "#E5ECF6",
            "gridcolor": "white",
            "gridwidth": 2,
            "linecolor": "white",
            "showbackground": true,
            "ticks": "",
            "zerolinecolor": "white"
           }
          },
          "shapedefaults": {
           "line": {
            "color": "#2a3f5f"
           }
          },
          "ternary": {
           "aaxis": {
            "gridcolor": "white",
            "linecolor": "white",
            "ticks": ""
           },
           "baxis": {
            "gridcolor": "white",
            "linecolor": "white",
            "ticks": ""
           },
           "bgcolor": "#E5ECF6",
           "caxis": {
            "gridcolor": "white",
            "linecolor": "white",
            "ticks": ""
           }
          },
          "title": {
           "x": 0.05
          },
          "xaxis": {
           "automargin": true,
           "gridcolor": "white",
           "linecolor": "white",
           "ticks": "",
           "title": {
            "standoff": 15
           },
           "zerolinecolor": "white",
           "zerolinewidth": 2
          },
          "yaxis": {
           "automargin": true,
           "gridcolor": "white",
           "linecolor": "white",
           "ticks": "",
           "title": {
            "standoff": 15
           },
           "zerolinecolor": "white",
           "zerolinewidth": 2
          }
         }
        },
        "title": {
         "font": {
          "color": "#4D5663"
         }
        },
        "xaxis": {
         "anchor": "y",
         "domain": [
          0,
          0.2125
         ],
         "gridcolor": "#E1E5ED",
         "showgrid": false,
         "tickfont": {
          "color": "#4D5663"
         },
         "title": {
          "font": {
           "color": "#4D5663"
          },
          "text": ""
         },
         "zerolinecolor": "#E1E5ED"
        },
        "xaxis10": {
         "anchor": "y10",
         "domain": [
          0.2625,
          0.475
         ],
         "gridcolor": "#E1E5ED",
         "showgrid": false,
         "tickfont": {
          "color": "#4D5663"
         },
         "title": {
          "font": {
           "color": "#4D5663"
          },
          "text": ""
         },
         "zerolinecolor": "#E1E5ED"
        },
        "xaxis11": {
         "anchor": "y11",
         "domain": [
          0.525,
          0.7375
         ],
         "gridcolor": "#E1E5ED",
         "showgrid": false,
         "tickfont": {
          "color": "#4D5663"
         },
         "title": {
          "font": {
           "color": "#4D5663"
          },
          "text": ""
         },
         "zerolinecolor": "#E1E5ED"
        },
        "xaxis12": {
         "anchor": "y12",
         "domain": [
          0.7875,
          1
         ],
         "gridcolor": "#E1E5ED",
         "showgrid": false,
         "tickfont": {
          "color": "#4D5663"
         },
         "title": {
          "font": {
           "color": "#4D5663"
          },
          "text": ""
         },
         "zerolinecolor": "#E1E5ED"
        },
        "xaxis13": {
         "anchor": "y13",
         "domain": [
          0,
          0.2125
         ],
         "gridcolor": "#E1E5ED",
         "showgrid": false,
         "tickfont": {
          "color": "#4D5663"
         },
         "title": {
          "font": {
           "color": "#4D5663"
          },
          "text": ""
         },
         "zerolinecolor": "#E1E5ED"
        },
        "xaxis14": {
         "anchor": "y14",
         "domain": [
          0.2625,
          0.475
         ],
         "gridcolor": "#E1E5ED",
         "showgrid": false,
         "tickfont": {
          "color": "#4D5663"
         },
         "title": {
          "font": {
           "color": "#4D5663"
          },
          "text": ""
         },
         "zerolinecolor": "#E1E5ED"
        },
        "xaxis15": {
         "anchor": "y15",
         "domain": [
          0.525,
          0.7375
         ],
         "gridcolor": "#E1E5ED",
         "showgrid": false,
         "tickfont": {
          "color": "#4D5663"
         },
         "title": {
          "font": {
           "color": "#4D5663"
          },
          "text": ""
         },
         "zerolinecolor": "#E1E5ED"
        },
        "xaxis16": {
         "anchor": "y16",
         "domain": [
          0.7875,
          1
         ],
         "gridcolor": "#E1E5ED",
         "showgrid": false,
         "tickfont": {
          "color": "#4D5663"
         },
         "title": {
          "font": {
           "color": "#4D5663"
          },
          "text": ""
         },
         "zerolinecolor": "#E1E5ED"
        },
        "xaxis2": {
         "anchor": "y2",
         "domain": [
          0.2625,
          0.475
         ],
         "gridcolor": "#E1E5ED",
         "showgrid": false,
         "tickfont": {
          "color": "#4D5663"
         },
         "title": {
          "font": {
           "color": "#4D5663"
          },
          "text": ""
         },
         "zerolinecolor": "#E1E5ED"
        },
        "xaxis3": {
         "anchor": "y3",
         "domain": [
          0.525,
          0.7375
         ],
         "gridcolor": "#E1E5ED",
         "showgrid": false,
         "tickfont": {
          "color": "#4D5663"
         },
         "title": {
          "font": {
           "color": "#4D5663"
          },
          "text": ""
         },
         "zerolinecolor": "#E1E5ED"
        },
        "xaxis4": {
         "anchor": "y4",
         "domain": [
          0.7875,
          1
         ],
         "gridcolor": "#E1E5ED",
         "showgrid": false,
         "tickfont": {
          "color": "#4D5663"
         },
         "title": {
          "font": {
           "color": "#4D5663"
          },
          "text": ""
         },
         "zerolinecolor": "#E1E5ED"
        },
        "xaxis5": {
         "anchor": "y5",
         "domain": [
          0,
          0.2125
         ],
         "gridcolor": "#E1E5ED",
         "showgrid": false,
         "tickfont": {
          "color": "#4D5663"
         },
         "title": {
          "font": {
           "color": "#4D5663"
          },
          "text": ""
         },
         "zerolinecolor": "#E1E5ED"
        },
        "xaxis6": {
         "anchor": "y6",
         "domain": [
          0.2625,
          0.475
         ],
         "gridcolor": "#E1E5ED",
         "showgrid": false,
         "tickfont": {
          "color": "#4D5663"
         },
         "title": {
          "font": {
           "color": "#4D5663"
          },
          "text": ""
         },
         "zerolinecolor": "#E1E5ED"
        },
        "xaxis7": {
         "anchor": "y7",
         "domain": [
          0.525,
          0.7375
         ],
         "gridcolor": "#E1E5ED",
         "showgrid": false,
         "tickfont": {
          "color": "#4D5663"
         },
         "title": {
          "font": {
           "color": "#4D5663"
          },
          "text": ""
         },
         "zerolinecolor": "#E1E5ED"
        },
        "xaxis8": {
         "anchor": "y8",
         "domain": [
          0.7875,
          1
         ],
         "gridcolor": "#E1E5ED",
         "showgrid": false,
         "tickfont": {
          "color": "#4D5663"
         },
         "title": {
          "font": {
           "color": "#4D5663"
          },
          "text": ""
         },
         "zerolinecolor": "#E1E5ED"
        },
        "xaxis9": {
         "anchor": "y9",
         "domain": [
          0,
          0.2125
         ],
         "gridcolor": "#E1E5ED",
         "showgrid": false,
         "tickfont": {
          "color": "#4D5663"
         },
         "title": {
          "font": {
           "color": "#4D5663"
          },
          "text": ""
         },
         "zerolinecolor": "#E1E5ED"
        },
        "yaxis": {
         "anchor": "x",
         "domain": [
          0.8025,
          1
         ],
         "gridcolor": "#E1E5ED",
         "showgrid": false,
         "tickfont": {
          "color": "#4D5663"
         },
         "title": {
          "font": {
           "color": "#4D5663"
          },
          "text": ""
         },
         "zerolinecolor": "#E1E5ED"
        },
        "yaxis10": {
         "anchor": "x10",
         "domain": [
          0.2675,
          0.465
         ],
         "gridcolor": "#E1E5ED",
         "showgrid": false,
         "tickfont": {
          "color": "#4D5663"
         },
         "title": {
          "font": {
           "color": "#4D5663"
          },
          "text": ""
         },
         "zerolinecolor": "#E1E5ED"
        },
        "yaxis11": {
         "anchor": "x11",
         "domain": [
          0.2675,
          0.465
         ],
         "gridcolor": "#E1E5ED",
         "showgrid": false,
         "tickfont": {
          "color": "#4D5663"
         },
         "title": {
          "font": {
           "color": "#4D5663"
          },
          "text": ""
         },
         "zerolinecolor": "#E1E5ED"
        },
        "yaxis12": {
         "anchor": "x12",
         "domain": [
          0.2675,
          0.465
         ],
         "gridcolor": "#E1E5ED",
         "showgrid": false,
         "tickfont": {
          "color": "#4D5663"
         },
         "title": {
          "font": {
           "color": "#4D5663"
          },
          "text": ""
         },
         "zerolinecolor": "#E1E5ED"
        },
        "yaxis13": {
         "anchor": "x13",
         "domain": [
          0,
          0.1975
         ],
         "gridcolor": "#E1E5ED",
         "showgrid": false,
         "tickfont": {
          "color": "#4D5663"
         },
         "title": {
          "font": {
           "color": "#4D5663"
          },
          "text": ""
         },
         "zerolinecolor": "#E1E5ED"
        },
        "yaxis14": {
         "anchor": "x14",
         "domain": [
          0,
          0.1975
         ],
         "gridcolor": "#E1E5ED",
         "showgrid": false,
         "tickfont": {
          "color": "#4D5663"
         },
         "title": {
          "font": {
           "color": "#4D5663"
          },
          "text": ""
         },
         "zerolinecolor": "#E1E5ED"
        },
        "yaxis15": {
         "anchor": "x15",
         "domain": [
          0,
          0.1975
         ],
         "gridcolor": "#E1E5ED",
         "showgrid": false,
         "tickfont": {
          "color": "#4D5663"
         },
         "title": {
          "font": {
           "color": "#4D5663"
          },
          "text": ""
         },
         "zerolinecolor": "#E1E5ED"
        },
        "yaxis16": {
         "anchor": "x16",
         "domain": [
          0,
          0.1975
         ],
         "gridcolor": "#E1E5ED",
         "showgrid": false,
         "tickfont": {
          "color": "#4D5663"
         },
         "title": {
          "font": {
           "color": "#4D5663"
          },
          "text": ""
         },
         "zerolinecolor": "#E1E5ED"
        },
        "yaxis2": {
         "anchor": "x2",
         "domain": [
          0.8025,
          1
         ],
         "gridcolor": "#E1E5ED",
         "showgrid": false,
         "tickfont": {
          "color": "#4D5663"
         },
         "title": {
          "font": {
           "color": "#4D5663"
          },
          "text": ""
         },
         "zerolinecolor": "#E1E5ED"
        },
        "yaxis3": {
         "anchor": "x3",
         "domain": [
          0.8025,
          1
         ],
         "gridcolor": "#E1E5ED",
         "showgrid": false,
         "tickfont": {
          "color": "#4D5663"
         },
         "title": {
          "font": {
           "color": "#4D5663"
          },
          "text": ""
         },
         "zerolinecolor": "#E1E5ED"
        },
        "yaxis4": {
         "anchor": "x4",
         "domain": [
          0.8025,
          1
         ],
         "gridcolor": "#E1E5ED",
         "showgrid": false,
         "tickfont": {
          "color": "#4D5663"
         },
         "title": {
          "font": {
           "color": "#4D5663"
          },
          "text": ""
         },
         "zerolinecolor": "#E1E5ED"
        },
        "yaxis5": {
         "anchor": "x5",
         "domain": [
          0.535,
          0.7325
         ],
         "gridcolor": "#E1E5ED",
         "showgrid": false,
         "tickfont": {
          "color": "#4D5663"
         },
         "title": {
          "font": {
           "color": "#4D5663"
          },
          "text": ""
         },
         "zerolinecolor": "#E1E5ED"
        },
        "yaxis6": {
         "anchor": "x6",
         "domain": [
          0.535,
          0.7325
         ],
         "gridcolor": "#E1E5ED",
         "showgrid": false,
         "tickfont": {
          "color": "#4D5663"
         },
         "title": {
          "font": {
           "color": "#4D5663"
          },
          "text": ""
         },
         "zerolinecolor": "#E1E5ED"
        },
        "yaxis7": {
         "anchor": "x7",
         "domain": [
          0.535,
          0.7325
         ],
         "gridcolor": "#E1E5ED",
         "showgrid": false,
         "tickfont": {
          "color": "#4D5663"
         },
         "title": {
          "font": {
           "color": "#4D5663"
          },
          "text": ""
         },
         "zerolinecolor": "#E1E5ED"
        },
        "yaxis8": {
         "anchor": "x8",
         "domain": [
          0.535,
          0.7325
         ],
         "gridcolor": "#E1E5ED",
         "showgrid": false,
         "tickfont": {
          "color": "#4D5663"
         },
         "title": {
          "font": {
           "color": "#4D5663"
          },
          "text": ""
         },
         "zerolinecolor": "#E1E5ED"
        },
        "yaxis9": {
         "anchor": "x9",
         "domain": [
          0.2675,
          0.465
         ],
         "gridcolor": "#E1E5ED",
         "showgrid": false,
         "tickfont": {
          "color": "#4D5663"
         },
         "title": {
          "font": {
           "color": "#4D5663"
          },
          "text": ""
         },
         "zerolinecolor": "#E1E5ED"
        }
       }
      },
      "text/html": [
       "<div>                            <div id=\"c00b81f4-17d9-4433-8277-345a453cd5a8\" class=\"plotly-graph-div\" style=\"height:525px; width:100%;\"></div>            <script type=\"text/javascript\">                require([\"plotly\"], function(Plotly) {                    window.PLOTLYENV=window.PLOTLYENV || {};\n",
       "                    window.PLOTLYENV.BASE_URL='https://plot.ly';                                    if (document.getElementById(\"c00b81f4-17d9-4433-8277-345a453cd5a8\")) {                    Plotly.newPlot(                        \"c00b81f4-17d9-4433-8277-345a453cd5a8\",                        [{\"histfunc\":\"count\",\"histnorm\":\"\",\"marker\":{\"color\":\"rgba(255, 153, 51, 1.0)\",\"line\":{\"color\":\"#4D5663\",\"width\":1.3}},\"name\":\"A\",\"nbinsx\":10,\"opacity\":0.8,\"orientation\":\"v\",\"x\":[0.43576161330137125,0.0392002026600367,-0.0828096051226737,-0.06899993842236976,-0.7445185078343501,-0.5818104718774442,0.20812256881462257,1.5771047203879411,-0.6229410571707626,-0.2542553127090784,-0.8616883603461633,-0.6882323696812119,1.6091381292540365,-0.08960730935903875,1.477667203229447,-1.1289770047232348,-0.37757591613281366,-0.9555659233157126,-0.8716190463369677,2.3343739223771967,-0.5804185512560397,-0.34512219064872196,1.0009426139151563,-0.03638635948039409,-0.4795511213004423,-0.38710379078114443,-0.5982291373045885,0.8057103455189922,0.07653649862068276,1.8789206942278476,-1.9870408379249231,-1.2534934267964573,1.1424388929052163,-0.19667780218489977,0.6672725785699418,0.22197020125418726,0.40375610544655427,0.790455120710436,0.47759724675807447,1.188441738310553,2.5966130677908876,-0.6307284045262942,0.07962977335776215,0.3075091604528683,-1.4964756673073725,-0.12521366306897264,-1.2358732389987421,-0.2360811692397413,-2.282498392530906,0.7428373771981449,-0.6288414109073985,0.6230290519320041,0.716991257672416,0.2741062424132256,0.9315691700047641,2.246444132120593,-0.09798021170589394,-1.4133581682943,0.27061743914078784,0.5896664688392396,0.049326040185358244,-1.6878301432568965,-2.048608617619134,0.44524418456960363,-0.9380811961782093,-1.88596316407578,0.6201094070399932,-1.5569988864741955,-0.5969142673083347,1.7125329163547705,2.0185871649641642,-1.2330424798204571,1.2660998430994834,0.4475507802687231,-0.808620887480285,-0.17552478952105183,-1.0126133692310482,-3.675695561961809,0.028560931347580483,1.92983422047473,0.35556609859758814,-0.06511288145789168,-0.25838345482305736,-1.2400752553123529,-0.34078316151973576,0.5430289046145775,-0.8056959136889844,1.6300090038319708,0.1558133548094795,0.09620023351258908,-0.7846317882449255,-2.5182101025471333,0.5562799597495309,0.16046651940046647,-0.21954404954103748,-0.32808367130031724,0.7209387084058826,-0.0345397981985188,-0.09495490706369364,-0.8910145283144787],\"xaxis\":\"x\",\"yaxis\":\"y\",\"type\":\"histogram\"},{\"line\":{\"color\":\"rgba(128, 128, 128, 1.0)\",\"dash\":\"solid\",\"shape\":\"linear\",\"width\":1.3},\"marker\":{\"size\":2,\"symbol\":\"circle\"},\"mode\":\"markers\",\"name\":\"A\",\"text\":\"\",\"x\":[0.7470965589601339,-1.5219044668573725,-0.09809943298661565,-1.250222948666942,-0.698474158306239,0.9150731563300875,-1.7165979226019592,-1.2451154557852744,-0.4204666686443543,-0.0012794767147798895,-0.261186490901393,-0.3538924472485142,1.9908666564163198,0.851133799942738,1.5852483356617322,0.9124402543743519,0.5349719533559576,-0.7486594206111689,0.4215163263542885,-0.477420154232497,0.7682913569156996,1.1072895097909077,2.054407350902693,1.6175776756957496,0.5611477786926051,1.4031946166589802,-1.0167138268528113,0.19646954503078082,0.945974554393974,0.9408949156430599,1.1413517627554308,-0.1357448260510389,-0.04351760173125842,-0.8512903450571877,0.91744346009552,-0.1542511662085185,0.7063318506651899,-0.3031156931539478,-1.6443563957714007,1.2650837687557859,-0.8311250713611842,0.13834368861202084,0.31895857306174547,-0.5449946250740695,-3.262605243961339,-1.418654021604739,1.7861024688943528,0.6224571859649373,0.09101051584656397,0.6521919226727627,1.3058238267837332,-1.0018932539119865,0.36743339504271666,0.7195461980329014,-0.7852233456105248,-0.5934846408673413,-1.8222702027000843,-0.6168587967023298,-0.5414383002922646,-0.5421020917700555,0.12406293568327871,2.325695325282169,-0.3056098266005972,-1.2400002200650149,-0.7547227374480309,0.053572223237500154,1.209431097011376,2.2161223547948716,-0.42419252357043197,0.47008337374490233,-1.2385983525496629,0.4083282423594256,1.1018396289990668,-1.3439267263174357,-1.2148010375833018,1.378503549128289,-0.865442571080681,1.4981255490911167,0.5268652709491807,-0.5864705000603173,-0.03251046298779092,-1.657971247262324,0.5387740305912381,0.33891930104974144,-0.017631905464170265,0.235035832459136,-0.22302903550297953,-0.42911270255814304,0.45012009799066305,-0.9780296593173486,-0.11851579616469118,1.047681204062073,0.9889001376060471,1.3966008775466294,0.09077097106105908,1.3376388975447437,-0.2036133802195914,-0.11638871633048702,-0.054452121594433106,0.382117572004654],\"xaxis\":\"x2\",\"y\":[0.43576161330137125,0.0392002026600367,-0.0828096051226737,-0.06899993842236976,-0.7445185078343501,-0.5818104718774442,0.20812256881462257,1.5771047203879411,-0.6229410571707626,-0.2542553127090784,-0.8616883603461633,-0.6882323696812119,1.6091381292540365,-0.08960730935903875,1.477667203229447,-1.1289770047232348,-0.37757591613281366,-0.9555659233157126,-0.8716190463369677,2.3343739223771967,-0.5804185512560397,-0.34512219064872196,1.0009426139151563,-0.03638635948039409,-0.4795511213004423,-0.38710379078114443,-0.5982291373045885,0.8057103455189922,0.07653649862068276,1.8789206942278476,-1.9870408379249231,-1.2534934267964573,1.1424388929052163,-0.19667780218489977,0.6672725785699418,0.22197020125418726,0.40375610544655427,0.790455120710436,0.47759724675807447,1.188441738310553,2.5966130677908876,-0.6307284045262942,0.07962977335776215,0.3075091604528683,-1.4964756673073725,-0.12521366306897264,-1.2358732389987421,-0.2360811692397413,-2.282498392530906,0.7428373771981449,-0.6288414109073985,0.6230290519320041,0.716991257672416,0.2741062424132256,0.9315691700047641,2.246444132120593,-0.09798021170589394,-1.4133581682943,0.27061743914078784,0.5896664688392396,0.049326040185358244,-1.6878301432568965,-2.048608617619134,0.44524418456960363,-0.9380811961782093,-1.88596316407578,0.6201094070399932,-1.5569988864741955,-0.5969142673083347,1.7125329163547705,2.0185871649641642,-1.2330424798204571,1.2660998430994834,0.4475507802687231,-0.808620887480285,-0.17552478952105183,-1.0126133692310482,-3.675695561961809,0.028560931347580483,1.92983422047473,0.35556609859758814,-0.06511288145789168,-0.25838345482305736,-1.2400752553123529,-0.34078316151973576,0.5430289046145775,-0.8056959136889844,1.6300090038319708,0.1558133548094795,0.09620023351258908,-0.7846317882449255,-2.5182101025471333,0.5562799597495309,0.16046651940046647,-0.21954404954103748,-0.32808367130031724,0.7209387084058826,-0.0345397981985188,-0.09495490706369364,-0.8910145283144787],\"yaxis\":\"y2\",\"type\":\"scatter\"},{\"line\":{\"color\":\"rgba(128, 128, 128, 1.0)\",\"dash\":\"solid\",\"shape\":\"linear\",\"width\":1.3},\"marker\":{\"size\":2,\"symbol\":\"circle\"},\"mode\":\"markers\",\"name\":\"A\",\"text\":\"\",\"x\":[0.3682377144132527,0.3466890761278271,-0.36913753005199823,0.18514537841315948,-1.0887193428018571,0.8197485014104589,-1.2480792457914922,0.8032857896965091,-0.7372634145936622,1.8916263785651137,-1.0091640111893094,0.6669618923940757,-1.2347372819390838,0.3586286742808286,-0.17797767358538108,0.14261496579823077,-1.6054052554704594,1.1746627862690353,0.22194911958937508,-0.3491598059032676,-0.9997487538488474,0.9665740152979908,-0.5974613801113016,1.2027824998329095,0.8055499031272653,-1.1705064006479604,0.805894459386693,0.08228254999688683,1.0887366927019209,1.4106915911500681,-0.867900972018244,-0.6339851583086878,-1.3890048876027952,-0.7127045563198836,0.4898398447200245,0.14869214579216922,0.9874702488096306,-0.5974306475460034,-0.059375257352179585,1.2348799507675814,0.45432412727610216,-0.39615476589886783,-0.6116096177234337,0.12343362764980646,-1.2793811350833177,1.7621541021838003,-1.6575406700058628,-0.9102543410907438,-1.8037290171758542,-0.562133591486102,-1.542449489376436,1.5622069830921548,-0.015535066606124135,0.19179000418996284,-0.3865933407686439,0.3767014127544314,-0.39035565729367816,-0.17593237649210466,0.5010787800055183,1.5068826796973953,0.7548535916650044,-0.09345064568866177,-0.6748023482836941,-0.007867500606330622,1.2452765230361882,-1.9797610765138551,2.288109166982434,0.3158001520261646,-1.0022812872462648,0.14323345564166073,0.9297586307776996,1.1613537249460568,-0.535713295674978,-0.04247466282924876,-1.0864391841694818,-0.17535156734247248,-1.0435435528269077,1.4972108118555416,0.5443510427237117,0.4522251302277498,-1.3806338969360445,1.5394722937803447,-0.5669625412314382,-0.09449124702752644,0.7425778961101418,0.4196628907191677,-0.2982502752981818,1.1018302596780367,1.041507789996542,0.1229506045307668,-0.3239100280384493,1.7517960645639947,-1.593660968080219,-0.29520459008899336,-1.1079059337127208,-0.8443831132442462,-1.105499520464632,0.31414854886524113,-0.19347118107445258,0.1949481448016391],\"xaxis\":\"x3\",\"y\":[0.43576161330137125,0.0392002026600367,-0.0828096051226737,-0.06899993842236976,-0.7445185078343501,-0.5818104718774442,0.20812256881462257,1.5771047203879411,-0.6229410571707626,-0.2542553127090784,-0.8616883603461633,-0.6882323696812119,1.6091381292540365,-0.08960730935903875,1.477667203229447,-1.1289770047232348,-0.37757591613281366,-0.9555659233157126,-0.8716190463369677,2.3343739223771967,-0.5804185512560397,-0.34512219064872196,1.0009426139151563,-0.03638635948039409,-0.4795511213004423,-0.38710379078114443,-0.5982291373045885,0.8057103455189922,0.07653649862068276,1.8789206942278476,-1.9870408379249231,-1.2534934267964573,1.1424388929052163,-0.19667780218489977,0.6672725785699418,0.22197020125418726,0.40375610544655427,0.790455120710436,0.47759724675807447,1.188441738310553,2.5966130677908876,-0.6307284045262942,0.07962977335776215,0.3075091604528683,-1.4964756673073725,-0.12521366306897264,-1.2358732389987421,-0.2360811692397413,-2.282498392530906,0.7428373771981449,-0.6288414109073985,0.6230290519320041,0.716991257672416,0.2741062424132256,0.9315691700047641,2.246444132120593,-0.09798021170589394,-1.4133581682943,0.27061743914078784,0.5896664688392396,0.049326040185358244,-1.6878301432568965,-2.048608617619134,0.44524418456960363,-0.9380811961782093,-1.88596316407578,0.6201094070399932,-1.5569988864741955,-0.5969142673083347,1.7125329163547705,2.0185871649641642,-1.2330424798204571,1.2660998430994834,0.4475507802687231,-0.808620887480285,-0.17552478952105183,-1.0126133692310482,-3.675695561961809,0.028560931347580483,1.92983422047473,0.35556609859758814,-0.06511288145789168,-0.25838345482305736,-1.2400752553123529,-0.34078316151973576,0.5430289046145775,-0.8056959136889844,1.6300090038319708,0.1558133548094795,0.09620023351258908,-0.7846317882449255,-2.5182101025471333,0.5562799597495309,0.16046651940046647,-0.21954404954103748,-0.32808367130031724,0.7209387084058826,-0.0345397981985188,-0.09495490706369364,-0.8910145283144787],\"yaxis\":\"y3\",\"type\":\"scatter\"},{\"line\":{\"color\":\"rgba(128, 128, 128, 1.0)\",\"dash\":\"solid\",\"shape\":\"linear\",\"width\":1.3},\"marker\":{\"size\":2,\"symbol\":\"circle\"},\"mode\":\"markers\",\"name\":\"A\",\"text\":\"\",\"x\":[-0.9461952856679982,0.6490505117458512,-2.8856777417148423,0.7543179079921039,-1.2620466925622829,-0.29671662214552724,-0.12432979792114747,0.4055078787706235,-1.6849278164940076,0.7592765208403887,0.7295973675512063,-1.2289778806316503,0.4746662390192041,-1.9467463645444505,1.279041672422795,0.28596923632067106,-1.1047989995477818,-0.2750916111734189,-0.004445869216080266,-0.8447524529656686,-1.0847559402515845,-0.36831017623822854,1.7849046353242075,0.09457412928279552,-1.5220100918781827,-0.7204173596427004,-0.8406541388820522,1.7828216483160868,0.5723990541038184,0.04134495585573406,-0.043738453631860075,-0.062351447856486206,-1.029165749659944,-0.6464275203370826,-2.4790377438704385,0.8924262480171544,-0.09287039344225873,-0.5987040240203508,-0.3852951367141403,-0.5946067828347857,-1.338306940118594,-1.143664724386562,0.23717244680581728,-1.0553239866701294,-1.768056578374799,-0.43961323355406806,-1.8203198565273977,0.2950382232612245,0.241784236809698,-0.609871180395315,1.1389627799474984,0.09800288010116572,-0.31334022306554643,-0.11281582001464618,-0.8450599277568367,1.0914831382708754,-0.06812203830684074,-0.06485931824662995,0.06345771885869014,0.780898024037899,0.38519174605760986,1.5596975457436253,-1.1573456724277826,1.4445043903679835,0.10738099318593422,-0.6889425940821164,-0.10029195797902998,0.17541820166233416,0.4910207830569502,0.5130207172331803,-2.1113232049226838,0.7494933159230787,0.2930842867454575,-0.9881669095762277,-2.252876926788418,-0.613739798262879,0.11338688536083144,0.1529186605142726,0.5601423111987032,0.27164095954332557,-0.590306556357339,-0.19359801024144416,-0.5727331843839251,1.8325506531733573,1.149233790873831,-2.393557334344154,-1.2250112430753446,-0.9124986713695532,-0.03101020857729068,0.90728421512498,-0.3583318565094099,2.519005246911356,-0.4151337693932833,0.03665958749737384,-0.4331483093163314,1.9034225405674647,0.6279386320745678,-0.8565835172293262,0.6026905340869714,-0.08280840058685728],\"xaxis\":\"x4\",\"y\":[0.43576161330137125,0.0392002026600367,-0.0828096051226737,-0.06899993842236976,-0.7445185078343501,-0.5818104718774442,0.20812256881462257,1.5771047203879411,-0.6229410571707626,-0.2542553127090784,-0.8616883603461633,-0.6882323696812119,1.6091381292540365,-0.08960730935903875,1.477667203229447,-1.1289770047232348,-0.37757591613281366,-0.9555659233157126,-0.8716190463369677,2.3343739223771967,-0.5804185512560397,-0.34512219064872196,1.0009426139151563,-0.03638635948039409,-0.4795511213004423,-0.38710379078114443,-0.5982291373045885,0.8057103455189922,0.07653649862068276,1.8789206942278476,-1.9870408379249231,-1.2534934267964573,1.1424388929052163,-0.19667780218489977,0.6672725785699418,0.22197020125418726,0.40375610544655427,0.790455120710436,0.47759724675807447,1.188441738310553,2.5966130677908876,-0.6307284045262942,0.07962977335776215,0.3075091604528683,-1.4964756673073725,-0.12521366306897264,-1.2358732389987421,-0.2360811692397413,-2.282498392530906,0.7428373771981449,-0.6288414109073985,0.6230290519320041,0.716991257672416,0.2741062424132256,0.9315691700047641,2.246444132120593,-0.09798021170589394,-1.4133581682943,0.27061743914078784,0.5896664688392396,0.049326040185358244,-1.6878301432568965,-2.048608617619134,0.44524418456960363,-0.9380811961782093,-1.88596316407578,0.6201094070399932,-1.5569988864741955,-0.5969142673083347,1.7125329163547705,2.0185871649641642,-1.2330424798204571,1.2660998430994834,0.4475507802687231,-0.808620887480285,-0.17552478952105183,-1.0126133692310482,-3.675695561961809,0.028560931347580483,1.92983422047473,0.35556609859758814,-0.06511288145789168,-0.25838345482305736,-1.2400752553123529,-0.34078316151973576,0.5430289046145775,-0.8056959136889844,1.6300090038319708,0.1558133548094795,0.09620023351258908,-0.7846317882449255,-2.5182101025471333,0.5562799597495309,0.16046651940046647,-0.21954404954103748,-0.32808367130031724,0.7209387084058826,-0.0345397981985188,-0.09495490706369364,-0.8910145283144787],\"yaxis\":\"y4\",\"type\":\"scatter\"},{\"line\":{\"color\":\"rgba(128, 128, 128, 1.0)\",\"dash\":\"solid\",\"shape\":\"linear\",\"width\":1.3},\"marker\":{\"size\":2,\"symbol\":\"circle\"},\"mode\":\"markers\",\"name\":\"B\",\"text\":\"\",\"x\":[0.43576161330137125,0.0392002026600367,-0.0828096051226737,-0.06899993842236976,-0.7445185078343501,-0.5818104718774442,0.20812256881462257,1.5771047203879411,-0.6229410571707626,-0.2542553127090784,-0.8616883603461633,-0.6882323696812119,1.6091381292540365,-0.08960730935903875,1.477667203229447,-1.1289770047232348,-0.37757591613281366,-0.9555659233157126,-0.8716190463369677,2.3343739223771967,-0.5804185512560397,-0.34512219064872196,1.0009426139151563,-0.03638635948039409,-0.4795511213004423,-0.38710379078114443,-0.5982291373045885,0.8057103455189922,0.07653649862068276,1.8789206942278476,-1.9870408379249231,-1.2534934267964573,1.1424388929052163,-0.19667780218489977,0.6672725785699418,0.22197020125418726,0.40375610544655427,0.790455120710436,0.47759724675807447,1.188441738310553,2.5966130677908876,-0.6307284045262942,0.07962977335776215,0.3075091604528683,-1.4964756673073725,-0.12521366306897264,-1.2358732389987421,-0.2360811692397413,-2.282498392530906,0.7428373771981449,-0.6288414109073985,0.6230290519320041,0.716991257672416,0.2741062424132256,0.9315691700047641,2.246444132120593,-0.09798021170589394,-1.4133581682943,0.27061743914078784,0.5896664688392396,0.049326040185358244,-1.6878301432568965,-2.048608617619134,0.44524418456960363,-0.9380811961782093,-1.88596316407578,0.6201094070399932,-1.5569988864741955,-0.5969142673083347,1.7125329163547705,2.0185871649641642,-1.2330424798204571,1.2660998430994834,0.4475507802687231,-0.808620887480285,-0.17552478952105183,-1.0126133692310482,-3.675695561961809,0.028560931347580483,1.92983422047473,0.35556609859758814,-0.06511288145789168,-0.25838345482305736,-1.2400752553123529,-0.34078316151973576,0.5430289046145775,-0.8056959136889844,1.6300090038319708,0.1558133548094795,0.09620023351258908,-0.7846317882449255,-2.5182101025471333,0.5562799597495309,0.16046651940046647,-0.21954404954103748,-0.32808367130031724,0.7209387084058826,-0.0345397981985188,-0.09495490706369364,-0.8910145283144787],\"xaxis\":\"x5\",\"y\":[0.7470965589601339,-1.5219044668573725,-0.09809943298661565,-1.250222948666942,-0.698474158306239,0.9150731563300875,-1.7165979226019592,-1.2451154557852744,-0.4204666686443543,-0.0012794767147798895,-0.261186490901393,-0.3538924472485142,1.9908666564163198,0.851133799942738,1.5852483356617322,0.9124402543743519,0.5349719533559576,-0.7486594206111689,0.4215163263542885,-0.477420154232497,0.7682913569156996,1.1072895097909077,2.054407350902693,1.6175776756957496,0.5611477786926051,1.4031946166589802,-1.0167138268528113,0.19646954503078082,0.945974554393974,0.9408949156430599,1.1413517627554308,-0.1357448260510389,-0.04351760173125842,-0.8512903450571877,0.91744346009552,-0.1542511662085185,0.7063318506651899,-0.3031156931539478,-1.6443563957714007,1.2650837687557859,-0.8311250713611842,0.13834368861202084,0.31895857306174547,-0.5449946250740695,-3.262605243961339,-1.418654021604739,1.7861024688943528,0.6224571859649373,0.09101051584656397,0.6521919226727627,1.3058238267837332,-1.0018932539119865,0.36743339504271666,0.7195461980329014,-0.7852233456105248,-0.5934846408673413,-1.8222702027000843,-0.6168587967023298,-0.5414383002922646,-0.5421020917700555,0.12406293568327871,2.325695325282169,-0.3056098266005972,-1.2400002200650149,-0.7547227374480309,0.053572223237500154,1.209431097011376,2.2161223547948716,-0.42419252357043197,0.47008337374490233,-1.2385983525496629,0.4083282423594256,1.1018396289990668,-1.3439267263174357,-1.2148010375833018,1.378503549128289,-0.865442571080681,1.4981255490911167,0.5268652709491807,-0.5864705000603173,-0.03251046298779092,-1.657971247262324,0.5387740305912381,0.33891930104974144,-0.017631905464170265,0.235035832459136,-0.22302903550297953,-0.42911270255814304,0.45012009799066305,-0.9780296593173486,-0.11851579616469118,1.047681204062073,0.9889001376060471,1.3966008775466294,0.09077097106105908,1.3376388975447437,-0.2036133802195914,-0.11638871633048702,-0.054452121594433106,0.382117572004654],\"yaxis\":\"y5\",\"type\":\"scatter\"},{\"histfunc\":\"count\",\"histnorm\":\"\",\"marker\":{\"color\":\"rgba(55, 128, 191, 1.0)\",\"line\":{\"color\":\"#4D5663\",\"width\":1.3}},\"name\":\"B\",\"nbinsx\":10,\"opacity\":0.8,\"orientation\":\"v\",\"x\":[0.7470965589601339,-1.5219044668573725,-0.09809943298661565,-1.250222948666942,-0.698474158306239,0.9150731563300875,-1.7165979226019592,-1.2451154557852744,-0.4204666686443543,-0.0012794767147798895,-0.261186490901393,-0.3538924472485142,1.9908666564163198,0.851133799942738,1.5852483356617322,0.9124402543743519,0.5349719533559576,-0.7486594206111689,0.4215163263542885,-0.477420154232497,0.7682913569156996,1.1072895097909077,2.054407350902693,1.6175776756957496,0.5611477786926051,1.4031946166589802,-1.0167138268528113,0.19646954503078082,0.945974554393974,0.9408949156430599,1.1413517627554308,-0.1357448260510389,-0.04351760173125842,-0.8512903450571877,0.91744346009552,-0.1542511662085185,0.7063318506651899,-0.3031156931539478,-1.6443563957714007,1.2650837687557859,-0.8311250713611842,0.13834368861202084,0.31895857306174547,-0.5449946250740695,-3.262605243961339,-1.418654021604739,1.7861024688943528,0.6224571859649373,0.09101051584656397,0.6521919226727627,1.3058238267837332,-1.0018932539119865,0.36743339504271666,0.7195461980329014,-0.7852233456105248,-0.5934846408673413,-1.8222702027000843,-0.6168587967023298,-0.5414383002922646,-0.5421020917700555,0.12406293568327871,2.325695325282169,-0.3056098266005972,-1.2400002200650149,-0.7547227374480309,0.053572223237500154,1.209431097011376,2.2161223547948716,-0.42419252357043197,0.47008337374490233,-1.2385983525496629,0.4083282423594256,1.1018396289990668,-1.3439267263174357,-1.2148010375833018,1.378503549128289,-0.865442571080681,1.4981255490911167,0.5268652709491807,-0.5864705000603173,-0.03251046298779092,-1.657971247262324,0.5387740305912381,0.33891930104974144,-0.017631905464170265,0.235035832459136,-0.22302903550297953,-0.42911270255814304,0.45012009799066305,-0.9780296593173486,-0.11851579616469118,1.047681204062073,0.9889001376060471,1.3966008775466294,0.09077097106105908,1.3376388975447437,-0.2036133802195914,-0.11638871633048702,-0.054452121594433106,0.382117572004654],\"xaxis\":\"x6\",\"yaxis\":\"y6\",\"type\":\"histogram\"},{\"line\":{\"color\":\"rgba(128, 128, 128, 1.0)\",\"dash\":\"solid\",\"shape\":\"linear\",\"width\":1.3},\"marker\":{\"size\":2,\"symbol\":\"circle\"},\"mode\":\"markers\",\"name\":\"B\",\"text\":\"\",\"x\":[0.3682377144132527,0.3466890761278271,-0.36913753005199823,0.18514537841315948,-1.0887193428018571,0.8197485014104589,-1.2480792457914922,0.8032857896965091,-0.7372634145936622,1.8916263785651137,-1.0091640111893094,0.6669618923940757,-1.2347372819390838,0.3586286742808286,-0.17797767358538108,0.14261496579823077,-1.6054052554704594,1.1746627862690353,0.22194911958937508,-0.3491598059032676,-0.9997487538488474,0.9665740152979908,-0.5974613801113016,1.2027824998329095,0.8055499031272653,-1.1705064006479604,0.805894459386693,0.08228254999688683,1.0887366927019209,1.4106915911500681,-0.867900972018244,-0.6339851583086878,-1.3890048876027952,-0.7127045563198836,0.4898398447200245,0.14869214579216922,0.9874702488096306,-0.5974306475460034,-0.059375257352179585,1.2348799507675814,0.45432412727610216,-0.39615476589886783,-0.6116096177234337,0.12343362764980646,-1.2793811350833177,1.7621541021838003,-1.6575406700058628,-0.9102543410907438,-1.8037290171758542,-0.562133591486102,-1.542449489376436,1.5622069830921548,-0.015535066606124135,0.19179000418996284,-0.3865933407686439,0.3767014127544314,-0.39035565729367816,-0.17593237649210466,0.5010787800055183,1.5068826796973953,0.7548535916650044,-0.09345064568866177,-0.6748023482836941,-0.007867500606330622,1.2452765230361882,-1.9797610765138551,2.288109166982434,0.3158001520261646,-1.0022812872462648,0.14323345564166073,0.9297586307776996,1.1613537249460568,-0.535713295674978,-0.04247466282924876,-1.0864391841694818,-0.17535156734247248,-1.0435435528269077,1.4972108118555416,0.5443510427237117,0.4522251302277498,-1.3806338969360445,1.5394722937803447,-0.5669625412314382,-0.09449124702752644,0.7425778961101418,0.4196628907191677,-0.2982502752981818,1.1018302596780367,1.041507789996542,0.1229506045307668,-0.3239100280384493,1.7517960645639947,-1.593660968080219,-0.29520459008899336,-1.1079059337127208,-0.8443831132442462,-1.105499520464632,0.31414854886524113,-0.19347118107445258,0.1949481448016391],\"xaxis\":\"x7\",\"y\":[0.7470965589601339,-1.5219044668573725,-0.09809943298661565,-1.250222948666942,-0.698474158306239,0.9150731563300875,-1.7165979226019592,-1.2451154557852744,-0.4204666686443543,-0.0012794767147798895,-0.261186490901393,-0.3538924472485142,1.9908666564163198,0.851133799942738,1.5852483356617322,0.9124402543743519,0.5349719533559576,-0.7486594206111689,0.4215163263542885,-0.477420154232497,0.7682913569156996,1.1072895097909077,2.054407350902693,1.6175776756957496,0.5611477786926051,1.4031946166589802,-1.0167138268528113,0.19646954503078082,0.945974554393974,0.9408949156430599,1.1413517627554308,-0.1357448260510389,-0.04351760173125842,-0.8512903450571877,0.91744346009552,-0.1542511662085185,0.7063318506651899,-0.3031156931539478,-1.6443563957714007,1.2650837687557859,-0.8311250713611842,0.13834368861202084,0.31895857306174547,-0.5449946250740695,-3.262605243961339,-1.418654021604739,1.7861024688943528,0.6224571859649373,0.09101051584656397,0.6521919226727627,1.3058238267837332,-1.0018932539119865,0.36743339504271666,0.7195461980329014,-0.7852233456105248,-0.5934846408673413,-1.8222702027000843,-0.6168587967023298,-0.5414383002922646,-0.5421020917700555,0.12406293568327871,2.325695325282169,-0.3056098266005972,-1.2400002200650149,-0.7547227374480309,0.053572223237500154,1.209431097011376,2.2161223547948716,-0.42419252357043197,0.47008337374490233,-1.2385983525496629,0.4083282423594256,1.1018396289990668,-1.3439267263174357,-1.2148010375833018,1.378503549128289,-0.865442571080681,1.4981255490911167,0.5268652709491807,-0.5864705000603173,-0.03251046298779092,-1.657971247262324,0.5387740305912381,0.33891930104974144,-0.017631905464170265,0.235035832459136,-0.22302903550297953,-0.42911270255814304,0.45012009799066305,-0.9780296593173486,-0.11851579616469118,1.047681204062073,0.9889001376060471,1.3966008775466294,0.09077097106105908,1.3376388975447437,-0.2036133802195914,-0.11638871633048702,-0.054452121594433106,0.382117572004654],\"yaxis\":\"y7\",\"type\":\"scatter\"},{\"line\":{\"color\":\"rgba(128, 128, 128, 1.0)\",\"dash\":\"solid\",\"shape\":\"linear\",\"width\":1.3},\"marker\":{\"size\":2,\"symbol\":\"circle\"},\"mode\":\"markers\",\"name\":\"B\",\"text\":\"\",\"x\":[-0.9461952856679982,0.6490505117458512,-2.8856777417148423,0.7543179079921039,-1.2620466925622829,-0.29671662214552724,-0.12432979792114747,0.4055078787706235,-1.6849278164940076,0.7592765208403887,0.7295973675512063,-1.2289778806316503,0.4746662390192041,-1.9467463645444505,1.279041672422795,0.28596923632067106,-1.1047989995477818,-0.2750916111734189,-0.004445869216080266,-0.8447524529656686,-1.0847559402515845,-0.36831017623822854,1.7849046353242075,0.09457412928279552,-1.5220100918781827,-0.7204173596427004,-0.8406541388820522,1.7828216483160868,0.5723990541038184,0.04134495585573406,-0.043738453631860075,-0.062351447856486206,-1.029165749659944,-0.6464275203370826,-2.4790377438704385,0.8924262480171544,-0.09287039344225873,-0.5987040240203508,-0.3852951367141403,-0.5946067828347857,-1.338306940118594,-1.143664724386562,0.23717244680581728,-1.0553239866701294,-1.768056578374799,-0.43961323355406806,-1.8203198565273977,0.2950382232612245,0.241784236809698,-0.609871180395315,1.1389627799474984,0.09800288010116572,-0.31334022306554643,-0.11281582001464618,-0.8450599277568367,1.0914831382708754,-0.06812203830684074,-0.06485931824662995,0.06345771885869014,0.780898024037899,0.38519174605760986,1.5596975457436253,-1.1573456724277826,1.4445043903679835,0.10738099318593422,-0.6889425940821164,-0.10029195797902998,0.17541820166233416,0.4910207830569502,0.5130207172331803,-2.1113232049226838,0.7494933159230787,0.2930842867454575,-0.9881669095762277,-2.252876926788418,-0.613739798262879,0.11338688536083144,0.1529186605142726,0.5601423111987032,0.27164095954332557,-0.590306556357339,-0.19359801024144416,-0.5727331843839251,1.8325506531733573,1.149233790873831,-2.393557334344154,-1.2250112430753446,-0.9124986713695532,-0.03101020857729068,0.90728421512498,-0.3583318565094099,2.519005246911356,-0.4151337693932833,0.03665958749737384,-0.4331483093163314,1.9034225405674647,0.6279386320745678,-0.8565835172293262,0.6026905340869714,-0.08280840058685728],\"xaxis\":\"x8\",\"y\":[0.7470965589601339,-1.5219044668573725,-0.09809943298661565,-1.250222948666942,-0.698474158306239,0.9150731563300875,-1.7165979226019592,-1.2451154557852744,-0.4204666686443543,-0.0012794767147798895,-0.261186490901393,-0.3538924472485142,1.9908666564163198,0.851133799942738,1.5852483356617322,0.9124402543743519,0.5349719533559576,-0.7486594206111689,0.4215163263542885,-0.477420154232497,0.7682913569156996,1.1072895097909077,2.054407350902693,1.6175776756957496,0.5611477786926051,1.4031946166589802,-1.0167138268528113,0.19646954503078082,0.945974554393974,0.9408949156430599,1.1413517627554308,-0.1357448260510389,-0.04351760173125842,-0.8512903450571877,0.91744346009552,-0.1542511662085185,0.7063318506651899,-0.3031156931539478,-1.6443563957714007,1.2650837687557859,-0.8311250713611842,0.13834368861202084,0.31895857306174547,-0.5449946250740695,-3.262605243961339,-1.418654021604739,1.7861024688943528,0.6224571859649373,0.09101051584656397,0.6521919226727627,1.3058238267837332,-1.0018932539119865,0.36743339504271666,0.7195461980329014,-0.7852233456105248,-0.5934846408673413,-1.8222702027000843,-0.6168587967023298,-0.5414383002922646,-0.5421020917700555,0.12406293568327871,2.325695325282169,-0.3056098266005972,-1.2400002200650149,-0.7547227374480309,0.053572223237500154,1.209431097011376,2.2161223547948716,-0.42419252357043197,0.47008337374490233,-1.2385983525496629,0.4083282423594256,1.1018396289990668,-1.3439267263174357,-1.2148010375833018,1.378503549128289,-0.865442571080681,1.4981255490911167,0.5268652709491807,-0.5864705000603173,-0.03251046298779092,-1.657971247262324,0.5387740305912381,0.33891930104974144,-0.017631905464170265,0.235035832459136,-0.22302903550297953,-0.42911270255814304,0.45012009799066305,-0.9780296593173486,-0.11851579616469118,1.047681204062073,0.9889001376060471,1.3966008775466294,0.09077097106105908,1.3376388975447437,-0.2036133802195914,-0.11638871633048702,-0.054452121594433106,0.382117572004654],\"yaxis\":\"y8\",\"type\":\"scatter\"},{\"line\":{\"color\":\"rgba(128, 128, 128, 1.0)\",\"dash\":\"solid\",\"shape\":\"linear\",\"width\":1.3},\"marker\":{\"size\":2,\"symbol\":\"circle\"},\"mode\":\"markers\",\"name\":\"C\",\"text\":\"\",\"x\":[0.43576161330137125,0.0392002026600367,-0.0828096051226737,-0.06899993842236976,-0.7445185078343501,-0.5818104718774442,0.20812256881462257,1.5771047203879411,-0.6229410571707626,-0.2542553127090784,-0.8616883603461633,-0.6882323696812119,1.6091381292540365,-0.08960730935903875,1.477667203229447,-1.1289770047232348,-0.37757591613281366,-0.9555659233157126,-0.8716190463369677,2.3343739223771967,-0.5804185512560397,-0.34512219064872196,1.0009426139151563,-0.03638635948039409,-0.4795511213004423,-0.38710379078114443,-0.5982291373045885,0.8057103455189922,0.07653649862068276,1.8789206942278476,-1.9870408379249231,-1.2534934267964573,1.1424388929052163,-0.19667780218489977,0.6672725785699418,0.22197020125418726,0.40375610544655427,0.790455120710436,0.47759724675807447,1.188441738310553,2.5966130677908876,-0.6307284045262942,0.07962977335776215,0.3075091604528683,-1.4964756673073725,-0.12521366306897264,-1.2358732389987421,-0.2360811692397413,-2.282498392530906,0.7428373771981449,-0.6288414109073985,0.6230290519320041,0.716991257672416,0.2741062424132256,0.9315691700047641,2.246444132120593,-0.09798021170589394,-1.4133581682943,0.27061743914078784,0.5896664688392396,0.049326040185358244,-1.6878301432568965,-2.048608617619134,0.44524418456960363,-0.9380811961782093,-1.88596316407578,0.6201094070399932,-1.5569988864741955,-0.5969142673083347,1.7125329163547705,2.0185871649641642,-1.2330424798204571,1.2660998430994834,0.4475507802687231,-0.808620887480285,-0.17552478952105183,-1.0126133692310482,-3.675695561961809,0.028560931347580483,1.92983422047473,0.35556609859758814,-0.06511288145789168,-0.25838345482305736,-1.2400752553123529,-0.34078316151973576,0.5430289046145775,-0.8056959136889844,1.6300090038319708,0.1558133548094795,0.09620023351258908,-0.7846317882449255,-2.5182101025471333,0.5562799597495309,0.16046651940046647,-0.21954404954103748,-0.32808367130031724,0.7209387084058826,-0.0345397981985188,-0.09495490706369364,-0.8910145283144787],\"xaxis\":\"x9\",\"y\":[0.3682377144132527,0.3466890761278271,-0.36913753005199823,0.18514537841315948,-1.0887193428018571,0.8197485014104589,-1.2480792457914922,0.8032857896965091,-0.7372634145936622,1.8916263785651137,-1.0091640111893094,0.6669618923940757,-1.2347372819390838,0.3586286742808286,-0.17797767358538108,0.14261496579823077,-1.6054052554704594,1.1746627862690353,0.22194911958937508,-0.3491598059032676,-0.9997487538488474,0.9665740152979908,-0.5974613801113016,1.2027824998329095,0.8055499031272653,-1.1705064006479604,0.805894459386693,0.08228254999688683,1.0887366927019209,1.4106915911500681,-0.867900972018244,-0.6339851583086878,-1.3890048876027952,-0.7127045563198836,0.4898398447200245,0.14869214579216922,0.9874702488096306,-0.5974306475460034,-0.059375257352179585,1.2348799507675814,0.45432412727610216,-0.39615476589886783,-0.6116096177234337,0.12343362764980646,-1.2793811350833177,1.7621541021838003,-1.6575406700058628,-0.9102543410907438,-1.8037290171758542,-0.562133591486102,-1.542449489376436,1.5622069830921548,-0.015535066606124135,0.19179000418996284,-0.3865933407686439,0.3767014127544314,-0.39035565729367816,-0.17593237649210466,0.5010787800055183,1.5068826796973953,0.7548535916650044,-0.09345064568866177,-0.6748023482836941,-0.007867500606330622,1.2452765230361882,-1.9797610765138551,2.288109166982434,0.3158001520261646,-1.0022812872462648,0.14323345564166073,0.9297586307776996,1.1613537249460568,-0.535713295674978,-0.04247466282924876,-1.0864391841694818,-0.17535156734247248,-1.0435435528269077,1.4972108118555416,0.5443510427237117,0.4522251302277498,-1.3806338969360445,1.5394722937803447,-0.5669625412314382,-0.09449124702752644,0.7425778961101418,0.4196628907191677,-0.2982502752981818,1.1018302596780367,1.041507789996542,0.1229506045307668,-0.3239100280384493,1.7517960645639947,-1.593660968080219,-0.29520459008899336,-1.1079059337127208,-0.8443831132442462,-1.105499520464632,0.31414854886524113,-0.19347118107445258,0.1949481448016391],\"yaxis\":\"y9\",\"type\":\"scatter\"},{\"line\":{\"color\":\"rgba(128, 128, 128, 1.0)\",\"dash\":\"solid\",\"shape\":\"linear\",\"width\":1.3},\"marker\":{\"size\":2,\"symbol\":\"circle\"},\"mode\":\"markers\",\"name\":\"C\",\"text\":\"\",\"x\":[0.7470965589601339,-1.5219044668573725,-0.09809943298661565,-1.250222948666942,-0.698474158306239,0.9150731563300875,-1.7165979226019592,-1.2451154557852744,-0.4204666686443543,-0.0012794767147798895,-0.261186490901393,-0.3538924472485142,1.9908666564163198,0.851133799942738,1.5852483356617322,0.9124402543743519,0.5349719533559576,-0.7486594206111689,0.4215163263542885,-0.477420154232497,0.7682913569156996,1.1072895097909077,2.054407350902693,1.6175776756957496,0.5611477786926051,1.4031946166589802,-1.0167138268528113,0.19646954503078082,0.945974554393974,0.9408949156430599,1.1413517627554308,-0.1357448260510389,-0.04351760173125842,-0.8512903450571877,0.91744346009552,-0.1542511662085185,0.7063318506651899,-0.3031156931539478,-1.6443563957714007,1.2650837687557859,-0.8311250713611842,0.13834368861202084,0.31895857306174547,-0.5449946250740695,-3.262605243961339,-1.418654021604739,1.7861024688943528,0.6224571859649373,0.09101051584656397,0.6521919226727627,1.3058238267837332,-1.0018932539119865,0.36743339504271666,0.7195461980329014,-0.7852233456105248,-0.5934846408673413,-1.8222702027000843,-0.6168587967023298,-0.5414383002922646,-0.5421020917700555,0.12406293568327871,2.325695325282169,-0.3056098266005972,-1.2400002200650149,-0.7547227374480309,0.053572223237500154,1.209431097011376,2.2161223547948716,-0.42419252357043197,0.47008337374490233,-1.2385983525496629,0.4083282423594256,1.1018396289990668,-1.3439267263174357,-1.2148010375833018,1.378503549128289,-0.865442571080681,1.4981255490911167,0.5268652709491807,-0.5864705000603173,-0.03251046298779092,-1.657971247262324,0.5387740305912381,0.33891930104974144,-0.017631905464170265,0.235035832459136,-0.22302903550297953,-0.42911270255814304,0.45012009799066305,-0.9780296593173486,-0.11851579616469118,1.047681204062073,0.9889001376060471,1.3966008775466294,0.09077097106105908,1.3376388975447437,-0.2036133802195914,-0.11638871633048702,-0.054452121594433106,0.382117572004654],\"xaxis\":\"x10\",\"y\":[0.3682377144132527,0.3466890761278271,-0.36913753005199823,0.18514537841315948,-1.0887193428018571,0.8197485014104589,-1.2480792457914922,0.8032857896965091,-0.7372634145936622,1.8916263785651137,-1.0091640111893094,0.6669618923940757,-1.2347372819390838,0.3586286742808286,-0.17797767358538108,0.14261496579823077,-1.6054052554704594,1.1746627862690353,0.22194911958937508,-0.3491598059032676,-0.9997487538488474,0.9665740152979908,-0.5974613801113016,1.2027824998329095,0.8055499031272653,-1.1705064006479604,0.805894459386693,0.08228254999688683,1.0887366927019209,1.4106915911500681,-0.867900972018244,-0.6339851583086878,-1.3890048876027952,-0.7127045563198836,0.4898398447200245,0.14869214579216922,0.9874702488096306,-0.5974306475460034,-0.059375257352179585,1.2348799507675814,0.45432412727610216,-0.39615476589886783,-0.6116096177234337,0.12343362764980646,-1.2793811350833177,1.7621541021838003,-1.6575406700058628,-0.9102543410907438,-1.8037290171758542,-0.562133591486102,-1.542449489376436,1.5622069830921548,-0.015535066606124135,0.19179000418996284,-0.3865933407686439,0.3767014127544314,-0.39035565729367816,-0.17593237649210466,0.5010787800055183,1.5068826796973953,0.7548535916650044,-0.09345064568866177,-0.6748023482836941,-0.007867500606330622,1.2452765230361882,-1.9797610765138551,2.288109166982434,0.3158001520261646,-1.0022812872462648,0.14323345564166073,0.9297586307776996,1.1613537249460568,-0.535713295674978,-0.04247466282924876,-1.0864391841694818,-0.17535156734247248,-1.0435435528269077,1.4972108118555416,0.5443510427237117,0.4522251302277498,-1.3806338969360445,1.5394722937803447,-0.5669625412314382,-0.09449124702752644,0.7425778961101418,0.4196628907191677,-0.2982502752981818,1.1018302596780367,1.041507789996542,0.1229506045307668,-0.3239100280384493,1.7517960645639947,-1.593660968080219,-0.29520459008899336,-1.1079059337127208,-0.8443831132442462,-1.105499520464632,0.31414854886524113,-0.19347118107445258,0.1949481448016391],\"yaxis\":\"y10\",\"type\":\"scatter\"},{\"histfunc\":\"count\",\"histnorm\":\"\",\"marker\":{\"color\":\"rgba(50, 171, 96, 1.0)\",\"line\":{\"color\":\"#4D5663\",\"width\":1.3}},\"name\":\"C\",\"nbinsx\":10,\"opacity\":0.8,\"orientation\":\"v\",\"x\":[0.3682377144132527,0.3466890761278271,-0.36913753005199823,0.18514537841315948,-1.0887193428018571,0.8197485014104589,-1.2480792457914922,0.8032857896965091,-0.7372634145936622,1.8916263785651137,-1.0091640111893094,0.6669618923940757,-1.2347372819390838,0.3586286742808286,-0.17797767358538108,0.14261496579823077,-1.6054052554704594,1.1746627862690353,0.22194911958937508,-0.3491598059032676,-0.9997487538488474,0.9665740152979908,-0.5974613801113016,1.2027824998329095,0.8055499031272653,-1.1705064006479604,0.805894459386693,0.08228254999688683,1.0887366927019209,1.4106915911500681,-0.867900972018244,-0.6339851583086878,-1.3890048876027952,-0.7127045563198836,0.4898398447200245,0.14869214579216922,0.9874702488096306,-0.5974306475460034,-0.059375257352179585,1.2348799507675814,0.45432412727610216,-0.39615476589886783,-0.6116096177234337,0.12343362764980646,-1.2793811350833177,1.7621541021838003,-1.6575406700058628,-0.9102543410907438,-1.8037290171758542,-0.562133591486102,-1.542449489376436,1.5622069830921548,-0.015535066606124135,0.19179000418996284,-0.3865933407686439,0.3767014127544314,-0.39035565729367816,-0.17593237649210466,0.5010787800055183,1.5068826796973953,0.7548535916650044,-0.09345064568866177,-0.6748023482836941,-0.007867500606330622,1.2452765230361882,-1.9797610765138551,2.288109166982434,0.3158001520261646,-1.0022812872462648,0.14323345564166073,0.9297586307776996,1.1613537249460568,-0.535713295674978,-0.04247466282924876,-1.0864391841694818,-0.17535156734247248,-1.0435435528269077,1.4972108118555416,0.5443510427237117,0.4522251302277498,-1.3806338969360445,1.5394722937803447,-0.5669625412314382,-0.09449124702752644,0.7425778961101418,0.4196628907191677,-0.2982502752981818,1.1018302596780367,1.041507789996542,0.1229506045307668,-0.3239100280384493,1.7517960645639947,-1.593660968080219,-0.29520459008899336,-1.1079059337127208,-0.8443831132442462,-1.105499520464632,0.31414854886524113,-0.19347118107445258,0.1949481448016391],\"xaxis\":\"x11\",\"yaxis\":\"y11\",\"type\":\"histogram\"},{\"line\":{\"color\":\"rgba(128, 128, 128, 1.0)\",\"dash\":\"solid\",\"shape\":\"linear\",\"width\":1.3},\"marker\":{\"size\":2,\"symbol\":\"circle\"},\"mode\":\"markers\",\"name\":\"C\",\"text\":\"\",\"x\":[-0.9461952856679982,0.6490505117458512,-2.8856777417148423,0.7543179079921039,-1.2620466925622829,-0.29671662214552724,-0.12432979792114747,0.4055078787706235,-1.6849278164940076,0.7592765208403887,0.7295973675512063,-1.2289778806316503,0.4746662390192041,-1.9467463645444505,1.279041672422795,0.28596923632067106,-1.1047989995477818,-0.2750916111734189,-0.004445869216080266,-0.8447524529656686,-1.0847559402515845,-0.36831017623822854,1.7849046353242075,0.09457412928279552,-1.5220100918781827,-0.7204173596427004,-0.8406541388820522,1.7828216483160868,0.5723990541038184,0.04134495585573406,-0.043738453631860075,-0.062351447856486206,-1.029165749659944,-0.6464275203370826,-2.4790377438704385,0.8924262480171544,-0.09287039344225873,-0.5987040240203508,-0.3852951367141403,-0.5946067828347857,-1.338306940118594,-1.143664724386562,0.23717244680581728,-1.0553239866701294,-1.768056578374799,-0.43961323355406806,-1.8203198565273977,0.2950382232612245,0.241784236809698,-0.609871180395315,1.1389627799474984,0.09800288010116572,-0.31334022306554643,-0.11281582001464618,-0.8450599277568367,1.0914831382708754,-0.06812203830684074,-0.06485931824662995,0.06345771885869014,0.780898024037899,0.38519174605760986,1.5596975457436253,-1.1573456724277826,1.4445043903679835,0.10738099318593422,-0.6889425940821164,-0.10029195797902998,0.17541820166233416,0.4910207830569502,0.5130207172331803,-2.1113232049226838,0.7494933159230787,0.2930842867454575,-0.9881669095762277,-2.252876926788418,-0.613739798262879,0.11338688536083144,0.1529186605142726,0.5601423111987032,0.27164095954332557,-0.590306556357339,-0.19359801024144416,-0.5727331843839251,1.8325506531733573,1.149233790873831,-2.393557334344154,-1.2250112430753446,-0.9124986713695532,-0.03101020857729068,0.90728421512498,-0.3583318565094099,2.519005246911356,-0.4151337693932833,0.03665958749737384,-0.4331483093163314,1.9034225405674647,0.6279386320745678,-0.8565835172293262,0.6026905340869714,-0.08280840058685728],\"xaxis\":\"x12\",\"y\":[0.3682377144132527,0.3466890761278271,-0.36913753005199823,0.18514537841315948,-1.0887193428018571,0.8197485014104589,-1.2480792457914922,0.8032857896965091,-0.7372634145936622,1.8916263785651137,-1.0091640111893094,0.6669618923940757,-1.2347372819390838,0.3586286742808286,-0.17797767358538108,0.14261496579823077,-1.6054052554704594,1.1746627862690353,0.22194911958937508,-0.3491598059032676,-0.9997487538488474,0.9665740152979908,-0.5974613801113016,1.2027824998329095,0.8055499031272653,-1.1705064006479604,0.805894459386693,0.08228254999688683,1.0887366927019209,1.4106915911500681,-0.867900972018244,-0.6339851583086878,-1.3890048876027952,-0.7127045563198836,0.4898398447200245,0.14869214579216922,0.9874702488096306,-0.5974306475460034,-0.059375257352179585,1.2348799507675814,0.45432412727610216,-0.39615476589886783,-0.6116096177234337,0.12343362764980646,-1.2793811350833177,1.7621541021838003,-1.6575406700058628,-0.9102543410907438,-1.8037290171758542,-0.562133591486102,-1.542449489376436,1.5622069830921548,-0.015535066606124135,0.19179000418996284,-0.3865933407686439,0.3767014127544314,-0.39035565729367816,-0.17593237649210466,0.5010787800055183,1.5068826796973953,0.7548535916650044,-0.09345064568866177,-0.6748023482836941,-0.007867500606330622,1.2452765230361882,-1.9797610765138551,2.288109166982434,0.3158001520261646,-1.0022812872462648,0.14323345564166073,0.9297586307776996,1.1613537249460568,-0.535713295674978,-0.04247466282924876,-1.0864391841694818,-0.17535156734247248,-1.0435435528269077,1.4972108118555416,0.5443510427237117,0.4522251302277498,-1.3806338969360445,1.5394722937803447,-0.5669625412314382,-0.09449124702752644,0.7425778961101418,0.4196628907191677,-0.2982502752981818,1.1018302596780367,1.041507789996542,0.1229506045307668,-0.3239100280384493,1.7517960645639947,-1.593660968080219,-0.29520459008899336,-1.1079059337127208,-0.8443831132442462,-1.105499520464632,0.31414854886524113,-0.19347118107445258,0.1949481448016391],\"yaxis\":\"y12\",\"type\":\"scatter\"},{\"line\":{\"color\":\"rgba(128, 128, 128, 1.0)\",\"dash\":\"solid\",\"shape\":\"linear\",\"width\":1.3},\"marker\":{\"size\":2,\"symbol\":\"circle\"},\"mode\":\"markers\",\"name\":\"D\",\"text\":\"\",\"x\":[0.43576161330137125,0.0392002026600367,-0.0828096051226737,-0.06899993842236976,-0.7445185078343501,-0.5818104718774442,0.20812256881462257,1.5771047203879411,-0.6229410571707626,-0.2542553127090784,-0.8616883603461633,-0.6882323696812119,1.6091381292540365,-0.08960730935903875,1.477667203229447,-1.1289770047232348,-0.37757591613281366,-0.9555659233157126,-0.8716190463369677,2.3343739223771967,-0.5804185512560397,-0.34512219064872196,1.0009426139151563,-0.03638635948039409,-0.4795511213004423,-0.38710379078114443,-0.5982291373045885,0.8057103455189922,0.07653649862068276,1.8789206942278476,-1.9870408379249231,-1.2534934267964573,1.1424388929052163,-0.19667780218489977,0.6672725785699418,0.22197020125418726,0.40375610544655427,0.790455120710436,0.47759724675807447,1.188441738310553,2.5966130677908876,-0.6307284045262942,0.07962977335776215,0.3075091604528683,-1.4964756673073725,-0.12521366306897264,-1.2358732389987421,-0.2360811692397413,-2.282498392530906,0.7428373771981449,-0.6288414109073985,0.6230290519320041,0.716991257672416,0.2741062424132256,0.9315691700047641,2.246444132120593,-0.09798021170589394,-1.4133581682943,0.27061743914078784,0.5896664688392396,0.049326040185358244,-1.6878301432568965,-2.048608617619134,0.44524418456960363,-0.9380811961782093,-1.88596316407578,0.6201094070399932,-1.5569988864741955,-0.5969142673083347,1.7125329163547705,2.0185871649641642,-1.2330424798204571,1.2660998430994834,0.4475507802687231,-0.808620887480285,-0.17552478952105183,-1.0126133692310482,-3.675695561961809,0.028560931347580483,1.92983422047473,0.35556609859758814,-0.06511288145789168,-0.25838345482305736,-1.2400752553123529,-0.34078316151973576,0.5430289046145775,-0.8056959136889844,1.6300090038319708,0.1558133548094795,0.09620023351258908,-0.7846317882449255,-2.5182101025471333,0.5562799597495309,0.16046651940046647,-0.21954404954103748,-0.32808367130031724,0.7209387084058826,-0.0345397981985188,-0.09495490706369364,-0.8910145283144787],\"xaxis\":\"x13\",\"y\":[-0.9461952856679982,0.6490505117458512,-2.8856777417148423,0.7543179079921039,-1.2620466925622829,-0.29671662214552724,-0.12432979792114747,0.4055078787706235,-1.6849278164940076,0.7592765208403887,0.7295973675512063,-1.2289778806316503,0.4746662390192041,-1.9467463645444505,1.279041672422795,0.28596923632067106,-1.1047989995477818,-0.2750916111734189,-0.004445869216080266,-0.8447524529656686,-1.0847559402515845,-0.36831017623822854,1.7849046353242075,0.09457412928279552,-1.5220100918781827,-0.7204173596427004,-0.8406541388820522,1.7828216483160868,0.5723990541038184,0.04134495585573406,-0.043738453631860075,-0.062351447856486206,-1.029165749659944,-0.6464275203370826,-2.4790377438704385,0.8924262480171544,-0.09287039344225873,-0.5987040240203508,-0.3852951367141403,-0.5946067828347857,-1.338306940118594,-1.143664724386562,0.23717244680581728,-1.0553239866701294,-1.768056578374799,-0.43961323355406806,-1.8203198565273977,0.2950382232612245,0.241784236809698,-0.609871180395315,1.1389627799474984,0.09800288010116572,-0.31334022306554643,-0.11281582001464618,-0.8450599277568367,1.0914831382708754,-0.06812203830684074,-0.06485931824662995,0.06345771885869014,0.780898024037899,0.38519174605760986,1.5596975457436253,-1.1573456724277826,1.4445043903679835,0.10738099318593422,-0.6889425940821164,-0.10029195797902998,0.17541820166233416,0.4910207830569502,0.5130207172331803,-2.1113232049226838,0.7494933159230787,0.2930842867454575,-0.9881669095762277,-2.252876926788418,-0.613739798262879,0.11338688536083144,0.1529186605142726,0.5601423111987032,0.27164095954332557,-0.590306556357339,-0.19359801024144416,-0.5727331843839251,1.8325506531733573,1.149233790873831,-2.393557334344154,-1.2250112430753446,-0.9124986713695532,-0.03101020857729068,0.90728421512498,-0.3583318565094099,2.519005246911356,-0.4151337693932833,0.03665958749737384,-0.4331483093163314,1.9034225405674647,0.6279386320745678,-0.8565835172293262,0.6026905340869714,-0.08280840058685728],\"yaxis\":\"y13\",\"type\":\"scatter\"},{\"line\":{\"color\":\"rgba(128, 128, 128, 1.0)\",\"dash\":\"solid\",\"shape\":\"linear\",\"width\":1.3},\"marker\":{\"size\":2,\"symbol\":\"circle\"},\"mode\":\"markers\",\"name\":\"D\",\"text\":\"\",\"x\":[0.7470965589601339,-1.5219044668573725,-0.09809943298661565,-1.250222948666942,-0.698474158306239,0.9150731563300875,-1.7165979226019592,-1.2451154557852744,-0.4204666686443543,-0.0012794767147798895,-0.261186490901393,-0.3538924472485142,1.9908666564163198,0.851133799942738,1.5852483356617322,0.9124402543743519,0.5349719533559576,-0.7486594206111689,0.4215163263542885,-0.477420154232497,0.7682913569156996,1.1072895097909077,2.054407350902693,1.6175776756957496,0.5611477786926051,1.4031946166589802,-1.0167138268528113,0.19646954503078082,0.945974554393974,0.9408949156430599,1.1413517627554308,-0.1357448260510389,-0.04351760173125842,-0.8512903450571877,0.91744346009552,-0.1542511662085185,0.7063318506651899,-0.3031156931539478,-1.6443563957714007,1.2650837687557859,-0.8311250713611842,0.13834368861202084,0.31895857306174547,-0.5449946250740695,-3.262605243961339,-1.418654021604739,1.7861024688943528,0.6224571859649373,0.09101051584656397,0.6521919226727627,1.3058238267837332,-1.0018932539119865,0.36743339504271666,0.7195461980329014,-0.7852233456105248,-0.5934846408673413,-1.8222702027000843,-0.6168587967023298,-0.5414383002922646,-0.5421020917700555,0.12406293568327871,2.325695325282169,-0.3056098266005972,-1.2400002200650149,-0.7547227374480309,0.053572223237500154,1.209431097011376,2.2161223547948716,-0.42419252357043197,0.47008337374490233,-1.2385983525496629,0.4083282423594256,1.1018396289990668,-1.3439267263174357,-1.2148010375833018,1.378503549128289,-0.865442571080681,1.4981255490911167,0.5268652709491807,-0.5864705000603173,-0.03251046298779092,-1.657971247262324,0.5387740305912381,0.33891930104974144,-0.017631905464170265,0.235035832459136,-0.22302903550297953,-0.42911270255814304,0.45012009799066305,-0.9780296593173486,-0.11851579616469118,1.047681204062073,0.9889001376060471,1.3966008775466294,0.09077097106105908,1.3376388975447437,-0.2036133802195914,-0.11638871633048702,-0.054452121594433106,0.382117572004654],\"xaxis\":\"x14\",\"y\":[-0.9461952856679982,0.6490505117458512,-2.8856777417148423,0.7543179079921039,-1.2620466925622829,-0.29671662214552724,-0.12432979792114747,0.4055078787706235,-1.6849278164940076,0.7592765208403887,0.7295973675512063,-1.2289778806316503,0.4746662390192041,-1.9467463645444505,1.279041672422795,0.28596923632067106,-1.1047989995477818,-0.2750916111734189,-0.004445869216080266,-0.8447524529656686,-1.0847559402515845,-0.36831017623822854,1.7849046353242075,0.09457412928279552,-1.5220100918781827,-0.7204173596427004,-0.8406541388820522,1.7828216483160868,0.5723990541038184,0.04134495585573406,-0.043738453631860075,-0.062351447856486206,-1.029165749659944,-0.6464275203370826,-2.4790377438704385,0.8924262480171544,-0.09287039344225873,-0.5987040240203508,-0.3852951367141403,-0.5946067828347857,-1.338306940118594,-1.143664724386562,0.23717244680581728,-1.0553239866701294,-1.768056578374799,-0.43961323355406806,-1.8203198565273977,0.2950382232612245,0.241784236809698,-0.609871180395315,1.1389627799474984,0.09800288010116572,-0.31334022306554643,-0.11281582001464618,-0.8450599277568367,1.0914831382708754,-0.06812203830684074,-0.06485931824662995,0.06345771885869014,0.780898024037899,0.38519174605760986,1.5596975457436253,-1.1573456724277826,1.4445043903679835,0.10738099318593422,-0.6889425940821164,-0.10029195797902998,0.17541820166233416,0.4910207830569502,0.5130207172331803,-2.1113232049226838,0.7494933159230787,0.2930842867454575,-0.9881669095762277,-2.252876926788418,-0.613739798262879,0.11338688536083144,0.1529186605142726,0.5601423111987032,0.27164095954332557,-0.590306556357339,-0.19359801024144416,-0.5727331843839251,1.8325506531733573,1.149233790873831,-2.393557334344154,-1.2250112430753446,-0.9124986713695532,-0.03101020857729068,0.90728421512498,-0.3583318565094099,2.519005246911356,-0.4151337693932833,0.03665958749737384,-0.4331483093163314,1.9034225405674647,0.6279386320745678,-0.8565835172293262,0.6026905340869714,-0.08280840058685728],\"yaxis\":\"y14\",\"type\":\"scatter\"},{\"line\":{\"color\":\"rgba(128, 128, 128, 1.0)\",\"dash\":\"solid\",\"shape\":\"linear\",\"width\":1.3},\"marker\":{\"size\":2,\"symbol\":\"circle\"},\"mode\":\"markers\",\"name\":\"D\",\"text\":\"\",\"x\":[0.3682377144132527,0.3466890761278271,-0.36913753005199823,0.18514537841315948,-1.0887193428018571,0.8197485014104589,-1.2480792457914922,0.8032857896965091,-0.7372634145936622,1.8916263785651137,-1.0091640111893094,0.6669618923940757,-1.2347372819390838,0.3586286742808286,-0.17797767358538108,0.14261496579823077,-1.6054052554704594,1.1746627862690353,0.22194911958937508,-0.3491598059032676,-0.9997487538488474,0.9665740152979908,-0.5974613801113016,1.2027824998329095,0.8055499031272653,-1.1705064006479604,0.805894459386693,0.08228254999688683,1.0887366927019209,1.4106915911500681,-0.867900972018244,-0.6339851583086878,-1.3890048876027952,-0.7127045563198836,0.4898398447200245,0.14869214579216922,0.9874702488096306,-0.5974306475460034,-0.059375257352179585,1.2348799507675814,0.45432412727610216,-0.39615476589886783,-0.6116096177234337,0.12343362764980646,-1.2793811350833177,1.7621541021838003,-1.6575406700058628,-0.9102543410907438,-1.8037290171758542,-0.562133591486102,-1.542449489376436,1.5622069830921548,-0.015535066606124135,0.19179000418996284,-0.3865933407686439,0.3767014127544314,-0.39035565729367816,-0.17593237649210466,0.5010787800055183,1.5068826796973953,0.7548535916650044,-0.09345064568866177,-0.6748023482836941,-0.007867500606330622,1.2452765230361882,-1.9797610765138551,2.288109166982434,0.3158001520261646,-1.0022812872462648,0.14323345564166073,0.9297586307776996,1.1613537249460568,-0.535713295674978,-0.04247466282924876,-1.0864391841694818,-0.17535156734247248,-1.0435435528269077,1.4972108118555416,0.5443510427237117,0.4522251302277498,-1.3806338969360445,1.5394722937803447,-0.5669625412314382,-0.09449124702752644,0.7425778961101418,0.4196628907191677,-0.2982502752981818,1.1018302596780367,1.041507789996542,0.1229506045307668,-0.3239100280384493,1.7517960645639947,-1.593660968080219,-0.29520459008899336,-1.1079059337127208,-0.8443831132442462,-1.105499520464632,0.31414854886524113,-0.19347118107445258,0.1949481448016391],\"xaxis\":\"x15\",\"y\":[-0.9461952856679982,0.6490505117458512,-2.8856777417148423,0.7543179079921039,-1.2620466925622829,-0.29671662214552724,-0.12432979792114747,0.4055078787706235,-1.6849278164940076,0.7592765208403887,0.7295973675512063,-1.2289778806316503,0.4746662390192041,-1.9467463645444505,1.279041672422795,0.28596923632067106,-1.1047989995477818,-0.2750916111734189,-0.004445869216080266,-0.8447524529656686,-1.0847559402515845,-0.36831017623822854,1.7849046353242075,0.09457412928279552,-1.5220100918781827,-0.7204173596427004,-0.8406541388820522,1.7828216483160868,0.5723990541038184,0.04134495585573406,-0.043738453631860075,-0.062351447856486206,-1.029165749659944,-0.6464275203370826,-2.4790377438704385,0.8924262480171544,-0.09287039344225873,-0.5987040240203508,-0.3852951367141403,-0.5946067828347857,-1.338306940118594,-1.143664724386562,0.23717244680581728,-1.0553239866701294,-1.768056578374799,-0.43961323355406806,-1.8203198565273977,0.2950382232612245,0.241784236809698,-0.609871180395315,1.1389627799474984,0.09800288010116572,-0.31334022306554643,-0.11281582001464618,-0.8450599277568367,1.0914831382708754,-0.06812203830684074,-0.06485931824662995,0.06345771885869014,0.780898024037899,0.38519174605760986,1.5596975457436253,-1.1573456724277826,1.4445043903679835,0.10738099318593422,-0.6889425940821164,-0.10029195797902998,0.17541820166233416,0.4910207830569502,0.5130207172331803,-2.1113232049226838,0.7494933159230787,0.2930842867454575,-0.9881669095762277,-2.252876926788418,-0.613739798262879,0.11338688536083144,0.1529186605142726,0.5601423111987032,0.27164095954332557,-0.590306556357339,-0.19359801024144416,-0.5727331843839251,1.8325506531733573,1.149233790873831,-2.393557334344154,-1.2250112430753446,-0.9124986713695532,-0.03101020857729068,0.90728421512498,-0.3583318565094099,2.519005246911356,-0.4151337693932833,0.03665958749737384,-0.4331483093163314,1.9034225405674647,0.6279386320745678,-0.8565835172293262,0.6026905340869714,-0.08280840058685728],\"yaxis\":\"y15\",\"type\":\"scatter\"},{\"histfunc\":\"count\",\"histnorm\":\"\",\"marker\":{\"color\":\"rgba(128, 0, 128, 1.0)\",\"line\":{\"color\":\"#4D5663\",\"width\":1.3}},\"name\":\"D\",\"nbinsx\":10,\"opacity\":0.8,\"orientation\":\"v\",\"x\":[-0.9461952856679982,0.6490505117458512,-2.8856777417148423,0.7543179079921039,-1.2620466925622829,-0.29671662214552724,-0.12432979792114747,0.4055078787706235,-1.6849278164940076,0.7592765208403887,0.7295973675512063,-1.2289778806316503,0.4746662390192041,-1.9467463645444505,1.279041672422795,0.28596923632067106,-1.1047989995477818,-0.2750916111734189,-0.004445869216080266,-0.8447524529656686,-1.0847559402515845,-0.36831017623822854,1.7849046353242075,0.09457412928279552,-1.5220100918781827,-0.7204173596427004,-0.8406541388820522,1.7828216483160868,0.5723990541038184,0.04134495585573406,-0.043738453631860075,-0.062351447856486206,-1.029165749659944,-0.6464275203370826,-2.4790377438704385,0.8924262480171544,-0.09287039344225873,-0.5987040240203508,-0.3852951367141403,-0.5946067828347857,-1.338306940118594,-1.143664724386562,0.23717244680581728,-1.0553239866701294,-1.768056578374799,-0.43961323355406806,-1.8203198565273977,0.2950382232612245,0.241784236809698,-0.609871180395315,1.1389627799474984,0.09800288010116572,-0.31334022306554643,-0.11281582001464618,-0.8450599277568367,1.0914831382708754,-0.06812203830684074,-0.06485931824662995,0.06345771885869014,0.780898024037899,0.38519174605760986,1.5596975457436253,-1.1573456724277826,1.4445043903679835,0.10738099318593422,-0.6889425940821164,-0.10029195797902998,0.17541820166233416,0.4910207830569502,0.5130207172331803,-2.1113232049226838,0.7494933159230787,0.2930842867454575,-0.9881669095762277,-2.252876926788418,-0.613739798262879,0.11338688536083144,0.1529186605142726,0.5601423111987032,0.27164095954332557,-0.590306556357339,-0.19359801024144416,-0.5727331843839251,1.8325506531733573,1.149233790873831,-2.393557334344154,-1.2250112430753446,-0.9124986713695532,-0.03101020857729068,0.90728421512498,-0.3583318565094099,2.519005246911356,-0.4151337693932833,0.03665958749737384,-0.4331483093163314,1.9034225405674647,0.6279386320745678,-0.8565835172293262,0.6026905340869714,-0.08280840058685728],\"xaxis\":\"x16\",\"yaxis\":\"y16\",\"type\":\"histogram\"}],                        {\"bargap\":0.02,\"legend\":{\"bgcolor\":\"#F5F6F9\",\"font\":{\"color\":\"#4D5663\"}},\"paper_bgcolor\":\"#F5F6F9\",\"plot_bgcolor\":\"#F5F6F9\",\"showlegend\":false,\"template\":{\"data\":{\"barpolar\":[{\"marker\":{\"line\":{\"color\":\"#E5ECF6\",\"width\":0.5},\"pattern\":{\"fillmode\":\"overlay\",\"size\":10,\"solidity\":0.2}},\"type\":\"barpolar\"}],\"bar\":[{\"error_x\":{\"color\":\"#2a3f5f\"},\"error_y\":{\"color\":\"#2a3f5f\"},\"marker\":{\"line\":{\"color\":\"#E5ECF6\",\"width\":0.5},\"pattern\":{\"fillmode\":\"overlay\",\"size\":10,\"solidity\":0.2}},\"type\":\"bar\"}],\"carpet\":[{\"aaxis\":{\"endlinecolor\":\"#2a3f5f\",\"gridcolor\":\"white\",\"linecolor\":\"white\",\"minorgridcolor\":\"white\",\"startlinecolor\":\"#2a3f5f\"},\"baxis\":{\"endlinecolor\":\"#2a3f5f\",\"gridcolor\":\"white\",\"linecolor\":\"white\",\"minorgridcolor\":\"white\",\"startlinecolor\":\"#2a3f5f\"},\"type\":\"carpet\"}],\"choropleth\":[{\"colorbar\":{\"outlinewidth\":0,\"ticks\":\"\"},\"type\":\"choropleth\"}],\"contourcarpet\":[{\"colorbar\":{\"outlinewidth\":0,\"ticks\":\"\"},\"type\":\"contourcarpet\"}],\"contour\":[{\"colorbar\":{\"outlinewidth\":0,\"ticks\":\"\"},\"colorscale\":[[0.0,\"#0d0887\"],[0.1111111111111111,\"#46039f\"],[0.2222222222222222,\"#7201a8\"],[0.3333333333333333,\"#9c179e\"],[0.4444444444444444,\"#bd3786\"],[0.5555555555555556,\"#d8576b\"],[0.6666666666666666,\"#ed7953\"],[0.7777777777777778,\"#fb9f3a\"],[0.8888888888888888,\"#fdca26\"],[1.0,\"#f0f921\"]],\"type\":\"contour\"}],\"heatmapgl\":[{\"colorbar\":{\"outlinewidth\":0,\"ticks\":\"\"},\"colorscale\":[[0.0,\"#0d0887\"],[0.1111111111111111,\"#46039f\"],[0.2222222222222222,\"#7201a8\"],[0.3333333333333333,\"#9c179e\"],[0.4444444444444444,\"#bd3786\"],[0.5555555555555556,\"#d8576b\"],[0.6666666666666666,\"#ed7953\"],[0.7777777777777778,\"#fb9f3a\"],[0.8888888888888888,\"#fdca26\"],[1.0,\"#f0f921\"]],\"type\":\"heatmapgl\"}],\"heatmap\":[{\"colorbar\":{\"outlinewidth\":0,\"ticks\":\"\"},\"colorscale\":[[0.0,\"#0d0887\"],[0.1111111111111111,\"#46039f\"],[0.2222222222222222,\"#7201a8\"],[0.3333333333333333,\"#9c179e\"],[0.4444444444444444,\"#bd3786\"],[0.5555555555555556,\"#d8576b\"],[0.6666666666666666,\"#ed7953\"],[0.7777777777777778,\"#fb9f3a\"],[0.8888888888888888,\"#fdca26\"],[1.0,\"#f0f921\"]],\"type\":\"heatmap\"}],\"histogram2dcontour\":[{\"colorbar\":{\"outlinewidth\":0,\"ticks\":\"\"},\"colorscale\":[[0.0,\"#0d0887\"],[0.1111111111111111,\"#46039f\"],[0.2222222222222222,\"#7201a8\"],[0.3333333333333333,\"#9c179e\"],[0.4444444444444444,\"#bd3786\"],[0.5555555555555556,\"#d8576b\"],[0.6666666666666666,\"#ed7953\"],[0.7777777777777778,\"#fb9f3a\"],[0.8888888888888888,\"#fdca26\"],[1.0,\"#f0f921\"]],\"type\":\"histogram2dcontour\"}],\"histogram2d\":[{\"colorbar\":{\"outlinewidth\":0,\"ticks\":\"\"},\"colorscale\":[[0.0,\"#0d0887\"],[0.1111111111111111,\"#46039f\"],[0.2222222222222222,\"#7201a8\"],[0.3333333333333333,\"#9c179e\"],[0.4444444444444444,\"#bd3786\"],[0.5555555555555556,\"#d8576b\"],[0.6666666666666666,\"#ed7953\"],[0.7777777777777778,\"#fb9f3a\"],[0.8888888888888888,\"#fdca26\"],[1.0,\"#f0f921\"]],\"type\":\"histogram2d\"}],\"histogram\":[{\"marker\":{\"pattern\":{\"fillmode\":\"overlay\",\"size\":10,\"solidity\":0.2}},\"type\":\"histogram\"}],\"mesh3d\":[{\"colorbar\":{\"outlinewidth\":0,\"ticks\":\"\"},\"type\":\"mesh3d\"}],\"parcoords\":[{\"line\":{\"colorbar\":{\"outlinewidth\":0,\"ticks\":\"\"}},\"type\":\"parcoords\"}],\"pie\":[{\"automargin\":true,\"type\":\"pie\"}],\"scatter3d\":[{\"line\":{\"colorbar\":{\"outlinewidth\":0,\"ticks\":\"\"}},\"marker\":{\"colorbar\":{\"outlinewidth\":0,\"ticks\":\"\"}},\"type\":\"scatter3d\"}],\"scattercarpet\":[{\"marker\":{\"colorbar\":{\"outlinewidth\":0,\"ticks\":\"\"}},\"type\":\"scattercarpet\"}],\"scattergeo\":[{\"marker\":{\"colorbar\":{\"outlinewidth\":0,\"ticks\":\"\"}},\"type\":\"scattergeo\"}],\"scattergl\":[{\"marker\":{\"colorbar\":{\"outlinewidth\":0,\"ticks\":\"\"}},\"type\":\"scattergl\"}],\"scattermapbox\":[{\"marker\":{\"colorbar\":{\"outlinewidth\":0,\"ticks\":\"\"}},\"type\":\"scattermapbox\"}],\"scatterpolargl\":[{\"marker\":{\"colorbar\":{\"outlinewidth\":0,\"ticks\":\"\"}},\"type\":\"scatterpolargl\"}],\"scatterpolar\":[{\"marker\":{\"colorbar\":{\"outlinewidth\":0,\"ticks\":\"\"}},\"type\":\"scatterpolar\"}],\"scatter\":[{\"marker\":{\"colorbar\":{\"outlinewidth\":0,\"ticks\":\"\"}},\"type\":\"scatter\"}],\"scatterternary\":[{\"marker\":{\"colorbar\":{\"outlinewidth\":0,\"ticks\":\"\"}},\"type\":\"scatterternary\"}],\"surface\":[{\"colorbar\":{\"outlinewidth\":0,\"ticks\":\"\"},\"colorscale\":[[0.0,\"#0d0887\"],[0.1111111111111111,\"#46039f\"],[0.2222222222222222,\"#7201a8\"],[0.3333333333333333,\"#9c179e\"],[0.4444444444444444,\"#bd3786\"],[0.5555555555555556,\"#d8576b\"],[0.6666666666666666,\"#ed7953\"],[0.7777777777777778,\"#fb9f3a\"],[0.8888888888888888,\"#fdca26\"],[1.0,\"#f0f921\"]],\"type\":\"surface\"}],\"table\":[{\"cells\":{\"fill\":{\"color\":\"#EBF0F8\"},\"line\":{\"color\":\"white\"}},\"header\":{\"fill\":{\"color\":\"#C8D4E3\"},\"line\":{\"color\":\"white\"}},\"type\":\"table\"}]},\"layout\":{\"annotationdefaults\":{\"arrowcolor\":\"#2a3f5f\",\"arrowhead\":0,\"arrowwidth\":1},\"autotypenumbers\":\"strict\",\"coloraxis\":{\"colorbar\":{\"outlinewidth\":0,\"ticks\":\"\"}},\"colorscale\":{\"diverging\":[[0,\"#8e0152\"],[0.1,\"#c51b7d\"],[0.2,\"#de77ae\"],[0.3,\"#f1b6da\"],[0.4,\"#fde0ef\"],[0.5,\"#f7f7f7\"],[0.6,\"#e6f5d0\"],[0.7,\"#b8e186\"],[0.8,\"#7fbc41\"],[0.9,\"#4d9221\"],[1,\"#276419\"]],\"sequential\":[[0.0,\"#0d0887\"],[0.1111111111111111,\"#46039f\"],[0.2222222222222222,\"#7201a8\"],[0.3333333333333333,\"#9c179e\"],[0.4444444444444444,\"#bd3786\"],[0.5555555555555556,\"#d8576b\"],[0.6666666666666666,\"#ed7953\"],[0.7777777777777778,\"#fb9f3a\"],[0.8888888888888888,\"#fdca26\"],[1.0,\"#f0f921\"]],\"sequentialminus\":[[0.0,\"#0d0887\"],[0.1111111111111111,\"#46039f\"],[0.2222222222222222,\"#7201a8\"],[0.3333333333333333,\"#9c179e\"],[0.4444444444444444,\"#bd3786\"],[0.5555555555555556,\"#d8576b\"],[0.6666666666666666,\"#ed7953\"],[0.7777777777777778,\"#fb9f3a\"],[0.8888888888888888,\"#fdca26\"],[1.0,\"#f0f921\"]]},\"colorway\":[\"#636efa\",\"#EF553B\",\"#00cc96\",\"#ab63fa\",\"#FFA15A\",\"#19d3f3\",\"#FF6692\",\"#B6E880\",\"#FF97FF\",\"#FECB52\"],\"font\":{\"color\":\"#2a3f5f\"},\"geo\":{\"bgcolor\":\"white\",\"lakecolor\":\"white\",\"landcolor\":\"#E5ECF6\",\"showlakes\":true,\"showland\":true,\"subunitcolor\":\"white\"},\"hoverlabel\":{\"align\":\"left\"},\"hovermode\":\"closest\",\"mapbox\":{\"style\":\"light\"},\"paper_bgcolor\":\"white\",\"plot_bgcolor\":\"#E5ECF6\",\"polar\":{\"angularaxis\":{\"gridcolor\":\"white\",\"linecolor\":\"white\",\"ticks\":\"\"},\"bgcolor\":\"#E5ECF6\",\"radialaxis\":{\"gridcolor\":\"white\",\"linecolor\":\"white\",\"ticks\":\"\"}},\"scene\":{\"xaxis\":{\"backgroundcolor\":\"#E5ECF6\",\"gridcolor\":\"white\",\"gridwidth\":2,\"linecolor\":\"white\",\"showbackground\":true,\"ticks\":\"\",\"zerolinecolor\":\"white\"},\"yaxis\":{\"backgroundcolor\":\"#E5ECF6\",\"gridcolor\":\"white\",\"gridwidth\":2,\"linecolor\":\"white\",\"showbackground\":true,\"ticks\":\"\",\"zerolinecolor\":\"white\"},\"zaxis\":{\"backgroundcolor\":\"#E5ECF6\",\"gridcolor\":\"white\",\"gridwidth\":2,\"linecolor\":\"white\",\"showbackground\":true,\"ticks\":\"\",\"zerolinecolor\":\"white\"}},\"shapedefaults\":{\"line\":{\"color\":\"#2a3f5f\"}},\"ternary\":{\"aaxis\":{\"gridcolor\":\"white\",\"linecolor\":\"white\",\"ticks\":\"\"},\"baxis\":{\"gridcolor\":\"white\",\"linecolor\":\"white\",\"ticks\":\"\"},\"bgcolor\":\"#E5ECF6\",\"caxis\":{\"gridcolor\":\"white\",\"linecolor\":\"white\",\"ticks\":\"\"}},\"title\":{\"x\":0.05},\"xaxis\":{\"automargin\":true,\"gridcolor\":\"white\",\"linecolor\":\"white\",\"ticks\":\"\",\"title\":{\"standoff\":15},\"zerolinecolor\":\"white\",\"zerolinewidth\":2},\"yaxis\":{\"automargin\":true,\"gridcolor\":\"white\",\"linecolor\":\"white\",\"ticks\":\"\",\"title\":{\"standoff\":15},\"zerolinecolor\":\"white\",\"zerolinewidth\":2}}},\"title\":{\"font\":{\"color\":\"#4D5663\"}},\"xaxis\":{\"anchor\":\"y\",\"domain\":[0.0,0.2125],\"gridcolor\":\"#E1E5ED\",\"showgrid\":false,\"tickfont\":{\"color\":\"#4D5663\"},\"title\":{\"font\":{\"color\":\"#4D5663\"},\"text\":\"\"},\"zerolinecolor\":\"#E1E5ED\"},\"yaxis\":{\"anchor\":\"x\",\"domain\":[0.8025,1.0],\"gridcolor\":\"#E1E5ED\",\"showgrid\":false,\"tickfont\":{\"color\":\"#4D5663\"},\"title\":{\"font\":{\"color\":\"#4D5663\"},\"text\":\"\"},\"zerolinecolor\":\"#E1E5ED\"},\"xaxis2\":{\"anchor\":\"y2\",\"domain\":[0.2625,0.475],\"gridcolor\":\"#E1E5ED\",\"showgrid\":false,\"tickfont\":{\"color\":\"#4D5663\"},\"title\":{\"font\":{\"color\":\"#4D5663\"},\"text\":\"\"},\"zerolinecolor\":\"#E1E5ED\"},\"yaxis2\":{\"anchor\":\"x2\",\"domain\":[0.8025,1.0],\"gridcolor\":\"#E1E5ED\",\"showgrid\":false,\"tickfont\":{\"color\":\"#4D5663\"},\"title\":{\"font\":{\"color\":\"#4D5663\"},\"text\":\"\"},\"zerolinecolor\":\"#E1E5ED\"},\"xaxis3\":{\"anchor\":\"y3\",\"domain\":[0.525,0.7375],\"gridcolor\":\"#E1E5ED\",\"showgrid\":false,\"tickfont\":{\"color\":\"#4D5663\"},\"title\":{\"font\":{\"color\":\"#4D5663\"},\"text\":\"\"},\"zerolinecolor\":\"#E1E5ED\"},\"yaxis3\":{\"anchor\":\"x3\",\"domain\":[0.8025,1.0],\"gridcolor\":\"#E1E5ED\",\"showgrid\":false,\"tickfont\":{\"color\":\"#4D5663\"},\"title\":{\"font\":{\"color\":\"#4D5663\"},\"text\":\"\"},\"zerolinecolor\":\"#E1E5ED\"},\"xaxis4\":{\"anchor\":\"y4\",\"domain\":[0.7875,1.0],\"gridcolor\":\"#E1E5ED\",\"showgrid\":false,\"tickfont\":{\"color\":\"#4D5663\"},\"title\":{\"font\":{\"color\":\"#4D5663\"},\"text\":\"\"},\"zerolinecolor\":\"#E1E5ED\"},\"yaxis4\":{\"anchor\":\"x4\",\"domain\":[0.8025,1.0],\"gridcolor\":\"#E1E5ED\",\"showgrid\":false,\"tickfont\":{\"color\":\"#4D5663\"},\"title\":{\"font\":{\"color\":\"#4D5663\"},\"text\":\"\"},\"zerolinecolor\":\"#E1E5ED\"},\"xaxis5\":{\"anchor\":\"y5\",\"domain\":[0.0,0.2125],\"gridcolor\":\"#E1E5ED\",\"showgrid\":false,\"tickfont\":{\"color\":\"#4D5663\"},\"title\":{\"font\":{\"color\":\"#4D5663\"},\"text\":\"\"},\"zerolinecolor\":\"#E1E5ED\"},\"yaxis5\":{\"anchor\":\"x5\",\"domain\":[0.535,0.7325],\"gridcolor\":\"#E1E5ED\",\"showgrid\":false,\"tickfont\":{\"color\":\"#4D5663\"},\"title\":{\"font\":{\"color\":\"#4D5663\"},\"text\":\"\"},\"zerolinecolor\":\"#E1E5ED\"},\"xaxis6\":{\"anchor\":\"y6\",\"domain\":[0.2625,0.475],\"gridcolor\":\"#E1E5ED\",\"showgrid\":false,\"tickfont\":{\"color\":\"#4D5663\"},\"title\":{\"font\":{\"color\":\"#4D5663\"},\"text\":\"\"},\"zerolinecolor\":\"#E1E5ED\"},\"yaxis6\":{\"anchor\":\"x6\",\"domain\":[0.535,0.7325],\"gridcolor\":\"#E1E5ED\",\"showgrid\":false,\"tickfont\":{\"color\":\"#4D5663\"},\"title\":{\"font\":{\"color\":\"#4D5663\"},\"text\":\"\"},\"zerolinecolor\":\"#E1E5ED\"},\"xaxis7\":{\"anchor\":\"y7\",\"domain\":[0.525,0.7375],\"gridcolor\":\"#E1E5ED\",\"showgrid\":false,\"tickfont\":{\"color\":\"#4D5663\"},\"title\":{\"font\":{\"color\":\"#4D5663\"},\"text\":\"\"},\"zerolinecolor\":\"#E1E5ED\"},\"yaxis7\":{\"anchor\":\"x7\",\"domain\":[0.535,0.7325],\"gridcolor\":\"#E1E5ED\",\"showgrid\":false,\"tickfont\":{\"color\":\"#4D5663\"},\"title\":{\"font\":{\"color\":\"#4D5663\"},\"text\":\"\"},\"zerolinecolor\":\"#E1E5ED\"},\"xaxis8\":{\"anchor\":\"y8\",\"domain\":[0.7875,1.0],\"gridcolor\":\"#E1E5ED\",\"showgrid\":false,\"tickfont\":{\"color\":\"#4D5663\"},\"title\":{\"font\":{\"color\":\"#4D5663\"},\"text\":\"\"},\"zerolinecolor\":\"#E1E5ED\"},\"yaxis8\":{\"anchor\":\"x8\",\"domain\":[0.535,0.7325],\"gridcolor\":\"#E1E5ED\",\"showgrid\":false,\"tickfont\":{\"color\":\"#4D5663\"},\"title\":{\"font\":{\"color\":\"#4D5663\"},\"text\":\"\"},\"zerolinecolor\":\"#E1E5ED\"},\"xaxis9\":{\"anchor\":\"y9\",\"domain\":[0.0,0.2125],\"gridcolor\":\"#E1E5ED\",\"showgrid\":false,\"tickfont\":{\"color\":\"#4D5663\"},\"title\":{\"font\":{\"color\":\"#4D5663\"},\"text\":\"\"},\"zerolinecolor\":\"#E1E5ED\"},\"yaxis9\":{\"anchor\":\"x9\",\"domain\":[0.2675,0.465],\"gridcolor\":\"#E1E5ED\",\"showgrid\":false,\"tickfont\":{\"color\":\"#4D5663\"},\"title\":{\"font\":{\"color\":\"#4D5663\"},\"text\":\"\"},\"zerolinecolor\":\"#E1E5ED\"},\"xaxis10\":{\"anchor\":\"y10\",\"domain\":[0.2625,0.475],\"gridcolor\":\"#E1E5ED\",\"showgrid\":false,\"tickfont\":{\"color\":\"#4D5663\"},\"title\":{\"font\":{\"color\":\"#4D5663\"},\"text\":\"\"},\"zerolinecolor\":\"#E1E5ED\"},\"yaxis10\":{\"anchor\":\"x10\",\"domain\":[0.2675,0.465],\"gridcolor\":\"#E1E5ED\",\"showgrid\":false,\"tickfont\":{\"color\":\"#4D5663\"},\"title\":{\"font\":{\"color\":\"#4D5663\"},\"text\":\"\"},\"zerolinecolor\":\"#E1E5ED\"},\"xaxis11\":{\"anchor\":\"y11\",\"domain\":[0.525,0.7375],\"gridcolor\":\"#E1E5ED\",\"showgrid\":false,\"tickfont\":{\"color\":\"#4D5663\"},\"title\":{\"font\":{\"color\":\"#4D5663\"},\"text\":\"\"},\"zerolinecolor\":\"#E1E5ED\"},\"yaxis11\":{\"anchor\":\"x11\",\"domain\":[0.2675,0.465],\"gridcolor\":\"#E1E5ED\",\"showgrid\":false,\"tickfont\":{\"color\":\"#4D5663\"},\"title\":{\"font\":{\"color\":\"#4D5663\"},\"text\":\"\"},\"zerolinecolor\":\"#E1E5ED\"},\"xaxis12\":{\"anchor\":\"y12\",\"domain\":[0.7875,1.0],\"gridcolor\":\"#E1E5ED\",\"showgrid\":false,\"tickfont\":{\"color\":\"#4D5663\"},\"title\":{\"font\":{\"color\":\"#4D5663\"},\"text\":\"\"},\"zerolinecolor\":\"#E1E5ED\"},\"yaxis12\":{\"anchor\":\"x12\",\"domain\":[0.2675,0.465],\"gridcolor\":\"#E1E5ED\",\"showgrid\":false,\"tickfont\":{\"color\":\"#4D5663\"},\"title\":{\"font\":{\"color\":\"#4D5663\"},\"text\":\"\"},\"zerolinecolor\":\"#E1E5ED\"},\"xaxis13\":{\"anchor\":\"y13\",\"domain\":[0.0,0.2125],\"gridcolor\":\"#E1E5ED\",\"showgrid\":false,\"tickfont\":{\"color\":\"#4D5663\"},\"title\":{\"font\":{\"color\":\"#4D5663\"},\"text\":\"\"},\"zerolinecolor\":\"#E1E5ED\"},\"yaxis13\":{\"anchor\":\"x13\",\"domain\":[0.0,0.1975],\"gridcolor\":\"#E1E5ED\",\"showgrid\":false,\"tickfont\":{\"color\":\"#4D5663\"},\"title\":{\"font\":{\"color\":\"#4D5663\"},\"text\":\"\"},\"zerolinecolor\":\"#E1E5ED\"},\"xaxis14\":{\"anchor\":\"y14\",\"domain\":[0.2625,0.475],\"gridcolor\":\"#E1E5ED\",\"showgrid\":false,\"tickfont\":{\"color\":\"#4D5663\"},\"title\":{\"font\":{\"color\":\"#4D5663\"},\"text\":\"\"},\"zerolinecolor\":\"#E1E5ED\"},\"yaxis14\":{\"anchor\":\"x14\",\"domain\":[0.0,0.1975],\"gridcolor\":\"#E1E5ED\",\"showgrid\":false,\"tickfont\":{\"color\":\"#4D5663\"},\"title\":{\"font\":{\"color\":\"#4D5663\"},\"text\":\"\"},\"zerolinecolor\":\"#E1E5ED\"},\"xaxis15\":{\"anchor\":\"y15\",\"domain\":[0.525,0.7375],\"gridcolor\":\"#E1E5ED\",\"showgrid\":false,\"tickfont\":{\"color\":\"#4D5663\"},\"title\":{\"font\":{\"color\":\"#4D5663\"},\"text\":\"\"},\"zerolinecolor\":\"#E1E5ED\"},\"yaxis15\":{\"anchor\":\"x15\",\"domain\":[0.0,0.1975],\"gridcolor\":\"#E1E5ED\",\"showgrid\":false,\"tickfont\":{\"color\":\"#4D5663\"},\"title\":{\"font\":{\"color\":\"#4D5663\"},\"text\":\"\"},\"zerolinecolor\":\"#E1E5ED\"},\"xaxis16\":{\"anchor\":\"y16\",\"domain\":[0.7875,1.0],\"gridcolor\":\"#E1E5ED\",\"showgrid\":false,\"tickfont\":{\"color\":\"#4D5663\"},\"title\":{\"font\":{\"color\":\"#4D5663\"},\"text\":\"\"},\"zerolinecolor\":\"#E1E5ED\"},\"yaxis16\":{\"anchor\":\"x16\",\"domain\":[0.0,0.1975],\"gridcolor\":\"#E1E5ED\",\"showgrid\":false,\"tickfont\":{\"color\":\"#4D5663\"},\"title\":{\"font\":{\"color\":\"#4D5663\"},\"text\":\"\"},\"zerolinecolor\":\"#E1E5ED\"}},                        {\"showLink\": true, \"linkText\": \"Export to plot.ly\", \"plotlyServerURL\": \"https://plot.ly\", \"responsive\": true}                    ).then(function(){\n",
       "                            \n",
       "var gd = document.getElementById('c00b81f4-17d9-4433-8277-345a453cd5a8');\n",
       "var x = new MutationObserver(function (mutations, observer) {{\n",
       "        var display = window.getComputedStyle(gd).display;\n",
       "        if (!display || display === 'none') {{\n",
       "            console.log([gd, 'removed!']);\n",
       "            Plotly.purge(gd);\n",
       "            observer.disconnect();\n",
       "        }}\n",
       "}});\n",
       "\n",
       "// Listen for the removal of the full notebook cells\n",
       "var notebookContainer = gd.closest('#notebook-container');\n",
       "if (notebookContainer) {{\n",
       "    x.observe(notebookContainer, {childList: true});\n",
       "}}\n",
       "\n",
       "// Listen for the clearing of the current output cell\n",
       "var outputEl = gd.closest('.output');\n",
       "if (outputEl) {{\n",
       "    x.observe(outputEl, {childList: true});\n",
       "}}\n",
       "\n",
       "                        })                };                });            </script>        </div>"
      ]
     },
     "metadata": {},
     "output_type": "display_data"
    }
   ],
   "source": [
    "df.scatter_matrix()"
   ]
  },
  {
   "cell_type": "code",
   "execution_count": null,
   "metadata": {},
   "outputs": [],
   "source": []
  }
 ],
 "metadata": {
  "kernelspec": {
   "display_name": "Python 3",
   "language": "python",
   "name": "python3"
  },
  "language_info": {
   "codemirror_mode": {
    "name": "ipython",
    "version": 3
   },
   "file_extension": ".py",
   "mimetype": "text/x-python",
   "name": "python",
   "nbconvert_exporter": "python",
   "pygments_lexer": "ipython3",
   "version": "3.8.5"
  }
 },
 "nbformat": 4,
 "nbformat_minor": 1
}
